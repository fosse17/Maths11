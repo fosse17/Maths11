{
 "cells": [
  {
   "cell_type": "markdown",
   "metadata": {},
   "source": [
    "# Exercices de dénombrement"
   ]
  },
  {
   "cell_type": "markdown",
   "metadata": {},
   "source": [
    "**Exercice**\n",
    "\n",
    "\n",
    "A leur entrée en L1, les étudiants choisissent une langue (anglais ou allemand) et une option (informatique, chimie ou astronomie).\n",
    "\n",
    "Dans un groupe d'étudiants, 12 étudiants sont inscrits en astronomie, 15 en chimie, 16 étudient l'allemand. Par ailleurs, 8 inscrits en astronomie et 3 inscrits en informatique étudient l'anglais,  6 inscrits en chimie étudient l'allemand.\n",
    "\n",
    "Indiquer la répartition des étudiants par discipline, ainsi que le nombre total d'étudiants dans le groupe."
   ]
  },
  {
   "cell_type": "markdown",
   "metadata": {},
   "source": [
    "**Exercice**\n",
    "\n",
    "Dans une entreprise, il y a 800 employés. 300 sont des hommes, 352 sont membres d'un syndicat, 424 sont mariés, 188 sont des hommes syndiqués, 166 sont des hommes mariés, 208 sont syndiqués et mariés, 144 sont des hommes mariés syndiqués. \n",
    "\n",
    "Combien y-a-t-il de femmes célibataires non syndiquées?\n",
    "\n",
    "On rapelle la formule du crible de poincaré\n",
    "\n",
    "$$\n",
    "\\begin{align}\n",
    "\\text{card}(H\\cup M\\cup S)=\\text{card}(H)+\\text{card}(M)+\\text{card}(S)-\\text{card}(H\\cap M)-\\text{card}(H\\cap S)-\\text{card}(M\\cap S)+\\text{card}(H\\cap M\\cap S).\n",
    "\\end{align}\n",
    "$$"
   ]
  },
  {
   "cell_type": "markdown",
   "metadata": {},
   "source": [
    "**Exercice**\n",
    "\n",
    "On trace dans un plan $n\\geq 3$ droites en position générale (c'est-à -dire que deux droites ne sont jamais parallèles, et 3 droites ne sont jamais concourantes). Combien de triangles a-t-on ainsi tracé?\n"
   ]
  },
  {
   "cell_type": "markdown",
   "metadata": {},
   "source": [
    "**Exercice**\n",
    "\n",
    "Une course oppose 20 concurrents, dont Emilie.\n",
    "\n",
    "- Combien y-a-t-il de podiums possibles?\n",
    "- Combien y-a-t-il de podiums possibles dont \\'Emile fait partie?\n",
    "- On souhaite récompenser les 3 premiers en leur offrant un prix identique à  chacun. Combien y-a-t-il de distributions de récompenses possibles?"
   ]
  },
  {
   "cell_type": "markdown",
   "metadata": {},
   "source": [
    "**Exercice**\n",
    "\n",
    "Dans une ville, il y a quatre boulangeries qui ferment un jour par semaine.\n",
    "\n",
    "- Déterminer le nombre de façons d'attribuer un jour de fermeture hebdomadaire?\n",
    "\n",
    "- Reprendre la même question si plusieurs boulangeries ne peuvent fermer le même jour.\n",
    "\n",
    "- Reprendre la même question si chaque jour, il doit y avoir au moins une boulangerie ouverte."
   ]
  },
  {
   "cell_type": "markdown",
   "metadata": {},
   "source": [
    "**Exercice**\n",
    "\n",
    "Dans une pièce, il y a deux tables. La première dispose de 3 chaises, numérotées de 1 à  3, la seconde dispose de 4 chaises, numérotées de 1 à  4.\n",
    "\n",
    "Sept personnes entrent. Combien y-a-t-il de possibilités de les distribuer autour de ces deux tables?\n",
    "\n",
    "**Exercice 7 - Le cadenas**\n",
    "\n",
    "Un cadenas possède un code à  $3$ chiffres, chacun des chiffres pouvant être un chiffre de $1$ à  $9$.\n",
    "\n",
    "- Combien y-a-t-il de codes possibles?\n",
    "    \n",
    "- Combien y-a-t-il de codes se terminant par un chiffre pair?\n",
    "    \n",
    "- Combien y-a-t-il de codes contenant au moins un chiffre $4$?\n",
    "    \n",
    "- Combien y-a-t-il de codes contenant exactement un chiffre $4$?\n",
    "\n",
    "- Dans cette question on souhaite que le code comporte obligatoirement trois chiffres distincts.\n",
    "\n",
    "    - Combien y-a-t-il de codes possibles?\n",
    "    \n",
    "    - Combien y-a-t-il de codes se terminant par un chiffre impair?\n",
    "    \n",
    "    - Combien y-a-t-il de codes comprenant le chiffre $6$?"
   ]
  },
  {
   "cell_type": "markdown",
   "metadata": {},
   "source": [
    "**Exercice**\n",
    "\n",
    "On dispose de 4 hélicoptères de tourisme, de 4 pilotes et de 8 hôtesses de l'air. Combien de façons différentes y a-t-il d'attribuer les pilotes et hôtesses de l'air aux hélicoptères de manière que chaque hélicoptère ait un pilote et deux hôtesses de l'air ?"
   ]
  },
  {
   "cell_type": "markdown",
   "metadata": {},
   "source": [
    "**Exercice**\n",
    "\n",
    "Fred et Emile font partie d'une équipe de $8$ joueurs ($6$ garçons et $2$ filles). On décide de fabriquer un comité de $3$ joueurs.\n",
    "\n",
    "- Combien y-a-t-il de comités possibles?\n",
    "\n",
    "- Combien y-a-t-il de comités contenant exactement $2$ garçons et $1$ fille?\n",
    "\n",
    "- Combien y-a-t-il de comités contenant au moins deux garçons?\n",
    "\n",
    "- On veut que Fred et \\'Emile soient ensemble dans le comité. Combien y-a-t-il de comités possibles?\n",
    "\n",
    "- On ne veut pas que Fred et \\'Emile soient ensemble dans le comité. Combien y-a-t-il de comités possibles?"
   ]
  },
  {
   "cell_type": "markdown",
   "metadata": {},
   "source": [
    "**Exercice**\n",
    "\n",
    "Les trois mousquetaires (donc quatre personnes avec d'Artagnan), ont mélangé leurs bottes dans le couloir de l'auberge. D'Artagnan se lève en premier et prend deux bottes au hasard.\n",
    "\n",
    "- Combien de possibilités s'offrent à  lui?\n",
    "\n",
    "- Combien de choix a-t-il tels que les deux bottes forment une paire (une droite et une gauche quelconques)?\n",
    "\n",
    "- Combien de choix a-t-il tels que les deux bottes appartiennent à  deux personnes différentes? "
   ]
  },
  {
   "cell_type": "markdown",
   "metadata": {},
   "source": [
    "**Exercice**\n",
    "\n",
    "Dans cet exercice, on attend des réponses qui ne sont pas des valeurs numériques, mais des expressions en termes de factorielles, sous la forme la plus simple possible.\n",
    "\n",
    " - Combien y-a-t-il de façons de répartir les 52 cartes d'un jeu entre 4 joueurs N, S, E, O, chacun possédant 13 cartes.\n",
    " \n",
    " - Parmi ces façons, combien y-en-a-t-il qui sont telles que chaque joueur n'a qu'une seule couleur (par exemple, N a les 13 piques, S a les 13 coeurs,...)?\n",
    " \n",
    " - Combien y-a-t-il de façons que deux joueurs quelconques aient chacun une seule couleur?\n",
    " \n",
    " - Combien y-a-t-il de façons que deux partenaires, c'est-à -dire (N,S) ou (E,O), aient chacun une seule couleur, les deux autres partenaires ayant des cartes quelconques."
   ]
  },
  {
   "cell_type": "markdown",
   "metadata": {},
   "source": [
    "**Exercice**\n",
    "\n",
    "On souhaite ranger sur une étagère 4 livres de mathématiques (distincts), 6 livres de physique, et 3 de chimie. De combien de façons peut-on effectuer ce rangement :\n",
    "\n",
    "- si les livres doivent être groupés par matières.\n",
    "\n",
    "- si seuls les livres de mathématiques doivent être groupés."
   ]
  },
  {
   "cell_type": "markdown",
   "metadata": {},
   "source": [
    "**Exercice**\n",
    "\n",
    "Soit $n$ un entier non nul. On désigne par $u_n$ le nombre de listes de $n$ termes, chaque terme étant $0$ ou $1$, et n'ayant pas deux termes $1$ consécutifs.\n",
    "\n",
    "- Que vaut $u_1$? $u_2$?\n",
    "\n",
    "- Démontrer que, pour tout $n\\geq 3$, on a $u_n=u_{n-1}+u_{n-2}$.\n",
    "\n",
    "- Ecrire un algorithme permettant de calculer $u_{20}$.\n",
    "\n",
    "- Application : un concours comporte vingt questions, numérotées de 1 à  20. On a constaté que, parmi les 17712 personnes ayant participé au concours, aucune n'a répondu juste à  deux questions consécutives.  \n",
    "Peut-on affirmer que deux candidats au moins ont répondu de la même manière au questionnaire, c'est-à -dire juste aux mêmes questions et faux aux mêmes questions?"
   ]
  },
  {
   "cell_type": "markdown",
   "metadata": {},
   "source": [
    "**Exercice**\n",
    "\n",
    "Dans ma maison, il y a un escalier de 17 marches. Pour descendre cet escalier, je peux à  chaque pas descendre une marche, descendre deux marches, ou descendre trois marches à  la fois. Combien y-a-t-il de façons de descendre cet escalier?"
   ]
  },
  {
   "cell_type": "code",
   "execution_count": null,
   "metadata": {},
   "outputs": [],
   "source": []
  }
 ],
 "metadata": {
  "kernelspec": {
   "display_name": "Python 3.8.1 64-bit",
   "language": "python",
   "name": "python38164bit5df5205114cf4dfe95b9a5fcda127511"
  },
  "language_info": {
   "codemirror_mode": {
    "name": "ipython",
    "version": 3
   },
   "file_extension": ".py",
   "mimetype": "text/x-python",
   "name": "python",
   "nbconvert_exporter": "python",
   "pygments_lexer": "ipython3",
   "version": "3.9.0"
  }
 },
 "nbformat": 4,
 "nbformat_minor": 4
}
