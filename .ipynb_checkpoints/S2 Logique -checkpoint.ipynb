{
 "cells": [
  {
   "cell_type": "markdown",
   "metadata": {
    "slideshow": {
     "slide_type": "slide"
    }
   },
   "source": [
    "<table style=\"background-color: white;width:100%;\">\n",
    "    <tr style=\"display:none\">\n",
    "        <td></td>\n",
    "        <td></td>\n",
    "    </tr>\n",
    "    <tr style=\"height:3em\">\n",
    "        <td style=\"width:20%;align:left\"><img src=\"iut_bordeaux.jpg\"></td>\n",
    "        <td style=\"width:60%;font: bold 2.5em 'Fira Sans', serif;text-align:center\"> Logique</td>\n",
    "        <td style=\"width:20%;font: bold 1.8em 'Fira Sans', serif;vertical-align:top;\">Semaine 2<br><i>Logique et raisonnements</i></td>\n",
    "    </tr>\n",
    "</table>"
   ]
  },
  {
   "cell_type": "markdown",
   "metadata": {
    "slideshow": {
     "slide_type": "slide"
    }
   },
   "source": [
    "## Rappels\n",
    "\n",
    "$$\n",
    "\\begin{array}{|c|c|} \\hline\n",
    "P  & \\neg P \\\\ \\hline\n",
    "1  & 0   \\\\ \\hline\n",
    "0 & 1  \\\\ \\hline\n",
    "\\end{array}\n",
    "$$\n",
    "\n",
    "$$\n",
    "\\begin{array}{|c|c|c|c|c|c|} \\hline\n",
    "P & Q  &  P\\wedge Q  &  P \\vee Q &  P \\implies Q &  P \\iff Q \\\\ \\hline\n",
    "1 & 1 & 1 & 1 & 0 & 0\\\\ \\hline\n",
    "1 & 0 & 1 & 0 & 0 & 1 \\\\ \\hline\n",
    "0 & 1 & 1 & 0 & 1 & 1\\\\ \\hline\n",
    "0 & 0 & 0 & 0 & 0 & 0\\\\ \\hline\n",
    "\\end{array}\n",
    "$$ "
   ]
  },
  {
   "cell_type": "markdown",
   "metadata": {
    "slideshow": {
     "slide_type": "slide"
    }
   },
   "source": [
    "## La composition des propositions\n",
    "\n",
    "Appliqués à des propositions élémentaires, les connecteurs construisent des propositions composées.  \n",
    "Il est possible d'appliquer à nouveau à ces dernières les connecteurs de négation, conjonction, disjonction, implication ou équivalence.  \n",
    "\n",
    "Ainsi, à partir des propositions :    \n",
    "$p$ : _$x \\in \\mathbb{N},\\: x$ pair._  \n",
    "$q$ : _$y \\in \\mathbb{N}, \\:y$ pair._  \n",
    "$r$ :  _$x \\in \\mathbb{N},y \\in \\mathbb{N}, \\: xy$ est impair._    \n",
    "\n",
    "On peut former la proposition composée $P : \\neg r \\implies (p \\vee q)$ qui se traduira par :  \n",
    "_\" $xy$ pair $\\implies x$ pair ou $y$ pair\"_.\n",
    "\n",
    "Les parenthèses sont utiles dans les formules logiques car il faut se rendre compte par exemple que la formule $\\neg P ∨ Q$ est différente de la formule $\\neg(P ∨ Q)$.  \n",
    "\n",
    "Pour manipuler une proposition composée, on peut tout simplement parcourir la liste complète\n",
    "des valeurs de vérité possibles des propositions qui ont servi à la construire. <br>\n",
    "Ceci permet de remplacer un raisonnement par une simple vérification mécanique, exécutable par ordinateur. <br>\n",
    "Les tables de vérité  servent de point de départ à ces vérifications. "
   ]
  },
  {
   "cell_type": "markdown",
   "metadata": {
    "slideshow": {
     "slide_type": "slide"
    }
   },
   "source": [
    "#### Exercice 1\n",
    "\n",
    "- Etablir la table de vérité de la proposition $P :  \\neg r \\implies (p\\vee q) $\n",
    "\n",
    "$$\n",
    "\\begin{array}{|c|c|c|c|c|c|c|c|} \\hline\n",
    "p & q  & r  &  \\neg r &  p \\vee q & \\neg r \\implies (p\\vee q)  \\\\ \\hline\n",
    "1 &1 & 1&   & &  \\\\ \\hline\n",
    "1& 1&0&  & &  \\\\ \\hline\n",
    "1& 0& 1&  & &  \\\\ \\hline\n",
    "1& 0 & 0 &  & & \\\\ \\hline\n",
    "0 & 1 & 1&  & &  \\\\ \\hline\n",
    "0& 1& 0&  & &  \\\\ \\hline\n",
    "0& 0& 1&  & &  \\\\ \\hline\n",
    "0& 0 & 0 &  & &  \\\\ \\hline\n",
    "\\end{array}\n",
    "$$\n",
    "\n",
    "Logiquement, l'expression $P$ est vraie dans 7 cas sur 8.  \n",
    "\n",
    "Attention, mathématiquement, une implication n'a de sens que si la prémisse et la conclusion sont vraies.  \n",
    "- Faire ressortir ces cas de la table de vérité ci-dessus.  \n",
    "- Que pouvez-vous en conclure ?"
   ]
  },
  {
   "cell_type": "markdown",
   "metadata": {
    "slideshow": {
     "slide_type": "slide"
    }
   },
   "source": [
    "#### Exercice 2 \n",
    "Discuter suivant les valeurs de vérité de $p,q,r$ les valeurs de :  \n",
    "1. $q\\vee (\\overline{q} \\wedge p).$  \n",
    "2. $ p\\implies (p\\implies q)$.  \n",
    "3. $(p \\vee q)\\implies r.$  "
   ]
  },
  {
   "cell_type": "markdown",
   "metadata": {},
   "source": [
    "### Définitions \n",
    "- Une **tautologie** est une proposition composée qui est vraie quelles que soient les valeurs de vérité des propositions simples qui la composent.\n",
    "\n",
    "$$\n",
    "\\begin{array}{c} \\neg(\\neg P)\\Leftrightarrow P\\\\ \\neg (P\\wedge\\neg P) \\\\ (P\\wedge Q)\\Leftrightarrow(Q\\wedge P) \\\\ (P\\vee Q)\\Leftrightarrow(Q\\vee P) \\end{array}\n",
    "$$ sont des tautologies.\n",
    "\n",
    "\n",
    "\n",
    "- Une **antilogie** est une proposition composée qui est fausse quelles que soient les valeurs de vérité des propositions simples qui la composent.\n",
    "\n",
    "#### **Exemple**.  \n",
    "Si $P$ et $Q$ sont deux propositions, alors $P \\implies Q$ est équivalente à $(¬P) \\vee Q$.  \n",
    "En effet, on peut vérifier cela à l’aide d’une table de vérité :\n",
    "\n",
    "$$\n",
    "\\begin{array}{|c|c|c|c|c|c|} \\hline\n",
    "P & Q  &  \\color{olive}{P\\implies Q } &  \\neg P  & \\color{blue} {\\neg P \\vee Q } &  \\color{olive}{(P \\implies Q) }\\iff \\color{blue}{(\\neg P)\\vee Q } \\\\ \\hline\n",
    "1 & 1 & 0 & 0 & 0 &\\color{red} 1\\\\ \\hline\n",
    "1 & 0 & 0 & 0 & 0 & \\color{red}1 \\\\ \\hline\n",
    "0 & 1 & 1 & 1 & 1 & \\color{red}1\\\\ \\hline\n",
    "0 & 0 & 0 & 1 & 0 & \\color{red}1\\\\ \\hline\n",
    "\\end{array}\n",
    "$$ \n",
    "\n",
    "Ainsi la proposition $(P ⇒ Q) \\iff ((¬P) ∨ Q)$ est toujours vraie, quelles que soient les valeurs de\n",
    "vérité rattachées aux assertions $P$ et $Q$.   \n",
    "C'est bien une **tautologie**."
   ]
  },
  {
   "cell_type": "markdown",
   "metadata": {},
   "source": [
    "#### Exercice 3\n",
    "\n",
    "Ces propositions sont-elles des tautologies ? des antilogies ?    \n",
    "\n",
    "- $\\big((P\\wedge Q)\\, \\vee\\, R\\big)\\Leftrightarrow \\big(P\\wedge(Q\\, \\vee\\, R)\\big)$\n",
    "\n",
    "\n",
    "- $[P\\wedge (P\\implies Q)]\\implies Q$\n"
   ]
  },
  {
   "cell_type": "markdown",
   "metadata": {},
   "source": [
    "## Règles de simplifications et d'équivalences logiques\n",
    "\n",
    "Il existe en logique un certain nombre de règles qui établissent un calcul des propositions, semblable au calcul algébrique.  \n",
    "Après application de l’une de ces règles sur une proposition, on obtient une proposition équivalente, c’est-à-dire ayant la même valeur de vérité.  \n",
    "\n",
    "Soient $P, Q, R$ trois propositions.\n",
    "Nous avons les équivalences (vraies) suivantes :\n",
    "\n",
    "**Elément neutre :**\n",
    "   - $(P \\vee 1) \\iff 1  \\qquad  \\qquad   (P \\wedge 1) \\iff P $ \n",
    "   - $(P \\vee 0) \\iff P   \\qquad  \\qquad      (P \\wedge 0) \\iff 0 $\n",
    "   \n",
    "**Idempotence :**\n",
    "  - $(P \\vee P) \\iff P   \\qquad  \\qquad  (P \\wedge P) \\iff P $ \n",
    "  \n",
    "**Complémentarité :**\n",
    "  - $(P \\vee \\neg P) \\iff 1 \\qquad \\qquad (P \\wedge \\neg P) \\iff 0 $  \n",
    "  \n",
    "**Involution :**\n",
    "  - $P \\iff \\neg(\\neg P)$ \n",
    "  \n",
    "**Commutativité :**\n",
    "  - $(P \\wedge Q) \\iff (Q \\wedge P) \\qquad \\qquad (P \\vee Q) \\iff (Q \\vee P)$   \n",
    "  \n",
    "**Associativité :**\n",
    "  - $(P \\vee Q)\\vee R \\iff P \\vee (Q \\vee R) \\iff P \\vee Q \\vee R \\qquad \\qquad (P \\wedge Q)\\wedge R \\iff P \\wedge (Q \\wedge R) \\iff P \\wedge Q \\wedge R $ \n",
    "  \n",
    "**Distributivité du $\\vee$ sur le $\\wedge$ à gauche et à droite :**\n",
    "  - $\\big(P \\vee (Q \\wedge R)  \\big)   \\iff (P \\vee Q) \\wedge (P \\vee  R) \\qquad \\qquad \\big((P \\wedge Q) \\vee R)  \\big)   \\iff (P \\vee R) \\wedge (Q \\vee  R)$ \n",
    "  \n",
    "**Distributivité du $\\wedge$ sur le $\\vee$ à gauche et à droite:**\n",
    "  - $ \\big(P \\wedge (Q \\vee R)  \\big)   \\iff (P \\wedge Q) \\vee (P \\wedge  R) \\qquad \\qquad \\big((P \\vee Q) \\wedge R)  \\big)   \\iff (P \\wedge R) \\vee (Q \\wedge  R)$ \n",
    "  \n",
    "**Contraposée :**   \n",
    "  - ($P \\implies Q$)  $\\iff$ ($\\neg(Q) \\implies \\neg(P))$\n",
    "    \n",
    "**Equivalence :**\n",
    "  - $(P\\iff Q) \\iff \\big((P\\implies Q)\\wedge(Q\\implies P)\\big)$\n",
    "  \n",
    "**Loi de De Morgan :**\n",
    "  - $\\neg(P \\wedge Q)  \\iff  (\\neg  P)  \\vee (\\neg Q)$  \n",
    "  - $\\neg(P \\vee Q)  \\iff  (\\neg  P)  \\wedge (\\neg Q)$ \n",
    "  \n",
    "**Loi d'absorption :**\n",
    "  - $\\big(P\\vee(P\\wedge Q)\\big) \\iff P \\qquad \\qquad \\qquad \\big(P\\wedge (P\\vee Q)\\big) \\iff P $\n",
    "  "
   ]
  },
  {
   "cell_type": "markdown",
   "metadata": {},
   "source": [
    "#### Exercice 4\n",
    "- La soustraction est elle commutative ? associative ? a t'elle un élement neutre ?"
   ]
  },
  {
   "cell_type": "markdown",
   "metadata": {},
   "source": [
    "#### Exercice 5\n",
    "A l'aide de tables de vérité, démontrer :\n",
    "\n",
    "- une propriété de distribuvité ;\n",
    "- une loi de *De Morgan* ;\n",
    "- une loi *d'absortion*.\n"
   ]
  },
  {
   "cell_type": "markdown",
   "metadata": {},
   "source": [
    "#### Exercice 6\n",
    "\n",
    "A l'aide table de vérité, puis en utilisant les propriétés, démontrer la contraposée de l'implication. "
   ]
  },
  {
   "cell_type": "markdown",
   "metadata": {},
   "source": [
    "**Démonstration de la loi de De Morgan :**\n",
    "\n",
    "* Il suffit de comparer les deux propositions  $\\neg(P \\wedge Q)$  et $(\\neg  P)  \\vee (\\neg Q)$  pour toutes les valeurs possibles de $P$ et $Q$.\n",
    "\n",
    "On dresse ainsi les deux tables de vérités et comme elles sont égales les deux assertions sont équivalentes.\n",
    "\n",
    "$$\n",
    "\\begin{array}{|c|c|c|c|}\\hline\n",
    "\\color{olive}P & \\color{olive}Q  & \\color{blue}{P \\wedge Q} & (\\neg  P)  \\vee (\\neg Q) \\\\ \\hline\n",
    "\\color{olive}{1} & \\color{red}{1} & \\color{red}{1}& \\color{red}{1} \\\\ \\hline\n",
    "\\color{olive}{1}& \\color{red}{0}& \\color{red}{0}& \\color{red}{0} \\\\ \\hline\n",
    "\\color{olive}{0}& \\color{red}{1}& \\color{red}{0}& \\color{red}{0} \\\\ \\hline\n",
    "\\color{olive}{0}& \\color{red}{0} & \\color{red}{0} & \\color{red}{0} \\\\ \\hline\n",
    "\\end{array}\n",
    "$$"
   ]
  },
  {
   "cell_type": "markdown",
   "metadata": {},
   "source": [
    "**Démonstration d'une distributivité**\n",
    "\n",
    "* On fait la même chose mais il y a trois variables : $P$, $Q$, $R$.  \n",
    "On compare donc les tables de vérité. Elles sont identiques donc les assertions sont équivalentes.\n",
    "\n",
    "$$\n",
    "\\begin{array}{|c|c|c|c|c|c|c|c|} \\hline\n",
    "\\color{olive}P & \\color{olive}Q  & \\color{olive}R  &  \\color{blue}{Q \\vee R} &  P \\wedge (Q \\vee R) & (P \\wedge Q) & (P \\wedge  R) & (P \\wedge Q) \\vee (P \\wedge  R) \\\\ \\hline\n",
    "\\color{olive}{1} & \\color{red}{1} & \\color{red}{1}& \\color{red}{}  & & & & \\\\ \\hline\n",
    "\\color{olive}{1}& \\color{red}{1}& \\color{red}{0}& \\color{red}{} & & & & \\\\ \\hline\n",
    "\\color{olive}{1}& \\color{red}{0}& \\color{red}{1}& \\color{red}{} & & & & \\\\ \\hline\n",
    "\\color{olive}{1}& \\color{red}{0} & \\color{red}{0} & \\color{red}{} & & & & \\\\ \\hline\n",
    "\\color{olive}{0} & \\color{red}{1} & \\color{red}{1}& \\color{red}{} & & & & \\\\ \\hline\n",
    "\\color{olive}{0}& \\color{red}{1}& \\color{red}{0}& \\color{red}{} & & & & \\\\ \\hline\n",
    "\\color{olive}{0}& \\color{red}{0}& \\color{red}{1}& \\color{red}{} & & & & \\\\ \\hline\n",
    "\\color{olive}{0}& \\color{red}{0} & \\color{red}{0} & \\color{red}{} & & & & \\\\ \\hline\n",
    "\\end{array}\n",
    "$$\n"
   ]
  },
  {
   "cell_type": "markdown",
   "metadata": {},
   "source": [
    "**Une autre démonstration en utilisant des propriétés**\n",
    "\n",
    "* Par définition,\n",
    " \n",
    "$$P \\implies Q \\iff (\\neg P) \\vee Q$$\n",
    "\n",
    "donc \n",
    "\n",
    "$$\\begin{align*}\n",
    "\\neg(Q) \\implies \\neg(P) &\\iff  \\neg(\\neg Q) \\vee \\neg(P) \\\\\n",
    "                                       &\\iff  Q \\vee \\neg(P) \\\\\n",
    "                                       &\\iff  \\neg(P) \\vee Q \\\\\n",
    "                                       &\\iff  P \\implies Q \\\\\n",
    "\\end{align*}$$\n",
    "                              \n",
    "On aurait aussi pu encore une fois dresser les deux tables de vérité et voir qu'elles sont égales.\n"
   ]
  },
  {
   "cell_type": "markdown",
   "metadata": {},
   "source": [
    "### Exemple de simplifications logiques plus *complexe*\n",
    "\n",
    "$S=(a\\wedge b\\wedge c)\\vee (\\overline {a}\\wedge b\\wedge \\overline{c})\\vee (\\overline{a}\\wedge b\\wedge  c)\\vee ( a\\wedge b\\wedge \\overline{c})$\n",
    "\n",
    "$S=(\\color{red}{a\\wedge b}\\wedge c)\\vee (\\color{red}{ a\\wedge b }\\wedge \\overline{c} ) \\vee (\\color{green}{\\overline{a}\\wedge b}\\wedge  \\overline{c})\\vee (\\color{green}{\\overline {a}\\wedge b}\\wedge c) \\qquad $ commutativité\n",
    "\n",
    "$S=\\left[ (\\color{red}{a\\wedge b})\\wedge (c\\vee \\overline{c})\\right ] \\vee \\left[(\\color{green}{\\overline{a}\\wedge b})\\wedge  (c\\vee \\overline{c})\\right ] \\qquad   \\qquad \\qquad $         distributivité\n",
    "\n",
    "$S=\\left[ (a\\wedge b)\\wedge 1 \\right] \\vee \\left[ (\\overline{a}\\wedge b ) \\wedge  1 \\right] \\qquad  \\qquad  \\qquad \\qquad \\qquad  $ complémentarité\n",
    "\n",
    "$S= (a\\wedge \\color{red}{b})  \\vee  (\\overline{a}\\wedge \\color{red}{b} ) \\qquad \\qquad \\qquad  \\qquad \\qquad \\qquad \\qquad $ élément neutre\n",
    "\n",
    "$S= (a\\vee \\overline{a})  \\wedge   \\color{red}{b} \\qquad \\qquad  \\qquad  \\qquad  \\qquad \\qquad \\qquad \\qquad $ distributivité\n",
    "\n",
    "$S=1 \\wedge b  \\qquad  \\qquad  \\qquad \\qquad \\qquad \\qquad \\qquad \\qquad \\qquad $ complémentarité\n",
    "\n",
    "$S=b\\qquad  \\qquad  \\qquad \\qquad \\qquad \\qquad \\qquad \\qquad \\qquad \\qquad$ élément neutre"
   ]
  },
  {
   "cell_type": "markdown",
   "metadata": {},
   "source": [
    "#### Exercice 7\n",
    "\n",
    "On donne la proposition $P:p \\implies (q \\implies r)$\n",
    "\n",
    "- Etablir la table de vérité de $P$.\n",
    "- Simplifier $P$. Retrouver les lignes de la table où $P \\iff 1$.\n",
    "- Simplifier $\\neg P$ . Retrouver les lignes de la table où $P \\iff 0$.\n",
    "- Simplifier $Q: (p \\implies q) \\implies r$ et en déduire que l'implication n'est pas associative."
   ]
  },
  {
   "cell_type": "markdown",
   "metadata": {},
   "source": [
    "#### Exercice 8\n",
    "\n",
    "Dans chacun des cas suivants, **simplifier** si possible les deux propositions puis dire si elles sont équivalentes ou pas.\n",
    "\n",
    "* $p\\wedge (p\\implies q)\\qquad \\text{ et }  \\qquad p\\wedge q$\n",
    "\n",
    "\n",
    "* $[p\\implies (q\\implies r)]\\qquad \\text{ et } \\qquad[(p\\wedge q)\\implies r]$\n",
    "\n",
    "\n",
    "* $[(p\\vee q)\\implies r]\\qquad \\text{ et } \\qquad[(p\\implies r)\\wedge (q\\implies r)]$\n",
    "\n",
    "\n",
    "\n"
   ]
  },
  {
   "cell_type": "code",
   "execution_count": null,
   "metadata": {},
   "outputs": [],
   "source": []
  }
 ],
 "metadata": {
  "celltoolbar": "Diaporama",
  "kernelspec": {
   "display_name": "Python 3",
   "language": "python",
   "name": "python3"
  },
  "language_info": {
   "codemirror_mode": {
    "name": "ipython",
    "version": 3
   },
   "file_extension": ".py",
   "mimetype": "text/x-python",
   "name": "python",
   "nbconvert_exporter": "python",
   "pygments_lexer": "ipython3",
   "version": "3.8.5"
  },
  "rise": {
   "scroll": true,
   "theme": "sky",
   "transition": "zoom"
  }
 },
 "nbformat": 4,
 "nbformat_minor": 2
}
