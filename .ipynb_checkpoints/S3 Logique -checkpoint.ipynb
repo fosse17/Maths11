{
 "cells": [
  {
   "cell_type": "markdown",
   "metadata": {
    "slideshow": {
     "slide_type": "slide"
    }
   },
   "source": [
    "<table style=\"background-color: white;width:100%;\">\n",
    "    <tr style=\"display:none\">\n",
    "        <td></td>\n",
    "        <td></td>\n",
    "    </tr>\n",
    "    <tr style=\"height:3em\">\n",
    "        <td style=\"width:20%;align:left\"><img src=\"iut_bordeaux.jpg\"></td>\n",
    "        <td style=\"width:60%;font: bold 2.5em 'Fira Sans', serif;text-align:center\"> Logique</td>\n",
    "        <td style=\"width:20%;font: bold 1.8em 'Fira Sans', serif;vertical-align:top;\">Semaine 3<br><i>Logique et raisonnements</i></td>\n",
    "    </tr>\n",
    "</table>"
   ]
  },
  {
   "cell_type": "markdown",
   "metadata": {},
   "source": [
    "## Théorème\n",
    "\n",
    "La notion de théorème s'applique aux prédicats.  \n",
    "\n",
    "### Définition\n",
    "Soit $P$ un prédicat ; $P$ est un théroème si $P$ prend la valeur de vérité vraie pour toutes les valeurs que la (ou les) variable(s) peut prendre.\n",
    "\n",
    "#### Remarque\n",
    "Lorsque $P$ est un théorème, on dira que $P$ est vrai.  \n",
    "Lorsqu'il existe une valeur ( au moins ) de la (ou les) variable(s) pour laquelle $P$ est faux, on dira que $P$ est faux ou n'est pas un théorème.\n"
   ]
  },
  {
   "cell_type": "markdown",
   "metadata": {},
   "source": [
    "#### Exercice\n",
    "Les énoncés suivants sont-ils des théorèmes ?  \n",
    "1. $x\\in \\mathbb{R}, y \\in \\mathbb{R},\\; x=y \\iff x^2=y^2$.  \n",
    "\n",
    "\n",
    "2. Soit $q \\in \\mathbb{R} \\backslash \\{1\\},  \\sum\\limits_{k=0}^n q^k=\\dfrac{1-q^{n+1}}{1-q}$.\n",
    "\n",
    "\n",
    "3. Si $n$ est impair alors $n^2$ est impair."
   ]
  },
  {
   "cell_type": "markdown",
   "metadata": {},
   "source": [
    "## Négation d'une implication\n",
    "\n",
    "La négation d’une implication $P \\implies Q$ est  $$\\overline{P \\implies Q} \\iff P \\wedge \\neg Q $$"
   ]
  },
  {
   "cell_type": "markdown",
   "metadata": {},
   "source": [
    "## Contraposée  d'une implication\n",
    "\n",
    "La proposition $P \\implies Q$ a pour **contraposée** la proposition si $(\\neg Q) \\implies (\\neg P)$\n",
    "\n",
    "Une implication et sa contraposée sont vraies en même temps et fausses en même temps. Elles sont **équivalentes**.\n",
    "\n",
    "Cette équivalence sera utiliser dans les techniques de démonstration\n",
    "\n",
    "**Exemple:**\n",
    "\n",
    "* La contraposée du théorème de Pythagore est \n",
    "\n",
    "> Si dans un triangle ABC, on a $AB^2+AC^2\\neq BC^2$ alors le triangle ABC n'est pas rectangle en A.\n",
    "\n",
    "On l’utilise pour montrer qu’un triangle n’est pas rectangle.\n",
    "\n",
    "* La contraposée de \n",
    "\n",
    "> *Si $n^2$ est un entier impair alors $n$ est un entier impair* \n",
    "\n",
    "est \n",
    "\n",
    ">*Si $n$ est un entier pair alors $n^2$ est un entier pair*  \n",
    "\n",
    "qui sera bien plus simple à démontrer"
   ]
  },
  {
   "cell_type": "markdown",
   "metadata": {},
   "source": [
    "### Réciproque d'une implication\n",
    "\n",
    "La proposition $P \\implies Q$ a pour **réciproque** la proposition si $Q \\implies P$\n",
    "\n",
    "Une implication est sa son implication réciproque **non pas toujours la même valeur de vérité**.\n",
    "\n",
    "par exemple : \n",
    "* $x=1 \\implies x^2=1$ est vrai\n",
    "* $x^2=1 \\implies x=1$ est faux"
   ]
  },
  {
   "cell_type": "markdown",
   "metadata": {},
   "source": [
    "#### Exemple \n",
    "\n",
    "pour $n \\geq 2$), l’implication \n",
    "\n",
    "* ($n$ premier et $n>2$) $\\implies$ ($n$ impair) est vraie.\n",
    "\n",
    "\n",
    "* La contraposée de cette implication est : ($n$ pair)$\\implies$ ($n = 2$ **ou** $n$ non premier) est (obligatoirement) vraie.\n",
    "\n",
    "\n",
    "* La réciproque de cette implication est : ($n$ impair) $\\implies$ ($n$ premier et $n \\geq 2$) et est fausse (puisque 9 n’est pas premier).\n",
    "\n",
    "\n",
    "* La négation de cette implicationest est : ($n$ premier **et** $n \\geq  2$ et $n$ est pair) est (obligatoirement) fausse."
   ]
  },
  {
   "cell_type": "markdown",
   "metadata": {},
   "source": [
    "#### Exercice 8\n",
    "\n",
    "On considère les propositions suivantes \n",
    "\n",
    "p :  Il pleut \n",
    "\n",
    "q :  Il y a des nuages\n",
    "\n",
    "* Ecrire l’implication $p\\implies q$, sa contraposée, sa réciproque et la contraposée de sa réciproque.\n",
    "\n",
    "* Lesquelles sont vraies ?"
   ]
  },
  {
   "cell_type": "markdown",
   "metadata": {},
   "source": [
    "### Exercices rapides\n",
    "\n",
    "\n",
    "- Ecrire la table de vérité du **ou exclusif** $\\oplus$.\n",
    "\n",
    "- Ecrire la table de vérité de $\\neg (P \\wedge Q)$. Que remarquez vous ?\n",
    "\n",
    "- Ecrire la négation de $\\big(P \\wedge (Q \\vee R)  \\big)$.\n"
   ]
  },
  {
   "cell_type": "markdown",
   "metadata": {},
   "source": [
    "* $[(P\\implies Q)\\wedge (Q\\implies R)]\\implies (P\\implies R)$\n",
    "- associativité du $\\oplus$"
   ]
  },
  {
   "cell_type": "code",
   "execution_count": null,
   "metadata": {},
   "outputs": [],
   "source": []
  }
 ],
 "metadata": {
  "celltoolbar": "Aucun(e)",
  "kernelspec": {
   "display_name": "Python 3",
   "language": "python",
   "name": "python3"
  },
  "language_info": {
   "codemirror_mode": {
    "name": "ipython",
    "version": 3
   },
   "file_extension": ".py",
   "mimetype": "text/x-python",
   "name": "python",
   "nbconvert_exporter": "python",
   "pygments_lexer": "ipython3",
   "version": "3.8.5"
  },
  "rise": {
   "scroll": true,
   "theme": "sky",
   "transition": "zoom"
  }
 },
 "nbformat": 4,
 "nbformat_minor": 2
}
