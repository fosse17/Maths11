{
 "cells": [
  {
   "cell_type": "markdown",
   "metadata": {},
   "source": [
    "\n",
    "\n",
    "\n",
    "\n",
    "\n",
    "**Exercice d’application** Déterminer tous les couples d’entiers naturels $(x; y)$ tels que :\n",
    "$$x^2 − 2xy = 15$$\n",
    "\n",
    "$$x^2 − 2xy = 15 \\iff  x(x − 2y) = 15$$\n",
    "\n",
    "On détermine les diviseurs positifs de 15 : D_{15} = {1 , 3 , 5 , 15}.\n",
    "\n",
    "Puisque x > 0 et y > 0, on a x > x − 2y, On obtient les décompositions possibles.\n",
    "\n",
    "Les couples solutions sont donc : (15 ; 7) et (5 ; 1).\n",
    "\n",
    "\n",
    "**Exercice d’application**\n",
    "Déterminer tous les entiers relatifs n tels que $(n − 3)$ divise $(n + 5)$.\n",
    "\n",
    "Si (n − 3) divise (n + 5), alors il existe un entier k tel que : n + 5 = k(n − 3).\n",
    "\n",
    "Astuce 5 = −3 + 8\n",
    "\n",
    "$$(n − 3) + 8 = k(n − 3) \\iff k(n − 3) − (n − 3) = 8 ⇔ (n − 3)(k − 1) = 8$$\n",
    "\n",
    "Donc (n − 3) est un diviseur de 8.\n",
    "\n",
    "Les diviseurs relatifs de 8 sont : D_8 = {−8 ; −4 ; −2 ; −1 ; 1 ; 2 ; 4 ; 8}.  \n",
    "On a donc les valeurs possibles de n.\n",
    "\n",
    "On vérifie que (n − 3) divise bien (n + 5) pour toutes ces valeurs de n.\n",
    "\n",
    "\n",
    "\n",
    "**Exemple** \n",
    "\n",
    "k étant un entier naturel, on pose a = 9k + 2 et b = 12k + 1.  \n",
    "Pour déterminer une condition sur les diviseurs positifs communs à a et b, on cherche à éliminer k par une combinaison linéaire.  \n",
    "La combinaison linéaire qui permet d’éliminer k consiste à trouver le plus petit multiple commun à 9 et 12, soit 36.\n",
    "\n",
    "Soit d un diviseur commun à a et b.\n",
    "\n",
    "Comme d divise a et b, il divise aussi c = 4a − 3b, soit\n",
    "$$c = 4(9k + 2) − 3(12k + 1) = 36k + 8 − 36k − 3 = 5$$\n",
    "\n",
    "Donc d doit diviser 5. Comme 5 n’a que deux diviseurs positifs 1 et 5, les diviseurs positifs\n",
    "communs à a et b sont à chercher dans {1 ; 5}."
   ]
  },
  {
   "cell_type": "markdown",
   "metadata": {},
   "source": [
    "\n",
    "    \n",
    "<!--Montrer par récurrence sur $n$ que si $a$ est un entier impair, alors $a^{2^{n}}-1$ est divisible par $2^{n+1}$.\n",
    "\n",
    "\n",
    "Montrer que pour tout entier naturel $n$, $3^{3n+3}-26 n -27$ est divisible par 169.-->\n",
    "<!--\n",
    "$a^2-b^2=(a-b)(a+b)$ donc $a-b$ et $a+b$ sont des diviseurs\n",
    " de $25$. $a+b\\geq 0, 25>0$ donc $a-b>0$. De plus, $a+b\\geq a-b$\n",
    "Solutions : $(13,12), (5,0)$ -->"
   ]
  },
  {
   "cell_type": "markdown",
   "metadata": {},
   "source": [
    " "
   ]
  },
  {
   "cell_type": "markdown",
   "metadata": {},
   "source": []
  },
  {
   "cell_type": "code",
   "execution_count": 2,
   "metadata": {},
   "outputs": [
    {
     "name": "stdout",
     "output_type": "stream",
     "text": [
      "[]\n",
      "[1, 2, 4, 5, 10, 20, 25, 50, 100]\n",
      "[]\n"
     ]
    }
   ],
   "source": []
  },
  {
   "cell_type": "markdown",
   "metadata": {},
   "source": [
    "<!--\n",
    "  for i in range(1,n+1):\n",
    "        if n%i==0:\n",
    "            L.append(i)\n",
    "-->"
   ]
  }
 ],
 "metadata": {
  "kernelspec": {
   "display_name": "Python 3",
   "language": "python",
   "name": "python3"
  },
  "language_info": {
   "codemirror_mode": {
    "name": "ipython",
    "version": 3
   },
   "file_extension": ".py",
   "mimetype": "text/x-python",
   "name": "python",
   "nbconvert_exporter": "python",
   "pygments_lexer": "ipython3",
   "version": "3.8.5"
  },
  "metadata": {
   "interpreter": {
    "hash": "7812ea015bdcee6f23a998adcdd2ef97c151c0c241b7b7070987d9313e41299d"
   }
  }
 },
 "nbformat": 4,
 "nbformat_minor": 2
}
