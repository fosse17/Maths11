{
 "cells": [
  {
   "cell_type": "markdown",
   "metadata": {},
   "source": [
    "<table style=\"background-color: white;width:100%;\">\n",
    "    <tr style=\"display:none\">\n",
    "        <td></td>\n",
    "        <td></td>\n",
    "    </tr>\n",
    "    <tr style=\"height:3em\">\n",
    "        <td style=\"width:20%;align:left\"><img src=\"iut_bordeaux.jpg\"></td>\n",
    "        <td style=\"width:60%;font: bold 2.5em 'Fira Sans', serif;text-align:center\"> Arithmétique 1<br>\n",
    "        division euclidienne</td>\n",
    "        <td style=\"width:20%;font: bold 1.3em 'Fira Sans', serif;vertical-align:top;text-align:right\">Semaine 4<br><i>Numération et arithmétique</i></td>\n",
    "    </tr>\n",
    "</table>"
   ]
  },
  {
   "cell_type": "markdown",
   "metadata": {
    "slideshow": {
     "slide_type": "slide"
    }
   },
   "source": [
    "# Division euclidienne dans $\\mathbb{z}$. \n",
    "\n",
    "## Division euclidienne.\n",
    "\n",
    "Soient $a \\in \\mathbb{Z}$ et $b \\in \\mathbb{N}^∗$, il existe un unique couple $(q, r) \\in \\mathbb{Z}\\times\\mathbb{N}$ tel que $$a = bq + r \\quad 0 ≤ r < b$$.  \n",
    "(On appelle $a$ le **dividende**, $b$ le **diviseur**, $q$ le **quotient** et $r$ le **reste**.) "
   ]
  },
  {
   "cell_type": "markdown",
   "metadata": {
    "slideshow": {
     "slide_type": "slide"
    }
   },
   "source": [
    "#### Exercice 1\n",
    "\n",
    "1. Écrire la division euclidienne de 185 par 31 en posant la division.  \n",
    "\n",
    "2. Ecrire la division euclidienne de -113 par 8.\n",
    "\n",
    "3. Sachant que 12079233 = 75968×159+321 déterminer le reste de la division euclidienne de 12079233 par 75968, puis par 159.\n",
    "\n",
    "4. Soit $n$ un entier. Quel est le reste de la division euclidienne de  $12n+7$ par $3$\n",
    "\n",
    "5. On fait la division euclidienne d'un entier $n$ par $137$ et $143$.   \n",
    "Les quotients sont égaux et les restes respectifs sont $131$ et $5$.  \n",
    "Quel est cet entier $n$ ?\n",
    "\n",
    "6. Trouver tous les entiers dont le quotient dans la division euclidienne par 5 donne un quotient égal à 3 fois le reste.\n",
    "\n",
    "<!-- \n",
    "Soit a un entier qui vérifie la condition de l’énoncé. On divise a par 5, on a alors :\n",
    "a = 5q + r avec $0 \\leq r < 5$.\n",
    "\n",
    "Comme q = 3r, on a : a = 15r + r = 16r avec $0 \\leq r < 5$.\n",
    "On trouve toutes les valeurs de a en faisant varier r de 0 à 4 compris, on a alors l’ensemble solution : S = {0 ; 16 ; 32 ; 48 ; 64}.\n",
    "-->"
   ]
  },
  {
   "cell_type": "markdown",
   "metadata": {
    "slideshow": {
     "slide_type": "slide"
    }
   },
   "source": [
    "## Divisibilité.\n",
    "\n",
    "Un entier $b$ est **diviseur** d'un entier $a$  (ou  $a$ est **multiple** de $b$) s'il existe un entier $q$ tel que $a=bq$  \n",
    "\n",
    "D’autres formulations sont possibles pour décrire la relation $a = bq$ : \n",
    "* « $a$ est divisible par $b$ »  \n",
    "* « $b$ divise $a$ »\n",
    "* « $b$ est un diviseur de $a$ » \n",
    "\n",
    "On utilise la notation `b|a` pour signifier que b divise a.\n",
    "\n"
   ]
  },
  {
   "cell_type": "markdown",
   "metadata": {
    "slideshow": {
     "slide_type": "slide"
    }
   },
   "source": [
    "#### Exemple\n",
    "\n",
    "* 6 = 2 × 3 donc 2 et 3 sont des diviseurs de 6.  \n",
    "Les diviseurs dans $\\mathbb{N}$ de 6 sont : 1, 2, 3, 6.\n",
    "* −52 = (−4) × 13 donc −4, 4, −13 et 13 sont des diviseurs de −52.  \n",
    "Les diviseurs dans $\\mathbb{Z}$ de −52 sont : −52, −26, −13, −4, −2, −1, 1, 2, 4, 13, 26, 52."
   ]
  },
  {
   "cell_type": "markdown",
   "metadata": {
    "slideshow": {
     "slide_type": "slide"
    }
   },
   "source": [
    "#### Remarque\n",
    "\n",
    "1) $0$ est multiple de tout entier $a$ car $0 = 0 × a$.  \n",
    "2) $1$ divise tout entier $a$ car $a = a × 1$.  \n",
    "3) Si $a$ est un multiple de $b$ et si  $a \\neq  0$, alors : |a| > |b|.  "
   ]
  },
  {
   "cell_type": "markdown",
   "metadata": {
    "slideshow": {
     "slide_type": "slide"
    }
   },
   "source": [
    "\n",
    "**Critères de divisibilité.**\n",
    "\n",
    "- Un nombre est divisible par 2 si et seulement si son dernier chiffre est pair.  \n",
    "- Un nombre est divisible par 3 si et seulement si la somme de ses chiffres l’est.  \n",
    "- Un nombre est divisible par 4 si et seulement si le nombre formé par ses deux derniers chiffres l’est.  \n",
    "- Un nombre est divisible par 5 si et seulement si son dernier chiffre est 0 ou 5.  \n",
    "- Un nombre est divisible par 9 si et seulement si la somme de ses chiffres l’est.\n",
    "- un entier est divisible par 11 si la différence entre la somme des chiffres de rangs pairs et la somme des chiffres de rangs impairs est divisible par 11.\n"
   ]
  },
  {
   "cell_type": "markdown",
   "metadata": {
    "slideshow": {
     "slide_type": "slide"
    }
   },
   "source": [
    "#### Exercices 2 (rapides)\n",
    "\n",
    "* Faire la liste de tous les diviseurs de $30$.\n",
    "* Quel est le reste de la division euclidienne de $234$ par $10$ \n",
    "* Donner un multiple de $11$ à $5$ chiffres non trivial\n",
    "* Déterminer les entiers naturels $n$ tels que $n\\mid n+8$.\n",
    "* Déterminer les entiers naturels $a$ et $b$ tels que $a^2-b^2=25$.\n",
    "* Soit $xyz$ un nombre de trois chiffres. Démontrer que la somme $xyz + zxy + yzx$ des trois nombres obtenus par permutation  est toujours multiple de 11.  \n",
    "    Exemple : 324+432+243 est un multiple de $11$\n"
   ]
  },
  {
   "cell_type": "markdown",
   "metadata": {
    "slideshow": {
     "slide_type": "slide"
    }
   },
   "source": [
    "#### Exercice 3 (cours)\n",
    "\n",
    "Soient a,b et c dans $ \\mathbb{Z}^* $. \n",
    "\n",
    "Montrez et retenez les trois propriétés suivantes  \n",
    "\n",
    "1. $(a|b \\quad et \\quad b|c)\\implies a|c$.  \n",
    "2. $\\forall n,m \\in \\mathbb{Z} \\quad (a|b \\quad et \\quad a|c)\\implies a|(nb+mc)$.  \n",
    "3. $(a|b \\quad et \\quad b|a)\\implies (a=b \\: ou \\: a=−b).$  "
   ]
  },
  {
   "cell_type": "markdown",
   "metadata": {
    "slideshow": {
     "slide_type": "slide"
    }
   },
   "source": [
    "#### Exercice 4\n",
    "\n",
    "Lorsqu’on divise a par b, le reste est 8 et lorsqu’on divise 2a par b, le reste est 5. Déterminer le diviseur b.\n",
    "\n",
    "\n",
    "<!--Écrivons chacune des deux divisions euclidiennes, en notant q et q′ les quotients respectifs :\n",
    "\n",
    ">a = bq + 8 avec b > 8  \n",
    "2a = bq′ + 5 avec b > 5  \n",
    "\n",
    "En multipliant la première division par 2 et en égalant avec la deuxième, on obtient :\n",
    "\n",
    ">2bq + 16 = bq′ + 5 avec b > 8  \n",
    "b(2q − q′) = −11  \n",
    "b(q′ − 2q) = 11  \n",
    "\n",
    "b est donc un diviseur positif non nul de 11, supérieur à 8, donc : b = 11 -->"
   ]
  },
  {
   "cell_type": "markdown",
   "metadata": {
    "slideshow": {
     "slide_type": "slide"
    }
   },
   "source": [
    "#### Exercice 5\n",
    "\n",
    "<!--\n",
    "1. Pour k un entier naturel non-nul développer l’expression : $A=(2k+1)^2-1$\n",
    "    Justifier que A est un multiple de 8.\n",
    "\n",
    "2. On considère l’ expression $B =n^2−1$ pour $n\\in \\mathbb{N}^*$\n",
    "\n",
    "    a. Démontrer que pour n pair, B est impair.  \n",
    "    b. Démontrer que pour n un entier impair strictement supérieur à 1, B est pair et divisible par 8.-->\n",
    "\n",
    "1. L’exercice consiste à trouver les valeurs du naturel $n > 4$ pour lesquelles la fraction $\\dfrac{n + 17}{n − 4}$\n",
    "est un entier.\n",
    "\n",
    "* Démontrer que $n − 4$ divise $n + 17$ équivaut à $n − 4$ divise $21$.  \n",
    "    \n",
    "* Déterminer alors toutes les valeurs de $n$ correspondant au problème.  \n"
   ]
  },
  {
   "cell_type": "markdown",
   "metadata": {
    "slideshow": {
     "slide_type": "slide"
    }
   },
   "source": [
    "#### Exercice 6  \n",
    "\n",
    "Soit l’équation $(E) : xy − 5x − 5y − 7 = 0$.\n",
    "\n",
    "* Montrer que : $xy − 5x − 5y − 7 = 0 \\iff (x − 5)(y − 5) = 32$.\n",
    "\n",
    "* Déterminer les couples d’entiers naturels $(x; y)$ qui vérifient $(E)$."
   ]
  },
  {
   "cell_type": "markdown",
   "metadata": {
    "slideshow": {
     "slide_type": "slide"
    }
   },
   "source": [
    "#### Exercice 7\n",
    "\n",
    "Soit $m$ et $n$ des entiers relatifs tels que $m$ divise à la fois $8n + 7$ et $6n + 5$. \n",
    "Montrer que $m = ±1$.\n"
   ]
  },
  {
   "cell_type": "markdown",
   "metadata": {
    "slideshow": {
     "slide_type": "slide"
    }
   },
   "source": [
    "#### Exercice 8\n",
    "\n",
    "1) Montrer que si un entier naturel $d$ divise $12n+7$ et $3n+1$ alors il divise $3$\n",
    "    \n",
    "    \n",
    "2) Montrer que $\\dfrac{12n+7}{3n+1}$ est irréductible\n"
   ]
  },
  {
   "cell_type": "markdown",
   "metadata": {
    "slideshow": {
     "slide_type": "slide"
    }
   },
   "source": [
    "#### Exercice 9\n",
    "\n",
    "Pour faire comprendre la division - d’un entier naturel par un entier naturel non nul - à l’école primaire, on procède par soustractions successives.  \n",
    "Si l’on veut diviser 32 par 5, on soustrait 5 à 32 autant de fois que cela est possible.\n",
    "\n",
    "> 32 − 5 = 27  \n",
    "> 27 − 5 = 22  \n",
    "> 22 − 5 = 17  \n",
    "> 17 − 5 = 12  \n",
    "> 12 − 5 = 7  \n",
    "> 7 − 5 = 2\n",
    "    \n",
    "On a ainsi enlevé 6 fois 5 et il reste 2.\n",
    "On peut donc écrire :\n",
    "\n",
    "> 32 = 5 × 6 + 2\n",
    "    \n",
    "1) Compléter la fonction en Python , « division(a,b) », renvoyant le quotient q et le reste r dans division dans $\\mathbb{N}$ de a par $b \\geq 0$ par soustractions successives.  \n",
    "Tester cette fonction avec : division(32,5); division(12,13) et division(1412,13).\n",
    "\n",
    "2) Améliorer cette fonction de façon à ce qu’elle puisse trouver le quotient q et le reste r de la division d’un entier relatif a par un entier naturel $b \\geq 0$.\n",
    "Tester cette fonction avec : division(-114,8)."
   ]
  },
  {
   "cell_type": "code",
   "execution_count": null,
   "metadata": {
    "slideshow": {
     "slide_type": "slide"
    }
   },
   "outputs": [],
   "source": [
    "def division(a,b):\n",
    "    init=a\n",
    "    q=0\n",
    "    while ...:\n",
    "        a=...\n",
    "        q=...\n",
    "    print(\"%s = %s * %s + %s\" %(init,q,b,init-q*b))\n",
    "    return q,init-q*b\n",
    "\n",
    "division(32,5)\n"
   ]
  },
  {
   "cell_type": "markdown",
   "metadata": {
    "slideshow": {
     "slide_type": "slide"
    }
   },
   "source": [
    "#### Exercice 10 : Petit Exercice Python\n",
    "\n",
    "Ecrivez un programme Python donnant la liste des diviseurs d'un entier."
   ]
  },
  {
   "cell_type": "code",
   "execution_count": null,
   "metadata": {
    "slideshow": {
     "slide_type": "slide"
    }
   },
   "outputs": [],
   "source": [
    "#liste des diviseur d'un entier\n",
    "# L.append(i) permet d'ajouter i à la liste L\n",
    "# a%b donne le reste dans la division de a par b\n",
    "\n",
    "def diviseur1(n):\n",
    "    L=[];\n",
    "    \n",
    "   # compléter ici\n",
    "\n",
    "    return L;\n",
    "\n",
    "\n",
    "print(diviseur1(1021))\n",
    "\n",
    "\n",
    "# En plus condensé\n",
    "\n",
    "def diviseur2(n): \n",
    "    return [i for i in range(1,n+1) if n%i==0] \n",
    "\n",
    "print(diviseur2(100))\n",
    "\n",
    "# Exercice : proposer une amélioration à cette fonction pour ne plus parcourir toutes la valeurs jusque n\n",
    "\n",
    "def diviseur_ameliore(n):\n",
    "    L=[]\n",
    "   \n",
    "    return L;\n",
    "print(diviseur_ameliore(100))"
   ]
  }
 ],
 "metadata": {
  "celltoolbar": "Diaporama",
  "kernelspec": {
   "display_name": "Python 3",
   "language": "python",
   "name": "python3"
  },
  "language_info": {
   "codemirror_mode": {
    "name": "ipython",
    "version": 3
   },
   "file_extension": ".py",
   "mimetype": "text/x-python",
   "name": "python",
   "nbconvert_exporter": "python",
   "pygments_lexer": "ipython3",
   "version": "3.8.11"
  }
 },
 "nbformat": 4,
 "nbformat_minor": 4
}
