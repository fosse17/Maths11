{
 "cells": [
  {
   "cell_type": "markdown",
   "metadata": {},
   "source": [
    "# Dénombrement \n",
    "\n",
    "## Dénombrer des listes\n",
    "\n",
    ">Une liste est une suite d’éléments **ordonnés** d’un ensemble E. Une liste induit donc une notion d’ordre.\n",
    "\n",
    "### Permutation\n",
    "\n",
    ">Une **permutation** de $n$ éléments d’un ensemble E est une liste de $n$ éléments de cet ensemble E.\n",
    "\n",
    "On va donc écrire les élément d'un ensemble dans un certain ordre.\n",
    "\n",
    "Ainsi, Toutes les permutations d’un ensemble E représente toutes les possibilités d’énumérer les éléments de cet ensemble E (dans tous les ordres possibles).\n",
    "\n",
    "\n",
    ">Le nombre de permutations d’un ensemble E de $n$ éléments est égal à :\n",
    "$$n×(n−1)×(n−2)×···×2×1 = n!$$\n",
    "n! est appelé « factorielle n ». Par convention, on pose 0! = 1."
   ]
  },
  {
   "cell_type": "markdown",
   "metadata": {},
   "source": [
    "#### Exercices  :\n",
    "1. Le nombre de classements possibles d’une compétition avec 10 athlètes est : \n",
    "\n",
    "2. Le nombre d’anagrammes que l’on peut former avec le mot « ACHILE » (6 lettres distinctes) est :\n",
    "\n",
    "\n",
    "3. Le nombre d’anagrammes avec le mot « ENSEMBLE » (8 lettres non distinctes) est :\n",
    "\n",
    "4. Le nombre de nombres de 4 chiffres que l’on peut former à partir des chiffres de 1 789 est égal à :\n",
    "\n",
    "5. Ecrire une fonction `fact` pour calculer factorielle de $n$ ."
   ]
  },
  {
   "cell_type": "code",
   "execution_count": 5,
   "metadata": {},
   "outputs": [],
   "source": [
    "def fact(n):\n",
    "   \n",
    "    \n",
    "    \n",
    "assert(fact(0)==1)\n",
    "assert(fact(5)==120)"
   ]
  },
  {
   "cell_type": "markdown",
   "metadata": {},
   "source": [
    "#### Exercice : simplifier les calculs suivants\n",
    "\n",
    "* $\\frac{21!}{20!}=$\n",
    "\n",
    "\n",
    "* $\\frac{6!−5!}{5!} =$\n",
    "\n",
    "\n",
    "* $\\frac{ 9!}{5!4!} =$ \n",
    "\n",
    "\n",
    "* $\\frac{(n+1)!}{(n-1)!} =$ \n",
    "\n",
    "\n",
    "* $\\frac{1}{(n+1)!}− \\frac{1}{n!}=$ "
   ]
  },
  {
   "cell_type": "markdown",
   "metadata": {},
   "source": [
    "### ARRANGEMENT \n",
    "\n",
    ">Un **arrangement** de $p$ éléments d’un ensemble E de $n$ éléments $(p \\leq n)$ est une liste composée de $p$ éléments distincts 2 à 2 de l’ensemble E.\n",
    "\n",
    "**Remarque :**\n",
    "\n",
    "* Une permutation de l’ensemble E est un arrangement des n éléments de E.\n",
    "\n",
    "* Un arrangement peut être associé à p tirages successifs sans remise dans une urne qui contient n éléments. \n",
    "\n",
    "\n",
    "> Le nombre d’arrangement de p éléments d’un ensemble de n éléments est égal à :\n",
    "$$A_n^p =n×(n−1)×···×(n−p+1)= \\frac{n!}{(n-p)!}$$\n",
    "Par convention, on a : $A^0_n = 1$ "
   ]
  },
  {
   "cell_type": "markdown",
   "metadata": {},
   "source": [
    "#### Exercices\n",
    "\n",
    "1. Le nombre de tiercés dans l’ordre avec 20 chevaux au départ est de : \n",
    "\n",
    "\n",
    "2. Le nombre de bureaux éligibles de 4 personnes d’une association de 30 membres est de :\n",
    "\n",
    "\n",
    "3. Le nombre de tirages successifs, sans remise, de 3 boules dans une urne comportant 9 boules numérotées de 1 à 9 est de :\n",
    "\n",
    "4. 5. Ecrire une fonction `Ar` pour calculer le nombre d'arrangements de p éléments parmi $n$ ."
   ]
  },
  {
   "cell_type": "code",
   "execution_count": 10,
   "metadata": {},
   "outputs": [
    {
     "data": {
      "text/plain": [
       "0"
      ]
     },
     "execution_count": 10,
     "metadata": {},
     "output_type": "execute_result"
    }
   ],
   "source": [
    "def Ar(n,p):\n",
    "\n",
    "assert(Ar(3,3)==6)"
   ]
  },
  {
   "cell_type": "markdown",
   "metadata": {},
   "source": [
    "### p-liste\n",
    "\n",
    ">Une **p-liste** est une liste de $p$ éléments distincts ou non d’un ensemble E de $n$ éléments.\n",
    "\n",
    "**Remarque :**\n",
    "\n",
    "Une p-liste peut être associée à p tirages successifs avec remise dans une urne qui contient n éléments.\n",
    "\n",
    "**Exemples :**\n",
    "\n",
    ">Le nombre de p-liste dans un ensemble E à n éléments est égal à  $n^p$"
   ]
  },
  {
   "cell_type": "markdown",
   "metadata": {},
   "source": [
    "#### Exercices :\n",
    "\n",
    "1. Le nombre de code à 4 chiffres pour une carte bancaire est de : \n",
    "\n",
    "\n",
    "2. Le nombre de numéros de téléphone portable possibles (06 plus 8 chiffres) est de :\n",
    "\n",
    "\n",
    "3. Le nombre de résultats possibles lorsque l’on lance un dé à jouer 3 fois de suite est de :\n",
    "\n",
    "\n",
    "4. Le nombre de rangements possibles de 5 paires de chaussetes dans trois tiroirs (il peut y avoir un ou 2 tiroir(s) vide(s)) est de : \n",
    "\n",
    "5. Ecrire une fonction `plist` pour calculer le nombre de p-liste parmi $n$ élémnets ."
   ]
  },
  {
   "cell_type": "markdown",
   "metadata": {},
   "source": [
    "## Combinaison \n",
    "\n",
    "Soit E un ensemble de n éléments et p un entier tel que $(0 \\leq p \\leq n)$.\n",
    "Une **combinaison** de p éléments de E est un sous ensemble de E à p éléments.\n",
    "\n",
    "**Exemple**\n",
    "\n",
    "Les parties à deux éléments de $\\{1,2,3\\}$ sont $\\{1,2\\}$, $\\{1,3\\}$ et $\\{2,3\\}$ ( pas de répétition, pas d'ordre )\n",
    "\n",
    "\n",
    "**Remarque :** \n",
    "\n",
    "- Dans une combinaison, contrairement à une liste l’ordre n’intervient pas. \n",
    "\n",
    "- On peut alors associer une combinaison à un tirage simultanée de p éléments dans une urne qui en contient n.\n",
    "\n",
    "Le **nombre de combinaisons** de p éléments dans un en- semble E de n éléments $(0 \\leq p \\leq n)$ est égal à :\n",
    "$$\\binom np= \\frac{n!}{p!(n-p)!}$$\n",
    "\n",
    "Les parties de $\\{1,2,3,4,5\\}$ par nombre d'éléments sont\n",
    "\n",
    "*  $\\binom{5}{0} = 1$ (la seule partie n'ayant aucun élément est l'ensemble vide),\n",
    "*  $\\binom{5}{1} = 5$ (il y a $5$ singletons),\n",
    "*  $\\binom{5}{2} = 10$ (il y a $10$ paires),\n",
    "*  $\\binom{5}{3} = 10$,\n",
    "*  $\\binom{5}{4} = 5$,\n",
    "*  $\\binom{5}{5} = 1$ (la seule partie ayant $5$ éléments est l'ensemble tout entier).\n",
    "\n",
    "#### Exercice\n",
    "\n",
    "1. Le nombre de délégations de 4 personnes que l’on peut désigner dans un groupe de 15 personnes est :\n",
    "$$\\binom{15}{4}= \\frac{15!}{4!11!}=\\frac{15\\times 14\\times 13\\times 12}{4\\times 3\\times 2}$$\n",
    "       \n",
    "2. Le nombre de mains de 5 cartes possibles avec un jeu de 32 cartes est de (avec la calculatrice) :\n",
    "$$\\binom{32}5=$$\n",
    "\n",
    "\n",
    "3. Ecrire une fonction `Cb` pour calculer le nombre de combinaisons de $p$ pris parmis $n$ ."
   ]
  },
  {
   "cell_type": "markdown",
   "metadata": {},
   "source": [
    "#### Exercice\n",
    "\n",
    "* Trouver n pour que : $3\\binom n3 = 14\\binom n2$ \n",
    "\n",
    "####  Un exemple : le jeu de cartes\n",
    "\n",
    "On tire cinq cartes d’un jeu de 32 cartes (du 7 à l’as). Combien y-a-t-il de mains contenant :\n",
    "\n",
    "1) Le valet de trèfle ?\n",
    "\n",
    "\n",
    "2) Exactement deux cœurs?\n",
    "\n",
    "\n",
    "3) Exactement un roi, une dame et deux valet ?\n",
    "\n",
    "\n",
    "4) Ni le roi de trèfle,ni un pique?\n",
    "\n",
    "\n",
    "5) Au moins un roi?\n",
    "\n",
    "\n",
    "6) L’as de pique et au moins deux trèfles ?\n",
    "\n",
    "\n",
    "7) Exactement un roi et deux carreaux ?"
   ]
  },
  {
   "cell_type": "markdown",
   "metadata": {},
   "source": [
    "## Résumé des situations\n",
    "\n",
    "Les critères sont : \n",
    "\n",
    "- les éléments peuvent-ils être répétés ? \n",
    "- L’ordre des éléments est-il à prendre en compte ?\n",
    "\n",
    "On peut résumer les différentes réponses par le tableau suivant :\n",
    "\n",
    "|Critères| Les éléments peuvent être répétés | Les éléments sont distincts |  \n",
    "| :--:|:--:|:--:|\n",
    "|On tient compte de l’ordre |Utiliser des p-listes |Utiliser des arrangements |\n",
    "|On ne tient pas compte de l’ordre| non traité ici | Utiliser des combinaisons|"
   ]
  },
  {
   "cell_type": "markdown",
   "metadata": {},
   "source": [
    "1. Le loto : on tire, au hasard, 6 boules parmi 49. Combien de tirages possibles ? \n",
    " \n",
    "* Ordre : \n",
    "* répétition possible : \n",
    "* Conclusion : \n",
    "\n",
    "2. La course et le podium : dans une course de 100m, il y a huit partants numérotés de 1 à 8. Sur le podium, il y aura les trois médaillés (or - argent - bronze). Combien y a-t-il de podiums possibles ?\n",
    "\n",
    "\n",
    "* Ordre : \n",
    "* répétition possible : \n",
    "* Conclusion : "
   ]
  },
  {
   "cell_type": "markdown",
   "metadata": {},
   "source": [
    "## Formules relatives aux combinaisons\n",
    "\n",
    "$\\forall (n,p) \\in \\mathbb{N}^2,\\quad 0 \\le p \\le n$\n",
    "\n",
    "1. $$\\binom n0 =\\binom nn=1$$\n",
    "\n",
    "2. $$\\binom n1 =\\binom {n}{n-1}$$\n",
    "\n",
    "3. $$\\binom np =\\binom {n}{n-p}$$\n",
    "\n",
    "4. $$ \\binom np = \\binom {n-1}{p-1} + \\binom {n-1}p$$\n",
    "\n",
    "\n",
    "Les 2 premières formules sont immédiate.\n",
    "\n",
    "**Expliquer la formule 3**\n",
    "\n",
    "Formule 4 :Il s'agit de la formulez de `Pascal`\n",
    "\n",
    "**Complétez :**\n",
    "\n",
    "On considère un ensemble E  à $n$ éléments et $a$ un élémnet particulier de E.\n",
    "\n",
    "Il y a .... sous ensembles de E à $p$ éléments.\n",
    "\n",
    "Parmis ceux ci, il y en a ........ qui contiennent $a$  et ..... qui ne contiennent pas $a$.\n",
    "\n",
    "On a donc ..."
   ]
  },
  {
   "cell_type": "markdown",
   "metadata": {},
   "source": [
    "### Le triangle de Pascal\n",
    "\n",
    "C'est un algorithme pour calculer ces coefficients $\\binom{n}{k}$.\n",
    "La ligne du haut correspond à $\\binom 00$, la ligne suivante  à $\\binom 10$ et $\\binom 11$,  \n",
    "la ligne d'après à $\\binom 20$, $\\binom21$ et $\\binom 22$.  \n",
    "\n",
    "La ligne 4 du triangle de gauche aux coefficients $\\binom40$, $\\binom41$, \\ldots, $\\binom44$.\n",
    "\n",
    "Chaque élément de la nouvelle ligne est obtenu en ajoutant les deux nombres qui lui sont\n",
    "au-dessus à droite et au-dessus à gauche.\n",
    "\n",
    "$$ \\binom np = \\binom {n-1}{p-1} + \\binom {n-1}p$$\n",
    "\n",
    "![pascal](pascal4.gif)"
   ]
  },
  {
   "cell_type": "markdown",
   "metadata": {},
   "source": [
    "### Formule du binôme de Newton\n",
    "\n",
    "\n",
    "Soient $a,b \\in\\mathbb{R}$ et $n$ un entier positif alors:\n",
    "\n",
    "$$\\displaystyle (a+b)^n = \\sum_{k=0}^n \\binom{n}{k} \\ a^{n-k} \\cdot b^{k}$$\n",
    "\n",
    "Autrement dit :\n",
    "$$(a+b)^n = \\binom{n}{0}\\ a^n\\cdot b^0 + \\binom{n}{1}\\ a^{n-1}\\cdot b^{1}\n",
    "+ \\cdots + \\binom{n}{k} \\ a^{n-k} \\cdot b^{k}+\\cdots + \\binom{n}{n}\\ a^0\\cdot b^n$$"
   ]
  },
  {
   "cell_type": "markdown",
   "metadata": {},
   "source": [
    "**Exemple :**\n",
    "\n",
    "* Pour $n=2$ on retrouve la formule archi-connue : $(a+b)^2= a^2 + 2ab + b^2$.\n",
    "\n",
    "* Il est aussi bon de connaître  \n",
    "$(a+b)^3 = a^3 + 3a^2b + 3ab^2 + b^3$.\n",
    "\n",
    "* Si $a=1$ et $b=1$,\n",
    "\n",
    " $$\\sum_{k=0}^n \\binom nk =\\binom{n}{0}+\\binom{n}{1}+\\cdots+\\binom{n}{k}+\\cdots+\\binom{n}{n} = 2^n$$\n",
    " \n",
    " La formule $\\binom{n}{0}+\\binom{n}{1}+\\cdots+\\binom{n}{k}+\\cdots+\\binom{n}{n} = 2^n$ exprime que faire la somme du nombre de parties à $k$ éléments, pour $k=0,\\ldots,n$, revient à compter toutes les parties de $E$."
   ]
  },
  {
   "cell_type": "markdown",
   "metadata": {},
   "source": [
    "**Preuve de la formule du binôme:**\n",
    "\n",
    "Nous allons effectuer une récurrence sur $n$.  \n",
    "Soit $(P_n)$ l'assertion : $(a+b)^n = \\sum_{k=0}^n \\binom{n}{k} \\ a^{n-k} \\cdot b^{k}$.\n",
    "\n",
    "**Initialisation.** Pour $n=1$, $(a+b)^1 = \\binom{1}{0} a^1b^0 + \\binom{1}{1}a^0b^1$.  \n",
    "Ainsi $P_1$ est vraie.\n",
    "\n",
    "**Hérédité.** Fixons $n \\ge 2$ et supposons que $P_{n-1}$ est vraie.\n",
    "$$\n",
    "\\begin{eqnarray*}\n",
    "(a+b)^{n}\n",
    "  &=& (a+b)\\cdot(a+b)^{n-1} \\\\\n",
    "   & = & a\\left(a^{n-1} +  \\cdots + \\binom{n-1}{k} a^{n-1-k}b^{k} +\\cdots + b^{n-1} \\right)  \\\\\n",
    "   && +  b \\left(a^{n-1} +  \\cdots + \\binom{n-1}{k-1} a^{n-1-(k-1)}b^{k-1} +\\cdots + b^{n-1} \\right)  \\\\\n",
    "   &=& \\cdots + \\left(\\binom{n-1}{k} + \\binom{n-1}{k-1}\\right) a^{n-k} b^{k} + \\cdots \\\\\n",
    "   &=& \\cdots +\\binom{n}{k} a^{n-k} b^{k} + \\cdots \\\\\n",
    "   &=&  \\sum_{k=0}^n \\binom{n}{k} \\ a^{n-k} \\cdot b^{k}\n",
    "\\end{eqnarray*}\n",
    "$$\n",
    " Ainsi $P_{n}$ est vérifiée.\n",
    "\n",
    "**Conclusion.** Par le principe de récurrence $P_n$ est vraie, pour tout $n \\ge 1$.\n",
    "\n",
    "    "
   ]
  },
  {
   "cell_type": "markdown",
   "metadata": {},
   "source": [
    "#### Exercices :\n",
    "\n",
    "- Calculer $\\binom73$, $\\binom{n}{n-1},$ $\\binom{n}{2}$ pour $ n\\geq 2$;\n",
    "\n",
    "\n",
    "- Développer $(a-b)^4$, $(a+b)^5$.\n",
    "\n",
    "\n",
    "- Que donne la formule du binôme pour $a=-1$, $b=+1$ ? En déduire que dans un ensemble à $n$ éléments il y a autant de parties de cardinal pair que de cardinal impair."
   ]
  },
  {
   "cell_type": "markdown",
   "metadata": {},
   "source": [
    "#### Exercice :\n",
    "\n",
    "Soit E l'ensemble à 12 éléments $\\{a,b,c,d,e,f,g,h,i,j,k,l\\}.$\n",
    "\n",
    "Dénombrer les parties de E à 5 éléments qui contiennent\n",
    "- a et b;\n",
    "- a mais pas b;\n",
    "- b mais pas a;\n",
    "- ni a, ni b.\n",
    "\n",
    " En déduire la relation\n",
    " \n",
    "$$\\binom{12}5=\\binom{10}3+2\\binom{10}4+\\binom{10}5.$$\n",
    "\n",
    " Généraliser le résultat obtenu en prouvant, par un dénombrement, que pour $2\\leq p\\leq n$, on a\n",
    "$$\\binom np=\\binom{n-2}{p-2}+2\\binom{n-2}{p-1}+\\binom{n-2}p.$$\n",
    "\n",
    "* Retrouver le résultat précédent en appliquant la formule du triangle de Pascal."
   ]
  },
  {
   "cell_type": "code",
   "execution_count": null,
   "metadata": {},
   "outputs": [],
   "source": []
  }
 ],
 "metadata": {
  "kernelspec": {
   "display_name": "Python 3",
   "language": "python",
   "name": "python3"
  },
  "language_info": {
   "codemirror_mode": {
    "name": "ipython",
    "version": 3
   },
   "file_extension": ".py",
   "mimetype": "text/x-python",
   "name": "python",
   "nbconvert_exporter": "python",
   "pygments_lexer": "ipython3",
   "version": "3.8.5"
  }
 },
 "nbformat": 4,
 "nbformat_minor": 4
}
