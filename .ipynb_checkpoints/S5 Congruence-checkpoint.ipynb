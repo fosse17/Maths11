{
 "cells": [
  {
   "cell_type": "markdown",
   "metadata": {},
   "source": [
    "<table style=\"background-color: white;width:100%;\">\n",
    "    <tr style=\"display:none\">\n",
    "        <td></td>\n",
    "        <td></td>\n",
    "    </tr>\n",
    "    <tr style=\"height:3em\">\n",
    "        <td style=\"width:20%;align:left\"><img src=\"iut_bordeaux.jpg\"></td>\n",
    "        <td style=\"width:60%;font: bold 2.5em 'Fira Sans', serif;text-align:center\"> Arithmétique 2<br>\n",
    "        Congruence</td>\n",
    "        <td style=\"width:20%;font: bold 1.3em 'Fira Sans', serif;vertical-align:top;text-align:right\">Semaine 5<br><i>Numération et arithmétique</i></td>\n",
    "    </tr>\n",
    "</table>"
   ]
  },
  {
   "cell_type": "markdown",
   "metadata": {},
   "source": [
    "## Définition :\n",
    "\n",
    "Soit n un entier naturel $(n \\geq 2)$, $a$ et $b$ deux entiers relatifs.\n",
    "\n",
    "On dit que deux entiers $a$ et $b$ sont **congrus modulo $n$** si, et seulement si, **a et b ont le même\n",
    "reste dans la division euclidienne par $n$**. \n",
    "\n",
    "On note alors :\n",
    "\n",
    "$$a \\equiv b (n) \\text{  ou  }  a \\equiv b [n].$$"
   ]
  },
  {
   "cell_type": "markdown",
   "metadata": {},
   "source": [
    "#### Exemple\n",
    "\n",
    "$57 \\equiv 15 (7)$ car : 57 = 7 × 8 + 1 et 15 = 7 × 2 + 1  \n",
    "\n",
    "$41 \\equiv −4 (9)$ car : 41 = 9 × 4 + 5 et − 4 = 9 × (−1) + 5\n",
    "\n",
    "#### propriété \n",
    "\n",
    "Un nombre est congru à son reste modulo $n$ dans la division euclidienne par $n$.  \n",
    "* $2 008 \\equiv 8 (10)$ car $2 008 = 10 \\times 200 + 8 $ \n",
    "* $17 \\equiv 1 (4)$  \n",
    "* $75 \\equiv 3 (9)$\n",
    "\n",
    "* $x \\equiv 0 (2) \\iff x \\text{ est pair}$  \n",
    "* $x \\equiv 1 (2) \\iff x \\text{ est impair}$ "
   ]
  },
  {
   "cell_type": "markdown",
   "metadata": {},
   "source": [
    "#### Exercice 1 (rapide)\n",
    "\n",
    "Déterminer les congruences suivantes :\n",
    "\n",
    ">    1) Modulo 5 des nombres suivants : 12 ; 45 ; 87 ; -12 ; 104\n",
    ">\n",
    ">    2) Modulo 7 des nombres suivants : -14 ; -85 ; 24 ; 46\n"
   ]
  },
  {
   "cell_type": "markdown",
   "metadata": {},
   "source": [
    "### Propriétés \n",
    "\n",
    "$a \\equiv 0 (n) \\iff a \\text{ est un multiple de } n \\text{ ou } n \\text{ est un diviseur de } a$.\n",
    "\n",
    "La congruence est une relation d’**équivalence**, c’est-à-dire, pour tous entiers $a$, $b$, $c$, on a :\n",
    "\n",
    "1. $a \\equiv a (n)$ (réflexivité)  \n",
    "   \n",
    "2. Si $a \\equiv b (n)$, alors $b \\equiv a (n)$ (symétrie) \n",
    "   \n",
    "3. Si $a \\equiv b (n)$ et si $b \\equiv c (n)$, alors $a \\equiv c (n)$ (transitivité)  "
   ]
  },
  {
   "cell_type": "markdown",
   "metadata": {},
   "source": [
    "### Théorème \n",
    "\n",
    "Soit $n$ un entier naturel $(n \\geq 2)$, $a$ et $b$ deux entiers relatifs.\n",
    "\n",
    "$$a \\equiv b (n) \\iff a − b \\equiv 0 (n)$$"
   ]
  },
  {
   "cell_type": "markdown",
   "metadata": {},
   "source": [
    "### Compatibilité de la congruence avec l’addition et la multiplication\n",
    "\n",
    "Soit n un entier naturel $(n \\geq 2)$ et $a$, $b$, $c$, $d$ des entiers relatifs vérifiant :\n",
    "\n",
    "$$\n",
    "\\begin{cases}\n",
    "a \\equiv b (n)\\\\\n",
    "c \\equiv d (n)\\\\\n",
    "\\end{cases}\n",
    "$$\n",
    "\n",
    "\n",
    "La relation de congruence est compatible :\n",
    "\n",
    ">1) avec l’addition : $a + c \\equiv b + d (n)$  \n",
    ">\n",
    ">2) avec la multiplication : $ac \\equiv bd (n)$  \n",
    ">\n",
    ">3) avec les puissances : pour tout entier naturel k, $a^k \\equiv b^k(n)$  "
   ]
  },
  {
   "cell_type": "markdown",
   "metadata": {},
   "source": [
    "#### Exercice 2\n",
    "\n",
    "\n",
    "Déterminer les restes dans la division euclidienne par 7 des nombres :\n",
    "\n",
    ">1) $50^{100}$ \n",
    ">\n",
    ">2) 100 \n",
    ">\n",
    ">3) $100^3$ \n",
    ">\n",
    ">4) $50^{100} + 100^{100}$\n",
    "\n",
    "<!--\n",
    "1) On a 50 \\equiv 1 (7) car 50 = 7 × 7 + 1.  \n",
    "\n",
    "D’après la compatibilité avec les puissances, on a : $50^{100} \\equiv 1^{100} \\equiv 1(7) $ \n",
    "\n",
    "Le reste est 1.\n",
    "\n",
    "2) 100 = 50 × 2, comme 50 \\equiv 1 (7), d’après la compatibilité avec la multiplication, on a :  \n",
    "100 \\equiv 2 (7). \n",
    "\n",
    "Le reste est 2.\n",
    "\n",
    "\n",
    "3) Comme 100 \\equiv 2 (7), d’après la compatibilité avec les puissances, on a :\n",
    "$100^3 \\equiv 2^3 \\equiv 8 \\equiv 1 (7)$.  \n",
    "\n",
    "Le reste est 1.\n",
    "\n",
    "4) $100^{100} = 100^{3×33+1} = (100^3)^{33}\\times 100$  \n",
    "donc d’après la compatibilité avec les puissances et la multiplication, on a : \n",
    "\n",
    "$100^{100} \\equiv 1^{33} \\times 2 \\equiv 2(7)$\n",
    "\n",
    "D’après la compatibilité avec l’addition, on a alors : $50^{100} + 100^{100} \\equiv 1 + 2 \\equiv 3 (7)$.\n",
    "\n",
    "Le reste est 3.\n",
    "\n",
    "La notion de congruence prend ici tout son intérêt. Par exemple, bien que l’on ne puisse calculer ce nombre, on peut connaître son reste dans la division par 7 de façon simple et rapide\n",
    "-->\n"
   ]
  },
  {
   "cell_type": "markdown",
   "metadata": {},
   "source": [
    "\n",
    "\n",
    "####  Exercice 3\n",
    "\n",
    "> Montrer que : $\\forall n \\in \\mathbb{N}, 3^{n+3} − 4^{4n+2}$ est divisible par 11.\n",
    "\n",
    "\n",
    "<!--\n",
    "On a : \n",
    "\n",
    "$3^{n+3}=3^3 \\times 3^n =27 \\times 3^n$\n",
    "donc d’après la compatibilité avec la multiplication, on a :\n",
    "$\\forall n \\in \\mathbb{N}, 3^{n+3} \\equiv 5 \\times 3^n (11)$\n",
    "\n",
    "$4^{4n+2}=(4^4)^n \\times 4^2$\n",
    "\n",
    "avec $4^2 \\equiv 5 (11)$ donc $4^4 \\equiv 25 \\equiv 3(11)$\n",
    "\n",
    "$\\forall n \\in \\mathbb{N},4^{4n+2} \\equiv 5 \\times 3^n$\n",
    "On en déduit donc que :\n",
    "\n",
    "$\\forall n \\in \\mathbb{N}, 3^{n+3} − 4^{4n+2} \\equiv 5 \\times 3^n - 5 \\times 3^n \\equiv 0 (11)$\n",
    "\n",
    "-->"
   ]
  },
  {
   "cell_type": "markdown",
   "metadata": {},
   "source": [
    "\n",
    "#### Exercice 4\n",
    "\n",
    "Un tableau de congruence est un tableau permettant de présenter des résultats de manière\n",
    "exhaustive en se référant aux restes possibles dans une division euclidienne.\n",
    "\n",
    "1) Déterminer suivant les valeurs de l’entier relatif $n$, le reste de la division de $n^2$ par 7.\n",
    "\n",
    "| Reste de la division de $n$ par 7  | 0 | 1 | 2 | 3 | 4 | 5 | 6 |  \n",
    "|:--------------------------------:|:-:|:-:|:-:|:-:|:-:|:-:|:-:|  \n",
    "| Reste de la division de $n^2$ par 7 | _ | _ | _ | _ | _ | _ | _ |  \n",
    "\n",
    "2) En déduire alors les solutions de l’équation $x^2 \\equiv 2 (7)$.\n",
    "\n",
    "\n",
    "<!--\n",
    "On détermine les restes suivant une méthode exhaustive, c’est-à-dire on détermine les restes\n",
    "de $n^2$ à partir de chaque reste possible de la division de n par 7.\n",
    "\n",
    "On peut construire un tableau de congruence pour présenter les résultats \n",
    "\n",
    "| Reste de la division de n par 7  | 0 | 1 | 2 | 3 | 4 | 5 | 6 |  \n",
    "|:--------------------------------:|:-:|:-:|:-:|:-:|:-:|:-:|:-:|  \n",
    "| Reste de la divisionde $n^2$ par 7 |0 | 1 | 4 | 2 | 2 | 4 | 1 |  \n",
    "\n",
    "Par exemple si $n \\equiv 3 (7)$, alors $n^2 \\equiv 9 \\equiv 2 (7)$.\n",
    "Les restes possibles de $n^2$ par 7 sont donc : 0, 1, 2 et 4.\n",
    "\n",
    "Pour résoudre $x^2 \\equiv 2 (7)$, on recherche dans le tableau les valeurs de n pour lesquelles on\n",
    "obtient un reste de 2 quand n est au carré.  \n",
    "Il est obtenu pour les restes 3 et 4 dans la division\n",
    "de n par 7.\n",
    "\n",
    "Les solutions de l’équation sont donc : x \\equiv 3 (7) et x \\equiv 4 (7)\n",
    "-->"
   ]
  },
  {
   "cell_type": "markdown",
   "metadata": {},
   "source": [
    "#### Exercice 5\n",
    "\n",
    "La proposition suivante est-elle vraie ou fausse ?\n",
    "\n",
    ">  Tout entier est congru modulo 6 à un des entiers 0, 1, 2, 3, −1 ou −2.\n"
   ]
  },
  {
   "cell_type": "markdown",
   "metadata": {},
   "source": [
    "#### Exercice 6 (travail personnel)\n",
    "\n",
    "Soient $(a, b) \\in \\mathbb{Z}^2$ dont les restes modulo 11 sont 7 et 2 respectivement. \n",
    "\n",
    "   Donner le reste modulo 11 de $a^2-b^2$\n",
    "\n"
   ]
  },
  {
   "cell_type": "markdown",
   "metadata": {},
   "source": [
    "#### Exercice 7\n",
    "\n",
    "Un code barre est une suite de 12 chiffres $c_{12}c_{11} . . . c_1$ suivie d’un chiffre de contrôle\n",
    "$c_0$ vérifiant  \n",
    "\n",
    "$$c_{12} + 3c_{11} + c_{10} + 3c_9 + c_8 + 3c_7 + c_6 + 3c_5 + c_4 + 3c_3 + c_2 + 3c_1 + c_0 \\equiv 0 (10)$$  \n",
    "La suite de 12 chiffres attribuée à un produit est 308612610032. \n",
    "\n",
    "Calculer son chiffre de contrôle.  "
   ]
  },
  {
   "cell_type": "markdown",
   "metadata": {},
   "source": [
    "#### Exercice 8\n",
    "\n",
    "Montrer que si n est impair alors $n^2 \\equiv 1 (8)$."
   ]
  },
  {
   "cell_type": "markdown",
   "metadata": {},
   "source": [
    "#### Exercice 9\n",
    "\n",
    "Montrer de même que tout nombre pair $n$ vérifie $n^2 \\equiv 0 (8)$ ou $n^2 \\equiv 4 (8)$."
   ]
  },
  {
   "cell_type": "markdown",
   "metadata": {},
   "source": [
    "#### Exercice 10\n",
    "\n",
    "Quels sont les entiers x et y tels que $x^2 + y^2 \\equiv 2 (8)$ ?"
   ]
  },
  {
   "cell_type": "markdown",
   "metadata": {},
   "source": [
    "#### Exercice 11 (travail personnel)\n",
    "\n",
    "Deux cyclistes effectuent des tours de piste. Le premier met 3 min 18 s, le second 3 min 45 s pour chaque tour. Ils partent ensemble sur la ligne de départ.  \n",
    "   Au bout de combien de temps se retrouveront-ils à nouveau tous les deux ensemble sur cette ligne de départ ?"
   ]
  },
  {
   "cell_type": "markdown",
   "metadata": {},
   "source": [
    "#### Exercice 12 (travail personnel)\n",
    "\n",
    "En utilisant un tableau de congruence, trouver tous les entiers relatifs n tels que $n^2 + n + 1$ soit divisible par 7."
   ]
  },
  {
   "cell_type": "markdown",
   "metadata": {},
   "source": [
    "#### Exercice 13\n",
    "\n",
    "Soit $u_n = 4^{2n+1} + 3^{n+2}$ pour tout $n \\in \\mathbb{N}$.\n",
    "1. Montrer que pour tout $n \\geq 0$, $u_{n+1} \\equiv 3  u_n (13)$.\n",
    "2. En déduire que pour tout $n \\geq 0$, $u_n$ est un multiple de 13"
   ]
  },
  {
   "cell_type": "markdown",
   "metadata": {},
   "source": [
    "#### Exercice 14 (travail personnel)\n",
    "\n",
    "Quel est le reste de la division par 19 du nombre $57383^{114}$ ?"
   ]
  },
  {
   "cell_type": "markdown",
   "metadata": {},
   "source": [
    "#### Exercice 15  : Critères de divisibilité\n",
    "\n",
    "Dans cet exercice, on considère $a \\in \\mathbb{N}$ dont l'écriture décimale est de la forme $a=\\overline{a_ma_{m-1}...a_1a_0}$, où les $(a_i)_{0 \\leq i \\leq m}$ sont les chiffres de sa décomposition décimale.\n",
    "\n",
    "1. Critères de divisibilité par $2$ ; $5$ et $10$.\n",
    "    * Étudier les congruences modulo $2$ des puissances de $10$ de la forme $10^k$ où $k \\in \\mathbb{N}$.\n",
    "    * En déduire que $a \\equiv a_0 \\;[2]$. \n",
    "    * Quel critère de divisibilité par $2$ peut-on énoncer ?     \n",
    "    * Démontrer de la même façon des critères de divisibilité par $5$ et par $10$.\n",
    "\n",
    "    \n",
    "2. Critères de divisibilité par $3$ et $9$.\n",
    "        \n",
    "    * Étudier les congruences modulo $3$ des puissances de $10$ de la forme $10^k$ où $k \\in \\mathbb{N}$.\n",
    "    * En déduire que $a \\equiv a_m+a_{m-1}+...+a_0\\;[3]$.\n",
    "    * Quel critère de divisibilité par $3$ peut-on énoncer ?\n",
    "    * Démontrer de la même façon un critère de divisibilité par $9$.\n",
    "    * Le nombre $12\\;504\\;237$ est-il divisible par $3$ ? par $9$ ?\n",
    " \n",
    " \n",
    "3. Critère de divisibilité par $11$.\n",
    "        \n",
    "    * Établir que $\\forall k \\in \\mathbb{N}, \\; 10^k \\equiv (-1)^k \\;[11]$.\n",
    "    * En déduire que $a \\equiv (a_0+a_2+...)-(a_1+a_3+...)\\;[11]$.\n",
    "    * Quel critère de divisibilité par $11$ peut-on énoncer ?\n",
    "    * Le nombre $51\\;114\\;239$ est-il divisible par $11$ ?\n",
    " \n",
    " \n",
    "4. Critères de divisibilité par $7$ et $13$.\n",
    "        \n",
    "    * Établir que $\\forall k \\in \\mathbb{N}, \\;10^{3k} \\equiv (-1)^k \\;[13]$.\n",
    "    * On considère $a=17\\;725\\;864$. Justifier que $a \\equiv 17-725+864 \\;[13]$.\n",
    "    * $a$ est-il divisible par $13$ ?\n",
    "    * Les nombres $80\\;501\\;551$ et $10^{13}$ sont-ils divisibles par $13$ ?\n",
    "    * Justifier que la même méthode permet d'étudier la divisibilité par $7$.\n"
   ]
  }
 ],
 "metadata": {
  "kernelspec": {
   "display_name": "Python 3",
   "language": "python",
   "name": "python3"
  },
  "language_info": {
   "codemirror_mode": {
    "name": "ipython",
    "version": 3
   },
   "file_extension": ".py",
   "mimetype": "text/x-python",
   "name": "python",
   "nbconvert_exporter": "python",
   "pygments_lexer": "ipython3",
   "version": "3.8.11"
  }
 },
 "nbformat": 4,
 "nbformat_minor": 4
}
