{
 "cells": [
  {
   "cell_type": "markdown",
   "metadata": {},
   "source": [
    "<table style=\"background-color: white;width:100%;\">\n",
    "    <tr style=\"display:none\">\n",
    "        <td></td>\n",
    "        <td></td>\n",
    "    </tr>\n",
    "    <tr style=\"height:3em\">\n",
    "        <td style=\"width:20%;align:left\"><img src=\"iut_bordeaux.jpg\"></td>\n",
    "        <td style=\"width:60%;font: bold 2.5em 'Fira Sans', serif;text-align:center\"> Arithmétique 3<br>\n",
    "        PGCD</td>\n",
    "        <td style=\"width:20%;font: bold 1.3em 'Fira Sans', serif;vertical-align:top;text-align:right\">Semaine 6<br><i>Numération et arithmétique</i></td>\n",
    "    </tr>\n",
    "</table>"
   ]
  },
  {
   "cell_type": "markdown",
   "metadata": {},
   "source": [
    "## Définition\n",
    "\n",
    "Soit $a,b\\in\\mathbb{Z}^*$.   \n",
    "Le plus grand entier qui divise à la fois $a$ et $b$ s'appelle le **plus grand commun diviseur** ou **pgcd** de $a$ et $b$.  \n",
    "On le note **pgcd(a,b)** ou $a \\wedge b$."
   ]
  },
  {
   "cell_type": "markdown",
   "metadata": {},
   "source": [
    "#### Exercice 1\n",
    "\n",
    "Donner :\n",
    ">* PGCD(12,36)\n",
    ">* PGCD(13,43)\n",
    ">* PGCD(57,9)"
   ]
  },
  {
   "cell_type": "markdown",
   "metadata": {},
   "source": [
    "#### Remarque \n",
    "\n",
    "$\\text{pgcd}(a,b)=\\text{pgcd}(|a|,|b|)$.\n",
    "\n",
    "\n",
    "#### Propriété\n",
    "\n",
    "Soit $a,b\\in\\mathbb{Z}^*$. Si $a$ divise $b$ alors $\\text{PGCD}(a,b)=|a|$."
   ]
  },
  {
   "cell_type": "markdown",
   "metadata": {},
   "source": [
    "#### Exercice 2\n",
    "\n",
    "> Soit $a$ un entier relatif.  \n",
    "Déterminer le pgcd $d$ des entiers $m = 14a + 3$ et $n = 21a + 4$ et trouver des entiers $u$ et $v$ tels que $um + vn = d$."
   ]
  },
  {
   "cell_type": "markdown",
   "metadata": {},
   "source": [
    "## Algorithme d'Euclide\n",
    "\n",
    "**principe de base :**\n",
    "\n",
    "Soit $a,b\\in\\mathbb{Z}^*$.  \n",
    "S'il existe des entiers $k$ et $s$ avec $s\\not=0$ tels que $a=bk+s$ alors les diviseurs communs à $a$ et $b$ sont exactement les diviseurs communs à $b$ et $s$, et $\\text{PGCD}(a,b)=\\text{PGCD}(b,s)$."
   ]
  },
  {
   "cell_type": "markdown",
   "metadata": {},
   "source": [
    "### Algorithme d'Euclide\n",
    "\n",
    "Soit $a\\in\\mathbb{Z}^*$ et $b\\in\\mathbb{N}^*$. On cherche $d=\\text{PGCD}(a,b)$. On note $r_0=b$.\n",
    "On effectue des divisions euclidiennes successives tant que le reste est non nul.\n",
    "\n",
    "\n",
    "$$\\begin{array}{rclcc} %cl}\n",
    "a&=&r_0q_1+r_1&\\quad& 0<r_1<r_0\\\\ %&\\quad& d=\\text{PGCD}(b,r_1)\\\\\n",
    "b&=&r_1q_2+r_2&& 0<r_2<r_1\\\\ % && d=\\text{PGCD}(r_1,r_2)\\\\\n",
    "r_1&=&r_2q_3+r_3&& 0<r_3<r_2\\\\ % && d=\\text{PGCD}(r_2,r_3)\\\\\n",
    "\\quad\\vdots&&\\\\\n",
    "r_{n-3}&=&r_{n-2}q_{n-1}+r_{n-1}&& 0<r_{n-1}<r_{n-2}\\\\\n",
    "r_{n-2}&=&r_{n-1}q_n+r_n&& 0< r_n<r_{n-1}\\\\ %&& d=\\text{PGCD}(r_{n-1},r_n)\\\\\n",
    "r_{n-1}&=&r_nq_{n+1}+0 && r_{n+1}=0\\\\\n",
    "\\end{array}\n",
    "$$\n",
    "\n",
    "$(r_k)$ est une suite strictement décroissante d'entiers naturels donc, au\n",
    "bout d'un certain temps, on obtient un reste nul et l'algorithme s'arrête. \n",
    "\n",
    "Si $r_{n+1}=0$ alors $r_n$ divise $r_{n-1}$, donc $\\text{PGCD}(r_{n-1},r_n)=r_n$. \n",
    "\n",
    "#### Théorème \n",
    "\n",
    ">Le pgcd de  $a$ et $b$ est le dernier reste non nul obtenu par l'algorithme d'Euclide. (ci-dessus, c'est $r_n$).\n",
    "\n",
    "#### Remarque \n",
    "\n",
    "Si $r_1=0$, c'est que $b$ divise $a$, donc $\\text{PGCD}(a,b)=b=r_0$. (l'algorithme s'arrête immédiatement)."
   ]
  },
  {
   "cell_type": "markdown",
   "metadata": {
    "slideshow": {
     "slide_type": "fragment"
    }
   },
   "source": [
    "#### Exercice\n",
    "\n",
    "Calculer $PGCD(8820;3150)$\n",
    "<!--\n",
    "\n",
    "$8820=3150\\times 2+2520$\n",
    "\n",
    "$3150=2520\\times 1+630$\n",
    "\n",
    "$2520=630\\times 4+0$ \n",
    "donc $PGCD(8820;3150)=630$-->"
   ]
  },
  {
   "cell_type": "markdown",
   "metadata": {},
   "source": [
    "#### propriété \n",
    "\n",
    "Soit $a,b\\in\\mathbb{Z}^*$. Si $d$ divise $a$ et $b$ alors $d$ divise $\\text{PGCD}(a,b)$."
   ]
  },
  {
   "cell_type": "markdown",
   "metadata": {},
   "source": [
    "#### Remarque :\n",
    "\n",
    "On peut définir le pgcd de 3 entiers ou plus.  On peut utiliser la propriété suivante : \n",
    "\n",
    "\n",
    "si $d=\\text{PGCD}(a,b)$ alors $\\text{PGCD}(a,b,c)=\\text{PGCD}(d,c)$."
   ]
  },
  {
   "cell_type": "markdown",
   "metadata": {},
   "source": [
    "## Nombres premiers entre eux\n",
    "\n",
    "#### Définition \n",
    "\n",
    "Soit $a$ et $b$ deux entiers non nuls.  \n",
    "On dit que $a$ et $b$ sont **premiers entre eux** si $\\text{PGCD}(a,b)=1$.  \n",
    "On dit aussi que $a$ est premier avec $b$."
   ]
  },
  {
   "cell_type": "markdown",
   "metadata": {},
   "source": [
    "#### Propriété  \n",
    "\n",
    "Soit $a,b\\in\\mathbb{Z}^*$ et $d=\\text{PGCD}(a,b)$. Alors$\\frac{a}{d}$ et $\\frac{b}{d}$ sont premiers entre eux.\n",
    "\n",
    "Une fraction est irréductible si le numérateur et le dénominateur sont premiers entre eux. Pour obtenir une fraction irréductible égale à $\\frac{p}{q}$, il suffit de simplifier par le pgcd ."
   ]
  },
  {
   "cell_type": "markdown",
   "metadata": {},
   "source": [
    "### Théorème de Bachet-Bézout (ou Identité de Bézout) \n",
    "\n",
    "> Soient $a$ et $b$ deux entiers relatifs.  \n",
    "Si $d$ est le PGCD de a et b, alors il existe deux entiers relatifs $x$ et $y$ tels que $ax + by = d$."
   ]
  },
  {
   "cell_type": "markdown",
   "metadata": {},
   "source": [
    "### Théorème de Bézout\n",
    "\n",
    "Deux entiers non nuls $a$ et $b$ sont premiers entre eux **si et seulement si**, il existe des entiers $u$ et $v$ tels que: $au+bv=1$"
   ]
  },
  {
   "cell_type": "markdown",
   "metadata": {},
   "source": [
    "Trouver une relation de Bezout pour $a$ et $b$, c'est trouver des entiers $u$ et $v$ tels que $au+bv=pgcd(a,b)$.\n",
    "\n",
    "On applique l'algorithme d'Euclide $a$ et $b$. On part de l'égalité donnant le pgcd, et on \"remonte\" l'algorithme.\n",
    "\n",
    "\n",
    "$$\n",
    "a=116, b=10\n",
    "\\qquad\\qquad\n",
    "\\begin{align*}\n",
    "116&=11\\times 10+6\\\\\n",
    "10&=1\\times 6+4\\\\\n",
    "6&=1\\times 4+2\\\\\n",
    "4&=2\\times 2+0\n",
    "\\end{align*}\n",
    "$$"
   ]
  },
  {
   "cell_type": "markdown",
   "metadata": {},
   "source": [
    "On remonte maintenant en remplaçant systématiquement le reste de la ligne précédante. \n",
    "$$ \n",
    "\\begin{align*}\n",
    "2&= 6 - 1\\times 4 &\\\\\n",
    "2&= 6 -1\\times(10-6)= 2\\times 6 -10 \\\\\n",
    "2&= 2\\times(116 - 10\\times 11) -10  = 2\\times 116 - 23\\times 10\n",
    "\\end{align*}\n",
    "$$\n",
    "\n",
    "$2a-23b=2$ est une relation de Bezout} pour $a=116$ et  $b=10$ ($u=2, v=-23$).\n",
    "\n",
    "* Une fois qu'on a calculé $u$ et $v$, il est facile de vérifier que $au+bv=PGCD(a,b)$.\n",
    "* $u$ et $v$ ne sont pas uniques.  \n",
    "$7a-81b=2$ est une autre relation de Bezout pour $a=116$ et $b=10$."
   ]
  },
  {
   "cell_type": "markdown",
   "metadata": {},
   "source": [
    "#### Exercice\n",
    "\n",
    ">* A l'aide de l'algorithme d'Euclide, déterminer le PGCD de $420$ et $637$, puis exprimer ce PGCD comme combinaison linéaire de ces deux nombres.\n",
    ">\n",
    ">* Même question pour $152$ et $184$\n",
    "\n",
    "> * Montrer que $\\forall n \\in \\mathbb{N}, (2n + 1)$ et $(3n + 2)$ sont premiers entre eux.\n"
   ]
  },
  {
   "cell_type": "markdown",
   "metadata": {},
   "source": [
    "## Conséquences du théorème de Bézout\n",
    "\n",
    "Le théorème de Bézout permet de démontrer facilement des théorèmes arithmétiques importants.\n",
    "\n",
    "**Proposition.** \n",
    "\n",
    "> Si un nombre $n$ est divisible par a et par b et que ces deux nombres sont premiers entre eux, il est divisible par ab.\n",
    "\n",
    "**Démonstration.**\n",
    "\n",
    "D’après les hypothèses, on peut trouver des entiers $k$ et $l$ tels que $n = ak$ et $n = bl$. De plus, d’après le théorème de Bézout, on peut trouver $u$ et $v$ tels que $au + bv = 1$.\n",
    "\n",
    "On a alors\n",
    "\n",
    "$\\begin{align}\n",
    "n =& 1 × n \\\\\n",
    "=& (au + bv)n \\\\\n",
    "=& au × n + bv × n \\\\\n",
    "=& au × bl + bv × ak \\\\\n",
    "=& ab × (ul + vk)\\\\\n",
    "\\end{align}$\n",
    "\n",
    "qui est bien divisible par ab.\n",
    "\n",
    "\n",
    "### Exercice\n",
    "\n",
    "> Comment reconnaître facilement qu’un nombre est un multiple de 45 ?  \n",
    ">Par exemple, est-ce que 4 685 368 545 est un multiple de 45 ?"
   ]
  },
  {
   "cell_type": "markdown",
   "metadata": {},
   "source": [
    "### Exercice : \n",
    "\n",
    ">a et b sont deux entiers naturels non nuls.\n",
    ">\n",
    ">Démontrer que PGCD(3a + 4b ; 4a + 5b)=PGCD(a ; b)"
   ]
  },
  {
   "cell_type": "markdown",
   "metadata": {},
   "source": [
    "## Conséquences du théorème de Bézout\n",
    "\n",
    "Le théorème de Bézout permet de démontrer facilement des théorèmes arithmétiques importants.\n",
    "\n",
    "**Proposition.** \n",
    "\n",
    "> Si un nombre $n$ est divisible par a et par b et que ces deux nombres sont premiers entre eux, il est divisible par ab.\n",
    "\n",
    "**Démonstration.**\n",
    "\n",
    "D’après les hypothèses, on peut trouver des entiers $k$ et $l$ tels que $n = ak$ et $n = bl$. De plus, d’après le théorème de Bézout, on peut trouver $u$ et $v$ tels que $au + bv = 1$.\n",
    "\n",
    "On a alors\n",
    "\n",
    "$\\begin{align}\n",
    "n =& 1 × n \\\\\n",
    "=& (au + bv)n \\\\\n",
    "=& au × n + bv × n \\\\\n",
    "=& au × bl + bv × ak \\\\\n",
    "=& ab × (ul + vk)\\\\\n",
    "\\end{align}$\n",
    "\n",
    "qui est bien divisible par ab.\n",
    "\n",
    "\n",
    "### Exercice\n",
    "\n",
    "> Comment reconnaître facilement qu’un nombre est un multiple de 45 ?  \n",
    ">Par exemple, est-ce que 4 685 368 545 est un multiple de 45 ?"
   ]
  },
  {
   "cell_type": "markdown",
   "metadata": {},
   "source": [
    "## résolution de l'équation *diophantienne* $ax + by = c$.\n",
    "\n",
    "### Définition et existence\n",
    "\n",
    "Une équation diophantienne est une équation à **coefficients entiers** dont on cherche les **solutions entières**. \n",
    "\n",
    "Soit $a, b$ et $c$ trois entiers relatifs, les équations diophantiennes du premier degré sont du type : \n",
    "\n",
    "$$ax + by = c.$$\n",
    "\n",
    "REMARQUE : `Diophante d’Alexandrie`  est un mathématicien grec du IIIe siècle de notre ère."
   ]
  },
  {
   "cell_type": "markdown",
   "metadata": {},
   "source": [
    "#### Propriété\n",
    "\n",
    ">Une équation diophantienne du premier degré, de la forme $ax + by = c$, où $a$, $b$ et $c$ sont des\n",
    "entiers relatifs, admet des solutions **si, et seulement si,** c est un multiple du PGCD(a, b).\n",
    "\n",
    "**Exemple**  L’équation 17x − 33y = 1 admet des solutions car PGCD(17, 33) = 1.\n",
    "\n",
    "### Méthode de résolution \n",
    "\n",
    "* On cherche une solution particulière à l’équation.  \n",
    "\n",
    "* On recherche ensuite l’ensemble des solutions en soustrayant termes à termes l’équation et l’égalité de la solution particulière.  \n",
    "\n",
    "* On applique le théorème de Gauss, puis l’on vérifie que les solutions trouvées vérifient bien l’équation.  \n",
    "\n",
    "#### Exercice d’application\n",
    "\n",
    "Déterminer l’ensemble des solutions de l’équation (E) $17x − 33y = 1$.\n",
    "\n",
    "* On cherche une solution particulière de (E). Ici, il existe une solution évidente : le couple (2 ;1), car 17 × 2 − 33 × 1 = 34 − 33 = 1.\n",
    "\n",
    "\n",
    "* On recherche ensuite la solution générale de (E). On a :\n",
    "$$\n",
    " \\begin{cases}\n",
    "        17x &− &33y &= 1 \\\\ \n",
    "        17 × 2 &− &33 × 1 &= 1\n",
    "     \\end{cases}\n",
    "$$\n",
    "\n",
    "Par soustraction termes à termes des deux égalités, on obtient :\n",
    "\n",
    "$$17(x − 2) − 33(y − 1) = 0 \\iff 17(x − 2) = 33(y − 1) \\qquad \\text{(E’)}$$\n",
    "\n",
    "33 divise $17(x − 2)$. Or $PGCD(17, 33) = 1$, donc d’après le théorème de **Gauss**, 33 divise\n",
    "$(x − 2)$. \n",
    "\n",
    "Il existe donc $k \\in \\mathbb{Z}$ tel que  $x − 2 = 33k$\n",
    "\n",
    "En remplaçant dans (E’), on trouve $y − 1 = 17 k$.\n",
    "\n",
    "\n",
    "Les solutions de (E) sont de la forme :\n",
    "\n",
    "$$\n",
    " \\begin{cases}\n",
    "        x = 2 + 33 k \\\\ \n",
    "        y = 1 + 17 k , k ∈ Z.\n",
    "     \\end{cases}\n",
    "$$\n",
    "\n",
    "On vérifie pour conclure que ces solutions vérifient effectivement l’équation.\n",
    "\n",
    "$$ \\forall k \\in \\mathbb{Z},\\quad 17(2+33k)-33(1+17k)=1 $$"
   ]
  },
  {
   "cell_type": "markdown",
   "metadata": {},
   "source": [
    "#### Exercices\n",
    "\n",
    "1 . Rechercher (indépendamment) les solutions (entières) des équations diophantiennes :\n",
    "   \n",
    "$$4235x+42y = 15$$\n",
    "\n",
    "\n",
    "$$4235x+42y = 14$$"
   ]
  },
  {
   "cell_type": "markdown",
   "metadata": {},
   "source": [
    "2 . Determiner tous les entiers relatifs tels que $11x \\equiv 4 (50)$.\n",
    "\n",
    "\n",
    "3 . Determiner toutes les solutions $x \\in \\mathbb{Z}$ du système\n",
    "$$\\begin{cases}\n",
    "    x \\equiv 1 (7)\\\\\n",
    "    x \\equiv 9 (15)\\\\\n",
    "\\end{cases}\n",
    "$$"
   ]
  },
  {
   "cell_type": "markdown",
   "metadata": {},
   "source": [
    "4 . Un theatre pratique les tarifs suivants : 19 euros l’entrée pour les abonnées et 29 euros l’entrée pour les autres. A la fin d’une séance, le montant des recettes s’élève à 818 euros. La caissière a perdu le talon des billets, mais elle sait qu’en général, il y a environ deux fois moins d’abonnés que de non abonnés.\n",
    "\n",
    "Peut-elle retrouver la répartition des spectateurs lors de cette séance ?"
   ]
  },
  {
   "cell_type": "markdown",
   "metadata": {},
   "source": [
    "### Exercice : Chiffrement affine\n",
    "\n",
    "**Partie A : Un premier exemple**\n",
    "\n",
    "Afin de coder un message, on assimile chaque lettre de l’alphabet à un nombre entier \n",
    "\n",
    "$$A->0\\dots Z->25$$\n",
    "\n",
    "\n",
    "Un chiffrement élémentaire est le chiffrement affine. On se donne une fonction de codage affine $f$ , par exemple : $f(x) = 11x + 8$.\n",
    "\n",
    "À une lettre du message :\n",
    "\n",
    "* on associe un entier x entre 0 et 25 suivant le tableau ci-dessus ;  \n",
    "* on calcule $f(x) = (11x + 8)[26]$ \n",
    "• on traduit $y$ par une lettre.\n",
    "\n",
    "**Exemple :**\n",
    "\n",
    "Si l’on veut coder la lettre G par la fonction $f(x) = 11x + 8$, on passe par les étapes suivantes : \n",
    "\n",
    "$$G \\rightarrow x = 6 ⇒ 11 × 6 + 8 = 74 \\rightarrow 74 \\equiv 22 (26) \\rightarrow y = 22 \\rightarrow W$$\n",
    "\n",
    "La lettre G est donc codée par la lettre W.\n",
    "\n",
    ">1. Coder la lettre W.\n",
    ">\n",
    ">2. Existence d’une fonction de décodage.\n",
    ">\n",
    "> * Pourquoi le théorème de Bézout permet-il d’affirmer qu’il existe un entier relatif u tel\n",
    "que : $11u + 26v = 1$ ?\n",
    ">\n",
    "> * Montrer alors que l’équation $11x \\equiv 1 (26)$, puis que l’équation $11x \\equiv j (26)$, $j$ étant un\n",
    "entier naturel, admettent une solution.\n",
    "\n",
    "> 3. Déterminer la fonction de décodage.\n",
    ">* Montrer que pour tous entiers relatifs x et j, on a : $11x \\equiv j (26) \\iff x \\equiv 19j (26)$.  \n",
    ">* En déduire que la fonction $f^{-1}(y)=19y + 4(26).$  \n",
    ">* Décoder la lettre L.  \n",
    "\n",
    "**Partie 2 : Casser une fonction de cryptage**\n",
    "\n",
    "On a reçu le message suivant : FMEYSEPGCB.\n",
    "\n",
    "Par une étude statistique de la fréquence d’apparition des lettres sur un passage plus important, on déduit que le chiffrement est affine, que la lettre E est codée par la lettre E et que la lettre J est codée par la lettre N.\n",
    "\n",
    "Soit la fonction affine f définie par : $f(x) = ax + b$ où $a$ et $b$ sont des entiers naturels compris\n",
    "entre 0 et 25.\n",
    "\n",
    ">1) Démontrer que $a$ et $b$ vérifient le système suivant :\n",
    "\n",
    "$$\n",
    "\\begin{cases}\n",
    "4a + b \\equiv 4 (26) \\\\\n",
    "9a + b \\equiv 13 (26)\n",
    "\\end{cases} \n",
    "$$\n",
    "\n",
    ">2) \n",
    ">a) Démontrer que $5a \\equiv 9 (26)$, puis que $a \\equiv 7 (26)$.\n",
    ">\n",
    ">b) En déduire que $b \\equiv 2 (26)$ et que $f$ est définie par $f(x) = 7x + 2(26)$.\n",
    ">\n",
    ">c) Démontrer que, pour tous relatifs $x$ et $z$, on a : $7x \\equiv z (26) \\iff x \\equiv 15z (26)$.\n",
    ">\n",
    ">d) En déduire que la fonction de décodage $f^{−1}$ est définie par $f^{-1}(y)=15y + 22(26)$.\n",
    ">\n",
    ">e) Décoder le message.\n",
    "\n"
   ]
  },
  {
   "cell_type": "code",
   "execution_count": null,
   "metadata": {},
   "outputs": [],
   "source": []
  }
 ],
 "metadata": {
  "kernelspec": {
   "display_name": "Python 3",
   "language": "python",
   "name": "python3"
  },
  "language_info": {
   "codemirror_mode": {
    "name": "ipython",
    "version": 3
   },
   "file_extension": ".py",
   "mimetype": "text/x-python",
   "name": "python",
   "nbconvert_exporter": "python",
   "pygments_lexer": "ipython3",
   "version": "3.8.11"
  },
  "latex_envs": {
   "LaTeX_envs_menu_present": true,
   "autoclose": false,
   "autocomplete": true,
   "bibliofile": "biblio.bib",
   "cite_by": "apalike",
   "current_citInitial": 1,
   "eqLabelWithNumbers": true,
   "eqNumInitial": 1,
   "hotkeys": {
    "equation": "Ctrl-E",
    "itemize": "Ctrl-I"
   },
   "labels_anchors": false,
   "latex_user_defs": false,
   "report_style_numbering": false,
   "user_envs_cfg": false
  }
 },
 "nbformat": 4,
 "nbformat_minor": 4
}
