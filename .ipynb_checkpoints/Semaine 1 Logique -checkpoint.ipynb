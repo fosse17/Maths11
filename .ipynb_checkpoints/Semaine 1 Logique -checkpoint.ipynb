{
 "cells": [
  {
   "cell_type": "markdown",
   "metadata": {
    "slideshow": {
     "slide_type": "slide"
    }
   },
   "source": [
    "<style>\n",
    "th {\n",
    "background-color:#55FF33;\n",
    "}\n",
    "td {\n",
    "background-color:#00FFFF;\n",
    "}\n",
    "</style>\n",
    "\n",
    "\n",
    "<table>\n",
    "    <tr>\n",
    "        <td><img src=\"iut_bordeaux.jpg\"></td>\n",
    "        <td>TD 1 : Logique</td>\n",
    "        <td>Semaine 1<br>Logique et raisonnements</td>\n",
    "    </tr>\n",
    "</table>"
   ]
  },
  {
   "cell_type": "markdown",
   "metadata": {
    "slideshow": {
     "slide_type": "slide"
    }
   },
   "source": [
    "## (Très) brève description des mathématiques\n",
    "Les mathématiques actuelles sont bâties de la façon suivante :  \n",
    "- On part d’un petit nombre d’affirmations, appelées **axiomes**, supposées vraies à priori (et que l’on ne cherche donc pas à démontrer) ;\n",
    "- On définit ensuite la notion de **démonstration** (en décidant par exemple de ce qu’est une implication, une équivalence...) ;  \n",
    "- On décide enfin de qualifier de vraie toute affirmation obtenue en fin de démonstration et on appelle **« théorème »** une telle affirmation (vraie).  \n",
    "A partir des axiomes, on obtient donc des théorèmes qui viennent petit à petit enrichir la théorie mathématique.   \n",
    "\n",
    "\n",
    "\n",
    "\n",
    "\n",
    "## Proposition\n",
    "Un scientifique étudie des objets, à propos desquels il énonce des faits (ou propositions.\n",
    "\n",
    "La logique manipule de façon formelle les propositions. Elle aura pour but de donner des critères permettant de décider si un raisonnement est ou non correct.\n",
    "\n",
    "**Définition.** En logique, une proposition (ou assertion) est une phrase à laquelle on peut\n",
    "attribuer une valeur de vérité : **vrai** ou **faux**.\n",
    "\n",
    "On peut noter également **1 le vrai**, et **0 le faux**.<br>\n",
    "\n",
    "**Exemple.**\n",
    "\n",
    "- *« $\\pi$ est un nombre entier »* est une assertion fausse. <br>\n",
    "- *« 18 est divisible par 3 »* est une assertion vraie. <br>\n",
    "\n",
    "\n",
    "**Remarque.** \n",
    "\n",
    "\n",
    "1. La phrase *« cette assertion est fausse »* n’est ni vraie, ni fausse. <br>\n",
    "Ce n’est donc pas une assertion logique.  <br>\n",
    "Ce paradoxe est comparable à un individu affirmant *« je mens »* : il est logiquement impossible de savoir si cet individu dit ou non la vérité. <br> C’est le paradoxe du menteur.\n",
    "\n",
    "2. Mentionnons aussi le paradoxe de Berry : \n",
    "<br> Soit $E$ l’ensemble des entiers naturels descriptibles par une phrase (en français) de quinze mots ou moins.<br> Alors $E$ est un ensemble fini (il n’y a qu’un nombre fini de phrases de quinze mots ou moins). \n",
    "<br>Soit $n_0$ le plus petit entier n’appartenant pas à E. Alors $n_0$ est défini de façon unique par la phrase : <br>*« Le plus petit entier non descriptible par une phrase de moins de quinze mots »*. <br>\n",
    "Or cette phrase comporte 14 mots, donc $n_0$ appartient à $E$, ce qui constitue un paradoxe. <br>\n",
    "Celui-ci ne dévoile aucune incohérence des mathématiques, mais prouve tout simplement\n",
    "que n’importe quelle phrase ne peut être considérée comme une assertion mathématique.\n",
    "\n",
    "## Prédicat\n",
    "\n",
    "En mathématiques, on travaille souvent avec des variables.<br>\n",
    "Définir une variable $x$ signifie que l'on définit aussi l'ensemble dans lequel elle varie, soit $E$.\n",
    "$x$ peut valoir n'importe quel élément de $E$ et on note $x \\in E$.\n",
    "\n",
    "Un **prédicat** est un énoncé qui peut contenir plusieurs variables et qui devient une proposition chaque fois que les variables sont fixées dans leurs ensembles respectifs et deviennent des constantes.\n",
    "\n",
    "- *$x$* est un nombre impair n'est pas un prédicat.<br>\n",
    "- *$x \\in \\mathbb{N}$* est un nombre impair est un prédicat.\n",
    "\n",
    "## Connecteurs logiques et tables de vérité\n",
    "\n",
    "Si $P$ est une proposition et $Q$ est une autre proposition, nous allons définir de nouvelles propositions construites à partir de $P$ et de $Q$.\n",
    "\n",
    "### La conjonction : connecteur logique \"et\" ( symbole $\\wedge$ )\n",
    "\n",
    "La proposition $P$ et $Q$ est vraie si $P$ est vraie et $Q$ est vraie.\n",
    "\n",
    "La proposition $P$ et $Q$ est fausse sinon.\n",
    "\n",
    "On résume ceci en une **table de vérité** :\n",
    "\n",
    "$$\n",
    "\\begin{array}{c|c|c}\n",
    "P \\wedge Q & {V} & {F} \\\\ \\hline\n",
    "V  & \\color{red}V  & {F} \\\\ \\hline\n",
    "{F} & {F} & {F} \\\\\n",
    "\\end{array}\n",
    "$$\n",
    "\n",
    "**Exemple** :  \n",
    "$p$ : _\"Cette carte est un as.\"_  \n",
    "$q$ : _\"Cette carte est coeur.\"_\n",
    "la proposition  $p$ et $q$ est vraie si la carte est l'as de coeur et est fausse pour toute autre carte."
   ]
  },
  {
   "cell_type": "markdown",
   "metadata": {
    "slideshow": {
     "slide_type": "slide"
    }
   },
   "source": [
    "### La disjonction : connecteur logique \"ou\" ( symbole $\\vee$ )\n",
    "\n",
    "La proposition $P$ ou $Q$ est vraie si l'une (au moins) des deux assertions $P$ ou $Q$ est vraie.\n",
    "\n",
    "La proposition $P$ ou $Q$ est fausse si les deux assertions $P$ et $Q$ sont fausses.\n",
    "\n",
    "On reprend ceci dans la table de vérité :\n",
    "\n",
    "$$\n",
    "\\begin{array}{c|c|c}\n",
    "P \\vee Q & {V} & {F} \\\\ \\hline\n",
    "V  & \\color{red}V  & \\color{red}{V} \\\\ \\hline\n",
    "{F} & \\color{red}{V} & {F} \\\\\n",
    "\\end{array}\n",
    "$$\n",
    "\n",
    "**Exemple** \n",
    "\n",
    "$p$ : *Cette carte est un as.*  \n",
    "$q$ :*Cette carte est coeur*   \n",
    "La proposition *$P$ ou $Q$* est vraie si la carte est un as ou bien un coeur (ou pour l'as de coeur).\n",
    "\n",
    "**Remarque.** Dans le langage courant, *« ou »* a en général un sens exclusif (fromage *« ou »*\n",
    "dessert).<br> En mathématiques, le *« ou »* est toujours inclusif : si $P$ et $Q$ sont toutes les deux\n",
    "vraies, alors $P \\vee Q$ est vraie.\n"
   ]
  },
  {
   "cell_type": "markdown",
   "metadata": {
    "slideshow": {
     "slide_type": "slide"
    }
   },
   "source": [
    "### La négation \"non\" ( symbole $\\neg$ )\n",
    "\n",
    "On passe d'une proposition $P$ à sa négation par le biais du symbole $\\neg$ ou $\\overline P$.\n",
    "La proposition *non $P$* ( noté $\\neg P$ ou $\\overline{P}$) est vraie si $P$ est fausse, et fausse si $P$ est vraie.\n",
    "\n",
    "$$\n",
    "\\begin{array}{c|c}\n",
    "P  & \\neg P \\\\ \\hline\n",
    "V  & \\color{red}F    \\\\ \\hline\n",
    "{F} & \\color{red}{V}  \\\\\n",
    "\\end{array}\n",
    "$$\n",
    "\n",
    "**Exemple**   \n",
    "$p$ : *$x<3$*    \n",
    "La proposition *$\\neg p$* est : *$x \\geq 3$*."
   ]
  },
  {
   "cell_type": "markdown",
   "metadata": {
    "slideshow": {
     "slide_type": "slide"
    }
   },
   "source": [
    "### L'implication (symbole $\\implies$)\n",
    "\n",
    "Contrairement à sa signification usuelle, qui suppose entre deux propositions un lien sémantique de type cause-effet, il ne faut voir dans l'implication logique qu'un simple procédé syntaxique qui permet à partir à partir de propositions élémentaires $p$ et $q$ d'écrire la nouvelle proposition \"Si $p$ alors \"q\".\n",
    "\n",
    "La prposition **$P \\implies Q$** se lit en français $P$ implique $Q$.\n",
    "\n",
    "Elle se lit souvent aussi **si $P$ est vraie alors $Q$ est vraie**\n",
    "ou **si $P$ alors $Q$**.\n",
    "La définition mathématique est la suivante :\n",
    "La proposition **($\\neg P$) ou $Q$** est notée **$P \\implies Q$**.\n",
    "\n",
    "\n",
    "$$\n",
    "\\begin{array}{c|c|c}\n",
    "\\color{olive}P \\implies \\color{blue}Q  & \\color{blue}V & \\color{blue}F \\\\ \\hline\n",
    "\\color{olive}V & \\color{red}V & \\color{red}F \\\\ \\hline\n",
    "\\color{olive}F & \\color{red}V & \\color{red}V \\\\\n",
    "\\end{array}\n",
    "$$\n",
    "\n",
    "ou \n",
    "$$\n",
    "\\begin{array}{c|c|c}\n",
    "\\color{olive}P  & \\color{blue}Q & \\color{olive}P \\implies \\color{blue}Q  \\\\ \\hline\n",
    "\\color{olive}V & \\color{blue}V & \\color{red}V \\\\ \n",
    "\\color{olive}V & \\color{blue}F & \\color{red}F \\\\\n",
    "\\color{olive}F & \\color{blue}V & \\color{red}V \\\\\n",
    "\\color{olive}F & \\color{blue}F & \\color{red}V \\\\\n",
    "\\end{array}\n",
    "$$\n",
    "\n",
    "Une implication n'est fausse que dans le cas où l'antécédent est vrai et le conséquent est faux.\n",
    "\n",
    "**Exemple :**\n",
    "\n",
    "  * $0 \\le x \\le 25 \\implies \\sqrt x \\le 5$  est vraie (prendre la racine carrée).\n",
    "  \n",
    "  * $x \\in ]-\\infty, -4[ \\implies x^2+3x-4 > 0$  est vraie (les racines du trinôme sont : -4 et 1).\n",
    "  \n",
    "  * $\\sin(\\theta)=0 \\implies \\theta = 0$  est fausse (regarder pour $\\theta = 2\\pi$ par exemple).\n",
    "  \n",
    "  * $2+2=5 \\implies 0 = 1$  est vraie ! Eh oui...\n",
    "  \n",
    "**Remarque :** Si $P$ est fausse alors l'assertion $P \\implies Q$ est toujours vraie.\n",
    " \n"
   ]
  },
  {
   "cell_type": "markdown",
   "metadata": {},
   "source": [
    "### L'équivalence (symbole $\\iff$)\n",
    "\n",
    "L'équivalence est définie par :\n",
    "**$P \\iff Q$**  est l'assertion **$(P \\implies Q)   \\text{  et  }   (Q \\implies P)$**.\n",
    "\n",
    "On dira **$P$ est équivalent à $Q$** ou **$P$ si et seulement si $Q$**. \n",
    "\n",
    "Cette proposition est vraie lorsque $P$ et $Q$ sont vraies ou lorsque $P$ et $Q$ sont fausses.\n",
    "La table de vérité est :\n",
    "\n",
    "$$\n",
    "\\begin{array}{c|c|c}\n",
    "\\color{olive}P \\iff \\color{blue}Q  & \\color{blue}V & \\color{blue}F \\\\ \\hline\n",
    "\\color{olive}V & \\color{red}V & \\color{red}F \\\\ \\hline\n",
    "\\color{olive}F & \\color{red}F & \\color{red}V \\\\\n",
    "\\end{array}\n",
    "$$\n",
    "\n",
    "**Exemples :**\n",
    "\n",
    "* Pour $x,x' \\in \\mathbb{R}$, l'équivalence **$x\\cdot x'=0 \\iff (x=0 \\vee x'=0)$** est vraie.\n",
    "\n",
    "\n",
    "* Pour $x,x' \\in \\mathbb{R}$, l'équivalence **$x\\cdot x'=0 \\iff (x=0 \\wedge x'=0)$** est fausse.\n",
    "\n",
    "\n",
    "* Voici une équivalence **toujours fausse** (quelle que soit l'assertion $P$) : $P \\iff \\neg(P)$.\n"
   ]
  },
  {
   "cell_type": "markdown",
   "metadata": {},
   "source": [
    "**Exercice :**\n",
    "\n",
    "a. $P$ et $Q$ sont deux propositions telles que $P\\implies Q$ est vraie.\n",
    "\n",
    "* On suppose que $P$ est vraie. Quelle est la valeur de vérité de $Q$ ?\n",
    "\n",
    "* On suppose que $Q$ est fausse. Quelle est la valeur de vérité de $P$ ?\n",
    "\n",
    "* On suppose que $Q$ est vraie. Quelle est la valeur de vérité de $P$ ?\n",
    "\n",
    "b. $P$ et $Q$ sont deux propositions telles que $Q\\implies P$ est fausse. \n",
    "\n",
    "* Quelles sont les valeurs devérité de $P$ et de $Q$ ?\n",
    "\n",
    "c. Quelles sont les valeurs de vérité de $P$ et de $Q$ lorsque $P\\iff Q$ est vraie ?"
   ]
  },
  {
   "cell_type": "markdown",
   "metadata": {},
   "source": [
    "Le connecteur d’équivalence $\\iff$  peut être défini comme la conjonction de l'implication $P \\implies Q$ (« Q si P ») et de sa réciproque $Q \\implies P$ (Q seulement si P), soit $(P \\implies Q) ∧ (Q\\implies P)$.\n",
    "\n",
    "\n",
    "**Exercice**  Les propositions suivantes sont-elles vraies ou fausses ?\n",
    " \n",
    " >(a)  2 divise 3 et 2 divise 4\n",
    " >\n",
    " >(b)  2 divise 3 ou 2 divise 4\n",
    " >\n",
    " >(c)  2 divise 3 ou 2 divise 5\n",
    " >\n",
    " >(d)  2 divise 3 si 2 divise 4\n",
    " >\n",
    " >(e)  2 divise 4 si 2 divise 3\n",
    " >\n",
    " >(f)  2 divise 4 seulement si 2 divise 3\n",
    " >\n",
    " >(g)  2 divise 4 si et seulement si 2 divise 3\n",
    " >\n",
    " >(h)  2 divise 4 si et seulement si 2 divise 6\n",
    " "
   ]
  },
  {
   "cell_type": "code",
   "execution_count": null,
   "metadata": {},
   "outputs": [],
   "source": []
  }
 ],
 "metadata": {
  "celltoolbar": "Aucun(e)",
  "kernelspec": {
   "display_name": "Python 3",
   "language": "python",
   "name": "python3"
  },
  "language_info": {
   "codemirror_mode": {
    "name": "ipython",
    "version": 3
   },
   "file_extension": ".py",
   "mimetype": "text/x-python",
   "name": "python",
   "nbconvert_exporter": "python",
   "pygments_lexer": "ipython3",
   "version": "3.8.11"
  },
  "rise": {
   "scroll": true,
   "theme": "sky",
   "transition": "zoom"
  }
 },
 "nbformat": 4,
 "nbformat_minor": 2
}
