{
 "cells": [
  {
   "cell_type": "markdown",
   "metadata": {},
   "source": [
    "# Exercices de logique"
   ]
  },
  {
   "cell_type": "markdown",
   "metadata": {},
   "source": [
    "**Exercice 5** Construire les tables de vérité des propositions suivantes\n",
    "\n",
    "\n",
    "* $(p\\wedge q)\\vee ((\\neg p)\\wedge (\\neg q))$\n",
    "\n",
    "* $(p\\vee q)\\wedge r$\n",
    "\n",
    "* $p\\vee (q\\wedge r)$\n",
    "\n",
    "* $(p\\implies q)\\implies r$\n",
    "\n",
    "* $p\\implies(q\\implies r)$"
   ]
  },
  {
   "cell_type": "markdown",
   "metadata": {},
   "source": [
    "**Exercice :**\n",
    "\n",
    "Ecrire la négation, la réciproque et la contraposée de chacune des propositions :\n",
    "1. S'il fait beau et si je suis en vacances alors j'irai à la plage.\n",
    "2. Si mon solex est cassé ou si je n'ai plus d'essence alors j'irai à pied et je serai en retard."
   ]
  },
  {
   "cell_type": "markdown",
   "metadata": {},
   "source": [
    "**Exercice**\n",
    "\n",
    "Décider si le raisonnement suivant est valide,\n",
    "\n",
    "\n",
    ">Jean est fatigué ou malade  \n",
    ">S'il est fatigué alors il est contrarié  \n",
    ">Jean n'est pas contrarié\n",
    ">\n",
    ">Donc Jean est malade."
   ]
  },
  {
   "cell_type": "markdown",
   "metadata": {},
   "source": [
    "**Exercice**\n",
    "\n",
    "Retrouver une proposition simple simple pour table :\n",
    "\n",
    "$$\n",
    "\\begin{array}{|c|c|c|}\n",
    "\\hline\n",
    "p & q & r & f(p;q;r) \\\\\n",
    "\\hline\n",
    "0 & 0 & 0 & 0\\\\\n",
    "0 & 0 & 1 & 1 \\\\\n",
    "0 & 1 & 0 & 0\\\\\n",
    "0 & 1 & 1 & 1 \\\\\n",
    "1 & 0 & 0 & 0\\\\\n",
    "1 & 0 & 1 & 0\\\\\n",
    "1 & 1 & 0 & 0\\\\\n",
    "1 & 1 & 1 & 1 \\\\\n",
    "\\hline\n",
    "\\end{array}\n",
    "$$\n",
    "\n",
    "On simplifiera l'expression obtenue."
   ]
  },
  {
   "cell_type": "markdown",
   "metadata": {},
   "source": [
    "**Exercice 6**.  Vérifier que les deux propositions suivantes sont des tautologies\n",
    "\n",
    "* $(p\\implies q)\\iff[(\\neg q)\\implies(\\neg p)]$\n",
    "\n",
    "* $[p\\implies q)\\implies [(q\\implies r)\\implies (p\\implies r)]$"
   ]
  },
  {
   "cell_type": "markdown",
   "metadata": {},
   "source": [
    "**Exercice 7** \n",
    "\n",
    "p,q et r sont trois propositions telles que $p\\implies q$ et $q\\implies r$ sont vraies.\n",
    "\n",
    "* On suppose que p est vraie. Quelles sont les valeurs de vérité de q et r ?\n",
    "\n",
    "\n",
    "* On suppose que q est fausse. Quelles sont les valeurs de vérité de p et r?\n",
    "\n",
    "\n",
    "* On suppose que q est vraie. Quelles sont les valeurss de vérité de p et r?\n",
    "\n",
    "\n",
    "* On suppose que r est fausse. Quelles sont les valeurs de vérité de p et q ?\n",
    "\n",
    "\n",
    "* Les propositions  \n",
    "$ p\\implies r$,  \n",
    "$r\\implies p$,  \n",
    "$p\\implies(q\\implies r)$,  \n",
    "$(p\\vee q)\\implies r$,  \n",
    "$(p\\wedge q)\\implies r$  \n",
    "sont-elles vraies ou fausses ?"
   ]
  },
  {
   "cell_type": "markdown",
   "metadata": {},
   "source": [
    "**Exercice 9** \n",
    "\n",
    "On considère les propositions suivantes \n",
    "\n",
    "* p : l’utilisateur appuie sur la touche Cancel\n",
    "\n",
    "* q : l’utilisateur appuie sur la touche OK\n",
    "\n",
    "* r : le programme se plantes\n",
    "\n",
    "* s : le fichier est effacé\n",
    "\n",
    "On définit les trois propositions suivantes \n",
    "\n",
    "* A : \"Si l’utilisateur appuie sur la touche OK, alors le programme ne se plante pas\"\n",
    "\n",
    "* B : \"Le fichier est effacé si le programme se plante ou l’utilisateur appuie sur la touche Cancel.\"\n",
    "\n",
    "* C : \"L’utilisateur n’appuie pas sur les 2 touches OK et Cancel en même temps donc :  le fichier n’est pas effacé si l’utilisateur appuie sur la touche OK\".\n",
    "\n",
    "Exprimer A , B et C en fonction de p ,q,r et s et des connecteurs logiques $\\wedge$ ,$\\vee$ ,$\\neg$ et $\\implies$ \n",
    "\n",
    "Ecrire la contraposée de A\n",
    "\n",
    "Ecrire la réciproque de B.\n",
    "\n",
    "Ecrire la négation de C.\n",
    "\n",
    "On suppose que A, B et C sont vraies.  \n",
    "\n",
    "1. Que se passe-t-il si l’utilisateur appuie sur les touches Cancel et OK en même temps ?  \n",
    "    \n",
    "2. On constate que le programme se plante. Que peut-on en déduire   \n",
    "    \n",
    "3. On constate que le fichier n’est pas effacé. Que peut-on en déduire ?  \n",
    "    "
   ]
  },
  {
   "cell_type": "markdown",
   "metadata": {},
   "source": [
    "**Exercice 10**\n",
    "\n",
    "Application des lois de Morgan et des regles de calcul\n",
    "\n",
    "Exprimer\n",
    "\n",
    "$p\\wedge q$ en fonction de p,q et des connecteurs $\\vee$ et $\\neg$\n",
    "\n",
    "Exprimer $p\\vee q$ en fonction de p,q et des connecteurs $\\wedge$  et $\\neg$ "
   ]
  },
  {
   "cell_type": "markdown",
   "metadata": {},
   "source": [
    "**Exercice 11**\n",
    "\n",
    "Simplifier les propositions suivantes puis indiquer les tautologies \n",
    "\n",
    "* $p\\implies (p\\vee q)$\n",
    "\n",
    "* $ p \\implies (p\\wedge q)$\n",
    "\n",
    "* $(p\\wedge q)\\vee (\\neg p\\vee \\neg q)$\n",
    "\n",
    "* $p\\implies (p\\implies q)$\n",
    "\n",
    "* $(p\\implies p)\\implies q$\n",
    "\n",
    "* $(p\\vee q)\\implies(p\\wedge q)$\n",
    "\n",
    "* $(p\\wedge q)\\implies (p\\vee q)$"
   ]
  },
  {
   "cell_type": "markdown",
   "metadata": {},
   "source": [
    "**Exercice 13** Ecrire la négation des propositions suivantes \n",
    "\n",
    "$p\\wedge \\neg q ;\\quad p\\implies q;\\quad p\\iff q;\\quad p\\vee (q\\wedge r);\\quad (\\neg p)\\implies (\\neg q);\\quad (\\neg p\\vee q)\\implies r$"
   ]
  },
  {
   "cell_type": "markdown",
   "metadata": {},
   "source": [
    "**Exercice 14**\n",
    "\n",
    "On construit le connecteur binaire $|$ appelé connecteur de Sheffer par $$ p|q= (\\neg p)\\vee (\\neg q)$$\n",
    "\n",
    "Construire la table de vérité de $p|q$.\n",
    "\n",
    "\n",
    "Calculer $p|p$,  $\\neg (p|q)$,  $\\neg p|\\neg q$\n",
    "\n",
    "\n",
    "En déduire l’écriture des propositions $\\neg p$, $p\\wedge q$, $p\\vee q$, $p\\implies q$ uniquement à l’aide du connecteur de Sheffer"
   ]
  }
 ],
 "metadata": {
  "kernelspec": {
   "display_name": "Python 3",
   "language": "python",
   "name": "python3"
  },
  "language_info": {
   "codemirror_mode": {
    "name": "ipython",
    "version": 3
   },
   "file_extension": ".py",
   "mimetype": "text/x-python",
   "name": "python",
   "nbconvert_exporter": "python",
   "pygments_lexer": "ipython3",
   "version": "3.8.5"
  }
 },
 "nbformat": 4,
 "nbformat_minor": 2
}
