{
 "cells": [
  {
   "cell_type": "markdown",
   "metadata": {},
   "source": [
    " <table style=\"background-color: white;width:100%;\">\n",
    "    <tr style=\"display:none\">\n",
    "        <td></td>\n",
    "        <td></td>\n",
    "    </tr>\n",
    "    <tr style=\"height:3em\">\n",
    "        <td style=\"width:20%;align:left\"><img src=\"iut_bordeaux.jpg\"></td>\n",
    "        <td style=\"width:60%;font: bold 2em 'Fira Sans', serif;text-align:center\"> TP  1</td>\n",
    "        <td style=\"width:20%;font: bold 1.3em 'Fira Sans', serif;vertical-align:top;\">R01.06<i></i></td>\n",
    "    </tr>\n",
    "</table>"
   ]
  },
  {
   "cell_type": "markdown",
   "metadata": {},
   "source": [
    "## Table de vérité\n",
    "\n",
    "Python possède trois opérateurs binaire : `and`, `or`, `not` \n",
    "On peux composer ces opérateurs pour obtenir des conditions booléennes complexes.\n",
    "par exemple , a et b étant des boolées, :\n",
    "\n",
    "**a and ( b or (not a))** réprésente la proposition \n",
    "$a \\wedge ( b \\vee \\overline a)$"
   ]
  },
  {
   "cell_type": "markdown",
   "metadata": {},
   "source": [
    "#### Exercice 1\n",
    "\n",
    "Tester et comprenez :\n",
    "\n",
    "```python\n",
    "a=True\n",
    "b=False\n",
    "c = a and (not b)\n",
    "print(c)\n",
    "d=not(a or b)\n",
    "print(d)\n",
    "for a in [True,False]:\n",
    "    print(a)\n",
    "```"
   ]
  },
  {
   "cell_type": "code",
   "execution_count": null,
   "metadata": {},
   "outputs": [],
   "source": []
  },
  {
   "cell_type": "markdown",
   "metadata": {},
   "source": [
    "#### Exercice 2\n",
    "\n",
    "Ecrire une fonction `implies` qui prend deux paramètres booléens $a$ et $b$ et retourne le booléen $a \\implies b$\n",
    "\n",
    "En utilisant deux boucles et en utilisant cette fonction `ìmplies`, établir la table de vérité de $a \\implies b$\n",
    "\n",
    "Pour obtenir un affichage correcte, renseignez vous sur la fonction `format`."
   ]
  },
  {
   "cell_type": "code",
   "execution_count": null,
   "metadata": {},
   "outputs": [],
   "source": []
  },
  {
   "cell_type": "markdown",
   "metadata": {},
   "source": [
    "#### Exercice 3\n",
    "\n",
    "Etablir de meme la table de vérité de \n",
    "$$ p \\iff (q \\implies ( r \\vee \\overline q)$$"
   ]
  },
  {
   "cell_type": "markdown",
   "metadata": {},
   "source": [
    "## Crible d’Eratosthène\n",
    "\n",
    "Le crible d’Eratosthène est un procédé qui permet de trouver tous les nombres premiers inférieurs à un certain entier naturel donné N. \n",
    "\n",
    "Cet algorithme procède par élimination :\n",
    "* On envisage au départ que tous les nombres de 1 à N soient premiers.\n",
    "* On élimine 1, car par définition, 1 n’est pas premier.\n",
    "* 2 est encore dans la liste, donc on considère qu’il est premier, mais on élimine de la liste tous ses mutliples.\n",
    "* 3 est encore dans la liste, donc on considère qu’il est premier, mais on élimine de la liste tous ses mutliples.\n",
    "* 4 n’est plus dans la liste, car il a été éliminé lors de l’élimination des multiples de 2.\n",
    "* etc.\n",
    "\n",
    "En pratique, on s’arrête dès que l’on dépasse $\\sqrt{N}$.\n",
    "\n",
    "1. Expliquer pourquoi on a cette condition est valide ?"
   ]
  },
  {
   "cell_type": "code",
   "execution_count": null,
   "metadata": {},
   "outputs": [],
   "source": []
  },
  {
   "cell_type": "markdown",
   "metadata": {},
   "source": [
    "2. Créer une fonction python `eratosthene` prenant en argument un nombre N et qui renvoie la liste des nombres premiers jusqu’à N. Pour cela :\n",
    "\n",
    "* Créer une liste de booleens de taille N+1,tous de valeur True.\n",
    "* Mettre d’office les éléments de rang 0 et 1 à False.\n",
    "* Procéder comme précédemment en utilisant des boucles\n",
    "* Une fois le travail terminé, on affiche les rangs des booléens dont la valeur est True"
   ]
  },
  {
   "cell_type": "code",
   "execution_count": null,
   "metadata": {},
   "outputs": [],
   "source": []
  },
  {
   "cell_type": "markdown",
   "metadata": {},
   "source": [
    "3. En utilisant le module `time`, mesurer le temps d'execution de votre fonction Eratosthène, pour N=10, 100.....10^9.   \n",
    "Ce temps d'execution semble-t'il linéaire par rapport à N ?"
   ]
  },
  {
   "cell_type": "code",
   "execution_count": null,
   "metadata": {},
   "outputs": [],
   "source": [
    "          \n"
   ]
  },
  {
   "cell_type": "markdown",
   "metadata": {},
   "source": [
    "En utilisant le module matplotlib.pyplot https://matplotlib.org/stable/tutorials/introductory/pyplot.html, tracer un graphique ayant en absices N et en ordonnées le temps d'execution"
   ]
  },
  {
   "cell_type": "code",
   "execution_count": null,
   "metadata": {},
   "outputs": [],
   "source": []
  }
 ],
 "metadata": {
  "kernelspec": {
   "display_name": "Python 3",
   "language": "python",
   "name": "python3"
  },
  "language_info": {
   "codemirror_mode": {
    "name": "ipython",
    "version": 3
   },
   "file_extension": ".py",
   "mimetype": "text/x-python",
   "name": "python",
   "nbconvert_exporter": "python",
   "pygments_lexer": "ipython3",
   "version": "3.8.11"
  }
 },
 "nbformat": 4,
 "nbformat_minor": 2
}
