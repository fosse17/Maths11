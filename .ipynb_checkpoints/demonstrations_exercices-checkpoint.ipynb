{
 "cells": [
  {
   "cell_type": "markdown",
   "metadata": {
    "slideshow": {
     "slide_type": "slide"
    }
   },
   "source": [
    "# Autour des démonstrations\n",
    "\n",
    "On rappelle que $\\sqrt{2}$ est un nombre irrationnel donc ne peut pas s'écrire sous la forme d'une fraction\n",
    "\n",
    "\n",
    ">Démontrer que si $a$ et  $b$\n",
    " sont deux entiers relatifs tels que \n",
    "$a+b\\sqrt{2}=0$ , alors $a=b=0$\n",
    "\n",
    ">En déduire que si \n",
    "$m,n,p, q \\in \\mathbb{Z}$ \n",
    ">\n",
    "> $$m+n\\sqrt{2}=p+q\\sqrt{2} \\iff m=p \\text{ et } n=q$$\n"
   ]
  },
  {
   "cell_type": "markdown",
   "metadata": {
    "slideshow": {
     "slide_type": "subslide"
    }
   },
   "source": [
    "> Soit $n \\in \\mathbb{N}^*$\n",
    "Démontrer que si $n$ est le carré d'un entier, alors $2n$ n'est pas le carré d'un entier."
   ]
  },
  {
   "cell_type": "markdown",
   "metadata": {
    "hide_input": false,
    "slideshow": {
     "slide_type": "slide"
    }
   },
   "source": [
    "Raisonnons par l'absurde. On suppose donc que \n",
    "$n$ est le carré d'un entier, et que $n^2$ est lui aussi le carré d'un entier. Alors \n",
    "$n$ s'écrit $n=p^2$ et $2n=q^2$\n",
    "\n",
    "Alors, en faisant le quotient, on a $\\dfrac{q^2}{p^2}=\\dfrac{2n}{n}=2$\n",
    "\n",
    " et en prenant la racine carrée, $\\dfrac{q}{p}=\\sqrt2$\n",
    "\n",
    " or $\\sqrt2$ est irrationnel, on a une contradiction!"
   ]
  },
  {
   "cell_type": "markdown",
   "metadata": {
    "slideshow": {
     "slide_type": "slide"
    }
   },
   "source": [
    "Démontrer que l'équation $9x^5-12x^4+6x-5 =0$ n'admet pas de solution entière.\n",
    "\n",
    "*Indication* \n",
    "\n",
    "Faire un raisonnement par l'absurde et montrer que si n est une solution, alors n est un diviseur de 5."
   ]
  },
  {
   "cell_type": "markdown",
   "metadata": {
    "slideshow": {
     "slide_type": "slide"
    }
   },
   "source": [
    "Soit $P(n)$ la propriété définie pour tout entier $n\\ge 1$ par:\n",
    "\n",
    "$$1\\times 2+2\\times 3+....+n\\times(n+1)=\\frac{n(n+1)(n+2)}{3}$$\n",
    "\n",
    "1) Écrire la propriété au rang 1, au rang 2.\n",
    "\n",
    "2) Vérifier que la propriété est vraie au rang 1 et au rang 2.\n",
    "\n",
    "3) Écrire la propriété au rang n+1\n",
    "\n",
    "4) Démontrer que pour tout entier $n\\ge 1$, la propriété $P(n)$ est vraie. "
   ]
  },
  {
   "cell_type": "markdown",
   "metadata": {
    "slideshow": {
     "slide_type": "slide"
    }
   },
   "source": [
    "Pour tout entier naturel n, on considère les deux propriétés suivantes:\n",
    "\n",
    "* $P_n: 10^n-1$ est divisible par 9\n",
    "\n",
    "* $Q_n: 10^n+1$ est divisible par 9\n",
    "\n",
    "Démontrer que si $P_n$ est vraie alors $P_{n+1}$ est vraie.\n",
    "\n",
    "Démontrer que si $Q_n$ est vraie alors $Q_{n+1}$ est vraie.\n",
    "\n",
    "Un étudiant affirme: \" Donc $P_n$ et $Q_n$ sont vraies pour tout entier naturel $n$\".\n",
    "\n",
    "Expliquer pourquoi il commet une erreur.\n",
    "\n",
    "Démontrer que $P_n$ est vraie pour tout entier naturel $n$.\n",
    "\n",
    "Démontrer que pour tout entier naturel $n$, $Q_n$ est fausse. On pourra utiliser un raisonnement par l'absurde."
   ]
  }
 ],
 "metadata": {
  "celltoolbar": "Diaporama",
  "kernelspec": {
   "display_name": "Python 3",
   "language": "python",
   "name": "python3"
  },
  "language_info": {
   "codemirror_mode": {
    "name": "ipython",
    "version": 3
   },
   "file_extension": ".py",
   "mimetype": "text/x-python",
   "name": "python",
   "nbconvert_exporter": "python",
   "pygments_lexer": "ipython3",
   "version": "3.8.5"
  }
 },
 "nbformat": 4,
 "nbformat_minor": 4
}
