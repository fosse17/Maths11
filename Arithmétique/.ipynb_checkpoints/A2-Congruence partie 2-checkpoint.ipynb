{
 "cells": [
  {
   "cell_type": "markdown",
   "metadata": {},
   "source": [
    "<table style=\"width:100%;\">\n",
    "    <tr style=\"display:none\">\n",
    "        <td></td>\n",
    "        <td></td>\n",
    "    </tr>\n",
    "    <tr style=\"height:3em\">\n",
    "        <td style=\"width:20%;align:left\"><img src=\"images/iut_bordeaux.jpg\"></td>\n",
    "        <td style=\"width:60%;font: bold 2.5em 'Fira Sans', serif;text-align:center\"> Arithmétique 3<br>\n",
    "        Congruence (Partie 2)</td>\n",
    "        <td style=\"width:20%;font: bold 1.3em 'Fira Sans', serif;vertical-align:top;text-align:right\">TD6<br><i>Arithmétique</i></td>\n",
    "    </tr>\n",
    "</table>"
   ]
  },
  {
   "cell_type": "markdown",
   "metadata": {},
   "source": [
    "#### Exercice 6\n",
    "\n",
    ">1 . On souhaite déterminer le reste possible de la division euclidienne de $247^{349}$ par 7.\n",
    ">\n",
    ">   a) Montrer que cela revient à chercher le reste de la division euclidienne de $2^{349}$ par 7.\n",
    ">\n",
    ">   b) Montrer que, pour tout nombre entier naturel $k$ :\n",
    ">\n",
    ">$$2^{3k} ≡ 1[7], \\quad 2^{3k+1} ≡ 2[7], \\quad 2^{3k+2}  ≡ 4[7]$$\n",
    ">\n",
    ">   c) En déduire le résultat\n",
    ">\n",
    ">2 . Quel est le reste de la division par 11 du nombre $57383^{2015}$ ?"
   ]
  },
  {
   "cell_type": "markdown",
   "metadata": {},
   "source": [
    "#### Exercice 7\n",
    "\n",
    ">Soient $(a, b) \\in \\mathbb{Z}^2$ dont les restes modulo 11 sont 7 et 2 respectivement. \n",
    ">\n",
    ">Donner le reste modulo 11 de $a^2-b^2$\n",
    "\n"
   ]
  },
  {
   "cell_type": "markdown",
   "metadata": {},
   "source": [
    "#### Exercice 8\n",
    "\n",
    ">Un code barre est une suite de 12 chiffres $c_{12}c_{11} . . . c_1$ suivie d’un chiffre de contrôle $c_0$ vérifiant  \n",
    ">\n",
    ">$$c_{12} + 3c_{11} + c_{10} + 3c_9 + c_8 + 3c_7 + c_6 + 3c_5 + c_4 + 3c_3 + c_2 + 3c_1 + c_0 \\equiv 0 (10)$$  \n",
    ">\n",
    ">La suite de 12 chiffres attribuée à un produit est 308612610032. \n",
    ">\n",
    ">Calculer son chiffre de contrôle.  "
   ]
  },
  {
   "cell_type": "markdown",
   "metadata": {},
   "source": [
    "#### Exercice 9\n",
    "\n",
    ">Quels sont les entiers x et y tels que $x^2 + y^2 \\equiv 2 (8)$ ?"
   ]
  },
  {
   "cell_type": "markdown",
   "metadata": {},
   "source": [
    "#### Exercice 10 \n",
    "\n",
    ">En utilisant un tableau de congruence, trouver tous les entiers relatifs n tels que $n^2 + n + 1$ soit divisible par 7."
   ]
  },
  {
   "cell_type": "markdown",
   "metadata": {},
   "source": [
    "#### Exercice 11\n",
    ">a) Pour tout entier naturel $n$, déterminer les restes possibles dans la division euclidienne de $n^2$ par 5.\n",
    ">\n",
    ">b) En déduire les restes possibles dans la division euclidienne de $n^4$ par 5.\n",
    ">\n",
    ">c) Montrer que $n(n^4− 1)$ est divisible par 5."
   ]
  },
  {
   "cell_type": "markdown",
   "metadata": {},
   "source": [
    "#### Exercice 12 : Exponentiation modulaire rapide\n",
    "\n",
    "Un premier exemple avec $5^{11} (14)$ \n",
    "\n",
    "L’idée est de seulement calculer $5,5^2,5^4,5^8$ ...et de réduire modulo $n$ à chaque fois. \n",
    "\n",
    "Pour cela on remarque que $11 = 2^3+2^1+2^0=8 + 2 + 1$ en décomposant uniquement avec des puissances de 2, donc\n",
    "\n",
    "on calcule les $5^{2^i}(14)$ :\n",
    "\n",
    "$5\\equiv5 (14)$\n",
    "\n",
    "$5^2 \\equiv 25\\equiv 11 (14)$\n",
    "\n",
    "$5^4 \\equiv 5^2\\times 5^2 \\equiv 11×11\\equiv 121\\equiv 9 (14) $\n",
    "\n",
    "$5^8 \\equiv 5^4 \\times 5^4 \\equiv 9×9\\equiv 81\\equiv 11 (14)$\n",
    "\n",
    "A chaque étape est effectuée une multiplication modulaire. \n",
    "\n",
    "Conséquence :\n",
    "$5^{11} \\equiv 5^{8+2+1}(14)\\equiv5^8 \\times 5^2 \\times 5(14)$\n",
    "\n",
    "$5^{11} \\equiv 11 \\times 11 \\times 5 (14)\\equiv 11 \\times 55 \\equiv 11 \\times 13 \\equiv 143 \\equiv 3(14).$\n",
    "\n",
    "Nous obtenons donc un calcul de $5^{11} ( 14)$ en 5 opérations au lieu de $10$ si on avait fait 5×5×5... et surtout avec des nombres plus petits à manipuler."
   ]
  },
  {
   "cell_type": "markdown",
   "metadata": {},
   "source": [
    "En fait, cette technique est basée sur la décomposition en base 2 de l'exposant.\n",
    "\n",
    "Voici un autre exemple à compléter :\n",
    "\n",
    "Calculer $17^{154} (100)$. \n",
    "\n",
    "Tout d’abord on décompose l’exposant k = 154 en base 2 : \n",
    "\n",
    "> $(154)_{10}=$\n",
    "\n",
    "On en déduit la décomposition en somme de puissance de 2.\n",
    "\n",
    "> $154 =$\n",
    "\n",
    "Ensuite on calcule $17,17^2,17^4,17^8,... ( 100)$\n",
    "\n",
    ">$$\n",
    "\\begin{align*}\n",
    "17 & \\equiv  \\\\\n",
    "17^2 & \\equiv  \\\\\n",
    "17^4 & \\equiv \\\\\n",
    "17^8  & \\equiv \\\\\n",
    "17^{16} & \\equiv \\\\\n",
    "17^{32} & \\equiv \\\\\n",
    "17^{64}  & \\equiv \\\\\n",
    "17^{128} & \\equiv \\\\\n",
    "\\end{align*}\n",
    "$$\n",
    "\n",
    "Il ne reste qu’à rassembler :\n",
    "\n",
    "> $17^{154} \\equiv $"
   ]
  },
  {
   "cell_type": "markdown",
   "metadata": {},
   "source": [
    "**Application  :**\n",
    "\n",
    "Calculer $234^{97} [7]$\n",
    "\n"
   ]
  }
 ],
 "metadata": {
  "kernelspec": {
   "display_name": "Python 3",
   "language": "python",
   "name": "python3"
  },
  "language_info": {
   "codemirror_mode": {
    "name": "ipython",
    "version": 3
   },
   "file_extension": ".py",
   "mimetype": "text/x-python",
   "name": "python",
   "nbconvert_exporter": "python",
   "pygments_lexer": "ipython3",
   "version": "3.8.5"
  },
  "vscode": {
   "interpreter": {
    "hash": "aee8b7b246df8f9039afb4144a1f6fd8d2ca17a180786b69acc140d282b71a49"
   }
  }
 },
 "nbformat": 4,
 "nbformat_minor": 4
}
