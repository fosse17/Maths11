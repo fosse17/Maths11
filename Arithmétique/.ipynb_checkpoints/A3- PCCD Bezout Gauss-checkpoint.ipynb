{
 "cells": [
  {
   "cell_type": "markdown",
   "metadata": {},
   "source": [
    "<table style=\"width:100%;\">\n",
    "    <tr style=\"display:none\">\n",
    "        <td></td>\n",
    "        <td></td>\n",
    "    </tr>\n",
    "    <tr style=\"height:3em\">\n",
    "        <td style=\"width:20%;align:left\"><img src=\"images/iut_bordeaux.jpg\"></td>\n",
    "        <td style=\"width:60%;font: bold 2.5em 'Fira Sans', serif;text-align:center\"> Arithmétique 3<br>\n",
    "        PGCD, Bezout et Gauss</td>\n",
    "        <td style=\"width:20%;font: bold 1.3em 'Fira Sans', serif;vertical-align:top;text-align:right\">TD8<br><i>Arithmétique</i></td>\n",
    "    </tr>\n",
    "</table>"
   ]
  },
  {
   "cell_type": "markdown",
   "metadata": {},
   "source": [
    "## Définition\n",
    "\n",
    "Soit $a,b\\in\\mathbb{Z}^*$.   \n",
    "\n",
    "Le plus **grand entier** qui divise à la fois $a$ et $b$ s'appelle le **plus grand commun diviseur** ou **PGCD** de $a$ et $b$.  \n",
    "\n",
    "On le note **PGCD(a,b)** ou $a \\wedge b$."
   ]
  },
  {
   "cell_type": "markdown",
   "metadata": {},
   "source": [
    "#### Exercice 1\n",
    "\n",
    ">Donner en partant de la définition :\n",
    ">\n",
    ">* PGCD(12,36)\n",
    ">\n",
    ">* PGCD(13,43)\n",
    ">\n",
    ">* PGCD(57,9)"
   ]
  },
  {
   "cell_type": "markdown",
   "metadata": {},
   "source": [
    "#### Remarque \n",
    "\n",
    "$\\text{PGCD}(a,b)=\\text{pgcd}(|a|,|b|)$.\n",
    "\n",
    "\n",
    "#### Propriété\n",
    "\n",
    "Soit $a,b\\in\\mathbb{Z}^*$. Si $a$ divise $b$ alors $\\text{PGCD}(a,b)=|a|$."
   ]
  },
  {
   "cell_type": "markdown",
   "metadata": {},
   "source": [
    "#### Exercice 2\n",
    "\n",
    ">Soit $a$ un entier relatif.  \n",
    ">\n",
    ">Déterminer le PGCD $d$ des entiers $m = 14a + 3$ et $n = 21a + 4$ et trouver des entiers $u$ et $v$ tels que $um + vn = d$."
   ]
  },
  {
   "cell_type": "markdown",
   "metadata": {},
   "source": [
    "## Algorithme d'Euclide\n",
    "\n",
    "### Principe de base \n",
    "\n",
    "Soit $a,b\\in\\mathbb{Z}^*$.  \n",
    "\n",
    "S'il existe des entiers $k$ et $s$ avec $s\\not=0$ tels que $a=bk+s$ alors les diviseurs communs à $a$ et $b$ sont exactement les diviseurs communs à $b$ et $s$, et $\\text{PGCD}(a,b)=\\text{PGCD}(b,s)$."
   ]
  },
  {
   "cell_type": "markdown",
   "metadata": {},
   "source": [
    "### Algorithme d'Euclide\n",
    "\n",
    "Soit $a\\in\\mathbb{Z}^*$ et $b\\in\\mathbb{N}^*$. On cherche $d=\\text{PGCD}(a,b)$. On note $r_0=b$.\n",
    "\n",
    "On effectue des divisions euclidiennes successives tant que le reste est non nul.\n",
    "\n",
    "\n",
    "$$\\begin{array}{rclcc} %cl}\n",
    "a&=&r_0q_1+r_1&\\quad& 0<r_1<r_0\\\\ %&\\quad& d=\\text{PGCD}(b,r_1)\\\\\n",
    "b&=&r_1q_2+r_2&& 0<r_2<r_1\\\\ % && d=\\text{PGCD}(r_1,r_2)\\\\\n",
    "r_1&=&r_2q_3+r_3&& 0<r_3<r_2\\\\ % && d=\\text{PGCD}(r_2,r_3)\\\\\n",
    "\\quad\\vdots&&\\\\\n",
    "r_{n-3}&=&r_{n-2}q_{n-1}+r_{n-1}&& 0<r_{n-1}<r_{n-2}\\\\\n",
    "r_{n-2}&=&r_{n-1}q_n+r_n&& 0< r_n<r_{n-1}\\\\ %&& d=\\text{PGCD}(r_{n-1},r_n)\\\\\n",
    "r_{n-1}&=&r_nq_{n+1}+0 && r_{n+1}=0\\\\\n",
    "\\end{array}\n",
    "$$\n",
    "\n",
    "$(r_k)_{k \\in \\mathbb{N}}$ est une suite strictement décroissante d'entiers naturels donc, *au bout d'un certain temps*, on obtient un reste nul et l'algorithme s'arrête. \n",
    "\n",
    "Si $r_{n+1}=0$ alors $r_n$ divise $r_{n-1}$, donc $\\text{PGCD}(r_{n-1},r_n)=r_n$. \n",
    "\n",
    "### Théorème \n",
    "\n",
    "Le PGCD de  $a$ et $b$ est le dernier reste non nul obtenu par l'algorithme d'Euclide. (ci-dessus, c'est $r_n$).\n",
    "\n",
    "#### Remarque \n",
    "\n",
    "Si $r_1=0$, c'est que $b$ divise $a$, donc $\\text{PGCD}(a,b)=b=r_0$. (l'algorithme s'arrête immédiatement)."
   ]
  },
  {
   "cell_type": "markdown",
   "metadata": {
    "slideshow": {
     "slide_type": "fragment"
    }
   },
   "source": [
    "#### Exercice 3\n",
    "\n",
    ">Calculer $PGCD(8820;3150)$ avec l'algorithme d'Euclide.\n",
    "\n",
    "<!--\n",
    "$8820=3150\\times 2+2520$\n",
    "\n",
    "$3150=2520\\times 1+630$\n",
    "\n",
    "$2520=630\\times 4+0$ \n",
    "donc $PGCD(8820;3150)=630$-->"
   ]
  },
  {
   "cell_type": "markdown",
   "metadata": {},
   "source": [
    "#### Propriété \n",
    "\n",
    "Soit $a,b\\in\\mathbb{Z}^*$. Si $d$ divise $a$ et $b$ alors $d$ divise $\\text{PGCD}(a,b)$.\n",
    "\n",
    "$$ \\begin{cases}\n",
    "    d \\mid a \\\\\n",
    "    d \\mid b\n",
    "   \\end{cases}\n",
    "   \\implies d\\mid PGCD(a,b)\n",
    "$$ "
   ]
  },
  {
   "cell_type": "markdown",
   "metadata": {},
   "source": [
    "#### Remarque :\n",
    "\n",
    "On peut définir le PGCD de 3 entiers ou plus.  On peut utiliser la propriété suivante : \n",
    "\n",
    "\n",
    "si $d=\\text{PGCD}(a,b)$ alors $\\text{PGCD}(a,b,c)=\\text{PGCD}(d,c)$.\n",
    "\n",
    "#### Exemple\n",
    "\n",
    "$PGCD(12,28,18)=PGCD(4,18)=2$"
   ]
  },
  {
   "cell_type": "markdown",
   "metadata": {},
   "source": [
    "## Nombres premiers entre eux\n",
    "\n",
    "### Définition \n",
    "\n",
    "Soit $a$ et $b$ deux entiers non nuls.  \n",
    "\n",
    "On dit que $a$ et $b$ sont **premiers entre eux** si $\\text{PGCD}(a,b)=1$.  \n",
    "\n",
    "On dit aussi que **$a$ est premier avec $b$**."
   ]
  },
  {
   "cell_type": "markdown",
   "metadata": {},
   "source": [
    "### Propriété  \n",
    "\n",
    "Soit $a,b\\in\\mathbb{Z}^*$ et $d=PGCD(a,b)$. Alors $\\dfrac{a}{d}$ et $\\dfrac{b}{d}$ sont premiers entre eux.\n",
    "\n",
    "Une fraction est irréductible si le numérateur et le dénominateur sont premiers entre eux. Pour obtenir une fraction irréductible égale à $\\dfrac{p}{q}$, il suffit de simplifier par le PGCD ."
   ]
  },
  {
   "cell_type": "markdown",
   "metadata": {},
   "source": [
    "### Théorème de Bachet-Bézout (ou Identité de Bézout) \n",
    "\n",
    "Soient $a$ et $b$ deux entiers relatifs.  \n",
    "\n",
    "**Si** $d$ est le PGCD de a et b, **alors** il existe deux entiers relatifs $x$ et $y$ tels que $ax + by = d$.\n",
    "\n",
    "#### Exemple \n",
    "\n",
    "26 et 34 admettent 2 comme PGCD, il existe donc deux entiers relatifs $u$ et $v$ tels que  $$26u+34v=2$$"
   ]
  },
  {
   "cell_type": "markdown",
   "metadata": {},
   "source": [
    "### Théorème de Bézout\n",
    "\n",
    "Deux entiers non nuls $a$ et $b$ sont premiers entre eux **si et seulement si**, il existe des entiers $u$ et $v$ tels que: $au+bv=1$\n"
   ]
  },
  {
   "cell_type": "markdown",
   "metadata": {},
   "source": [
    "Trouver une relation de Bezout pour $a$ et $b$, c'est trouver des entiers $u$ et $v$ tels que $au+bv=pgcd(a,b)$.\n",
    "\n",
    "Pour cela : \n",
    "\n",
    "* On applique l'algorithme d'Euclide $a$ et $b$. \n",
    "\n",
    "* On part de l'égalité donnant le pgcd, et on **\"remonte\"** l'algorithme.\n",
    "\n",
    "\n",
    "$$\n",
    "a=116, b=10\n",
    "\\qquad\\qquad\n",
    "\\begin{align*}\n",
    "116&=11\\times 10+6\\\\\n",
    "10&=1\\times 6+4\\\\\n",
    "6&=1\\times 4+2\\\\\n",
    "4&=2\\times 2+0\n",
    "\\end{align*}\n",
    "$$"
   ]
  },
  {
   "cell_type": "markdown",
   "metadata": {},
   "source": [
    "On remonte maintenant en remplaçant systématiquement le reste de la ligne précédante. \n",
    "$$ \n",
    "\\begin{align*}\n",
    "2&= 6 - 1\\times \\color{red}4 &\\\\\n",
    "2&= 6 -1\\times \\color{red}{(10-6)}= 2\\times \\color{blue}6 -10 \\\\\n",
    "2&= 2\\times\\color{blue}{(116 - 10\\times 11)} -10  = 2\\times 116 - 23\\times 10\n",
    "\\end{align*}\n",
    "$$\n",
    "\n",
    "$2a-23b=2$ est une relation de Bezout pour $a=116$ et  $b=10$ ($u=2, v=-23$).\n",
    "\n",
    "* Une fois qu'on a calculé $u$ et $v$, il est facile de vérifier que $au+bv=PGCD(a,b)$.\n",
    "\n",
    "* $u$ et $v$ ne sont pas uniques.  \n",
    "\n",
    "$7a-81b=2$ est une autre relation de Bezout pour $a=116$ et $b=10$."
   ]
  },
  {
   "cell_type": "markdown",
   "metadata": {},
   "source": [
    "#### Exercice 4\n",
    "\n",
    ">* A l'aide de l'algorithme d'Euclide, déterminer le PGCD de $420$ et $637$, puis exprimer ce PGCD comme combinaison linéaire de ces deux nombres.\n",
    ">\n",
    ">* Même question pour $152$ et $184$\n",
    ">\n",
    ">* Montrer que $\\forall n \\in \\mathbb{N}, (2n + 1)$ et $(3n + 2)$ sont premiers entre eux.\n"
   ]
  },
  {
   "cell_type": "markdown",
   "metadata": {},
   "source": [
    "### Conséquences du théorème de Bézout\n",
    "\n",
    "Le théorème de Bézout permet de démontrer *facilement* des théorèmes arithmétiques importants.\n",
    "\n",
    "#### Exercice 5\n",
    "\n",
    ">Si un nombre $n$ est divisible par a et par b et que ces deux nombres sont premiers entre eux, il est divisible par ab.\n",
    "\n",
    "\n",
    "**Démonstration guidée**\n",
    "\n",
    "D’après les hypothèses, on peut trouver des entiers $k$ et $l$ tels que  : \n",
    "\n",
    "$n = \\cdots $ et $n = \\cdots$. \n",
    "\n",
    "De plus, d’après le théorème de Bézout, on peut trouver $u$ et $v$ tels que $\\cdots$.\n",
    "\n",
    "On a alors\n",
    "\n",
    "$\\begin{align}\n",
    "n =& 1 × n \\\\\n",
    "=& \\\\\n",
    "=&  \\\\\n",
    "=& \\\\\n",
    "=& ab × (ul + vk)\\\\\n",
    "\\end{align}$\n",
    "\n",
    "qui est bien divisible par ab.\n",
    "\n",
    "\n",
    "#### Exercice 6\n",
    "\n",
    ">Comment reconnaître facilement qu’un nombre est un multiple de 45 ?  \n",
    ">\n",
    ">Par exemple, est-ce que 4 685 368 545 est un multiple de 45 ?"
   ]
  },
  {
   "cell_type": "markdown",
   "metadata": {},
   "source": [
    "#### Exercice 7\n",
    "\n",
    ">$a$ et $b$ sont deux entiers naturels non nuls.  \n",
    ">\n",
    ">Démontrer que $PGCD(3a + 4b ; 4a + 5b)=PGCD(a ; b)$.\n"
   ]
  },
  {
   "cell_type": "markdown",
   "metadata": {},
   "source": [
    "### Lemme de Gauss \n",
    "\n",
    "\n",
    "Soit a, b et c trois nombres entiers tels que **a divise bc**. Si a est premier avec b, alors a divise c.\n",
    "\n",
    "\n",
    "**Démonstration à connaître** \n",
    "\n",
    "On écrit une relation de Bézout pour $a$ et $b$ :  \n",
    "il existe des entiers $u$ et $v$ tels que $$au + bv = 1$$\n",
    "\n",
    "La relation de divisibilité indique qu’il existe un entier $k$ tel que $$ak = bc.$$\n",
    "\n",
    "On a alors\n",
    "\n",
    "$$\n",
    "\\begin{align*}\n",
    "akv &= bcv \\\\\n",
    "akv &= c × bv \\\\\n",
    "akv &= c(1 − au) \\\\\n",
    "akv &= c − acu \\\\\n",
    "akv-acu &=c \\\\\n",
    "a(kv-cu)&=c\n",
    "\\end{align*}$$\n",
    "\n",
    "ce qui montre que $c$ est un multiple de $a$.\n"
   ]
  },
  {
   "cell_type": "markdown",
   "metadata": {},
   "source": [
    "#### Exercice 8\n",
    "\n",
    ">Donner  un contre-exemple illustrant le fait que la seconde hypothèse du lemme de Gauss est indispensable."
   ]
  }
 ],
 "metadata": {
  "celltoolbar": "Diaporama",
  "kernelspec": {
   "display_name": "Python 3",
   "language": "python",
   "name": "python3"
  },
  "language_info": {
   "codemirror_mode": {
    "name": "ipython",
    "version": 3
   },
   "file_extension": ".py",
   "mimetype": "text/x-python",
   "name": "python",
   "nbconvert_exporter": "python",
   "pygments_lexer": "ipython3",
   "version": "3.8.5"
  },
  "latex_envs": {
   "LaTeX_envs_menu_present": true,
   "autoclose": false,
   "autocomplete": true,
   "bibliofile": "biblio.bib",
   "cite_by": "apalike",
   "current_citInitial": 1,
   "eqLabelWithNumbers": true,
   "eqNumInitial": 1,
   "hotkeys": {
    "equation": "Ctrl-E",
    "itemize": "Ctrl-I"
   },
   "labels_anchors": false,
   "latex_user_defs": false,
   "report_style_numbering": false,
   "user_envs_cfg": false
  },
  "vscode": {
   "interpreter": {
    "hash": "aee8b7b246df8f9039afb4144a1f6fd8d2ca17a180786b69acc140d282b71a49"
   }
  }
 },
 "nbformat": 4,
 "nbformat_minor": 4
}
