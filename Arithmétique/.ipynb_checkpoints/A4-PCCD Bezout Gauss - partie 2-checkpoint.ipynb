{
 "cells": [
  {
   "cell_type": "markdown",
   "metadata": {},
   "source": [
    "<table style=\"width:100%;\">\n",
    "    <tr style=\"display:none\">\n",
    "        <td></td>\n",
    "        <td></td>\n",
    "    </tr>\n",
    "    <tr style=\"height:3em\">\n",
    "        <td style=\"width:20%;align:left\"><img src=\"images/iut_bordeaux.jpg\"></td>\n",
    "        <td style=\"width:60%;font: bold 2.5em 'Fira Sans', serif;text-align:center\"> Arithmétique 4<br>\n",
    "        PGCD, Bezout et Gauss</td>\n",
    "        <td style=\"width:20%;font: bold 1.3em 'Fira Sans', serif;vertical-align:top;text-align:right\">TD10<br><i>Arithmétique</i></td>\n",
    "    </tr>\n",
    "</table>"
   ]
  },
  {
   "cell_type": "markdown",
   "metadata": {},
   "source": [
    "### Résolution de l'équation *diophantienne* $ax + by = c$.\n",
    "\n",
    "#### Définition et existence\n",
    "\n",
    "Une équation diophantienne est une équation à **coefficients entiers** dont on cherche les **solutions entières**. \n",
    "\n",
    "Soit $a, b$ et $c$ trois entiers relatifs, les équations diophantiennes du premier degré sont du type : \n",
    "\n",
    "$$ax + by = c.$$\n",
    "\n",
    "Remarque : `Diophante d’Alexandrie`  est un mathématicien grec du IIIe siècle."
   ]
  },
  {
   "cell_type": "markdown",
   "metadata": {},
   "source": [
    "#### Propriété\n",
    "\n",
    "Une équation diophantienne du premier degré, de la forme $ax + by = c$, où $a$, $b$ et $c$ sont des\n",
    "entiers relatifs, admet des solutions **si, et seulement si,** $c$ est un multiple du PGCD(a, b).\n",
    "\n",
    "#### Exemple \n",
    "\n",
    "* L’équation $17x − 33y = 1$ admet des solutions car $PGCD(17, 33) = 1$.\n",
    "* L’équation $8x − 4y = 3$ n'admet pas de  solution car $PGCD(8, 4) = 2$ et 3 n'est pas un multiple de 2.\n"
   ]
  },
  {
   "cell_type": "markdown",
   "metadata": {},
   "source": [
    "#### Méthode de résolution \n",
    "\n",
    "* On cherche une solution particulière à l’équation.  \n",
    "\n",
    "* On recherche ensuite l’ensemble des solutions en soustrayant termes à termes l’équation et l’égalité de la solution particulière.  \n",
    "\n",
    "* On applique le théorème de Gauss, puis l’on vérifie que les solutions trouvées vérifient bien l’équation.  "
   ]
  },
  {
   "cell_type": "markdown",
   "metadata": {},
   "source": [
    "#### Exemple d’application\n",
    "\n",
    "Déterminer l’ensemble des solutions de l’équation (E) $17x − 33y = 1$.\n",
    "\n",
    "* On cherche une solution particulière de (E). Ici, il existe une solution évidente : le couple (2 ;1), car $17 × 2 − 33 × 1 = 34 − 33 = 1$.\n",
    "\n",
    "\n",
    "* On recherche ensuite la solution générale de (E). On a :\n",
    "\n",
    "$$\\begin{cases}\n",
    "        17x &− &33y &= 1 \\\\ \n",
    "        17 × 2 &− &33 × 1 &= 1\n",
    "     \\end{cases}\n",
    "$$\n",
    "\n",
    "Par soustraction termes à termes des deux égalités, on obtient :\n",
    "\n",
    "$$17(x − 2) − 33(y − 1) = 0 \\iff 17(x − 2) = 33(y − 1) \\qquad \\text{(E’)}$$\n",
    "\n",
    "33 divise $17(x − 2)$. Or $PGCD(17, 33) = 1$, donc d’après le théorème de **Gauss**, 33 divise\n",
    "$(x − 2)$. "
   ]
  },
  {
   "cell_type": "markdown",
   "metadata": {},
   "source": [
    "Il existe donc $k \\in \\mathbb{Z}$ tel que  $x − 2 = 33k$\n",
    "\n",
    "En remplaçant dans (E’), on trouve $y − 1 = 17 k$.\n",
    "\n",
    "\n",
    "Les solutions de (E) sont de la forme :\n",
    "\n",
    "$$\n",
    " \\begin{cases}\n",
    "        x = 2 + 33 k \\\\ \n",
    "        y = 1 + 17 k , k ∈ Z.\n",
    "     \\end{cases}\n",
    "$$\n",
    "\n",
    "On vérifie pour conclure que ces solutions vérifient effectivement l’équation.\n",
    "\n",
    "$$ \\forall k \\in \\mathbb{Z},\\quad 17(2+33k)-33(1+17k)=1 $$"
   ]
  },
  {
   "cell_type": "markdown",
   "metadata": {},
   "source": [
    "#### Exercices 1\n",
    "\n",
    ">Rechercher (indépendamment) les solutions (entières) des équations diophantiennes :\n",
    "   \n",
    "$$4235x+42y = 15$$\n",
    "\n",
    "\n",
    "$$4235x+42y = 14$$"
   ]
  },
  {
   "cell_type": "markdown",
   "metadata": {},
   "source": [
    "#### Exercices 2\n",
    "\n",
    ">Determiner tous les entiers relatifs tels que $11x \\equiv 4 (50)$.\n",
    "\n",
    "#### Exercices 3\n",
    "\n",
    ">Determiner toutes les solutions $x \\in \\mathbb{Z}$ du système\n",
    ">$$\\begin{cases}\n",
    ">    x \\equiv 1 (7)\\\\\n",
    ">    x \\equiv 9 (15)\\\\\n",
    ">\\end{cases}\n",
    ">$$"
   ]
  },
  {
   "cell_type": "markdown",
   "metadata": {},
   "source": [
    "#### Exercices 4\n",
    "\n",
    ">Un théatre pratique les tarifs suivants : 19 euros l’entrée pour les abonnées et 29 euros l’entrée pour les autres. A la fin d’une séance, le montant des recettes s’élève à 818 euros.\n",
    ">\n",
    ">La caissière a perdu le talon des billets, mais elle sait qu’en général, il y a environ deux fois moins d’abonnés que de non abonnés.\n",
    ">\n",
    ">Peut-elle retrouver la répartition des spectateurs lors de cette séance ?"
   ]
  },
  {
   "cell_type": "markdown",
   "metadata": {},
   "source": [
    "#### Exercice 5 :  Chiffrement affine\n",
    "\n",
    "**Partie A : Un premier exemple**\n",
    "\n",
    "Afin de coder un message, on assimile chaque lettre de l’alphabet à un nombre entier \n",
    "\n",
    "$$A->0\\dots Z->25$$\n",
    "\n",
    "\n",
    "Un chiffrement élémentaire est le chiffrement affine. On se donne une fonction de codage affine $f$ , par exemple : $f(x) = 11x + 8$.\n",
    "\n",
    "À une lettre du message :\n",
    "\n",
    "* on associe un entier x entre 0 et 25;  \n",
    "* on calcule $f(x) = (11x + 8)[26]$   \n",
    "* on traduit $y$ par une lettre."
   ]
  },
  {
   "cell_type": "markdown",
   "metadata": {},
   "source": [
    "**Exemple :**\n",
    "\n",
    "Si l’on veut coder la lettre G par la fonction $f(x) = 11x + 8$, on passe par les étapes suivantes : \n",
    "\n",
    "$$G \\rightarrow x = 6 ⇒ 11 × 6 + 8 = 74 \\rightarrow 74 \\equiv 22 (26) \\rightarrow y = 22 \\rightarrow W$$\n",
    "\n",
    "La lettre G est donc codée par la lettre W."
   ]
  },
  {
   "cell_type": "markdown",
   "metadata": {},
   "source": [
    "1 . Coder la lettre W.\n",
    "\n",
    "2 . Existence d’une fonction de décodage.\n",
    "\n",
    "* Pourquoi le théorème de Bézout permet-il d’affirmer qu’il existe un entier relatif u tel\n",
    "que : $11u + 26v = 1$ ?\n",
    "\n",
    "* Montrer alors que l’équation $11x \\equiv 1 (26)$, puis que l’équation $11x \\equiv j (26)$, $j$ étant un\n",
    "entier naturel, admettent une solution.\n",
    "\n",
    "3 . Déterminer la fonction de décodage.\n",
    "\n",
    "* Montrer que pour tous entiers relatifs x et j, on a : $11x \\equiv j (26) \\iff x \\equiv 19j (26)$.  \n",
    "* En déduire que la fonction $f^{-1}(y)=19y + 4(26).$  \n",
    "* Décoder la lettre L.  "
   ]
  },
  {
   "cell_type": "markdown",
   "metadata": {},
   "source": [
    "**Partie 2 : Casser une fonction de cryptage**\n",
    "\n",
    "On a reçu le message suivant : `FMEYSEPGCB`.\n",
    "\n",
    "Par une étude statistique de la fréquence d’apparition des lettres sur un passage plus important, on déduit que le chiffrement est affine, que la lettre E est codée par la lettre E et que la lettre J est codée par la lettre N.\n",
    "\n",
    "Soit la fonction affine $f$ définie par : $f(x) = ax + b$ où $a$ et $b$ sont des entiers naturels compris\n",
    "entre 0 et 25.\n",
    "\n",
    "1 - Démontrer que $a$ et $b$ vérifient le système suivant :\n",
    "\n",
    "$$\n",
    "\\begin{cases}\n",
    "4a + b \\equiv 4 (26) \\\\\n",
    "9a + b \\equiv 13 (26)\n",
    "\\end{cases} \n",
    "$$"
   ]
  },
  {
   "cell_type": "markdown",
   "metadata": {},
   "source": [
    "2 - \n",
    "a - Démontrer que $5a \\equiv 9 (26)$, puis que $a \\equiv 7 (26)$.\n",
    "\n",
    "b - En déduire que $b \\equiv 2 (26)$ et que $f$ est définie par $f(x) = 7x + 2(26)$.\n",
    "\n",
    "c -  Démontrer que, pour tous relatifs $x$ et $z$, on a : $7x \\equiv z (26) \\iff x \\equiv 15z (26)$.\n",
    "\n",
    "d - En déduire que la fonction de décodage $f^{−1}$ est définie par $f^{-1}(y)=15y + 22(26)$.\n",
    "\n",
    "e - Décoder le message."
   ]
  },
  {
   "cell_type": "code",
   "execution_count": null,
   "metadata": {},
   "outputs": [],
   "source": [
    "def f(a,b,x):\n",
    "    return (a*x+b)%26\n",
    "\n",
    "def affine(a,b,chaine):\n",
    "    chaine=chaine.upper()\n",
    "    retour=[]\n",
    "    for lettre in chaine:\n",
    "        x=ord(lettre)-65\n",
    "        y=f(a,b,x)\n",
    "        retour.append(chr(y+65))\n",
    "    return retour\n",
    "\n",
    "print(affine(15,22,\"FMEYSEPGCB\"))"
   ]
  }
 ],
 "metadata": {
  "celltoolbar": "Diaporama",
  "kernelspec": {
   "display_name": "Python 3",
   "language": "python",
   "name": "python3"
  },
  "language_info": {
   "codemirror_mode": {
    "name": "ipython",
    "version": 3
   },
   "file_extension": ".py",
   "mimetype": "text/x-python",
   "name": "python",
   "nbconvert_exporter": "python",
   "pygments_lexer": "ipython3",
   "version": "3.8.5"
  },
  "latex_envs": {
   "LaTeX_envs_menu_present": true,
   "autoclose": false,
   "autocomplete": true,
   "bibliofile": "biblio.bib",
   "cite_by": "apalike",
   "current_citInitial": 1,
   "eqLabelWithNumbers": true,
   "eqNumInitial": 1,
   "hotkeys": {
    "equation": "Ctrl-E",
    "itemize": "Ctrl-I"
   },
   "labels_anchors": false,
   "latex_user_defs": false,
   "report_style_numbering": false,
   "user_envs_cfg": false
  },
  "vscode": {
   "interpreter": {
    "hash": "aee8b7b246df8f9039afb4144a1f6fd8d2ca17a180786b69acc140d282b71a49"
   }
  }
 },
 "nbformat": 4,
 "nbformat_minor": 4
}
