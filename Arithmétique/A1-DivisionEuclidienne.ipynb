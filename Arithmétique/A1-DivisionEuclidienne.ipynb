{
 "cells": [
  {
   "cell_type": "markdown",
   "metadata": {
    "slideshow": {
     "slide_type": "slide"
    }
   },
   "source": [
    "<table style=\"width:100%;\">\n",
    "    <tr style=\"display:none\">\n",
    "        <td></td>\n",
    "        <td></td>\n",
    "    </tr>\n",
    "    <tr style=\"height:3em\">\n",
    "        <td style=\"width:20%;align:left\"><img src=\"images/iut_bordeaux.jpg\"></td>\n",
    "        <td style=\"width:60%;font: bold 2.5em 'Fira Sans', serif;text-align:center\"> Arithmétique 1<br>\n",
    "        division euclidienne</td>\n",
    "        <td style=\"width:20%;font: bold 1.3em 'Fira Sans', serif;vertical-align:top;text-align:right\">TD2<br><i>Arithmétique</i></td>\n",
    "    </tr>\n",
    "</table>"
   ]
  },
  {
   "cell_type": "markdown",
   "metadata": {
    "slideshow": {
     "slide_type": "slide"
    }
   },
   "source": [
    "# Division euclidienne dans $\\mathbb{z}$. \n",
    "\n",
    "## Division euclidienne.\n",
    "\n",
    "Soient $a \\in \\mathbb{Z}$ et $b \\in \\mathbb{N}^∗$, il existe un unique couple $(q, r) \\in \\mathbb{Z}\\times\\mathbb{N}$ tel que $$a = bq + r \\quad 0 ≤ r < b$$\n",
    "(On appelle $a$ le **dividende**, $b$ le **diviseur**, $q$ le **quotient** et $r$ le **reste**.) "
   ]
  },
  {
   "cell_type": "markdown",
   "metadata": {
    "slideshow": {
     "slide_type": "slide"
    }
   },
   "source": [
    "#### Exercice 1\n",
    "\n",
    ">1. Écrire la division euclidienne de 185 par 31 en posant la division.  \n",
    ">\n",
    ">2. Ecrire la division euclidienne de -113 par 8.\n",
    ">\n",
    ">3. Sachant que 12 079 233 = 75 968×159+321 déterminer le reste de la division euclidienne de 12 079 233 par 75 968, puis par 159.\n",
    ">\n",
    ">4. Soit $n$ un entier. Quel est le reste de la division euclidienne de  $12n+7$ par $3$\n",
    ">\n",
    ">5. On fait la division euclidienne d'un entier $n$ par $137$ et $143$.   \n",
    ">Les quotients sont égaux et les restes respectifs sont $131$ et $5$.  \n",
    ">Quel est cet entier $n$ ?\n"
   ]
  },
  {
   "cell_type": "markdown",
   "metadata": {
    "slideshow": {
     "slide_type": "slide"
    }
   },
   "source": [
    "## Divisibilité.\n",
    "\n",
    "Un entier $b$ est **diviseur** d'un entier $a$  (ou  $a$ est **multiple** de $b$) s'il existe un entier $q$ tel que $a=bq$  \n",
    "\n",
    "D’autres formulations sont possibles pour décrire la relation $a = bq$ : \n",
    "*  $a$ est divisible par $b$  \n",
    "* $b$ divise $a$ \n",
    "* $b$ est un diviseur de $a$\n",
    "\n",
    "On utilise la notation $b\\mid a$ pour signifier que b divise a.\n",
    "\n"
   ]
  },
  {
   "cell_type": "markdown",
   "metadata": {
    "slideshow": {
     "slide_type": "slide"
    }
   },
   "source": [
    "#### Exemple\n",
    "\n",
    "* 6 = 2 × 3 donc 2 et 3 sont des diviseurs de 6.  \n",
    "\n",
    "Les diviseurs dans $\\mathbb{N}$ de 6 sont : 1, 2, 3, 6.\n",
    "\n",
    "\n",
    "* −52 = (−4) × 13 donc −4, 4, −13 et 13 sont des diviseurs de −52.  \n",
    "\n",
    "Les diviseurs dans $\\mathbb{Z}$ de −52 sont : −52, −26, −13, −4, −2, −1, 1, 2, 4, 13, 26, 52."
   ]
  },
  {
   "cell_type": "markdown",
   "metadata": {
    "slideshow": {
     "slide_type": "slide"
    }
   },
   "source": [
    "#### Remarque\n",
    "\n",
    "1) $0$ est multiple de tout entier $a$ car $0 = 0 × a$.  \n",
    "\n",
    "2) $1$ divise tout entier $a$ car $a = a × 1$.  \n",
    "\n",
    "3) Si $a$ est un multiple de $b$ et si  $a \\neq  0$, alors : $|a| \\geq |b|$.  "
   ]
  },
  {
   "cell_type": "markdown",
   "metadata": {
    "slideshow": {
     "slide_type": "slide"
    }
   },
   "source": [
    "### Critères de divisibilité\n",
    "\n",
    "Enoncer les critères de divisibilté."
   ]
  },
  {
   "cell_type": "markdown",
   "metadata": {
    "slideshow": {
     "slide_type": "slide"
    }
   },
   "source": [
    "- Un nombre est divisible par 2 si et seulement si son dernier chiffre est pair.  \n",
    "\n",
    "- Un nombre est divisible par 3 si et seulement si la somme de ses chiffres l’est.  \n",
    "\n",
    "- Un nombre est divisible par 4 si et seulement si le nombre formé par ses deux derniers chiffres l’est.  \n",
    "\n",
    "- Un nombre est divisible par 5 si et seulement si son dernier chiffre est 0 ou 5.  \n",
    "\n",
    "- Un nombre est divisible par 9 si et seulement si la somme de ses chiffres l’est.\n",
    "\n",
    "- un entier est divisible par 11 si la différence entre la somme des chiffres de rangs pairs et la somme des chiffres de rangs impairs est divisible par 11."
   ]
  },
  {
   "cell_type": "markdown",
   "metadata": {
    "slideshow": {
     "slide_type": "slide"
    }
   },
   "source": [
    "#### Exercice 2 \n",
    "\n",
    ">* Faire la liste de tous les diviseurs de $30$.\n",
    ">\n",
    ">* Donner un multiple de $11$ à $5$ chiffres non trivial\n",
    ">\n",
    ">* Déterminer les entiers naturels $a$ et $b$ tels que $a^2-b^2=25$.\n",
    ">\n",
    ">* Soit $xyz$ un nombre de trois chiffres en base 10.  \n",
    ">\n",
    ">Démontrer que la somme $xyz + zxy + yzx$ des trois nombres obtenus par permutation  des chiffres est toujours multiple de 111.  \n",
    ">\n",
    ">    Exemple : 324+432+243=999 est un multiple de $111$.\n"
   ]
  },
  {
   "cell_type": "markdown",
   "metadata": {},
   "source": [
    "\n",
    "$xyz=100x+10y+z$ par exemple $324=100\\times 3+10\\times 2+4$.  \n",
    "ainsi $zxy=100z+10x+y$ et $yzx=100y+10z+x$.  \n",
    "donc $xyz+zxy+yzx=111(x+y+z)$ est un multiple de $111$."
   ]
  },
  {
   "cell_type": "markdown",
   "metadata": {
    "slideshow": {
     "slide_type": "slide"
    }
   },
   "source": [
    "#### Exercice 3 (cours)\n",
    "\n",
    ">Soient a,b et c dans $ \\mathbb{Z}^* $. \n",
    ">\n",
    ">Montrez (et retenez) les quatre propriétés suivantes  :\n",
    ">\n",
    ">1. $(a\\mid b)$ et  $(b\\mid c)\\implies a|c$.  \n",
    ">\n",
    ">2. $a|(b+c)$ et $a\\mid c$ $\\implies a|b$\n",
    ">\n",
    ">3. pour tout $n,m \\in \\mathbb{Z} \\quad (a\\mid b) \\quad et \\quad (a\\mid c)\\implies a\\mid (nb+mc)$.  \n",
    ">\n",
    ">4. $(a\\mid b)$ et $(b\\mid a)\\implies (a=b) \\: \\text{ ou } \\: (a=−b).$  "
   ]
  },
  {
   "cell_type": "markdown",
   "metadata": {
    "slideshow": {
     "slide_type": "slide"
    }
   },
   "source": [
    "#### Exercice 4\n",
    "\n",
    ">Lorsqu’on divise $a$ par $b$, le reste est 8 et lorsqu’on divise $2a$ par $b$, le reste est $5$. Déterminer le diviseur $b$.\n",
    "\n",
    "\n",
    "<!--Écrivons chacune des deux divisions euclidiennes, en notant q et q′ les quotients respectifs :\n",
    "\n",
    ">a = bq + 8 avec b > 8  \n",
    "2a = bq′ + 5 avec b > 5  \n",
    "\n",
    "En multipliant la première division par 2 et en égalant avec la deuxième, on obtient :\n",
    "\n",
    ">2bq + 16 = bq′ + 5 avec b > 8  \n",
    "b(2q − q′) = −11  \n",
    "b(q′ − 2q) = 11  \n",
    "\n",
    "b est donc un diviseur positif non nul de 11, supérieur à 8, donc : b = 11 -->"
   ]
  },
  {
   "cell_type": "markdown",
   "metadata": {
    "slideshow": {
     "slide_type": "slide"
    }
   },
   "source": [
    "#### Exercice 5\n",
    "\n",
    "\n",
    "\n",
    "1. On considère l’ expression $B =n^2−1$ pour $n\\in \\mathbb{N}^*$\n",
    "\n",
    "    a. Démontrer que pour n pair, B est impair.  \n",
    "    b. Démontrer que pour n un entier impair strictement supérieur à 1, B est pair et divisible par 8.\n",
    "\n",
    ">1. L’exercice consiste à trouver les valeurs du naturel $n > 4$ pour lesquelles la fraction $\\dfrac{n + 17}{n − 4}$ est un entier.\n",
    ">\n",
    ">* Démontrer que $n − 4$ divise $n + 17$ équivaut à $n − 4$ divise $21$.  \n",
    ">    \n",
    ">* Déterminer alors toutes les valeurs de $n$ correspondant au problème.  \n"
   ]
  },
  {
   "cell_type": "markdown",
   "metadata": {
    "slideshow": {
     "slide_type": "slide"
    }
   },
   "source": [
    "#### Exercice 6  \n",
    "\n",
    ">Soit l’équation $(E) : xy − 5x − 5y − 7 = 0$.\n",
    ">\n",
    ">* Montrer que : $xy − 5x − 5y − 7 = 0 \\iff (x − 5)(y − 5) = 32$.\n",
    ">\n",
    ">* Déterminer les couples d’entiers naturels $(x; y)$ qui vérifient $(E)$."
   ]
  },
  {
   "cell_type": "markdown",
   "metadata": {
    "slideshow": {
     "slide_type": "slide"
    }
   },
   "source": [
    "#### Exercice 7\n",
    "\n",
    ">Soit $m$ et $n$ des entiers relatifs tels que $m$ divise à la fois $8n + 7$ et $6n + 5$. \n",
    ">\n",
    ">Montrer que $m = ±1$.\n"
   ]
  },
  {
   "cell_type": "markdown",
   "metadata": {},
   "source": [
    "m divise $8n + 7$ et $6n + 5$ donc $m$ divise $2(8n + 7) − 3(6n + 5) = 1$.\n",
    "ainsi dans $\\mathbb{Z}^* ,\\quad m = ±1$."
   ]
  },
  {
   "cell_type": "code",
   "execution_count": null,
   "metadata": {},
   "outputs": [],
   "source": []
  },
  {
   "cell_type": "markdown",
   "metadata": {
    "slideshow": {
     "slide_type": "slide"
    }
   },
   "source": [
    "#### Exercice 8 ( travail personnel )\n",
    "\n",
    ">1) Montrer que si un entier naturel $d$ divise $12n+7$ et $3n+1$ alors il divise $3$.\n",
    ">       \n",
    ">2) Montrer que $\\dfrac{12n+7}{3n+1}$ est irréductible.\n"
   ]
  },
  {
   "cell_type": "markdown",
   "metadata": {
    "slideshow": {
     "slide_type": "slide"
    }
   },
   "source": [
    "#### Exercice 9 (travail personnel)\n",
    "\n",
    "Pour faire comprendre la division - d’un entier naturel par un entier naturel non nul - à l’école primaire, on procède par soustractions successives.  \n",
    "\n",
    "Si l’on veut diviser 32 par 5, on soustrait 5 à 32 autant de fois que cela est possible.\n",
    "\n",
    "> 32 − 5 = 27  \n",
    "> 27 − 5 = 22  \n",
    "> 22 − 5 = 17  \n",
    "> 17 − 5 = 12  \n",
    "> 12 − 5 = 7  \n",
    "> 7 − 5 = 2\n",
    "    \n",
    "On a ainsi enlevé 6 fois 5 et il reste 2.\n",
    "On peut donc écrire :\n",
    "\n",
    "> 32 = 5 × 6 + 2\n",
    "    \n",
    "1) Compléter la fonction en Python , « division(a,b) », renvoyant le quotient $q$ et le reste $r$ de la division dans $\\mathbb{N}$ de a par $b \\geq 0$ par soustractions successives.  \n",
    "\n",
    "Tester cette fonction avec : division(32,5); division(12,13) et division(1412,13).\n"
   ]
  },
  {
   "cell_type": "code",
   "execution_count": null,
   "metadata": {
    "slideshow": {
     "slide_type": "slide"
    }
   },
   "outputs": [],
   "source": [
    "def division(a:int,b:int)->tuple[int,int]:\n",
    "    init=a\n",
    "    q=0\n",
    "    while ...:\n",
    "        a=...\n",
    "        q=...\n",
    "    print(\"%s = %s * %s + %s\" %(init,q,b,init-q*b))\n",
    "    return q,init-q*b\n",
    "\n",
    "division(32,5)\n"
   ]
  },
  {
   "cell_type": "markdown",
   "metadata": {
    "slideshow": {
     "slide_type": "slide"
    }
   },
   "source": [
    "#### Exercice 10 : Liste des diviseurs en Python ( travail personnel )\n",
    "\n",
    "Ecrire un programme Python donnant la liste des diviseurs d'un entier naturel."
   ]
  },
  {
   "cell_type": "code",
   "execution_count": null,
   "metadata": {
    "slideshow": {
     "slide_type": "slide"
    }
   },
   "outputs": [
    {
     "name": "stdout",
     "output_type": "stream",
     "text": [
      "[]\n",
      "[1, 2, 4, 5, 10, 20, 25, 50, 100]\n",
      "[]\n"
     ]
    }
   ],
   "source": [
    "# liste des diviseurs d'un entier.\n",
    "# L.append(i) permet d'ajouter i à la liste L.\n",
    "# a%b donne le reste dans la division de a par b.\n",
    "\n",
    "from math import sqrt,floor\n",
    "\n",
    "def diviseur1(n:int)->list[int]:\n",
    "    L=[]\n",
    "\n",
    "    return L\n",
    "\n",
    "\n",
    "print(diviseur1(100))\n",
    "\n",
    "\n",
    "# En plus condensé\n",
    "\n",
    "def diviseur2(n:int)->list[int]: \n",
    "    return [i for i in range(1,n+1) if n%i==0] \n",
    "\n",
    "print(diviseur2(100))\n",
    "\n",
    "# Bonus : proposer une amélioration à cette fonction pour ne plus parcourir \n",
    "# toutes les valeurs jusque n. (critère d'arrêt)\n",
    "\n",
    "def diviseur_ameliore(n:int)->list[int]:\n",
    "    L=[]\n",
    "\n",
    "    return L\n",
    "print(diviseur_ameliore(12331212332222))"
   ]
  },
  {
   "cell_type": "code",
   "execution_count": null,
   "metadata": {},
   "outputs": [],
   "source": []
  }
 ],
 "metadata": {
  "celltoolbar": "Diaporama",
  "kernelspec": {
   "display_name": "Python 3",
   "language": "python",
   "name": "python3"
  },
  "language_info": {
   "codemirror_mode": {
    "name": "ipython",
    "version": 3
   },
   "file_extension": ".py",
   "mimetype": "text/x-python",
   "name": "python",
   "nbconvert_exporter": "python",
   "pygments_lexer": "ipython3",
   "version": "3.10.4"
  },
  "vscode": {
   "interpreter": {
    "hash": "aee8b7b246df8f9039afb4144a1f6fd8d2ca17a180786b69acc140d282b71a49"
   }
  }
 },
 "nbformat": 4,
 "nbformat_minor": 4
}
