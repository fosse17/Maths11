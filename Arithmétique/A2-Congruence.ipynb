{
 "cells": [
  {
   "cell_type": "markdown",
   "metadata": {},
   "source": [
    "<table style=\"width:100%;\">\n",
    "    <tr style=\"display:none\">\n",
    "        <td></td>\n",
    "        <td></td>\n",
    "    </tr>\n",
    "    <tr style=\"height:3em\">\n",
    "        <td style=\"width:20%;align:left\"><img src=\"images/iut_bordeaux.jpg\"></td>\n",
    "        <td style=\"width:60%;font: bold 2.5em 'Fira Sans', serif;text-align:center\"> Arithmétique 2<br>\n",
    "        Congruence</td>\n",
    "        <td style=\"width:20%;font: bold 1.3em 'Fira Sans', serif;vertical-align:top;text-align:right\">TD4<br><i>Arithmétique</i></td>\n",
    "    </tr>\n",
    "</table>"
   ]
  },
  {
   "cell_type": "markdown",
   "metadata": {},
   "source": [
    "## Définition \n",
    "\n",
    "Soit $n$ un entier naturel $(n \\geq 2)$, $a$ et $b$ deux entiers relatifs.\n",
    "\n",
    "On dit que deux entiers $a$ et $b$ sont **congrus modulo $n$** si, et seulement si, $a$ et $b$ ont le même\n",
    "reste dans la division euclidienne par $n$. \n",
    "\n",
    "On note alors :\n",
    "\n",
    "$$a \\equiv b (n) \\text{  ou  }  a \\equiv b [n].$$"
   ]
  },
  {
   "cell_type": "markdown",
   "metadata": {},
   "source": [
    "#### Exemple\n",
    "\n",
    "$57 \\equiv 15 (7)$ car : 57 = 7 × 8 + 1 et 15 = 7 × 2 + 1  \n",
    "\n",
    "$41 \\equiv −4 (9)$ car : 41 = 9 × 4 + 5 et − 4 = 9 × (−1) + 5\n",
    "\n",
    "#### propriété \n",
    "\n",
    "Un nombre est congru à son reste modulo n dans la division euclidienne par n.  \n",
    "* $2 008 \\equiv 8 (10)$ car 2 008 = 10 × 200 + 8  \n",
    "* $17 \\equiv 1 (4)$  \n",
    "* $75 \\equiv 3 (9)$\n",
    "\n",
    "* $x \\equiv 0 (2) \\iff x \\text{ est pair}$  \n",
    "* $x \\equiv 1 (2) \\iff x \\text{ est impair}$ "
   ]
  },
  {
   "cell_type": "code",
   "execution_count": 1,
   "metadata": {},
   "outputs": [
    {
     "name": "stdout",
     "output_type": "stream",
     "text": [
      "5\n",
      "1\n",
      "3\n"
     ]
    }
   ],
   "source": [
    "# Le reste dans le division euclidienne est donné par %\n",
    "\n",
    "print(2005%10)\n",
    "print(17%4)\n",
    "print(75%9)"
   ]
  },
  {
   "cell_type": "markdown",
   "metadata": {},
   "source": [
    "#### Exercice 1 \n",
    "\n",
    ">Déterminer les congruences suivantes :\n",
    ">\n",
    ">    1) Modulo 5 des nombres suivants : 12 ; 45 ; 87 ; -12 ; 104\n",
    ">\n",
    ">    2) Modulo 7 des nombres suivants : -14 ; -85 ; 24 ; 46\n"
   ]
  },
  {
   "cell_type": "markdown",
   "metadata": {},
   "source": [
    "#### Exercice 2\n",
    "\n",
    ">1. Quels sont les restes possibles dans une division euclidienne par 9 ?\n",
    ">\n",
    ">2. Déterminer les restes possibles dans la division de $4x$ par 9 suivant les valeurs de l’entier relatifs $x$.  \n",
    ">\n",
    ">3. Résoudre alors : $4x \\equiv 5 (9)$\n",
    ">\n",
    ">Le script ci-dessous donne une aide pour résoudre ce problème.\n",
    ">\n",
    ">4. Modifier ce code pour résoudre $5x \\equiv 3[11]$"
   ]
  },
  {
   "cell_type": "code",
   "execution_count": 2,
   "metadata": {},
   "outputs": [
    {
     "name": "stdout",
     "output_type": "stream",
     "text": [
      "pour x=0, le reste est 0\n",
      "pour x=1, le reste est 4\n",
      "pour x=2, le reste est 8\n",
      "pour x=3, le reste est 3\n",
      "pour x=4, le reste est 7\n",
      "pour x=5, le reste est 2\n",
      "pour x=6, le reste est 6\n",
      "pour x=7, le reste est 1\n",
      "pour x=8, le reste est 5\n",
      "solution de la forme x=9k+8\n"
     ]
    }
   ],
   "source": [
    "Solution=[]\n",
    "for x in range(9):\n",
    "    reste=(4*x)%9\n",
    "    print(f\"pour x={x}, le reste est {reste}\")\n",
    "    if reste==5:\n",
    "        Solution.append(x)\n",
    "for s in Solution : \n",
    "    print(f\"solution de la forme x=9k+{s}\")"
   ]
  },
  {
   "cell_type": "markdown",
   "metadata": {},
   "source": [
    "### Propriétés \n",
    "\n",
    "$a \\equiv 0 (n) \\iff a \\text{ est un multiple de } n \\text{ ou } n \\text{ est un diviseur de } a$.\n",
    "\n",
    "La congruence est une relation d’**équivalence**, c’est-à-dire, pour tous entiers $a$, $b$, $c$, on a :\n",
    "\n",
    "1. $a \\equiv a (n)$ (réflexivité)  \n",
    "   \n",
    "2. Si $a \\equiv b (n)$, alors $b \\equiv a (n)$ (symétrie) \n",
    "   \n",
    "3. Si $a \\equiv b (n)$ et si $b \\equiv c (n)$, alors $a \\equiv c (n)$ (transitivité)  "
   ]
  },
  {
   "cell_type": "markdown",
   "metadata": {},
   "source": [
    "### Théorème \n",
    "\n",
    "Soit $n$ un entier naturel $(n \\geq 2)$, $a$ et $b$ deux entiers relatifs.\n",
    "\n",
    "$$a \\equiv b (n) \\iff a − b \\equiv 0 (n)$$"
   ]
  },
  {
   "cell_type": "markdown",
   "metadata": {},
   "source": [
    "#### Exemple\n",
    "$124 \\equiv 1 [3]$ donc $124-1 \\equiv 123 \\equiv 0[3]$ i.e $123$ est un multiple de $3$"
   ]
  },
  {
   "cell_type": "markdown",
   "metadata": {},
   "source": [
    "### Compatibilité de la congruence avec l’addition et la multiplication\n",
    "\n",
    "Soit n un entier naturel $(n \\geq 2)$ et $a$, $b$, $c$, $d$ des entiers relatifs vérifiant :\n",
    "$$\n",
    "\\begin{cases}\n",
    "a \\equiv b (n)\\\\\n",
    "c \\equiv d (n)\\\\\n",
    "\\end{cases}\n",
    "$$\n",
    "\n",
    "\n",
    "La relation de congruence est compatible :\n",
    "\n",
    "* avec l’addition : $$a + c \\equiv b + d (n)$$\n",
    "\n",
    "* avec la multiplication : $$ac \\equiv bd (n)$$  \n",
    "\n",
    "* avec les puissances : pour tout entier naturel k, $$a^k \\equiv b^k(n)$$  "
   ]
  },
  {
   "cell_type": "markdown",
   "metadata": {},
   "source": [
    "#### Exercice 3\n",
    "\n",
    "\n",
    ">Déterminer les restes dans la division euclidienne par 7 des nombres :\n",
    ">\n",
    ">1) $50^{100}$ \n",
    ">\n",
    ">2) 100 \n",
    ">\n",
    ">3) $100^3$ \n",
    ">\n",
    ">4) $50^{100} + 100^{100}$\n",
    ">\n",
    ">5) $15 \\times 6^{43} − 48$.\n",
    "\n",
    "<!--\n",
    "1) On a 50 \\equiv 1 (7) car 50 = 7 × 7 + 1.  \n",
    "\n",
    "D’après la compatibilité avec les puissances, on a : $50^{100} \\equiv 1^{100} \\equiv 1(7) $ \n",
    "\n",
    "Le reste est 1.\n",
    "\n",
    "2) 100 = 50 × 2, comme 50 \\equiv 1 (7), d’après la compatibilité avec la multiplication, on a :  \n",
    "100 \\equiv 2 (7). \n",
    "\n",
    "Le reste est 2.\n",
    "\n",
    "\n",
    "3) Comme 100 \\equiv 2 (7), d’après la compatibilité avec les puissances, on a :\n",
    "$100^3 \\equiv 2^3 \\equiv 8 \\equiv 1 (7)$.  \n",
    "\n",
    "Le reste est 1.\n",
    "\n",
    "4) $100^{100} = 100^{3×33+1} = (100^3)^{33}\\times 100$  \n",
    "donc d’après la compatibilité avec les puissances et la multiplication, on a : \n",
    "\n",
    "$100^{100} \\equiv 1^{33} \\times 2 \\equiv 2(7)$\n",
    "\n",
    "D’après la compatibilité avec l’addition, on a alors : $50^{100} + 100^{100} \\equiv 1 + 2 \\equiv 3 (7)$.\n",
    "\n",
    "Le reste est 3.\n",
    "\n",
    "La notion de congruence prend ici tout son intérêt. Par exemple, bien que l’on ne puisse calculer ce nombre, on peut connaître son reste dans la division par 7 de façon simple et rapide\n",
    "-->\n"
   ]
  },
  {
   "cell_type": "markdown",
   "metadata": {},
   "source": [
    "\n",
    "\n",
    "####  Exercice 4\n",
    "\n",
    ">Un tableau de congruence est un tableau permettant de présenter des résultats de manière exhaustive en se référant aux restes possibles dans une division euclidienne.\n",
    ">\n",
    ">1) Déterminer suivant les valeurs de l’entier relatif $n$, le reste de la division de $n^2$ par 7.\n",
    ">\n",
    ">| Reste de la division de $n$ par 7  | 0 | 1 | 2 | 3 | 4 | 5 | 6 |  \n",
    ">|:--------------------------------:|:-:|:-:|:-:|:-:|:-:|:-:|:-:|  \n",
    ">| Reste de la division de $n^2$ par 7 | _ | _ | _ | _ | _ | _ | _ |  \n",
    ">\n",
    ">2) En déduire alors les solutions de l’équation $x^2 \\equiv 2 (7)$.\n",
    "\n",
    "\n",
    "\n",
    "\n",
    "<!--\n",
    "On a : \n",
    "\n",
    "$3^{n+3}=3^3 \\times 3^n =27 \\times 3^n$\n",
    "donc d’après la compatibilité avec la multiplication, on a :\n",
    "$\\forall n \\in \\mathbb{N}, 3^{n+3} \\equiv 5 \\times 3^n (11)$\n",
    "\n",
    "$4^{4n+2}=(4^4)^n \\times 4^2$\n",
    "\n",
    "avec $4^2 \\equiv 5 (11)$ donc $4^4 \\equiv 25 \\equiv 3(11)$\n",
    "\n",
    "$\\forall n \\in \\mathbb{N},4^{4n+2} \\equiv 5 \\times 3^n$\n",
    "On en déduit donc que :\n",
    "\n",
    "$\\forall n \\in \\mathbb{N}, 3^{n+3} − 4^{4n+2} \\equiv 5 \\times 3^n - 5 \\times 3^n \\equiv 0 (11)$\n",
    "\n",
    "-->"
   ]
  },
  {
   "cell_type": "markdown",
   "metadata": {},
   "source": [
    "\n",
    "#### Exercice 5\n",
    "\n",
    ">La proposition suivante est-elle vraie ou fausse ?\n",
    ">\n",
    ">  Tout entier est congru modulo 6 à un des entiers 0, 1, 2, 3, −1 ou −2.\n",
    "\n"
   ]
  },
  {
   "cell_type": "markdown",
   "metadata": {},
   "source": [
    "#### Exercice 6\n",
    "\n",
    "> Montrer que : $\\forall n \\in \\mathbb{N}, 3^{n+3} − 4^{4n+2}$ est divisible par 11.\n",
    ">\n",
    "> Montrer que : $\\forall n \\in \\mathbb{N}, 3^{2n+1} +2^{n+2}$ est divisible par 7.\n"
   ]
  }
 ],
 "metadata": {
  "kernelspec": {
   "display_name": "Python 3",
   "language": "python",
   "name": "python3"
  },
  "language_info": {
   "codemirror_mode": {
    "name": "ipython",
    "version": 3
   },
   "file_extension": ".py",
   "mimetype": "text/x-python",
   "name": "python",
   "nbconvert_exporter": "python",
   "pygments_lexer": "ipython3",
   "version": "3.8.5"
  },
  "vscode": {
   "interpreter": {
    "hash": "aee8b7b246df8f9039afb4144a1f6fd8d2ca17a180786b69acc140d282b71a49"
   }
  }
 },
 "nbformat": 4,
 "nbformat_minor": 4
}
