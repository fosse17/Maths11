{
 "cells": [
  {
   "cell_type": "markdown",
   "metadata": {
    "slideshow": {
     "slide_type": "slide"
    }
   },
   "source": [
    "<table style=\"background-color: white;width:100%;\">\n",
    "    <tr style=\"display:none\">\n",
    "        <td></td>\n",
    "        <td></td>\n",
    "    </tr>\n",
    "    <tr style=\"height:3em\">\n",
    "        <td style=\"width:20%;align:left\"><img src=\"images/iut_bordeaux.jpg\"></td>\n",
    "        <td style=\"width:60%;font: bold 2.5em 'Fira Sans', serif;text-align:center\"> Arithmétique 1<br>\n",
    "        division euclidienne - Python</td>\n",
    "        <td style=\"width:20%;font: bold 1.3em 'Fira Sans', serif;vertical-align:top;text-align:right\">Semaine 4<br><i>Numération et arithmétique</i></td>\n",
    "    </tr>\n",
    "</table>"
   ]
  },
  {
   "cell_type": "markdown",
   "metadata": {
    "slideshow": {
     "slide_type": "slide"
    }
   },
   "source": [
    "#### Exercice 9 (travail personnel)\n",
    "\n",
    "Pour faire comprendre la division - d’un entier naturel par un entier naturel non nul - à l’école primaire, on procède par soustractions successives.  \n",
    "Si l’on veut diviser 32 par 5, on soustrait 5 à 32 autant de fois que cela est possible.\n",
    "\n",
    "> 32 − 5 = 27  \n",
    "> 27 − 5 = 22  \n",
    "> 22 − 5 = 17  \n",
    "> 17 − 5 = 12  \n",
    "> 12 − 5 = 7  \n",
    "> 7 − 5 = 2\n",
    "    \n",
    "On a ainsi enlevé 6 fois 5 et il reste 2.\n",
    "On peut donc écrire :\n",
    "\n",
    "> 32 = 5 × 6 + 2\n",
    "    \n",
    "1) Compléter la fonction en Python , « division(a,b) », renvoyant le quotient $q$ et le reste $r$ de la division dans $\\mathbb{N}$ de a par $b \\geq 0$ par soustractions successives.  \n",
    "Tester cette fonction avec : division(32,5); division(12,13) et division(1412,13).\n"
   ]
  },
  {
   "cell_type": "code",
   "execution_count": 4,
   "metadata": {
    "slideshow": {
     "slide_type": "slide"
    }
   },
   "outputs": [
    {
     "name": "stdout",
     "output_type": "stream",
     "text": [
      "32 = 6 * 5 + 2\n"
     ]
    },
    {
     "data": {
      "text/plain": [
       "(6, 2)"
      ]
     },
     "execution_count": 4,
     "metadata": {},
     "output_type": "execute_result"
    }
   ],
   "source": [
    "def division(a,b):\n",
    "    init=a\n",
    "    q=0\n",
    "    while a-b>0:\n",
    "        a=a-b\n",
    "        q=q+1\n",
    "    print(\"%s = %s * %s + %s\" %(init,q,b,init-q*b))\n",
    "    return q,init-q*b\n",
    "\n",
    "division(32,5)\n"
   ]
  },
  {
   "cell_type": "markdown",
   "metadata": {
    "slideshow": {
     "slide_type": "slide"
    }
   },
   "source": [
    "#### Exercice 10 : Liste des diviseurs en Python ( travail personnel )\n",
    "\n",
    "Ecrire un programme Python donnant la liste des diviseurs d'un entier naturel."
   ]
  },
  {
   "cell_type": "code",
   "execution_count": 6,
   "metadata": {
    "slideshow": {
     "slide_type": "slide"
    }
   },
   "outputs": [
    {
     "name": "stdout",
     "output_type": "stream",
     "text": [
      "[1, 2, 4, 5, 10, 20, 25, 50, 100]\n"
     ]
    }
   ],
   "source": [
    "# liste des diviseurs d'un entier.\n",
    "# L.append(i) permet d'ajouter i à la liste L.\n",
    "# a%b donne le reste dans la division de a par b.\n",
    "\n",
    "from math import sqrt,floor\n",
    "\n",
    "def diviseur1(n):\n",
    "    L=[]\n",
    "    for i in range (1,n+1):\n",
    "        if n%i==0:\n",
    "            L.append(i)\n",
    "    return L\n",
    "print(diviseur1(100))"
   ]
  },
  {
   "cell_type": "code",
   "execution_count": 18,
   "metadata": {
    "slideshow": {
     "slide_type": "slide"
    }
   },
   "outputs": [
    {
     "name": "stdout",
     "output_type": "stream",
     "text": [
      "[1, 2, 4, 5, 10, 20, 25, 50, 100]\n"
     ]
    }
   ],
   "source": [
    "# En plus condensé\n",
    "\n",
    "def diviseur2(n): \n",
    "    return [i for i in range(1,n+1) if n%i==0] \n",
    "\n",
    "print(diviseur2(100))"
   ]
  },
  {
   "cell_type": "code",
   "execution_count": 17,
   "metadata": {
    "slideshow": {
     "slide_type": "slide"
    }
   },
   "outputs": [
    {
     "name": "stdout",
     "output_type": "stream",
     "text": [
      "[1, 2, 4, 5, 10, 20, 25, 50, 100]\n"
     ]
    }
   ],
   "source": [
    "# Bonus : proposer une amélioration à cette fonction pour ne plus parcourir \n",
    "# toutes les valeurs jusque n. (critère d'arrêt)\n",
    "from math import sqrt, floor\n",
    "\n",
    "def diviseur_ameliore(n): \n",
    "    L=[]\n",
    "    for i in range (1,floor(sqrt(n)+1)):\n",
    "        if n%i==0:\n",
    "            L.append(i)\n",
    "            if n//i not in L :\n",
    "                L.append(n//i)\n",
    "    return sorted(L)\n",
    "print(diviseur_ameliore(100))"
   ]
  },
  {
   "cell_type": "code",
   "execution_count": null,
   "metadata": {},
   "outputs": [],
   "source": []
  }
 ],
 "metadata": {
  "celltoolbar": "Diaporama",
  "interpreter": {
   "hash": "7812ea015bdcee6f23a998adcdd2ef97c151c0c241b7b7070987d9313e41299d"
  },
  "kernelspec": {
   "display_name": "Python 3",
   "language": "python",
   "name": "python3"
  },
  "language_info": {
   "codemirror_mode": {
    "name": "ipython",
    "version": 3
   },
   "file_extension": ".py",
   "mimetype": "text/x-python",
   "name": "python",
   "nbconvert_exporter": "python",
   "pygments_lexer": "ipython3",
   "version": "3.8.5"
  }
 },
 "nbformat": 4,
 "nbformat_minor": 4
}
