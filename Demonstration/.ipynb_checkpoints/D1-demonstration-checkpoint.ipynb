{
 "cells": [
  {
   "cell_type": "markdown",
   "metadata": {
    "slideshow": {
     "slide_type": "slide"
    }
   },
   "source": [
    " <table style=\"width:100%;\">\n",
    "    <tr style=\"display:none\">\n",
    "        <td></td>\n",
    "        <td></td>\n",
    "    </tr>\n",
    "    <tr style=\"height:3em\">\n",
    "        <td style=\"width:20%;align:left\"><img src=\"iut_bordeaux.jpg\"></td>\n",
    "        <td style=\"width:60%;font: bold 2em 'Fira Sans', serif;text-align:center\"> Techniques de démonstration</td>\n",
    "        <td style=\"width:20%;font: bold 1.3em 'Fira Sans', serif;vertical-align:top;\">TDs 11 et 13<br><i>Logique et raisonnements</i></td>\n",
    "    </tr>\n",
    "</table>"
   ]
  },
  {
   "cell_type": "markdown",
   "metadata": {
    "slideshow": {
     "slide_type": "slide"
    }
   },
   "source": [
    "## Raisonnement par implication.\n",
    "\n",
    "C’est le type de raisonnement standard. \n",
    "\n",
    "On sait qu’une proposition P est vraie et que l’implication $P \\implies Q$ est vraie. On en déduit que $Q$ est vraie. \n",
    "\n",
    "On répète ceci autant de fois que nécessaire jusqu’à aboutir à la proposition dont on veut montrer qu’elle est vraie.\n",
    "\n",
    "En pratique, la démonstration contiendra des mots comme «donc», «ainsi», etc..."
   ]
  },
  {
   "cell_type": "markdown",
   "metadata": {
    "slideshow": {
     "slide_type": "slide"
    }
   },
   "source": [
    "#### Exercice 1\n",
    "\n",
    "> Soit $n \\in \\mathbb{N}$ et n>2, montrer que si $n$ est pair alors $2^n-1$ n'est pas un nombre premier."
   ]
  },
  {
   "cell_type": "markdown",
   "metadata": {
    "slideshow": {
     "slide_type": "slide"
    }
   },
   "source": [
    "#### Exercice 2 \n",
    "\n",
    ">Soit $n \\in \\mathbb{N}$  et $P_n = n^2+7n+12$.  \n",
    ">\n",
    ">Montrer que $\\sqrt{P_n}$ n'est jamais un nombre entier.\n",
    "\n",
    "<!--\n",
    "> Soit $n \\in \\mathbb{N}$, montrer que si $n$ est impair alors $n^2$ est impair.\n",
    "\n",
    "\n",
    "> $n$ est impair donc il existe un entier $k$ tel que $n=2k+1$.\n",
    "> ainsi $n^2=(2k+1)^2=4k^2+4k+1=2(2k^2+2k)+1$\n",
    "> Avec $l=2k^2+2k \\in \\mathbb{N}, \\quad n^2=2l+1$  \n",
    "> $n^2$ est donc un nombre impair\n",
    "-->"
   ]
  },
  {
   "cell_type": "markdown",
   "metadata": {
    "slideshow": {
     "slide_type": "slide"
    }
   },
   "source": [
    "Attention ! On évitera à tout prix ce genre d’erreur.\n",
    "\n",
    "Soit ABC un triangle de côtés $AB = 3$, $AC = 4$ et $BC = 5$.  \n",
    "\n",
    " Si le triangle ABC est rectangle en A, alors $BC^2 = AB^2 + AC^2$  \n",
    " \n",
    "Or $AB^2 + AC^2 = 3^2 + 4^2 = 5^2 = BC^2$ donc ABC est rectangle en A.  \n",
    "\n",
    "Autrement dit, si $P \\implies Q$ et $Q$ sont vraies, alors $P$ est vraie..."
   ]
  },
  {
   "cell_type": "markdown",
   "metadata": {
    "slideshow": {
     "slide_type": "slide"
    }
   },
   "source": [
    "## Raisonnement par double implication\n",
    "\n",
    "Pour montrer que $P \\iff Q$ est vraie, on suppose $P$ vraie et on montre que $Q$ est vraie et réciproquement.\n",
    "\n",
    "La démontration se fait donc en deux temps : \n",
    "\n",
    "* une première débutant par «Supposons $P$ et montrons $Q$»\n",
    "\n",
    "* une seconde débutant par «Supposons $Q$ et montrons $P$». \n",
    "\n",
    "On passe ensuite de $P$ à $Q$ et de $Q$ à $P$ en utilisant à chaque fois des implications."
   ]
  },
  {
   "cell_type": "markdown",
   "metadata": {
    "slideshow": {
     "slide_type": "slide"
    }
   },
   "source": [
    "#### Exercice 3\n",
    "\n",
    "> 1. Résoudre dans $\\mathbb{R}$, $2x=\\sqrt{x^2+1}$.\n",
    "\n"
   ]
  },
  {
   "cell_type": "markdown",
   "metadata": {
    "slideshow": {
     "slide_type": "slide"
    }
   },
   "source": [
    "## Raisonnement par équivalence\n",
    "\n",
    "Pour montrer que $P ⟺ Q$ est vraie, on peut également procéder en une seule étape. \n",
    "\n",
    "On passe alors de P à Q en utilisant à chaque fois des équivalences. Cette méthode est plus courte que la précédente mais peut aussi être plus fastidieuse puisqu’on doit vérifier que chaque enchaînement logique de la démonstration est bien une équivalence et pas seulement une implication.\n"
   ]
  },
  {
   "cell_type": "markdown",
   "metadata": {
    "slideshow": {
     "slide_type": "slide"
    }
   },
   "source": [
    "#### Exercice 4\n",
    "\n",
    "> Montrer que : $\\forall (x,y ) \\in \\mathbb{R}^2, \\quad xy \\leq \\dfrac12 (x^2+y^2)$\n",
    "\n",
    "<!--\n",
    "On peut procéder de la manière suivante.\n",
    "\n",
    "\n",
    "$\\forall (𝑥, 𝑦) \\in \\mathbb{R}^2$\n",
    "$$ \\begin{align}\n",
    " xy \\leq \\dfrac12 (x^2+y^2) & \\iff 2xy ≤ x^2 + y^2 \\\\\n",
    "                              &  \\iff 0 ≤ x^2 + y^2 − 2xy\\\\\n",
    " & \\iff 0 ≤ (x − y)^2\\\\\n",
    " \\end{align}\n",
    " $$\n",
    "\n",
    "La dernière proposition étant vraie, la première l’est également.\n",
    "-->"
   ]
  },
  {
   "cell_type": "markdown",
   "metadata": {
    "slideshow": {
     "slide_type": "slide"
    }
   },
   "source": [
    "## Cas par cas : disjonction de cas\n",
    "\n",
    "Si l'on souhaite vérifier une assertion $P(x)$ pour tous les $x$ dans un ensemble $E$, on\n",
    "montre l'assertion pour les $x$ dans une partie $A$ de $E$, puis pour les $x$ n'appartenant pas à $A$."
   ]
  },
  {
   "cell_type": "markdown",
   "metadata": {
    "slideshow": {
     "slide_type": "slide"
    }
   },
   "source": [
    "#### Exercice 5\n",
    "\n",
    ">On rappelle la définition de la valeur absolue :\n",
    ">\n",
    ">$$|x|=\\begin{cases} x\\quad \\text{si }x \\geq 0 \\\\ -x \\text{  sinon} \\end{cases}$$\n",
    ">\n",
    ">Montrer que : $ \\forall x\\in \\mathbb{R}$, $|x-1| \\le x^2-x+1$.\n",
    "\n",
    "<!--Soit $x \\in \\mathbb{R}$. Nous distinguons deux cas.\n",
    "\n",
    "**Premier cas : $x \\ge 1$.**\n",
    "\n",
    "Alors $|x-1|=x-1$. Calculons alors $x^2-x+1 - |x-1|$.\n",
    "\n",
    "$$\n",
    "\\begin{align*}\n",
    " x^2-x+1 - |x-1|\n",
    "   &= x^2-x+1 - (x-1) \\\\\n",
    "   &= x^2 -2x + 2 \\\\\n",
    "   &= (x-1)^2 + 1 \\ge 0. \\\\\n",
    "\\end{align*}\n",
    "$$\n",
    "Ainsi $x^2-x+1 - |x-1| \\ge 0$ et donc $$x^2-x+1 \\ge |x-1|.$$\n",
    "\n",
    "**Deuxième cas : $x < 1$.**\n",
    "\n",
    "Alors $|x-1| = -(x-1)$.\n",
    "\n",
    "Nous obtenons $$x^2-x+1 - |x-1| = x^2-x+1 + (x-1) = x^2 \\ge 0$$\n",
    "\n",
    "Et donc $$x^2-x+1 \\ge |x-1|$$\n",
    "\n",
    "\n",
    "**Conclusion.**\n",
    "\n",
    "$\\forall x \\in \\mathbb{R}, \\quad |x-1| \\le x^2-x+1$.\n",
    "-->"
   ]
  },
  {
   "cell_type": "markdown",
   "metadata": {
    "slideshow": {
     "slide_type": "slide"
    }
   },
   "source": [
    "## Contraposée\n",
    "\n",
    "Le raisonnement par **contraposition** est basé sur l'équivalence suivante \n",
    "\n",
    "$$(P \\implies Q)  \\iff  (\\neg(Q) \\implies \\neg(P))$$\n",
    "\n",
    "\n",
    "Donc si l'on souhaite montrer l'assertion $P \\implies Q$, on montre en fait que si $\\neg (Q)$ est vraie alors $\\neg (P)$ est vraie."
   ]
  },
  {
   "cell_type": "markdown",
   "metadata": {
    "slideshow": {
     "slide_type": "slide"
    }
   },
   "source": [
    "#### Exercice 6\n",
    "\n",
    "> Soit $n \\in \\mathbb{N}$. Montrer que si $n^2$ est pair alors $n$ est pair."
   ]
  },
  {
   "cell_type": "markdown",
   "metadata": {
    "slideshow": {
     "slide_type": "slide"
    }
   },
   "source": [
    "#### Exercice 7\n",
    ">Soit $x,y \\in ]1, +\\infty[$, montrer que $x \\neq y \\implies x+\\dfrac{1}{x} \\neq y+\\dfrac{1}{y}$\n",
    "\n",
    "<!--\n",
    "Soit $x,y \\in ]1, +\\infty[$,, Supposons $x+\\dfrac{1}{x} = y+\\dfrac{1}{y}$, on a alors\n",
    "\n",
    "$x-y+\\dfrac{1}{x}- \\dfrac{1}{y}=0$\n",
    "\n",
    "$x-y+\\dfrac{y-x}{xy}=0$\n",
    "\n",
    "$(x-y)\\left(1-\\dfrac{1}{xy}\\right)=0$\n",
    "\n",
    "$(x-y)\\left(\\dfrac{xy-1}{xy}\\right)=0$\n",
    "\n",
    "or $xy-1 \\neq 0$ car $x>1$ et $y>1$ donc $x=y$\n",
    "\n",
    "-->\n",
    "\n",
    "<!--\n",
    "Nous supposons que $n$ n'est pas pair. Nous voulons montrer qu'alors $n^2$ n'est pas pair.\n",
    "\n",
    "Comme $n$ n'est pas pair, il est impair et donc il existe $k\\in \\mathbb{N}$ tel que\n",
    "$n=2k+1$. \n",
    "\n",
    "Alors\n",
    "$n^2 = (2k+1)^2 = 4k^2 + 4k + 1 = 2\\ell+1$ avec $\\ell = 2k^2+2k \\in \\mathbb{N}$.\n",
    "\n",
    "\n",
    "Et donc $n^2$ est impair.\n",
    "\n",
    "\n",
    "**Conclusion**:\n",
    "\n",
    "nous avons montré que  : \n",
    "> si $n$ est impair alors $n^2$ est impair.   \n",
    "\n",
    "Par contraposition ceci est équivalent à : \n",
    "\n",
    ">si $n^2$ est pair alors $n$ est pair.\n",
    "-->"
   ]
  },
  {
   "cell_type": "markdown",
   "metadata": {
    "slideshow": {
     "slide_type": "slide"
    }
   },
   "source": [
    "## Absurde \n",
    "\n",
    "Le **raisonnement par l'absurde** pour montrer  $P \\implies Q$  repose sur le principe suivant :\n",
    "\n",
    "on suppose à la fois que $P$ est vraie et que $Q$ est fausse et on cherche une contradiction."
   ]
  },
  {
   "cell_type": "markdown",
   "metadata": {
    "slideshow": {
     "slide_type": "slide"
    }
   },
   "source": [
    "#### Exercice 8\n",
    "\n",
    ">Soient $a,b \\ge 0$. Montrer que si $$\\frac{a}{1+b}=\\frac{b}{1+a}$$ alors $a=b$."
   ]
  },
  {
   "cell_type": "markdown",
   "metadata": {
    "slideshow": {
     "slide_type": "slide"
    }
   },
   "source": [
    "#### Exercice 9\n",
    "> Montrer que $\\sqrt2$ est irrationnel. (c'est à dire qu'il ne peut pas s'écrire sous la forme d'une fraction de nombres entiers).\n",
    "\n",
    "<!--par l'absurde en supposant que  $\\frac{a}{1+b}=\\frac{b}{1+a}$ **et** $a \\neq b$.\n",
    "\n",
    "\n",
    "Comme $\\frac{a}{1+b}=\\frac{b}{1+a}$ alors $a(1+a)=b(1+b)$ donc\n",
    "\n",
    "$a+a^2=b+b^2$ d'où $a^2-b^2 = b-a$.\n",
    "\n",
    "Cela conduit à $(a-b)(a+b)= -(a-b)$. Comme $a\\neq b$ alors $a-b\\neq 0$ et donc en divisant\n",
    "par $a-b$ on obtient \n",
    "\n",
    "$a+b=-1$. \n",
    "\n",
    "La somme des deux nombres positifs $a$ et $b$ ne peut être négative.\n",
    "\n",
    "**Nous obtenons une contradiction.**\n",
    "\n",
    "Conclusion : si $\\frac{a}{1+b}=\\frac{b}{1+a}$ alors $a=b$.\n",
    "-->"
   ]
  },
  {
   "cell_type": "markdown",
   "metadata": {
    "slideshow": {
     "slide_type": "slide"
    }
   },
   "source": [
    "Dans la pratique, on peut souvent choisir entre un raisonnement par contraposition ou par l'absurde.\n",
    "\n",
    "Attention cependant de bien préciser quel type de raisonnement vous choisissez et surtout de ne pas changer\n",
    "en cours de rédaction !"
   ]
  },
  {
   "cell_type": "markdown",
   "metadata": {
    "slideshow": {
     "slide_type": "slide"
    }
   },
   "source": [
    "## Contre-exemple\n",
    "\n",
    "Si l'on veut montrer qu'une proposition du type $\\quad \\forall x \\in E, \\quad P(x) \\quad$ est vraie alors pour chaque $x$ de $E$ il faut montrer que $P(x)$ est vraie. \n",
    "\n",
    "Par contre, pour montrer que cette proposition est fausse alors il suffit de trouver $x \\in E$ tel que $P(x)$\n",
    " soit fausse. \n",
    " \n",
    "la négation de $\\forall x \\in E, \\quad P(x)$\n",
    "est $\\exists x \\in E \\: |\\quad \\neg P(x)$.\n",
    "\n",
    "Trouver un tel $x$, c'est trouver un **contre-exemple** à l'assertion $\\forall x \\in E, \\quad P(x)$."
   ]
  },
  {
   "cell_type": "markdown",
   "metadata": {
    "slideshow": {
     "slide_type": "slide"
    }
   },
   "source": [
    "#### Exercice 10\n",
    "\n",
    ">Montrer que la proposition suivante est fausse :\n",
    ">\n",
    "> Tout entier positif est somme de trois carrés.\n",
    "\n",
    "<!--(Les carrés sont les $0^2$, $1^2$, $2^2$, $3^2$,... Par exemple $6 = 2^2+1^2+1^2$.)\n",
    "\n",
    "Un contre-exemple est $7$ : les carrés inférieurs à $7$ sont $0$, $1$, $4$\n",
    "\n",
    "mais avec trois de ces nombres on ne peut faire $7$.\n",
    "-->"
   ]
  },
  {
   "cell_type": "markdown",
   "metadata": {
    "slideshow": {
     "slide_type": "slide"
    }
   },
   "source": [
    "## Récurrence\n",
    "\n",
    "Le **principe de récurrence** permet de montrer qu'une propriété $P_n$, dépendant de $n$,\n",
    "est vraie pour tout $n \\in \\mathbb{N}$.(ou sur une partie de $\\mathbb{N}$)\n",
    "\n",
    "La démonstration par récurrence se déroule en trois étapes : \n",
    "\n",
    "* lors de l'**initialisation** on prouve $P_0$.\n",
    "\n",
    "* Pour l'étape d'**hérédité** on suppose qu'**il existe** $n\\ge 0$  avec $P_n$ vraie, et on démontre alors que  $P_{n+1}$ au rang suivant est vraie.\n",
    "\n",
    "* Enfin dans la **conclusion**, on rappelle que par le principe de récurrence $P_n$ est vraie pour tout $n\\in\\mathbb{N}$."
   ]
  },
  {
   "cell_type": "markdown",
   "metadata": {
    "slideshow": {
     "slide_type": "slide"
    }
   },
   "source": [
    "#### Exemple\n",
    "\n",
    "Montrer que : $ \\forall n\\in \\mathbb{N}$, $2^n > n$.\n",
    "\n",
    "Pour $n\\ge 0$, notons $P_n$ la propriété suivante :\n",
    "\n",
    "$$P_n:2^n > n.$$\n",
    "\n",
    "Nous allons démontrer par récurrence que $P_n$ est vraie pour tout $n\\ge 0$."
   ]
  },
  {
   "cell_type": "markdown",
   "metadata": {
    "slideshow": {
     "slide_type": "slide"
    }
   },
   "source": [
    "**Initialisation.** \n",
    "\n",
    "Pour $n=0$ nous avons $2^0=1>0$. Donc $P_0$ est vraie."
   ]
  },
  {
   "cell_type": "markdown",
   "metadata": {
    "slideshow": {
     "slide_type": "slide"
    }
   },
   "source": [
    "**Hérédité.**\n",
    "\n",
    "**Fixons** $n\\ge 1$. Supposons que $P_n$ soit vraie. Nous allons montrer que $P_{n+1}$ est vraie.\n",
    "$$\n",
    "\\begin{align*}\n",
    " 2^{n+1} &= 2^n + 2^n \\\\\n",
    "         & > n + 2^n \\qquad \\text{ car par } P_n \\text{ nous savons } 2^n > n, \\\\\n",
    "         &> n + 1 \\qquad \\text{ car } 2^n \\ge 1. \\\\\n",
    "\\end{align*}\n",
    "$$\n",
    "Donc $P_{n+1}$ est vraie."
   ]
  },
  {
   "cell_type": "markdown",
   "metadata": {
    "slideshow": {
     "slide_type": "slide"
    }
   },
   "source": [
    "**Conclusion.** \n",
    "\n",
    "Par le principe de récurrence $P_n$ est vraie pour tout $n\\ge 0$, c'est-à-dire\n",
    "$$\\forall n \\ge 0,\\quad 2^n > n $$"
   ]
  },
  {
   "cell_type": "markdown",
   "metadata": {
    "slideshow": {
     "slide_type": "slide"
    }
   },
   "source": [
    "#### Remarques :\n",
    "\n",
    "La rédaction d'une récurrence est assez rigide :\n",
    "\n",
    "* donner un nom à la propriété que vous souhaitez montrer (ici $P_n$).\n",
    "\n",
    "* respecter les trois étapes (même si souvent l'étape d'initialisation est très facile).\n",
    "\n",
    "* En particulier, conserver la première ligne de l'hérédité \n",
    "\n",
    ">Fixons $n\\ge 0$.\n",
    "Supposons que $P_n$ soit vraie. Nous allons montrer que $P_{n+1}$ est vraie."
   ]
  },
  {
   "cell_type": "markdown",
   "metadata": {
    "slideshow": {
     "slide_type": "fragment"
    }
   },
   "source": [
    "* Si on doit démontrer qu'une propriété est vraie pour tout $n\\ge n_0$, alors on commence l'initialisation au rang $n_0$."
   ]
  },
  {
   "cell_type": "markdown",
   "metadata": {
    "slideshow": {
     "slide_type": "fragment"
    }
   },
   "source": [
    "* Le principe de récurrence est basé sur la construction de l'ensemble $\\mathbb{N}$. En effet un des axiomes pour définir $\\mathbb{N}$ est le suivant :\n",
    "\n",
    "> Soit $A$ une partie de $\\mathbb{N}$ qui contient $0$ et telle que si $n \\in A$ alors $n+1 \\in A$.\n",
    "Alors $A=\\mathbb{N}$."
   ]
  },
  {
   "cell_type": "markdown",
   "metadata": {
    "slideshow": {
     "slide_type": "slide"
    }
   },
   "source": [
    "#### Exercice 11\n",
    "\n",
    ">Démontrer que , pour tout $n \\geq 1, $ $$S_n = \\dfrac{1}{1 \\times 2} + \\dfrac{1}{2 \\times 3} + \\dfrac{1}{3 \\times 4} + \\ldots + \\dfrac{1}{n(n+1)} = 1 – \\dfrac{1}{n+1}$$\n",
    "\n",
    "<!--**Initialisation :** \n",
    "$$S_1 = \\dfrac{1}{1\\times (1+1)} = \\dfrac{1}{2}$$\n",
    "\n",
    "or $$1-\\dfrac{1}{1+1} = \\dfrac{1}{2}$$\n",
    "La propriété est donc vraie au rang 1\n",
    "\n",
    "\n",
    "**Hérédité :** Supposons la propriété vraie au rang n\n",
    "$$S_n = \\dfrac{1}{1 \\times 2} + \\dfrac{1}{2 \\times 3} + \\dfrac{1}{3 \\times 4} + \\ldots + \\dfrac{1}{n(n+1)} = 1 – \\dfrac{1}{n+1}$$\n",
    "Au rang $n+1$,  on a donc :\n",
    "\n",
    "$$\n",
    "\\begin{align} S_{n+1}&= \\dfrac{1}{1 \\times 2} + \\dfrac{1}{2 \\times 3} + \\dfrac{1}{3 \\times 4} + \\ldots + \\dfrac{1}{n(n+1)} + \\dfrac{1}{(n+1)(n+2)}\\\\\n",
    "& = 1-\\dfrac{1}{n+1} + \\dfrac{1}{(n+1)(n+2)} \\\\\n",
    "&=1-\\dfrac{n+2}{(n+1)(n+2)} + \\dfrac{1}{(n+1)(n+2)} \\\\\n",
    "&=1-\\dfrac{n+2}{(n+1)(n+2)}-\\dfrac{-1}{(n+1)(n+2)} \\\\\n",
    "&=1-\\dfrac{n+2-1}{(n+1)(n+2)}\\\\\n",
    "&=1-\\dfrac{n+1}{(n+1)(n+2)} \\\\\n",
    "&=1-\\dfrac{1}{n+2}\n",
    "\\end{align}\n",
    "$$\n",
    "\n",
    "\n",
    "\n",
    "La propriété est donc vraie au rang $n+1$\n",
    "\n",
    "\n",
    "**Conclusion :** La propriété est vraie au rang 1. En la supposant vraie au rang n, elle est encore vraie au rang suivant.\n",
    "\n",
    "Par conséquent, pour tout entier naturel $n \\geq 1$\n",
    " on a $$S_n = 1 – \\dfrac{1}{n+1}$$\n",
    " \n",
    "-->"
   ]
  },
  {
   "cell_type": "markdown",
   "metadata": {
    "slideshow": {
     "slide_type": "slide"
    }
   },
   "source": [
    "#### Exercice 12\n",
    "\n",
    ">Pour tout entier naturel $n$ , on considère les deux propriétés suivantes :\n",
    ">\n",
    ">* $P_n: 10^n-1$ est divisible par 9\n",
    ">\n",
    ">* $Q_n: 10^n+1$ est divisible par 9\n",
    ">\n",
    ">Démontrer que si $P_n$ est vraie alors $P_{n+1}$ est vraie.\n",
    ">\n",
    ">Démontrer que si $Q_n$ est vraie alors $Q_{n+1}$ est vraie.\n",
    ">\n",
    ">Un étudiant affirme: \" Donc $P_n$ et $Q_n$ sont vraies pour tout entier naturel $n$\".\n",
    ">\n",
    ">Expliquer pourquoi il commet une erreur.\n",
    ">\n",
    ">Démontrer que $P_n$ est vraie pour tout entier naturel $n$.\n",
    ">\n",
    ">Démontrer que pour tout entier naturel $n$, $Q_n$ est fausse."
   ]
  },
  {
   "cell_type": "markdown",
   "metadata": {
    "slideshow": {
     "slide_type": "slide"
    }
   },
   "source": [
    "#### Exercice 13\n",
    "\n",
    ">Démontrer que pour tout entier naturel non nul $n$ :\n",
    ">\n",
    ">$$\\sum_{k=1}^{n} k×k!=(n+1)!-1.$$"
   ]
  },
  {
   "cell_type": "markdown",
   "metadata": {
    "slideshow": {
     "slide_type": "slide"
    }
   },
   "source": [
    "#### Exercice 14\n",
    "\n",
    ">Soit $(u_n)_{n \\in \\mathbb{N}}$ la suite définie par :\n",
    ">\n",
    ">$u_0 =2,u_1 =1$ et pour tout entier naturel $n$,$$u_{n+2}−u_{n+1}−6u_n =0$$\n",
    ">\n",
    ">Montrer par récurrence que, pour tout $n \\in \\mathbb{N}$, $$u_n = (−2)^n + 3^n.$$"
   ]
  },
  {
   "cell_type": "markdown",
   "metadata": {
    "slideshow": {
     "slide_type": "slide"
    }
   },
   "source": [
    "#### Exercice 15\n",
    "\n",
    ">Démontrer que pour tout entier $n \\in \\mathbb{N}$, $3^{2n} − 2^n$ est divisible par 7.\n",
    ">\n",
    ">Retrouver cette démonstration avec les congruences."
   ]
  },
  {
   "cell_type": "markdown",
   "metadata": {},
   "source": [
    "## Travail personnel\n",
    "\n",
    ">1 - Montrer que pour tout $n \\ge 1$, $1+2+ \\cdots +n = \\frac{n(n+1)}{2}$.\n",
    ">\n",
    ">2 -  Soit $P_n$ la propriété définie pour tout entier $n\\ge 1$ par:\n",
    ">\n",
    ">$$1\\times 2+2\\times 3+....+n\\times(n+1)=\\frac{n(n+1)(n+2)}{3}$$\n",
    ">\n",
    ">* Écrire la propriété au rang 1, au rang 2.\n",
    ">\n",
    ">* Vérifier que la propriété est vraie au rang 1 et au rang 2.\n",
    ">\n",
    ">* Écrire la propriété au rang $n+1$\n",
    ">\n",
    ">* Démontrer que pour tout entier $n\\ge 1$, la propriété $P_n$ est vraie. \n",
    ">\n",
    ">3 -  Soit $n \\in \\mathbb{N}^*$\n",
    ">\n",
    ">Démontrer que si $n$ est le carré d'un entier, alors $2n$ n'est pas le carré d'un entier.\n",
    ">\n",
    ">4 - Montrer que $\\forall (x,y) \\in \\mathbb{R}^2, x^2+y^2 =0 \\Leftrightarrow x=y=0$"
   ]
  }
 ],
 "metadata": {
  "celltoolbar": "Diaporama",
  "kernelspec": {
   "display_name": "Python 3",
   "language": "python",
   "name": "python3"
  },
  "language_info": {
   "codemirror_mode": {
    "name": "ipython",
    "version": 3
   },
   "file_extension": ".py",
   "mimetype": "text/x-python",
   "name": "python",
   "nbconvert_exporter": "python",
   "pygments_lexer": "ipython3",
   "version": "3.8.5"
  },
  "vscode": {
   "interpreter": {
    "hash": "aee8b7b246df8f9039afb4144a1f6fd8d2ca17a180786b69acc140d282b71a49"
   }
  }
 },
 "nbformat": 4,
 "nbformat_minor": 2
}
