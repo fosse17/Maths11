{
 "cells": [
  {
   "cell_type": "markdown",
   "metadata": {},
   "source": [
    "# Exercices de logique\n",
    " \n",
    "**Exercice 1**  Les propositions suivantes sont-elles vraies ou fausses ?\n",
    " \n",
    " (a)  2 divise 3 et 2 divise 4\n",
    " \n",
    " (b)  2 divise 3 ou 2 divise 4\n",
    " \n",
    " (c)  2 divise 3 ou 2 divise 5\n",
    " \n",
    " (d)  2 divise 3 si 2 divise 4\n",
    " \n",
    " (e)  2 divise 4 si 2 divise 3\n",
    " \n",
    " (f)  2 divise 4 seulement si 2 divise 3\n",
    " \n",
    " (g)  2 divise 4 si et seulement si 2 divise 3\n",
    " \n",
    " (h)  2 divise 4 si et seulement si 2 divise 6\n",
    " "
   ]
  },
  {
   "cell_type": "markdown",
   "metadata": {},
   "source": [
    "**Exercice 2** Construire les tables de vérité des propositions suivantes puis indiquer les tautologies et les antilogies.\n",
    "\n",
    "* $p\\wedge \\neg p$  \n",
    "\n",
    "* $p\\vee \\neg p$    \n",
    "\n",
    "* $(p\\wedge q)\\implies p$  \n",
    "\n",
    "* $(p\\vee q) \\implies p$ "
   ]
  },
  {
   "cell_type": "markdown",
   "metadata": {},
   "source": [
    " **Exercice 3**\n",
    "\n",
    "Vérifier que les deux propositions suivantes sont des tautologies.\n",
    "\n",
    "* $[p\\wedge (p\\implies q)]\\implies q$\n",
    "\n",
    "* $[(p\\implies q)\\wedge (q\\implies r)]\\implies (p\\implies r)$"
   ]
  },
  {
   "cell_type": "markdown",
   "metadata": {},
   "source": [
    "**Exercice 4**\n",
    "\n",
    "a) p et q sont deux propositions telles que $p\\implies q$ est vraie\n",
    "\n",
    "* On suppose que p est vraie. Quelle est la valeur de vérité de q?\n",
    "\n",
    "* On suppose que q est fausse. Quelle est la valeur de vérité de p?\n",
    "\n",
    "* On suppose que q est vraie. Quelle est la valeur de vérité de p ?\n",
    "\n",
    "b) p et q sont deux propositions telles que $q\\implies p$ est fausse. \n",
    "\n",
    "Quelles sont les valeurs devérité de p et de q ?\n",
    "\n",
    "c) Quelles sont les valeurs de vérité de p et de q lorsque $p\\iff q$ est vraie"
   ]
  },
  {
   "cell_type": "markdown",
   "metadata": {},
   "source": [
    "**Exercice 5** Construire les tables de vérité des propositions suivantes\n",
    "\n",
    "\n",
    "* $(p\\wedge q)\\vee ((\\neg p)\\wedge (\\neg q))$\n",
    "\n",
    "* $(p\\vee q)\\wedge r$\n",
    "\n",
    "* $p\\vee (q\\wedge r)$\n",
    "\n",
    "* $(p\\implies q)\\implies r$\n",
    "\n",
    "* $p\\implies(q\\implies r)$\n"
   ]
  },
  {
   "cell_type": "markdown",
   "metadata": {},
   "source": [
    "**Exercice 6**.  Vérifier que les deux propositions suivantes sont des tautologies\n",
    "\n",
    "* $(p\\implies q)\\iff[(\\neg q)\\implies(\\neg p)]$\n",
    "\n",
    "* $[p\\implies q)\\implies [(q\\implies r)\\implies (p\\implies r)]$"
   ]
  },
  {
   "cell_type": "markdown",
   "metadata": {},
   "source": [
    "**Exercice 7** \n",
    "\n",
    "p,q et r sont trois propositions telles que $p\\implies q$ et $q\\implies r$ sont vraies.\n",
    "\n",
    "* On suppose que p est vraie. Quelles sont les valeurs de vérité de q et r ?\n",
    "\n",
    "\n",
    "* On suppose que q est fausse. Quelles sont les valeurs de vérité de p et r?\n",
    "\n",
    "\n",
    "* On suppose que q est vraie. Quelles sont les valeurss de vérité de p et r?\n",
    "\n",
    "\n",
    "* On suppose que r est fausse. Quelles sont les valeurs de vérité de p et q ?\n",
    "\n",
    "\n",
    "* Les propositions $ p\\implies r$,$r\\implies p$,$p\\implies(q\\implies r)$,$(p\\vee q)\\implies r$,$(p\\wedge q)\\implies r$ sont-elles vraies ou fausses ?\n"
   ]
  },
  {
   "cell_type": "markdown",
   "metadata": {},
   "source": [
    "**Exercice 8**\n",
    "\n",
    "On considère les propositions suivantes \n",
    "\n",
    "p :   Il pleut \n",
    "\n",
    "q :  Il y a des nuages\n",
    "\n",
    "* Ecrire l’implication $p\\implies q$, sa contraposée, sa réciproque et la contraposée de sa réciproque.\n",
    "\n",
    "* Lesquelles sont vraies ?"
   ]
  },
  {
   "cell_type": "markdown",
   "metadata": {},
   "source": [
    "**Exercice 9** \n",
    "\n",
    "On considère les propositions suivantes \n",
    "\n",
    "* p : l’utilisateur appuie sur la touche Cancel\n",
    "\n",
    "* q : l’utilisateur appuie sur la touche OK\n",
    "\n",
    "* r : le programme se plantes\n",
    "\n",
    "* s : le fichier est effacé\n",
    "\n",
    "On définit les trois propositions suivantes \n",
    "\n",
    "* A : \"Si l’utilisateur appuie sur la touche OK, alors le programme ne se plante pas\"\n",
    "\n",
    "* B : \"Le fichier est effacé si le programme se plante ou l’utilisateur appuie sur la touche Cancel.\"\n",
    "\n",
    "* C : \"L’utilisateur n’appuie pas sur les 2 touches OK et Cancel en même temps donc :  le fichier n’est pas effacé si l’utilisateur appuie sur la touche OK\".\n",
    "\n",
    "Exprimer A , B et C en fonction de p ,q,r et s et des connecteurs logiques $\\wedge$ ,$\\vee$ ,$\\neg$ et $\\implies$ \n",
    "\n",
    "Ecrire la contraposée de A\n",
    "\n",
    "Ecrire la réciproque de B.\n",
    "\n",
    "Ecrire la négation de C.\n",
    "\n",
    "On suppose que A, B et C sont vraies.  \n",
    "\n",
    "    Que se passe-t-il si l’utilisateur appuie sur les touches Cancel et OK en même temps ?  \n",
    "    \n",
    "    On constate que le programme se plante. Que peut-on en déduire   \n",
    "    \n",
    "    On constate que le fichier n’est pas effacé. Que peut-on en déduire ?  \n",
    "    "
   ]
  },
  {
   "cell_type": "markdown",
   "metadata": {},
   "source": [
    "**Exercice 10**\n",
    "\n",
    "Application des lois de Morgan et des regles de calcul\n",
    "\n",
    "Exprimer\n",
    "\n",
    "$p\\wedge q$ en fonction de p,q et des connecteurs $\\vee$ et $\\neg$\n",
    "\n",
    "Exprimer $p\\vee q$ en fonction de p,q et des connecteurs $\\wedge$  et $\\neg$ "
   ]
  },
  {
   "cell_type": "markdown",
   "metadata": {},
   "source": [
    "**Exercice 11**\n",
    "\n",
    "Simplifier les propositions suivantes puis indiquer les tautologies \n",
    "\n",
    "* $p\\implies (p\\vee q)$\n",
    "\n",
    "* $ p \\implies (p\\wedge q)$\n",
    "\n",
    "* $(p\\wedge q)\\vee (\\neg p\\vee \\neg q)$\n",
    "\n",
    "* $p\\implies (p\\implies q)$\n",
    "\n",
    "* $(p\\implies p)\\implies q$\n",
    "\n",
    "* $(p\\vee q)\\implies(p\\wedge q)$\n",
    "\n",
    "* $(p\\wedge q)\\implies (p\\vee q)$"
   ]
  },
  {
   "cell_type": "markdown",
   "metadata": {},
   "source": [
    "**Exercice 12**\n",
    "\n",
    "Dans chacun des cas suivants, simplifier les deux propositions puis dire si elles sontéquivalentes ou pas.\n",
    "\n",
    "* $p\\wedge (p\\implies q)\\qquad \\text{ et }  \\qquad p\\wedge q$\n",
    "\n",
    "\n",
    "* $[p\\implies (q\\implies r)]\\qquad \\text{ et } \\qquad[(p\\wedge q)\\implies r]$\n",
    "\n",
    "\n",
    "* $[(p\\vee q)\\implies r]\\qquad \\text{ et } \\qquad[(p\\implies r)\\wedge (q\\implies r)]$"
   ]
  },
  {
   "cell_type": "markdown",
   "metadata": {},
   "source": [
    "**Exercice 13** Ecrire la négation des propositions suivantes \n",
    "\n",
    "$p\\wedge \\neg q ;\\quad p\\implies q;\\quad p\\iff q;\\quad p\\vee (q\\wedge r);\\quad (\\neg p)\\implies (\\neg q);\\quad (\\neg p\\vee q)\\implies r$"
   ]
  },
  {
   "cell_type": "markdown",
   "metadata": {},
   "source": [
    "**Exercice 14**\n",
    "\n",
    "On construit le connecteur binaire $|$ appelé connecteur de Sheffer par $$ p|q= (\\neg p)\\vee (\\neg q)$$\n",
    "\n",
    "Construire la table de vérité de $p|q$.\n",
    "\n",
    "\n",
    "Calculer $p|p$,  $\\neg (p|q)$,  $\\neg p|\\neg q$\n",
    "\n",
    "\n",
    "En déduire l’écriture des propositions $\\neg p$, $p\\wedge q$, $p\\vee q$, $p\\implies q$ uniquement à l’aide du connecteur de Sheffer"
   ]
  },
  {
   "cell_type": "markdown",
   "metadata": {},
   "source": [
    "#### Exercice 5\n",
    "\n",
    "On considère les propositions suivantes \n",
    "\n",
    "* p : l’utilisateur appuie sur la touche Cancel\n",
    "\n",
    "* q : l’utilisateur appuie sur la touche OK\n",
    "\n",
    "* r : le programme se plante\n",
    "\n",
    "* s : le fichier est effacé\n",
    "\n",
    "On définit les trois propositions suivantes \n",
    "\n",
    "* A : \"Si l’utilisateur appuie sur la touche OK, alors le programme ne se plante pas\"\n",
    "\n",
    "* B : \"Le fichier est effacé si le programme se plante ou l’utilisateur appuie sur la touche Cancel.\"\n",
    "\n",
    "* C : \"L’utilisateur n’appuie pas sur les 2 touches OK et Cancel en même temps donc :  le fichier n’est pas effacé si l’utilisateur appuie sur la touche OK\".\n",
    "\n",
    "1. Exprimer A , B et C en fonction de p ,q,r et s et des connecteurs logiques $\\wedge$ ,$\\vee$ ,$\\neg$ et $\\implies$ \n",
    "\n",
    "2. Ecrire la contraposée de A\n",
    "\n",
    "3. Ecrire la réciproque de B.\n",
    "\n",
    "4. Ecrire la négation de C.\n",
    "\n",
    "On suppose que A, B et C sont vraies.  \n",
    "\n",
    "5. Que se passe-t-il si l’utilisateur appuie sur les touches Cancel et OK en même temps ?  \n",
    "    \n",
    "6. On constate que le programme se plante. Que peut-on en déduire   \n",
    "    \n",
    "7. On constate que le fichier n’est pas effacé. Que peut-on en déduire ?  "
   ]
  }
 ],
 "metadata": {
  "kernelspec": {
   "display_name": "Python 3.10.1 64-bit",
   "language": "python",
   "name": "python3"
  },
  "language_info": {
   "codemirror_mode": {
    "name": "ipython",
    "version": 3
   },
   "file_extension": ".py",
   "mimetype": "text/x-python",
   "name": "python",
   "nbconvert_exporter": "python",
   "pygments_lexer": "ipython3",
   "version": "3.10.1"
  },
  "vscode": {
   "interpreter": {
    "hash": "aee8b7b246df8f9039afb4144a1f6fd8d2ca17a180786b69acc140d282b71a49"
   }
  }
 },
 "nbformat": 4,
 "nbformat_minor": 4
}
