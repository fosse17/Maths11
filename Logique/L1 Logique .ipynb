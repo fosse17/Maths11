{
 "cells": [
  {
   "cell_type": "markdown",
   "metadata": {
    "hide_input": true,
    "slideshow": {
     "slide_type": "slide"
    }
   },
   "source": [
    " <table style=\"width:100%;\">\n",
    "    <tr style=\"display:none\">\n",
    "        <td></td>\n",
    "        <td></td>\n",
    "    </tr>\n",
    "    <tr style=\"height:3em\">\n",
    "        <td style=\"width:20%;align:left\"><img src=\"images/iut_bordeaux.jpg\"></td>\n",
    "        <td style=\"width:60%;font: bold 2em 'Fira Sans', serif;text-align:center\"> Logique 1 :<br>\n",
    "        Les connecteurs logiques</td>\n",
    "        <td style=\"width:20%;font: bold 1.3em 'Fira Sans', serif;vertical-align:top;\">TD1<br><i>Logique et raisonnements</i></td>\n",
    "    </tr>\n",
    "</table>"
   ]
  },
  {
   "cell_type": "markdown",
   "metadata": {
    "slideshow": {
     "slide_type": "slide"
    }
   },
   "source": [
    "## Qu’est ce que la logique ?\n",
    "\n",
    "### Définition\n",
    "La logique vient du grec *« logos »* qui signifie *« parole, discours »*, et par extension *« rationalité »*, la logique est donc la science de la raison.  \n",
    "Plus précisément, c’est la science qui étudie les règles que doivent respecter tout raisonnement et qui permet de distinguer un raisonnement valide d’un raisonnement qui ne l’est pas.  "
   ]
  },
  {
   "cell_type": "markdown",
   "metadata": {
    "slideshow": {
     "slide_type": "slide"
    }
   },
   "source": [
    "### (Très) brève description des mathématiques\n",
    "Les mathématiques actuelles sont bâties de la façon suivante :  \n",
    "- On part d’un petit nombre d’affirmations, appelées **axiomes**, supposées vraies à priori (et que l’on ne cherche donc pas à démontrer) ;\n",
    "- On définit ensuite la notion de **démonstration** (en définissant par exemple de ce qu’est une implication, une équivalence...) ;  \n",
    "- On décide enfin de qualifier de vraie toute affirmation obtenue en fin de démonstration et on appelle **« théorème »** une telle affirmation (vraie).  \n",
    "A partir des axiomes, on obtient donc des théorèmes qui viennent petit à petit enrichir la théorie mathématique.   "
   ]
  },
  {
   "cell_type": "markdown",
   "metadata": {
    "slideshow": {
     "slide_type": "slide"
    }
   },
   "source": [
    "## Proposition\n",
    "\n",
    "Un scientifique étudie des objets, à propos desquels il énonce des faits (ou propositions).  \n",
    "La logique manipule de façon formelle les propositions.\n",
    "\n",
    "### Définition\n",
    "En logique, une **proposition** (ou **assertion**) est   tout simplement une affirmation.   \n",
    "Il faut faire attention que cette affirmation puisse être vrai ou fausse.  \n",
    "Un principe fondamental pour la logique est ce qu’on appelle le **principe du tiers exclu** : une proposition est soit vraie soit fausse mais pas autre chose.  \n",
    "On dit que la **« valeur de vérité »** d’une proposition est « vraie » ou « fausse ».\n",
    "\n",
    "On peut noter également **1 le vrai**, et **0 le faux**.<br>"
   ]
  },
  {
   "cell_type": "markdown",
   "metadata": {
    "slideshow": {
     "slide_type": "slide"
    }
   },
   "source": [
    "#### Exemple\n",
    "- *« $\\pi$ est un nombre entier »* est une proposition fausse. <br>\n",
    "- *« 18 est divisible par 3 »* est une proposition vraie. <br>\n",
    "\n",
    "\n",
    "#### Remarque \n",
    "La phrase *« Cette proposition est fausse. »* n’est ni vraie, ni fausse. <br>\n",
    "Ce n’est donc pas une proposition logique.  <br>"
   ]
  },
  {
   "cell_type": "markdown",
   "metadata": {
    "slideshow": {
     "slide_type": "slide"
    }
   },
   "source": [
    "#### Exercice 1 \n",
    "> Les énoncés suivants sont-ils des propositions ? \n",
    "> 1. $\\dfrac{1}{2}+\\dfrac{1}{3}=\\dfrac{1}{5}$  \n",
    ">2. _Ouvre la fenêtre !_ \n",
    ">3. _Tous les chats sont gris._\n",
    ">4. _Le ou la prof de maths est sympathique._\n",
    ">5. _Il y a une infinité de nombres premiers._\n",
    ">6. _Demain, il va pleuvoir._ \n",
    ">7. _Je mens._"
   ]
  },
  {
   "cell_type": "markdown",
   "metadata": {
    "slideshow": {
     "slide_type": "slide"
    }
   },
   "source": [
    "## Prédicat\n",
    "\n",
    "En mathématiques, on travaille souvent avec des variables.<br>\n",
    "Définir une variable $x$ signifie que l'on définit aussi l'ensemble dans lequel elle varie, soit $E$.  \n",
    "$x$ peut valoir n'importe quel élément de $E$ et on note $x \\in E$.\n",
    "\n",
    "Un **prédicat** est un énoncé qui peut contenir plusieurs variables et qui devient une proposition chaque fois que les variables sont fixées dans leurs ensembles respectifs et deviennent des constantes.\n",
    "\n",
    "#### Exemple\n",
    "- *$x$* est un nombre impair n'est pas un prédicat.<br>\n",
    "- *$x \\in \\mathbb{N}$* est un nombre impair est un prédicat.\n",
    "\n",
    "<br>\n",
    "\n",
    "Lorsqu'un prédicat dépend d’une variable $x$, on le note souvent $P(x)$.\n",
    "\n",
    "#### Exemple\n",
    "- $P(x) : x \\in \\mathbb{R}, x^2 <2.$"
   ]
  },
  {
   "cell_type": "markdown",
   "metadata": {
    "slideshow": {
     "slide_type": "slide"
    }
   },
   "source": [
    "#### Exercice  2\n",
    "> Les énoncés suivants sont-ils des prédicats ? \n",
    ">1. $P(x) : x\\in \\mathbb{R} ,x=\\pi.$\n",
    ">2. $P(x,y) : \\ln(xy)=\\ln(x)+\\ln(y).$\n",
    ">3. $P(t) :\\cos(t)=1.$\n",
    ">4. $P(x) : x$ est positif.\n",
    ">5. $P(x,y) :x \\in \\mathbb{R},y \\in \\mathbb{R}, x=2y.$\n",
    ">6. $P(x) : x \\in \\mathbb{R}, x^2 \\geq 1.$\n",
    " "
   ]
  },
  {
   "cell_type": "markdown",
   "metadata": {
    "slideshow": {
     "slide_type": "slide"
    }
   },
   "source": [
    "## Connecteurs logiques et tables de vérité\n",
    "\n",
    "Si $P$ est une proposition et $Q$ est une autre proposition, nous allons définir de nouvelles propositions construites à partir de $P$ et de $Q$.  \n",
    "Lorsque l’on combine des propositions grâce à des connecteurs logiques, on obtient des phrases qui ont aussi une valeur de vérité.  \n",
    "Le principe du tiers exclu s’applique aussi à ces phrases. "
   ]
  },
  {
   "cell_type": "markdown",
   "metadata": {
    "slideshow": {
     "slide_type": "slide"
    }
   },
   "source": [
    "### La négation \"non\" (  $\\neg$ )\n",
    "\n",
    "C’est le connecteur le plus simple de tous.  \n",
    "Considérons une proposition $P$, la proposition *« non $P$ »* est vraie si $P$ est faux, et fausse si $P$ est vraie.  \n",
    "On passe d'une proposition $P$ à sa négation par le biais du symbole $\\neg$ ou $\\overline P$.\n",
    "\n",
    "\n",
    "$$\n",
    "\\begin{array}{c|c}\n",
    "P  & \\neg P \\\\ \\hline\n",
    "V  & \\color{red}F    \\\\ \\hline\n",
    "{F} & \\color{red}{V}  \\\\\n",
    "\\end{array}\n",
    "$$"
   ]
  },
  {
   "cell_type": "markdown",
   "metadata": {
    "slideshow": {
     "slide_type": "slide"
    }
   },
   "source": [
    "#### Exercice  3\n",
    "> Donner le négation de chaque proposition :\n",
    ">- $P$ : $x=2$.  <br> \n",
    ">- $P$ : *$x<3$*. <br> \n",
    ">- $P$ : \"*Tous les étudiants sont travailleurs.*\""
   ]
  },
  {
   "cell_type": "markdown",
   "metadata": {
    "slideshow": {
     "slide_type": "slide"
    }
   },
   "source": [
    "### La conjonction : connecteur logique \"et\" (  $\\wedge$ )\n",
    "\n",
    "Ce connecteur permet de former des formules comme « $P$ et $Q$ ».    \n",
    "La proposition $P$ et $Q$ est vraie si $P$ est vraie et $Q$ est vraie.\n",
    "La proposition $P$ et $Q$ est fausse sinon.\n",
    "\n",
    "On résume ceci en une **table de vérité** :\n",
    "\n",
    "$$\n",
    "\\begin{array}{c|c|c}\n",
    "P \\wedge Q & {V} & {F} \\\\ \\hline\n",
    "V  & \\color{red}V  & {F} \\\\ \\hline\n",
    "{F} & {F} & {F} \\\\\n",
    "\\end{array}\n",
    "$$\n",
    "\n",
    "#### Exemple\n",
    "- $p$ : _\"n est un nombre entier.\"_  \n",
    "\n",
    "- $q$ : _\"n est compris entre 7,5 et 11,3\"._ \n",
    "\n",
    "La proposition  $P : p \\wedge q$ est vraie pour $n\\in\\{8 ; 9 ; 10; 11\\}$."
   ]
  },
  {
   "cell_type": "markdown",
   "metadata": {
    "slideshow": {
     "slide_type": "slide"
    }
   },
   "source": [
    "### La disjonction : connecteur logique \"ou\" ( $\\vee$ )\n",
    "\n",
    "Ce connecteur permet de former des formules comme « $P$ ou $Q$ ».  \n",
    "La proposition $P$ ou $Q$ est vraie si l'une (au moins) des deux propositions $P$ ou $Q$ est vraie.  \n",
    "La proposition $P$ ou $Q$ est fausse si les deux propositions $P$ et $Q$ sont fausses.\n",
    "\n",
    "On reprend ceci dans la table de vérité :\n",
    "\n",
    "$$\n",
    "\\begin{array}{c|c|c}\n",
    "P \\vee Q & {V} & {F} \\\\ \\hline\n",
    "V  & \\color{red}V  & \\color{red}{V} \\\\ \\hline\n",
    "{F} & \\color{red}{V} & {F} \\\\\n",
    "\\end{array}\n",
    "$$\n",
    "\n",
    "#### Exemple\n",
    "\n",
    "- $p$ : _\"n est un nombre entier.\"_  \n",
    "- $q$ : _\"n est compris entre 7,5 et 11,3\"._ \n",
    "\n",
    "La proposition  $P : p \\vee q$ est vraie pour $n$ entier ( ex : $ 0 ; 4 ; 10...)$ ou $7,5 \\leq n\\leq 11,3$ (ex : $ 8,3 \\;; \\;10\\; ;\\; 11,75...$).\n",
    "\n",
    "\n",
    "#### Remarque\n",
    "Dans le langage courant, *« ou »* a en général un sens exclusif (fromage *« ou »*\n",
    "dessert).<br> En mathématiques, le *« ou »* est toujours inclusif : si $P$ et $Q$ sont toutes les deux\n",
    "vraies, alors $P \\vee Q$ est vraie.  \n",
    "Prenons cette phrase : *Supposons que $m$ ou $n$ est impair.* Le mathématicien exprime que (au moins) l'un des deux est impair et que l'autre peut être pair ou impair.  \n"
   ]
  },
  {
   "cell_type": "markdown",
   "metadata": {
    "slideshow": {
     "slide_type": "slide"
    }
   },
   "source": [
    "#### Exercice 4\n",
    ">Les propositions suivantes sont-elles vraies ou fausses ?\n",
    " >- $2$ divise $3$ et $2$ divise $4$.\n",
    " >- $2$ divise $3$ ou $2$ divise $4$.\n",
    " >- $2$ divise $3$ ou $2$ divise $5$."
   ]
  },
  {
   "cell_type": "markdown",
   "metadata": {
    "slideshow": {
     "slide_type": "slide"
    }
   },
   "source": [
    "### L'implication ( $\\implies$)\n",
    "\n",
    "Contrairement à sa signification usuelle, qui suppose entre deux propositions un lien sémantique de type cause-effet, il ne faut voir dans l'implication logique qu'un simple procédé syntaxique qui permet à partir de propositions élémentaires $P$ et $Q$ d'écrire la nouvelle proposition \"Si $P$ alors $Q$\".\n",
    "\n",
    "La proposition **$P \\implies Q$** se lit en français $P$ implique $Q$.  \n",
    "Elle se lit aussi  **si $P$ alors $Q$** ou **$Q$ si $P$**.<br>  \n",
    "\n",
    "Dans une implication du type $P \\implies Q$, il y a deux parties :  \n",
    "- l'énoncé $P$ qui est appelé l'**hypothèse** ou la **condition**, et\n",
    "- l'énoncé $Q$ qui est appelé la **conclusion**.\n",
    "\n",
    "La définition mathématique est la suivante :\n",
    "La proposition **($\\neg P$) ou $Q$** est notée **$P \\implies Q$**."
   ]
  },
  {
   "cell_type": "markdown",
   "metadata": {
    "slideshow": {
     "slide_type": "slide"
    }
   },
   "source": [
    "$$\n",
    "\\begin{array}{c|c|c}\n",
    "\\color{olive}P \\implies \\color{blue}Q  & \\color{blue}V & \\color{blue}F \\\\ \\hline\n",
    "\\color{olive}V & \\color{red}V & \\color{red}F \\\\ \\hline\n",
    "\\color{olive}F & \\color{red}V & \\color{red}V \\\\\n",
    "\\end{array}\n",
    "$$\n",
    "\n",
    "ou \n",
    "$$\n",
    "\\begin{array}{c|c|c}\n",
    "\\color{olive}P  & \\color{blue}Q & \\color{olive}P \\implies \\color{blue}Q  \\\\ \\hline\n",
    "\\color{olive}V & \\color{blue}V & \\color{red}V \\\\ \n",
    "\\color{olive}V & \\color{blue}F & \\color{red}F \\\\\n",
    "\\color{olive}F & \\color{blue}V & \\color{red}V \\\\\n",
    "\\color{olive}F & \\color{blue}F & \\color{red}V \\\\\n",
    "\\end{array}\n",
    "$$\n",
    "\n",
    "#### Remarque\n",
    "- Si $P$ est fausse alors l'assertion $P \\implies Q$ est toujours vraie.\n",
    "- Une implication n'est fausse que dans le cas **vrai implique faux**."
   ]
  },
  {
   "cell_type": "markdown",
   "metadata": {},
   "source": [
    "#### Exercice 5  \n",
    "\n",
    ">1 . $P$ et $Q$ sont deux propositions telles que $P\\implies Q$ est vraie.\n",
    ">* On suppose que $P$ est vraie. Quelle est la valeur de vérité de $Q$ ?\n",
    ">* On suppose que $Q$ est fausse. Quelle est la valeur de vérité de $P$ ?\n",
    ">* On suppose que $Q$ est vraie. Quelle est la valeur de vérité de $P$ ? \n",
    "\n",
    "> 2 . $P$ et $Q$ sont deux propositions telles que $Q\\implies P$ est fausse. \n",
    ">* Quelles sont les valeurs de vérité de $P$ et de $Q$ ?\n"
   ]
  },
  {
   "cell_type": "markdown",
   "metadata": {
    "slideshow": {
     "slide_type": "slide"
    }
   },
   "source": [
    "#### Exercice 6\n",
    ">Les propositions suivantes sont-elles vraies ou fausses ?\n",
    "> * pour tout $ x$  dans $\\mathbb{R}^+$, $0 \\le x \\le 25 \\implies \\sqrt x \\le 5$.  \n",
    "> * pour tout $x$ dans $\\mathbb{R}$, $x \\in ]-\\infty, -4[ \\implies x^2+3x-4 > 0$.  \n",
    "> * pour tout $\\theta$ dans $ \\mathbb{R}$,$ \\sin(\\theta)=0 \\implies \\theta = 0$.\n",
    ">* $ 1$ est un nombre premier implique que $27$ est un nombre premier.   \n",
    ">*  Si $2$ divise $4$ alors $2$ divise $3$. \n",
    ">* $2$ divise $4$ si $2$ divise $3$.\n",
    " "
   ]
  },
  {
   "cell_type": "markdown",
   "metadata": {
    "slideshow": {
     "slide_type": "slide"
    }
   },
   "source": [
    "### L'équivalence ( $\\iff$)\n",
    "\n",
    "L'équivalence est définie par :\n",
    "**$P \\iff Q$**  est la proposition **$(P \\implies Q)   \\wedge   (Q \\implies P)$**.\n",
    "\n",
    "On dira **$P$ est équivalent à $Q$** ou **$P$ si et seulement si $Q$**. \n",
    "\n",
    "Cette proposition est vraie lorsque $P$ et $Q$ sont vraies ou lorsque $P$ et $Q$ sont fausses.  \n",
    "La table de vérité est :\n",
    "\n",
    "$$\n",
    "\\begin{array}{c|c|c}\n",
    "\\color{olive}P \\iff \\color{blue}Q  & \\color{blue}V & \\color{blue}F \\\\ \\hline\n",
    "\\color{olive}V & \\color{red}V & \\color{red}F \\\\ \\hline\n",
    "\\color{olive}F & \\color{red}F & \\color{red}V \\\\\n",
    "\\end{array}\n",
    "$$\n",
    "\n",
    "#### **Exemple**\n",
    "\n",
    "* Pour $x,x' \\in \\mathbb{R}$, l'équivalence : (**$x\\times x'=0) \\iff (x=0 \\vee x'=0)$** est vraie.\n",
    "\n",
    "\n",
    "* Pour $x,x' \\in \\mathbb{R}$, l'équivalence : (**$x\\times x'=0) \\iff (x=0 \\wedge x'=0)$** est fausse.\n",
    "\n",
    "\n",
    "* Voici une équivalence **toujours fausse** (quelle que soit la proposition $P$) : $P \\iff \\neg(P)$.\n"
   ]
  },
  {
   "cell_type": "markdown",
   "metadata": {
    "slideshow": {
     "slide_type": "slide"
    }
   },
   "source": [
    "#### Exercice 7\n",
    "> Les propositions suivantes sont-elles vraies ou fausses ?  \n",
    ">1. Pour tout $x \\in \\mathbb{R}, x>1 \\iff x^2>1$.  \n",
    ">2. Pour tout $ x \\in \\mathbb{R}-\\{-1,1\\},\\dfrac{(x-1)(x-2)}{x^2-1}=0 \\iff x=2$.  \n",
    ">3. Tout triangle ABC est rectangle ssi $AB^2=AC^2+CB^2.$  \n",
    ">4. pour tout $n \\in \\mathbb{N}$, $n$ divise $6$ si et seulement si $n$ divise $12$.\n",
    " "
   ]
  },
  {
   "cell_type": "markdown",
   "metadata": {
    "slideshow": {
     "slide_type": "slide"
    }
   },
   "source": [
    "### La disjonction exclusive ( XOR $\\oplus$ ) :\n",
    "\n",
    " $P\\oplus Q$ correspond à la proposition $(P ∨ Q) ∧ \\neg(P ∧ Q)$ ou encore à $(P \\wedge \\neg Q )\\vee (\\neg P \\wedge Q)$   \n",
    " c'est-à-dire en français : soit $P$, soit $Q$, mais pas les deux à la fois.  \n",
    "\n",
    "$$\n",
    "\\begin{array}{c|c|c}\n",
    "P   & Q & P \\;\\oplus  \\;Q \\\\ \\hline\n",
    "1 & 1 & 0 \\\\ \\hline\n",
    "1 & 0 & 1 \\\\ \\hline\n",
    "0 & 1 & 1 \\\\ \\hline\n",
    "0 & 0 & 0 \\\\ \n",
    "\\end{array}\n",
    "$$\n"
   ]
  },
  {
   "cell_type": "markdown",
   "metadata": {
    "slideshow": {
     "slide_type": "slide"
    }
   },
   "source": [
    "#### Exercice 8\n",
    "\n",
    ">Exprimer en fonction $p$, 0 ou 1 les propositions suivantes :\n",
    ">- $p \\oplus 1=$\n",
    ">- $p \\oplus 0=$\n",
    ">- $p \\oplus p=$\n",
    ">- $p \\oplus \\overline{p}=$"
   ]
  },
  {
   "cell_type": "markdown",
   "metadata": {
    "slideshow": {
     "slide_type": "slide"
    }
   },
   "source": [
    "#### Exercice 9\n",
    "\n",
    ">$P$ : $m$ est un entier pair.  \n",
    ">$Q$ : $n$ est un entier pair.  \n",
    "\n",
    ">Exprimer en français l'expression $P \\oplus Q$.  "
   ]
  },
  {
   "cell_type": "markdown",
   "metadata": {
    "slideshow": {
     "slide_type": "slide"
    }
   },
   "source": [
    "### D’autres connecteurs ...\n",
    "Ces connecteurs ne sont pas ou peu utilisés en mathématiques, mais plutôt en électronique et en informatique.  \n",
    "\n",
    "Les « portes logiques » correspondent à ces connecteurs.  \n",
    "La porte NOT est le « non » logique, la porte AND est le « et » et la porte OR est le « ou ».  \n",
    "\n",
    "On trouve aussi la porte NOR (NOT OR).  \n",
    "Compléter le tableau correspondant à la porte NOR :\n",
    "$$\n",
    "\\begin{array}{c|c|c}\n",
    "P   & Q & P \\;\\downarrow \\;Q \\\\ \\hline\n",
    "1 & 1 &  \\\\ \\hline\n",
    "1 & 0 &  \\\\ \\hline\n",
    "0 & 1 &  \\\\ \\hline\n",
    "0 & 0 &  \\\\ \n",
    "\\end{array}\n",
    "$$\n",
    "\n",
    "\n",
    "\n",
    "La porte NAND (NOT AND).  \n",
    "Compléter le tableau correspondant à la porte NAND :\n",
    "$$\n",
    "\\begin{array}{c|c|c}\n",
    "P   & Q & P \\;\\uparrow \\;Q \\\\ \\hline\n",
    "1 & 1 &  \\\\ \\hline\n",
    "1 & 0 &  \\\\ \\hline\n",
    "0 & 1 &  \\\\ \\hline\n",
    "0 & 0 &  \\\\ \n",
    "\\end{array}\n",
    "$$"
   ]
  }
 ],
 "metadata": {
  "celltoolbar": "Diaporama",
  "kernelspec": {
   "display_name": "Python 3",
   "language": "python",
   "name": "python3"
  },
  "language_info": {
   "codemirror_mode": {
    "name": "ipython",
    "version": 3
   },
   "file_extension": ".py",
   "mimetype": "text/x-python",
   "name": "python",
   "nbconvert_exporter": "python",
   "pygments_lexer": "ipython3",
   "version": "3.8.5"
  },
  "latex_envs": {
   "LaTeX_envs_menu_present": false,
   "autoclose": true,
   "autocomplete": true,
   "bibliofile": "biblio.bib",
   "cite_by": "apalike",
   "current_citInitial": 1,
   "eqLabelWithNumbers": true,
   "eqNumInitial": 1,
   "hotkeys": {
    "equation": "Ctrl-E",
    "itemize": "Ctrl-I"
   },
   "labels_anchors": false,
   "latex_user_defs": false,
   "report_style_numbering": true,
   "user_envs_cfg": true
  },
  "rise": {
   "scroll": true,
   "theme": "simple",
   "transition": "slide"
  },
  "vscode": {
   "interpreter": {
    "hash": "aee8b7b246df8f9039afb4144a1f6fd8d2ca17a180786b69acc140d282b71a49"
   }
  }
 },
 "nbformat": 4,
 "nbformat_minor": 2
}
