{
 "cells": [
  {
   "cell_type": "markdown",
   "metadata": {
    "slideshow": {
     "slide_type": "slide"
    }
   },
   "source": [
    "<table style=\"width:100%;\">\n",
    "    <tr style=\"display:none\">\n",
    "        <td></td>\n",
    "        <td></td>\n",
    "    </tr>\n",
    "    <tr style=\"height:3em\">\n",
    "        <td style=\"width:20%;align:left\"><img src=\"images/iut_bordeaux.jpg\"></td>\n",
    "        <td style=\"width:60%;font: bold 2em 'Fira Sans', serif;text-align:center\"> Logique 3 <br>\n",
    "        Négation, contraposée, réciproque</td>\n",
    "        <td style=\"width:20%;font: bold 1.2em 'Fira Sans', serif;vertical-align:top;\">TD5<br><i>Logique et raisonnements</i></td>\n",
    "    </tr>\n",
    "</table>"
   ]
  },
  {
   "cell_type": "markdown",
   "metadata": {
    "slideshow": {
     "slide_type": "slide"
    }
   },
   "source": [
    "## Théorème\n",
    "\n",
    "La notion de théorème s'applique aux prédicats.  \n",
    "\n",
    "Soit $P$ un prédicat, $P$ est un théorème si $P$ prend la valeur de vérité vraie pour toutes les valeurs que la (ou les) variable(s) peut prendre.\n",
    "\n",
    "#### Remarque\n",
    "\n",
    "Lorsque $P$ est un théorème, on dira que $P$ est vrai.  \n",
    "\n",
    "Lorsqu'il existe une valeur ( au moins ) de la (ou les) variable(s) pour laquelle $P$ est faux, on dira que $P$ est faux ou n'est pas un théorème.\n"
   ]
  },
  {
   "cell_type": "markdown",
   "metadata": {
    "slideshow": {
     "slide_type": "slide"
    }
   },
   "source": [
    "#### Exercice 1\n",
    "\n",
    "> Les énoncés suivants sont-ils des théorèmes ? \n",
    ">\n",
    "> 1. Pour tout $x\\in \\mathbb{R}$, pour tout $y \\in \\mathbb{R},\\; x=y \\iff x^2=y^2$. \n",
    ">\n",
    "> 2. Pour tout $q \\in \\mathbb{R} \\backslash \\{1\\},  \\sum\\limits_{k=0}^n q^k=\\dfrac{1-q^{n+1}}{1-q}$.\n",
    ">\n",
    "> 3. Pour tout $n$ dans $\\mathbb{N}$, si $n$ est un entier impair alors $n^2$ est impair."
   ]
  },
  {
   "cell_type": "markdown",
   "metadata": {
    "slideshow": {
     "slide_type": "slide"
    }
   },
   "source": [
    "## Négation d'une implication\n",
    "\n",
    "La négation d’une implication $P \\implies Q$ est  : $$(\\overline{P \\implies Q}) \\iff (P \\wedge \\overline Q) $$\n",
    "\n",
    "**Attention** : $P\\implies Q$ **n'est pas équivalent à** $\\overline{P} \\implies  \\overline Q$ même si le langage usuel nous conduit à penser que c'est vrai.  "
   ]
  },
  {
   "cell_type": "markdown",
   "metadata": {
    "slideshow": {
     "slide_type": "fragment"
    }
   },
   "source": [
    "#### Exercice 2\n",
    "> \n",
    "> Démontrer cette équivalence par une table de vérité puis par un calcul propositionnel. \n",
    "> "
   ]
  },
  {
   "cell_type": "markdown",
   "metadata": {
    "slideshow": {
     "slide_type": "slide"
    }
   },
   "source": [
    "#### Exercice 3\n",
    "> L' énoncé suivant est-il un théorème ?   \n",
    "> - Pour tout $n\\in\\mathbb{N}$, si $n$ est divisible par $4$ et $n$ est divisible par 6, alors n est divisible par $24$."
   ]
  },
  {
   "cell_type": "markdown",
   "metadata": {
    "slideshow": {
     "slide_type": "slide"
    }
   },
   "source": [
    "## Contraposée  d'une implication\n",
    "\n",
    "Que pensez-vous des 2 propositions suivantes ? : \n",
    "\n",
    "- Si ce polygone a trois côtés alors ce polygone est un triangle.\n",
    "\n",
    "- Si ce polygone n'est pas un triangle alors il n'a pas trois côtés.\n",
    "\n",
    "La proposition $P \\implies Q$ a pour **contraposée** la proposition  $(\\overline Q) \\implies (\\overline P)$.\n",
    "\n",
    "Une implication et sa contraposée sont vraies en même temps et fausses en même temps.  \n",
    "\n",
    "Elles sont **équivalentes**.\n",
    "\n",
    "Cette équivalence sera utilisée dans les techniques de démonstration."
   ]
  },
  {
   "cell_type": "markdown",
   "metadata": {
    "slideshow": {
     "slide_type": "slide"
    }
   },
   "source": [
    "#### Exercice 4\n",
    "\n",
    "> 1. Montrer en utilisant la simplification logique que les propositions $P \\implies Q$ et $(\\overline Q) \\implies (\\overline P)$ sont équivalentes.<br>\n",
    ">\n",
    "> 2. Ecrire la contraposée des énoncés suivants :\n",
    ">\n",
    "> - Le théorème de Pythagore. \n",
    ">\n",
    "> - Si $n$ est un nombre entier premier, alors $n=2$ ou $n$ est impair.\n",
    ">\n",
    "> 3. Démontrer par contraposée les énoncés suivants :  \n",
    ">\n",
    "> -  Si $n^2$ est un entier impair alors $n$ est un entier impair.\n",
    ">\n",
    "> -  $x \\in \\mathbb{R}^+$, si $x$ est irrationnel alors $\\sqrt{x}$ est irrationnel.\n",
    "\n"
   ]
  },
  {
   "cell_type": "markdown",
   "metadata": {
    "slideshow": {
     "slide_type": "slide"
    }
   },
   "source": [
    "## Réciproque d'une implication\n",
    "\n",
    "La proposition $P \\implies Q$ a pour **réciproque** la proposition : $Q \\implies P$\n",
    "\n",
    "Une implication est son implication réciproque **non pas toujours la même valeur de vérité**.\n",
    "\n",
    "#### Exemple  \n",
    "\n",
    "* Pour tout $x \\in \\mathbb{R},\\quad x=1 \\implies x^2=1$ est vrai.\n",
    "\n",
    "* Pour tout $x \\in \\mathbb{R},\\quad x^2=1 \\implies x=1$ est faux."
   ]
  },
  {
   "cell_type": "markdown",
   "metadata": {
    "slideshow": {
     "slide_type": "slide"
    }
   },
   "source": [
    "#### Exercice 5\n",
    "\n",
    "\n",
    ">On considère les propositions suivantes :\n",
    ">\n",
    "> $p$ :  *Il pleut.* \n",
    ">\n",
    "> $q$ :  *Il y a des nuages.*\n",
    ">\n",
    "> Ecrire l’implication $p\\implies q$, sa contraposée, sa réciproque, sa négation et la contraposée de sa réciproque.  \n",
    ">\n",
    "> Lesquelles sont vraies ?"
   ]
  },
  {
   "cell_type": "markdown",
   "metadata": {
    "slideshow": {
     "slide_type": "slide"
    }
   },
   "source": [
    "#### Exercice 6\n",
    "\n",
    "> Pour tout $n$ entier naturel, $n \\geq 2$, l’implication ($n$ premier et $n>2$) $\\implies$ ($n$ impair) est vraie.\n",
    ">\n",
    "> Ecrire la contraposée, la réciproque et la négation de cette implication et dites à chaque fois s'il s'agit d'un théorème."
   ]
  },
  {
   "cell_type": "markdown",
   "metadata": {
    "slideshow": {
     "slide_type": "slide"
    }
   },
   "source": [
    "#### Exercice 7\n",
    "\n",
    ">Pour $x$ et $y$ des réels et $a$ un réel strictement positif, donner la contraposée, la réciproque, et la négation de l'implication suivante :\n",
    "> $$x<y \\implies ax < ay$$\n",
    ">\n",
    ">Lesquelles sont des théorèmes ?"
   ]
  },
  {
   "cell_type": "markdown",
   "metadata": {
    "slideshow": {
     "slide_type": "slide"
    }
   },
   "source": [
    "#### Exercice 8\n",
    "\n",
    ">Soit $m$ et $n$ des entiers naturels,  donner la contraposée, la réciproque, et la négation de l'implication suivante :\n",
    ">\n",
    ">$$(mn \\text{ est pair}) \\implies ((m \\text{ est pair}) \\text{ ou } (n \\text{ est pair}))$$\n",
    ">\n",
    ">Lesquelles sont des théorèmes ?"
   ]
  },
  {
   "cell_type": "markdown",
   "metadata": {
    "slideshow": {
     "slide_type": "slide"
    }
   },
   "source": [
    "## Nécessaire et suffisante\n",
    "\n",
    "Les concepts logiques sont souvent établis sous la forme de condition nécessaire et suffisante.  \n",
    "\n",
    "Heureusement, le sens des mots \"nécessaire\" et \"suffisante\" rejoint le langage courant. \n",
    "\n",
    "### Conditions nécessaires\n",
    "\n",
    "Une **condition nécessaire** est indispensable pour qu'une conclusion soit vraie.  \n",
    "\n",
    "Elle ne garantit pas que le résultat soit vrai.\n",
    "\n",
    "En d'autres mots \"$Q$ est nécessaire pour $P$ signifie que $P$ est vrai seulement si $Q$ est vrai. Ce qui revient à $P \\implies Q$.\n",
    "\n",
    "#### Exemple \n",
    "\n",
    "- Pour qu'un triangle soit équilatéral, il est nécessaire qu'il soit isocèle.\n",
    "\n",
    "$$équilatéral \\implies isocèle$$\n",
    "\n",
    "\n",
    "- $x \\in \\mathbb{R}$, $x \\leq 0$ est nécessaire pour que $x=-2$.  \n",
    "\n",
    "$$x \\in \\mathbb{R}, x=-2 \\implies x\\leq 0$$"
   ]
  },
  {
   "cell_type": "markdown",
   "metadata": {
    "slideshow": {
     "slide_type": "slide"
    }
   },
   "source": [
    "### Conditions suffisantes \n",
    "\n",
    "Une **condition suffisante** est telle qu'elle garantisse  que la conclusion soit vraie.  \n",
    "\n",
    "\n",
    "Autrement dit \"$P$ est suffisant pour $Q$ signifie que $Q$ est vrai si $P$ est vrai.  \n",
    "\n",
    "Ce qui revient à $P \\implies Q$.\n",
    "\n",
    "#### Exemple \n",
    "\n",
    "- $x \\in \\mathbb{R}, x=-2 $ est suffisant pour $x\\leq 0.$\n",
    "\n",
    "- Pour qu'un triangle soit isocèle, il est suffisant qu'il soit équilatéral.  \n",
    "\n",
    "Remarquez qu'il ne doit pas être obligatoirement équilatéral pour être isocèle.\n",
    "\n"
   ]
  },
  {
   "cell_type": "markdown",
   "metadata": {},
   "source": [
    "### synthèse\n",
    "\n",
    "Il s'agit en fait d'une autre façon d'exprimer les implications. Les phrases suivantes ont le même sens :\n",
    "\n",
    "* $P \\implies Q\"$ ;\n",
    "\n",
    "* pour que $P$ soit vraie, il faut que $Q$ soit vraie ;\n",
    "\n",
    "* $Q$ est une condition nécessaire pour que $P$ ;\n",
    "\n",
    "* pour que $Q$ soit vraie, il suffit que $P$ soit vraie ;\n",
    "\n",
    "* $P$ est une condition suffisante pour que $Q$.\n",
    "\n",
    "La même implication peut donc s'écrire\n",
    "\n",
    "* soit comme une condition suffisante, \"pour que la conclusion soit vraie, il suffit que l'hypothèse soit vraie\",\n",
    "\n",
    "* soit comme une condition nécessaire, \"pour que l'hypothèse soit vraie, il faut que la conclusion soit vraie\"."
   ]
  },
  {
   "cell_type": "markdown",
   "metadata": {
    "slideshow": {
     "slide_type": "slide"
    }
   },
   "source": [
    "#### Exercice 9\n",
    "\n",
    ">Pour tout $x \\in  \\mathbb{R} $ :  \n",
    ">\n",
    ">$P : x^2-2x-3>0$.\n",
    ">\n",
    ">$Q : x>3$.  \n",
    ">\n",
    ">Parmi les énoncés suivants, lesquels sont vrais , lesquels sont faux ?  \n",
    ">\n",
    "> 1. $P \\implies  Q$.\n",
    ">\n",
    ">2. $Q \\implies  P$.\n",
    ">\n",
    ">3. $P$ est nécessaire pour $Q$.\n",
    ">\n",
    ">4. $P$ est suffisant pour $Q$.\n",
    ">\n",
    ">5. $\\overline Q \\implies \\overline P$."
   ]
  },
  {
   "cell_type": "markdown",
   "metadata": {
    "slideshow": {
     "slide_type": "slide"
    }
   },
   "source": [
    "#### Exercices 10 (révisions rapides)\n",
    "\n",
    "\n",
    ">- Démontrer, à l'aide d'une table de vérité, l'associativité du $\\oplus$.\n",
    ">\n",
    ">- Ecrire la négation de $\\big(P \\wedge (Q \\vee R)  \\big)$.\n",
    ">\n",
    ">- Quelle est la contraposée de $P\\implies (Q \\implies R)$ ?\n",
    ">\n",
    ">- Simplifier l'expression $R\\implies (S \\implies R)$.\n"
   ]
  }
 ],
 "metadata": {
  "celltoolbar": "Diaporama",
  "kernelspec": {
   "display_name": "Python 3 (ipykernel)",
   "language": "python",
   "name": "python3"
  },
  "language_info": {
   "codemirror_mode": {
    "name": "ipython",
    "version": 3
   },
   "file_extension": ".py",
   "mimetype": "text/x-python",
   "name": "python",
   "nbconvert_exporter": "python",
   "pygments_lexer": "ipython3",
   "version": "3.10.4"
  },
  "rise": {
   "scroll": true,
   "theme": "sky",
   "transition": "zoom"
  },
  "vscode": {
   "interpreter": {
    "hash": "aee8b7b246df8f9039afb4144a1f6fd8d2ca17a180786b69acc140d282b71a49"
   }
  }
 },
 "nbformat": 4,
 "nbformat_minor": 2
}
