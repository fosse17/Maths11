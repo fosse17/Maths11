{
 "cells": [
  {
   "cell_type": "markdown",
   "metadata": {
    "slideshow": {
     "slide_type": "slide"
    }
   },
   "source": [
    "<table style=\"width:100%;\">\n",
    "    <tr style=\"display:none\">\n",
    "        <td></td>\n",
    "        <td></td>\n",
    "    </tr>\n",
    "    <tr style=\"height:3em\">\n",
    "        <td style=\"width:20%;align:left\"><img src=\"images/iut_bordeaux.jpg\"></td>\n",
    "        <td style=\"width:60%;font: bold 1.8em 'Fira Sans', serif;text-align:center\"> Logique 4<br>\n",
    "        Exercices de synthèse</td>\n",
    "        <td style=\"width:20%;font: bold 1.3em 'Fira Sans', serif;vertical-align:top;\">TD7<br><i>Logique et raisonnements</i></td>\n",
    "    </tr>\n",
    "</table>"
   ]
  },
  {
   "cell_type": "markdown",
   "metadata": {
    "slideshow": {
     "slide_type": "slide"
    }
   },
   "source": [
    "#### Exercice 1\n",
    "\n",
    ">Construire la table de vérité de la proposition suivante :\n",
    ">\n",
    "> $p\\iff(p\\oplus r)$"
   ]
  },
  {
   "cell_type": "markdown",
   "metadata": {
    "slideshow": {
     "slide_type": "slide"
    }
   },
   "source": [
    "#### Exercice 2\n",
    "\n",
    ">Ecrire la négation, la réciproque et la contraposée de la  proposition :\n",
    ">\n",
    ">* S'il fait beau et si je suis en vacances alors j'irai à la plage.\n"
   ]
  },
  {
   "cell_type": "markdown",
   "metadata": {
    "slideshow": {
     "slide_type": "slide"
    }
   },
   "source": [
    "#### Exercice 3\n",
    "\n",
    ">Décider si le raisonnement suivant est valide :\n",
    ">\n",
    ">Jean est fatigué ou malade  \n",
    ">S'il est fatigué alors il est contrarié  \n",
    ">Jean n'est pas contrarié\n",
    ">\n",
    ">Donc Jean est malade."
   ]
  },
  {
   "cell_type": "markdown",
   "metadata": {
    "slideshow": {
     "slide_type": "slide"
    }
   },
   "source": [
    "#### Exercice 4\n",
    "\n",
    ">Retrouver une proposition simple vérifiant la table de vérité. On simplifiera l'expression obtenue.\n",
    "\n",
    "$$\n",
    "\\begin{array}{|c|c|c|c|}\n",
    "\\hline\n",
    "p & q & r & f(p;q;r) \\\\\n",
    "\\hline\n",
    "0 & 0 & 0 & 0\\\\\n",
    "0 & 0 & 1 & 1 \\\\\n",
    "0 & 1 & 0 & 0\\\\\n",
    "0 & 1 & 1 & 1 \\\\\n",
    "1 & 0 & 0 & 0\\\\\n",
    "1 & 0 & 1 & 0\\\\\n",
    "1 & 1 & 0 & 0\\\\\n",
    "1 & 1 & 1 & 1 \\\\\n",
    "\\hline\n",
    "\\end{array}\n",
    "$$\n",
    "\n"
   ]
  },
  {
   "cell_type": "markdown",
   "metadata": {
    "slideshow": {
     "slide_type": "slide"
    }
   },
   "source": [
    "#### Exercice 5\n",
    "\n",
    ">Simplifier les propositions suivantes puis indiquer les éventuelles tautologies \n",
    ">\n",
    ">* $(p\\implies p)\\implies q$\n",
    ">\n",
    ">* $(p\\wedge q)\\implies (p\\vee q)$"
   ]
  },
  {
   "cell_type": "markdown",
   "metadata": {
    "slideshow": {
     "slide_type": "slide"
    }
   },
   "source": [
    "#### Exercice 6\n",
    "\n",
    ">Ecrire la négation des propositions suivantes \n",
    ">\n",
    ">$p\\iff q \\quad ;\\quad p\\vee (q\\wedge r)\\quad ;\\quad (\\neg p\\vee q)\\implies r$"
   ]
  },
  {
   "cell_type": "markdown",
   "metadata": {
    "slideshow": {
     "slide_type": "slide"
    }
   },
   "source": [
    "#### Exercice 7\n",
    "\n",
    ">On construit le connecteur binaire $|$ appelé connecteur de Sheffer par $$ p|q\\iff (\\overline{p})\\vee (\\overline{q})$$\n",
    ">\n",
    ">* Construire la table de vérité de $p|q$.\n",
    ">\n",
    ">* Calculer $p|p$, $\\quad \\overline{ p|q}$, $\\quad  \\overline p|\\overline q$\n",
    ">\n",
    ">* En déduire l’écriture des propositions :$\\quad \\overline p$,$\\quad$ $p\\wedge q$,$\\quad$ $p\\vee q$, $\\quad$ $p\\implies q$ uniquement à l’aide du connecteur de Sheffer."
   ]
  },
  {
   "cell_type": "markdown",
   "metadata": {
    "slideshow": {
     "slide_type": "slide"
    }
   },
   "source": [
    "#### Exercice 8\n",
    "\n",
    "**Le demi-additionneur**\n",
    "\n",
    "Un additionneur est un circuit logique permettant de réaliser une addition. Ce circuit est très présent dans les ordinateurs pour le calcul arithmétique mais également pour le calcul d'adresses.\n",
    "\n",
    "Pour additionner deux nombres binaires, il faut d’abord additionner les 2 bits de poids faible, puis additionner les bits suivants sans oublier les retenues.\n",
    "\n",
    "Un demi-additionneur ou *Half Adder (HA)* est un circuit qui additionne les 2 bits de poids faibles pour lesquelles la retenue propagée n’est pas prise en compte."
   ]
  },
  {
   "cell_type": "markdown",
   "metadata": {
    "slideshow": {
     "slide_type": "slide"
    }
   },
   "source": [
    "1. Compléter la table suivante pour $A+B$ :\n",
    "\n",
    "$$\n",
    "\\begin{array}{|c|c|c|c|}\n",
    "\\hline\n",
    "A & B &  \\color{red}Sum & \\color{red}Carry  \\\\\n",
    "\\hline\n",
    "0 & 0 & & \\\\\n",
    "0 &1 & & \\\\\n",
    "1&0 & & \\\\\n",
    "1&1& & \\\\\n",
    "\\hline\n",
    "\\end{array}\n",
    "$$"
   ]
  },
  {
   "cell_type": "markdown",
   "metadata": {
    "slideshow": {
     "slide_type": "slide"
    }
   },
   "source": [
    "2. Compléter par une expression *logique* simple :\n",
    "\n",
    "$$S= \\qquad \\qquad \\qquad \\qquad C=$$\n",
    "\n",
    "<p style=\"text-align:center;\">\n",
    "<img src=\"images/porteadd.png\" width=\"300px\">\n",
    "</p>\n",
    "\n",
    "**Additionneur complet 1 bit**\n",
    "\n",
    "Pour additionner les bits de poids supérieur $a_i , b_i (0 < i < n)$ et tenir compte de la retenue $r_{i-1}$ propagée depuis le rang $i-1$, il faut avoir recours à un *Full Adder* ou additionneur complet. \n",
    "\n",
    "Un *Full Adder* peut additionner 2 bits avec un report, soit trois entrées et deux sorties.\n",
    "\n",
    "Un additionneur complet nécessite donc une entrée supplémentaire : une retenue. L'intérêt de celle-ci est de permettre le chaînage des circuits. "
   ]
  },
  {
   "cell_type": "markdown",
   "metadata": {
    "slideshow": {
     "slide_type": "slide"
    }
   },
   "source": [
    "1. Compléter la table de vérité d'un additionneur complet $(A+B+C_{in})$:\n",
    "\n",
    "$$\n",
    "\\begin{array}{|c|c|c|c|c|}\n",
    "\\hline\n",
    "A & B & C_{in}  & \\color{red}Sum & \\color{red}C_{out} \\\\\n",
    "\\hline\n",
    "0 & 0 & 0& &\\\\\n",
    "0 &0 &1 & &\\\\\n",
    "0&1 &0 & &\\\\\n",
    "0&1& 1& &\\\\\n",
    "1 & 0 &0 & &\\\\\n",
    "1 &0 & 1& &\\\\\n",
    "1&1 & 0& &\\\\\n",
    "1&1& 1& &\\\\\n",
    "\\hline\n",
    "\\end{array}\n",
    "$$\n",
    "\n",
    "2. Vérifier que :\n",
    "\n",
    "$$S=A \\oplus B \\oplus C_{in}$$\n",
    "\n",
    "3. Puis que :\n",
    " \n",
    "$$C_{out}=(A \\wedge B ) \\vee \\big(C_{in}\\wedge (A \\oplus B)\\big) $$"
   ]
  },
  {
   "cell_type": "markdown",
   "metadata": {
    "slideshow": {
     "slide_type": "slide"
    }
   },
   "source": [
    "<p style=\"text-align:center;\">\n",
    "<img src=\"images/fulladd.png\" width=\"300px\">\n",
    "\n",
    "<img src=\"images/fullHA.png\" width=\"300px\">\n",
    "    \n",
    "<img src=\"images/Add1.jpg\" width=\"600px\">\n",
    "</p>"
   ]
  }
 ],
 "metadata": {
  "celltoolbar": "Diaporama",
  "kernelspec": {
   "display_name": "Python 3",
   "language": "python",
   "name": "python3"
  },
  "language_info": {
   "codemirror_mode": {
    "name": "ipython",
    "version": 3
   },
   "file_extension": ".py",
   "mimetype": "text/x-python",
   "name": "python",
   "nbconvert_exporter": "python",
   "pygments_lexer": "ipython3",
   "version": "3.10.4"
  },
  "vscode": {
   "interpreter": {
    "hash": "aee8b7b246df8f9039afb4144a1f6fd8d2ca17a180786b69acc140d282b71a49"
   }
  }
 },
 "nbformat": 4,
 "nbformat_minor": 2
}
