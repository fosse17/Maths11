{
 "cells": [
  {
   "cell_type": "markdown",
   "metadata": {
    "slideshow": {
     "slide_type": "slide"
    }
   },
   "source": [
    " <table style=\"width:100%;\">\n",
    "    <tr style=\"display:none\">\n",
    "        <td></td>\n",
    "        <td></td>\n",
    "    </tr>\n",
    "    <tr style=\"height:3em\">\n",
    "        <td style=\"width:20%;align:left\"><img src=\"iut_bordeaux.jpg\"></td>\n",
    "        <td style=\"width:60%;font: bold 2em 'Fira Sans', serif;text-align:center\"> Quantificateurs</td>\n",
    "        <td style=\"width:20%;font: bold 1.3em 'Fira Sans', serif;vertical-align:top;\">TD9<br><i>Logique et raisonnements</i></td>\n",
    "    </tr>\n",
    "</table>"
   ]
  },
  {
   "cell_type": "code",
   "execution_count": null,
   "metadata": {},
   "outputs": [],
   "source": []
  },
  {
   "cell_type": "markdown",
   "metadata": {
    "slideshow": {
     "slide_type": "slide"
    }
   },
   "source": [
    "## Le quantificateur universel $\\forall$ : pour tout\n",
    "\n",
    "\n",
    "Une proposition $P$ peut dépendre d'un paramètre $x$, par exemple\n",
    "$x^2 \\ge 1$, la proposition $P(x)$ est vraie ou fausse selon la valeur de $x$.\n",
    "\n",
    "La proposition :\n",
    "$$\\forall x \\in E, \\quad P(x)$$\n",
    "\n",
    "est  vraie lorsque les propositions $P(x)$ sont vraies pour tous les éléments $x$ de l'ensemble $E$.\n",
    "\n",
    "On lit : **pour tout $x$ appartenant à $E$, $P(x)$**.\n",
    "\n",
    "**Pour tout $x$ appartenant à $E$, $P(x)$ est vraie**."
   ]
  },
  {
   "cell_type": "markdown",
   "metadata": {
    "slideshow": {
     "slide_type": "slide"
    }
   },
   "source": [
    "#### Exemple\n",
    "\n",
    "- $\\forall x \\in [1,+\\infty[, \\quad (x^2\\ge 1)$  est une proposition vraie."
   ]
  },
  {
   "cell_type": "markdown",
   "metadata": {
    "slideshow": {
     "slide_type": "fragment"
    }
   },
   "source": [
    "- $\\forall x \\in \\mathbb{R}, \\quad (x^2\\ge 1)$  est une proposition fausse."
   ]
  },
  {
   "cell_type": "markdown",
   "metadata": {
    "slideshow": {
     "slide_type": "fragment"
    }
   },
   "source": [
    "- $\\forall n \\in \\mathbb{N}, \\quad n(n+1) \\text{ est divisible par } 2$ est vraie."
   ]
  },
  {
   "cell_type": "markdown",
   "metadata": {
    "slideshow": {
     "slide_type": "slide"
    }
   },
   "source": [
    "## Le quantificateur existentiel $\\exists$ : il existe\n",
    "\n",
    "\n",
    "La proposition  : $$\\exists x \\in E \\: | \\quad P(x)$$  \n",
    "\n",
    "est vraie lorsque l'on peut trouver **au moins** un $x$ de $E$ pour lequel $P(x)$ est vraie.\n",
    "\n",
    "On lit : **il existe $x$ appartenant à $E$ tel que $P(x)$ (soit vraie)** ."
   ]
  },
  {
   "cell_type": "markdown",
   "metadata": {
    "slideshow": {
     "slide_type": "slide"
    }
   },
   "source": [
    "#### Exemple \n",
    "\n",
    "- $\\exists x \\in \\mathbb{R}\\: | \\quad (x(x-1)<0)$  est vraie.  \n",
    "\n",
    "Par exemple $x=\\frac 12$ vérifie bien la propriété."
   ]
  },
  {
   "cell_type": "markdown",
   "metadata": {
    "slideshow": {
     "slide_type": "fragment"
    }
   },
   "source": [
    "- $\\exists n \\in \\mathbb{N} \\: | \\quad n^2-n > n$   est vraie.  \n",
    "\n",
    "Il y a plein de choix, par exemple $n=3$ convient, mais aussi $n=10$ ou même $n=100$, un seul suffit pour dire que la proposition est vraie."
   ]
  },
  {
   "cell_type": "markdown",
   "metadata": {
    "slideshow": {
     "slide_type": "fragment"
    }
   },
   "source": [
    "- $\\exists x \\in \\mathbb{R} \\: | \\quad (x^2=-1)$  est fausse.    \n",
    "\n",
    "Aucun réel au carré ne donnera un nombre négatif."
   ]
  },
  {
   "cell_type": "markdown",
   "metadata": {
    "slideshow": {
     "slide_type": "slide"
    }
   },
   "source": [
    "## La négation des quantificateurs\n",
    "\n",
    "\n",
    "La négation de : $\\quad \\forall x \\in E, \\quad P(x)\\qquad$  est  $\\qquad\\exists x \\in E \\: |\\quad \\neg P(x)$ ."
   ]
  },
  {
   "cell_type": "markdown",
   "metadata": {
    "slideshow": {
     "slide_type": "slide"
    }
   },
   "source": [
    "#### Exemple\n",
    "- La négation de $\\forall x \\in [1,+\\infty[ ,\\quad (x^2\\ge 1)$\n",
    "\n",
    "est la proposition : $\\exists x \\in [1,+\\infty[ \\: | \\quad (x^2 < 1)$.  \n",
    "\n",
    "En effet, la négation de $x^2\\ge 1$ est $\\neg(x^2 \\ge 1)$ mais s'écrit plus simplement $x^2 < 1$."
   ]
  },
  {
   "cell_type": "markdown",
   "metadata": {
    "slideshow": {
     "slide_type": "slide"
    }
   },
   "source": [
    "- La négation de $\\exists x \\in E \\: | \\quad P(x)$ est : $\\quad \\forall x \\in E, \\quad \\neg P(x)$."
   ]
  },
  {
   "cell_type": "markdown",
   "metadata": {
    "slideshow": {
     "slide_type": "slide"
    }
   },
   "source": [
    "#### Exemple\n",
    "\n",
    "- La négation de $\\exists z \\in \\mathbb{R} \\: | \\quad (z^2+z+1 = 0)$  est :  $\\quad \\quad \\forall z \\in \\mathbb{R}, \\quad (z^2+z+1 \\neq 0)$."
   ]
  },
  {
   "cell_type": "markdown",
   "metadata": {
    "slideshow": {
     "slide_type": "fragment"
    }
   },
   "source": [
    "- La négation de $\\forall x \\in \\mathbb{R}, \\quad  (x+1 \\in \\mathbb{Z})\\quad $  est : $\\quad \\quad \\exists x \\in \\mathbb{R} \\: | \\quad (x+1 \\notin \\mathbb{Z})$."
   ]
  },
  {
   "cell_type": "markdown",
   "metadata": {
    "slideshow": {
     "slide_type": "fragment"
    }
   },
   "source": [
    "- Ce n'est pas plus difficile d'écrire la négation de phrases complexes.\n",
    "\n",
    "\n",
    "Pour la proposition :\n",
    "\n",
    "$$\\forall x \\in \\mathbb{R}, \\quad \\exists y >0 \\: | \\quad (x+y > 10)$$\n",
    "\n",
    "Sa négation est : \n",
    "\n",
    "$$\\exists x \\in \\mathbb{R} \\: | \\quad \\forall y > 0, \\quad (x+y \\le 10).$$"
   ]
  },
  {
   "cell_type": "markdown",
   "metadata": {
    "slideshow": {
     "slide_type": "slide"
    }
   },
   "source": [
    "#### Remarques\n",
    "\n",
    "* L'ordre des quantificateurs est très important.  \n",
    "\n",
    "Par exemple les deux phrases logiques : \n",
    "\n",
    " $$\\forall x \\in \\mathbb{R}, \\quad  \\exists y \\in \\mathbb{R}\\: | \\quad (x+y>0) \\qquad \\text{et}\\qquad\n",
    "\\exists y \\in \\mathbb{R} \\: | \\quad \\forall x \\in \\mathbb{R}, \\quad (x+y>0).$$\n",
    "\n",
    "sont différentes. \n",
    "\n",
    "La première est vraie, la seconde est fausse."
   ]
  },
  {
   "cell_type": "markdown",
   "metadata": {
    "slideshow": {
     "slide_type": "fragment"
    }
   },
   "source": [
    "En effet, une phrase logique se lit de **gauche à droite**, ainsi la première phrase affirme : \n",
    "\n",
    "$$\\forall x \\in \\mathbb{R}, \\quad  \\exists y \\in \\mathbb{R} \\: |\\quad (x+y>0)$$\n",
    "\n",
    "Pour tout réel $x$, il existe un réel $y$ (**qui peut donc dépendre de $x$**) tel que $x+y>0$\n",
    "\n",
    "(par exemple on peut prendre $y=|x|+1$).\n",
    "\n",
    "C'est donc une phrase vraie. "
   ]
  },
  {
   "cell_type": "markdown",
   "metadata": {
    "slideshow": {
     "slide_type": "fragment"
    }
   },
   "source": [
    "Par contre la deuxième se lit :\n",
    "\n",
    "$$\\exists y \\in \\mathbb{R} \\: | \\quad \\forall x \\in \\mathbb{R}, \\quad (x+y>0).$$\n",
    "\n",
    "Il existe un réel $y$, tel que pour tout réel $x$, $x+y>0$. \n",
    "\n",
    "Cette phrase est fausse,\n",
    "\n",
    "cela ne peut pas être le même $y$ qui convient pour tous les $x$ !"
   ]
  },
  {
   "cell_type": "markdown",
   "metadata": {
    "slideshow": {
     "slide_type": "slide"
    }
   },
   "source": [
    "On retrouve la même différence dans les phrases en français suivantes :\n",
    "\n",
    "Voici une phrase vraie :\n",
    "\n",
    "\" Pour toute personne, il existe un numéro de téléphone \"  \n",
    "\n",
    "Bien sûr, le numéro dépend de la personne. \n",
    "\n",
    "\n",
    "Par contre cette phrase est fausse :\n",
    "\n",
    "\" Il existe un numéro, pour toutes les personnes.\"   \n",
    "\n",
    "Ce serait le même numéro pour tout le monde !"
   ]
  },
  {
   "cell_type": "markdown",
   "metadata": {
    "slideshow": {
     "slide_type": "slide"
    }
   },
   "source": [
    "#### Unicité \n",
    "\n",
    "Quand on écrit : $\\exists x \\in \\mathbb{R} \\: | \\quad (f(x)=0)$, \n",
    "\n",
    "cela signifie juste qu'il existe un réel pour lequel $f$ s'annule. Rien ne dit que ce réel est unique.  \n",
    "\n",
    "Vous pouvez lire la phrase ainsi : il existe **au moins** un réel $x$ tel que $f(x)=0$.\n",
    "\n",
    "Afin de préciser que $f$ s'annule en une **unique** valeur, on rajoute un **point d'exclamation $!$** :\n",
    "\n",
    "$$\\exists \\mathbf{!}\\, x \\in \\mathbb{R} \\: | \\quad (f(x)=0).$$"
   ]
  },
  {
   "cell_type": "markdown",
   "metadata": {
    "slideshow": {
     "slide_type": "slide"
    }
   },
   "source": [
    "#### Remarques \n",
    "\n",
    "Pour la négation d'une proposition, il faut être précis.  \n",
    "\n",
    "La négation de l'inégalité stricte $<$ est l'inégalité large $\\ge$, et inversement."
   ]
  },
  {
   "cell_type": "markdown",
   "metadata": {
    "slideshow": {
     "slide_type": "slide"
    }
   },
   "source": [
    "Les quantificateurs ne sont pas des abréviations. \n",
    "\n",
    "* Soit vous écrivez une phrase en français :\n",
    "\n",
    " Pour tout réel $x$, si $f(x)=1$ alors $x\\ge0$.\n",
    " \n",
    "* Soit vous écrivez la phrase logique :\n",
    " \n",
    "$$\\forall x \\in \\mathbb{R}, \\quad (f(x)=1 \\implies x \\ge 0).$$\n",
    "\n",
    "* Mais n'écrivez pas :  \n",
    "\n",
    "$\\forall x$ réel, si $f(x)=1 \\implies x$ positif ou nul. "
   ]
  },
  {
   "cell_type": "markdown",
   "metadata": {
    "slideshow": {
     "slide_type": "slide"
    }
   },
   "source": [
    "* Il est défendu d'écrire $\\not\\!\\exists$, $\\not\\!\\!\\!\\implies$. Ces symboles n'existent pas !"
   ]
  },
  {
   "cell_type": "markdown",
   "metadata": {
    "slideshow": {
     "slide_type": "slide"
    }
   },
   "source": [
    "#### Exercice 1\n",
    "\n",
    ">Soit x représentant un chat quelconque et P(x) le prédicat selon lequel x est gris. \n",
    ">\n",
    ">On note $C$ l'ensemble des chats.\n",
    ">\n",
    ">Ecrire chacune des propositions suivantes sous forme symbolique :\n",
    ">\n",
    ">* Tous les chats sont gris.\n",
    ">\n",
    ">* Il existe un chat non gris.\n",
    ">\n",
    ">* Aucun chat n’est gris."
   ]
  },
  {
   "cell_type": "markdown",
   "metadata": {
    "slideshow": {
     "slide_type": "slide"
    }
   },
   "source": [
    ">Soit $x$ représentant un chat quelconque,$P(x)$ le prédicat selon lequel $x$ est gris,$Q(x)$ le prédicat selon lequel $x$ a des moustaches.\n",
    ">\n",
    ">Exprimer la proposition : \n",
    ">\n",
    ">$\\forall x \\in C, (P(x)\\wedge Q(x))$\n",
    ">\n",
    ">Parmi les propositions suivantes, laquelle en est la négation ?\n",
    ">\n",
    ">* Il existe un chat non gris et sans moustache.\n",
    ">\n",
    ">* Il n’existe aucun chat gris et avec des moustaches.\n",
    ">\n",
    ">* Il existe un chat non gris ou sans moustache."
   ]
  },
  {
   "cell_type": "markdown",
   "metadata": {
    "slideshow": {
     "slide_type": "slide"
    }
   },
   "source": [
    "#### Exercice 2\n",
    "\n",
    ">Ecrire à l'aide des quantificateurs les phrases suivantes, puis écrire les négations :\n",
    ">\n",
    ">   - Pour tout nombre réel, son carré est positif.  \n",
    ">\n",
    ">   - Pour chaque réel strictement positif, je peux trouver un entier relatif tel que leur produit soit strictement plus grand que $1$. \n",
    ">    \n",
    ">   - Pour tout entier naturel $n$ non nul, il existe un unique réel $x$ tel que $\\exp(x)$ égale $n$.\n"
   ]
  },
  {
   "cell_type": "markdown",
   "metadata": {
    "slideshow": {
     "slide_type": "slide"
    }
   },
   "source": [
    "#### Exercice 3\n",
    "\n",
    ">Soit le prédicat $P(x; y) :x+y= 0$\n",
    ">\n",
    ">Pour chacune des propositions suivantes, donner sa valeur de vérité et écrire sa négation : \n",
    ">\n",
    ">$\\forall x \\in \\mathbb{R},\\exists y \\in \\mathbb{R} \\: | \\quad P(x; y)$\n",
    ">\n",
    ">$\\exists y \\in \\mathbb{R} \\: | \\:\\forall x \\in \\mathbb{R}, \\quad P(x; y)$\n",
    ">\n",
    ">$\\forall x \\in \\mathbb{R},\\forall y \\in \\mathbb{R}\\:, \\quad P(x; y)$\n",
    ">\n",
    ">$\\exists x \\in \\mathbb{R}, \\: \\exists y \\in \\mathbb{R}\\: | \\quad P(x; y)$"
   ]
  },
  {
   "cell_type": "markdown",
   "metadata": {
    "slideshow": {
     "slide_type": "slide"
    }
   },
   "source": [
    "#### Exercice 4 : L’ordre des quantificateurs\n",
    "\n",
    "Pour chacune des zones A représentées dans les repères ci-dessous , indiquer quelles propositions sont vraies :\n",
    "\n",
    "\n",
    ">1.  $\\forall x \\in [0;1]\\: , \\quad \\exists y \\in [0;1] \\; | \\quad  (x, y) \\in A$\n",
    ">\n",
    ">2. $\\forall y \\in [0;1]\\:, \\quad \\exists x \\in [0;1] \\; | \\quad (x, y) \\in A$\n",
    ">\n",
    ">3. $\\exists x \\in [0;1] \\; | \\quad \\forall y \\in [0;1]\\: , \\quad (x, y) \\in A$\n",
    "> \n",
    ">4. $\\exists y \\in [0;1] \\; | \\quad \\forall x \\in [0;1] \\; , \\quad (x, y) \\in A$\n",
    ">\n",
    "><center><img src='quantificateur.png' style='text-align:center'></center>"
   ]
  },
  {
   "cell_type": "markdown",
   "metadata": {
    "slideshow": {
     "slide_type": "slide"
    }
   },
   "source": [
    "#### Exercice 5\n",
    "\n",
    "Associer les propositions : \n",
    "\n",
    ">1. $\\forall x \\in \\mathbb{R}, \\quad f(x) > 0$\n",
    ">2. $\\exists x \\in \\mathbb{R} \\: | \\quad f(x) > 0$\n",
    ">3. $\\forall x \\in \\mathbb{R}, \\quad f(x) \\neq 0$\n",
    ">4. $\\exists x \\in \\mathbb{R} \\: | \\quad f(x) \\neq 0$\n",
    "\n",
    "\n",
    ">a. La fonction n’est pas nulle.    \n",
    ">b. La fonction n’est pas négative.    \n",
    ">c. La courbe ne coupe pas l’axe des abscisses.    \n",
    ">d. La courbe est au-dessus de l’axe des abscisses.  "
   ]
  },
  {
   "cell_type": "markdown",
   "metadata": {
    "slideshow": {
     "slide_type": "slide"
    }
   },
   "source": [
    "#### Exercice 6\n",
    "\n",
    ">Ecrire la négation des propositions  suivantes et dire si elles sont vraies (avec un exemple d’existence) ou fausses (avec un contre-exemple).\n",
    ">\n",
    ">1 . $\\forall y \\in \\mathbb{R}, \\exists x\\in \\mathbb{R} \\mid y=\\cos x$\n",
    ">\n",
    ">2 . $\\exists x_1 \\in \\mathbb{R} ,\\exists x_2 \\in \\mathbb{R}\\mid \\forall x\\in \\mathbb{R} ,x^2-4x+3=(x-x_1)(x-x_2)$\n",
    ">\n",
    ">3 . $\\forall x\\in \\mathbb{R} ,\\forall y  \\in \\mathbb{R^*}\\, \\qquad \\dfrac{x}{y}<1 \\implies x<y$\n",
    ">\n",
    ">4 . $\\forall (n, p, q) \\in \\mathbb{N^*}^3, n\\mid pq \\implies n \\mid p \\; \\text{ou} \\;n\\mid q$\n"
   ]
  },
  {
   "cell_type": "markdown",
   "metadata": {
    "slideshow": {
     "slide_type": "slide"
    }
   },
   "source": [
    "#### Exercice 7\n",
    "\n",
    ">Ecrire la négation des propositions suivantes :\n",
    ">\n",
    ">1. $\\forall x\\in E, \\exists y\\in E\\; \\mid p(x;y) \\implies q(x;y)$  \n",
    ">\n",
    ">2. $(\\forall x \\in E,\\; \\exists y \\in E \\mid p(x;y)) \\implies (\\forall z\\in E, r(z))$. "
   ]
  }
 ],
 "metadata": {
  "celltoolbar": "Diaporama",
  "kernelspec": {
   "display_name": "Python 3",
   "language": "python",
   "name": "python3"
  },
  "language_info": {
   "codemirror_mode": {
    "name": "ipython",
    "version": 3
   },
   "file_extension": ".py",
   "mimetype": "text/x-python",
   "name": "python",
   "nbconvert_exporter": "python",
   "pygments_lexer": "ipython3",
   "version": "3.10.4"
  },
  "vscode": {
   "interpreter": {
    "hash": "aee8b7b246df8f9039afb4144a1f6fd8d2ca17a180786b69acc140d282b71a49"
   }
  }
 },
 "nbformat": 4,
 "nbformat_minor": 2
}
