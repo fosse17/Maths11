{
 "cells": [
  {
   "cell_type": "markdown",
   "metadata": {},
   "source": [
    " <table style=\"width:100%;\">\n",
    "    <tr style=\"display:none\">\n",
    "        <td></td>\n",
    "        <td></td>\n",
    "    </tr>\n",
    "    <tr style=\"height:3em\">\n",
    "        <td style=\"width:20%;align:left\"><img src=\"iut_bordeaux.jpg\"></td>\n",
    "        <td style=\"width:60%;font: bold 2em 'Fira Sans', serif;text-align:center\"> TP4 <br>Evaluation</td>\n",
    "        <td style=\"width:20%;font: bold 1.3em 'Fira Sans', serif;vertical-align:top;\">R01.06<br><i>1h30</i></td>\n",
    "    </tr>\n",
    "</table>"
   ]
  },
  {
   "cell_type": "markdown",
   "metadata": {},
   "source": [
    "<div style=\"text-align:center\">Sans document - Internet Interdit  <br> Vous rendrez ce fichier complété sur Moodle</div>\n"
   ]
  },
  {
   "cell_type": "markdown",
   "metadata": {},
   "source": [
    "\n",
    "## Exercice 1 ( 4 points )\n",
    "\n",
    "* Ecrire une fonction `implies` qui prend comme paramètre deux booléens et retourne le résultat de l'expression logique $a \\implies b$.\n",
    "* Ecrire une fonction `equiv` qui prend comme paramètre deux booléens et retourne le résultat de l'expression logique $a \\iff b$.\n",
    "* Ecrire une fonction $f$ qui prend en paramètre deux booleens et retourne le résultat de l'expression logique : $$(a \\vee \\overline b)\\iff (a \\wedge c)$$.\n",
    "* Etablir, en la formatant correctement, la table de vérité de $f$.\n"
   ]
  },
  {
   "cell_type": "code",
   "execution_count": 7,
   "metadata": {},
   "outputs": [
    {
     "name": "stdout",
     "output_type": "stream",
     "text": [
      "|  a   |   b   |  c   |  f   |\n",
      "|  1   |   1   |  1   |  1   |\n",
      "|  1   |   1   |  0   |  0   |\n",
      "|  1   |   0   |  1   |  1   |\n",
      "|  1   |   0   |  0   |  0   |\n",
      "|  0   |   1   |  1   |  1   |\n",
      "|  0   |   1   |  0   |  1   |\n",
      "|  0   |   0   |  1   |  0   |\n",
      "|  0   |   0   |  0   |  0   |\n"
     ]
    }
   ],
   "source": [
    "def implies(a,b):\n",
    "    return (not a) or b\n",
    "\n",
    "\n",
    "def equiv(a,b):\n",
    "    return implies(a,b) and implies(b,a)\n",
    "\n",
    "def f(a,b,c):\n",
    "    return equiv(a or (not b),a and c) \n",
    "\n",
    "\n",
    "def table():\n",
    "    print(\"|{:^5} | {:^5} |{:^5} |{:^5} |\".format(\"a\",\"b\",\"c\",\"f\"))\n",
    "    for a in [True,False]: \n",
    "        for b in [True,False]: \n",
    "            for c in [True,False]: \n",
    "                r=f(a,b,c)\n",
    "                print(f\"|{a:^5} | {b:^5} |{c:^5} |{r:^5} |\")\n",
    "\n",
    "table()"
   ]
  },
  {
   "cell_type": "markdown",
   "metadata": {},
   "source": [
    "#### Exercice 2\n",
    "\n",
    "Écrire une fonction `premier` qui prend comme paramètre un nombre entier et retourne un booléen si ce nombre est premier. On prendra soin d'optimiser son code en indiquant les choix faits en commentaire.\n",
    "\n"
   ]
  },
  {
   "cell_type": "code",
   "execution_count": 1,
   "metadata": {},
   "outputs": [
    {
     "data": {
      "text/plain": [
       "False"
      ]
     },
     "execution_count": 1,
     "metadata": {},
     "output_type": "execute_result"
    }
   ],
   "source": [
    "from math import sqrt\n",
    "\n",
    "\n",
    "def est_premier(p):\n",
    "    if p==0 or p==1:\n",
    "        return False\n",
    "    elif p==2:\n",
    "        return True\n",
    "    else:\n",
    "        maxi = int(sqrt(p))+1\n",
    " \n",
    "        for k in range(2,maxi):\n",
    "            if p%k==0:\n",
    "                return False\n",
    "            \n",
    "        return True\n",
    "    \n",
    "\n",
    "est_premier(12344311)    "
   ]
  },
  {
   "cell_type": "markdown",
   "metadata": {},
   "source": [
    "#### Exercice 3\n",
    "\n",
    "Ecrire une fonction qui renvoie le plus petit entier tel que $n^2+10n+41,8$ soit plus grand que 10000.\n"
   ]
  },
  {
   "cell_type": "code",
   "execution_count": 10,
   "metadata": {},
   "outputs": [
    {
     "name": "stdout",
     "output_type": "stream",
     "text": [
      "10016.8\n"
     ]
    }
   ],
   "source": [
    "def seuil():\n",
    "    n=1\n",
    "    while n**2+10*n+41.8 <10000:\n",
    "        n+=1\n",
    "    return n\n",
    "\n",
    "a=seuil()\n",
    "\n",
    "print(a**2+a*10+41.8)"
   ]
  },
  {
   "cell_type": "markdown",
   "metadata": {},
   "source": [
    "## Exercice  ( points)\n",
    "\n",
    "Le but de cet exercice est de créer une fonction qui prend comme paramètre une liste de nombres entiers naturels et qui affiche en sortie une liste des indices où se trouvent le maximum de la liste donnée en entrée.(sans utiliser de fonction `max`)\n",
    "\n",
    "Par exemple : \n",
    "\n",
    "si `liste=[1, 10, 5, 10, 1, 6, 1, 2, 1, 10, 9, 1, 4]` \n",
    "\n",
    "alors comme le maximum est 10, la liste des indices où on trouve 10 est `[1,3,9]`.\n",
    "\n"
   ]
  },
  {
   "cell_type": "code",
   "execution_count": null,
   "metadata": {},
   "outputs": [],
   "source": []
  },
  {
   "cell_type": "markdown",
   "metadata": {},
   "source": [
    "## Exercice  (5 points)\n",
    "\n",
    "Un nombre triangulaire est un nombre qui est la somme des entiers de 1 jusqu'à un certain nombre. Par exemple, le septième nombre triangulaire est 1 + 2 + 3 + 4 + 5 + 6 + 7 = 28.\n",
    "\n",
    "Les 10 premiers nombres triangulaires sont : 1, 3, 6, 10, 15, 21, 28, 36, 45, 55.\n",
    "\n",
    "Listons les diviseurs des sept premiers nombres triangulaires :\n",
    "\n",
    " 1: 1  \n",
    "\n",
    " 3: 1,3  \n",
    "\n",
    " 6: 1,2,3,6  \n",
    "\n",
    "10: 1,2,5,10  \n",
    "\n",
    "15: 1,3,5,15  \n",
    "\n",
    "21: 1,3,7,21  \n",
    "\n",
    "28: 1,2,4,7,14,28  \n",
    "\n",
    "On peut remarquer que 28 est le premier nombre triangulaire qui a plus de 5 diviseurs.\n",
    "\n",
    "Quel est le premier nombre triangulaire qui possède plus de 100 diviseurs ?\n"
   ]
  },
  {
   "cell_type": "code",
   "execution_count": 8,
   "metadata": {},
   "outputs": [
    {
     "name": "stdout",
     "output_type": "stream",
     "text": [
      "15\n",
      "6\n",
      "73920 112\n"
     ]
    }
   ],
   "source": [
    "def triangulaire(n):\n",
    "    return sum([i for i in range (1,n+1)])\n",
    "\n",
    "print(triangulaire(5))\n",
    "\n",
    "def nb_diviseur(n): # non optimiser\n",
    "    L=[]\n",
    "    for i in range (1,n+1):\n",
    "        if n%i==0:\n",
    "            L.append(i)\n",
    "    return len(L)\n",
    "            \n",
    "print(nb_diviseur(28))     \n",
    "\n",
    "n=1\n",
    "find=False\n",
    "while  not find:\n",
    "    nb=triangulaire(n)\n",
    "    a=nb_diviseur(nb)\n",
    "    if a>100:\n",
    "        find=True\n",
    "    n+=1\n",
    "    #print(f\"n={n} nb={nb} nb_diviseur={a}\")\n",
    "    \n",
    "print(nb,nb_diviseur(nb))\n"
   ]
  },
  {
   "cell_type": "code",
   "execution_count": 1,
   "metadata": {},
   "outputs": [
    {
     "data": {
      "text/plain": [
       "[1, 3, 9]"
      ]
     },
     "execution_count": 1,
     "metadata": {},
     "output_type": "execute_result"
    }
   ],
   "source": [
    "def minilist(L):\n",
    "    Liste=[]\n",
    "    mini=0\n",
    "    for i in range(len(L)):\n",
    "        if L[i]>mini:\n",
    "            mini=L[i]\n",
    "            Liste=[i]\n",
    "        elif L[i]==mini:\n",
    "            Liste.append(i)\n",
    "    return Liste\n",
    "        \n",
    "l=[1, 10, 5, 10, 1, 6, 1, 2, 1, 10, 9, 1, 4]\n",
    "minilist(l)\n",
    "            "
   ]
  },
  {
   "cell_type": "code",
   "execution_count": null,
   "metadata": {},
   "outputs": [],
   "source": []
  }
 ],
 "metadata": {
  "interpreter": {
   "hash": "aee8b7b246df8f9039afb4144a1f6fd8d2ca17a180786b69acc140d282b71a49"
  },
  "kernelspec": {
   "display_name": "Python 3",
   "language": "python",
   "name": "python3"
  },
  "language_info": {
   "codemirror_mode": {
    "name": "ipython",
    "version": 3
   },
   "file_extension": ".py",
   "mimetype": "text/x-python",
   "name": "python",
   "nbconvert_exporter": "python",
   "pygments_lexer": "ipython3",
   "version": "3.8.5"
  }
 },
 "nbformat": 4,
 "nbformat_minor": 5
}
