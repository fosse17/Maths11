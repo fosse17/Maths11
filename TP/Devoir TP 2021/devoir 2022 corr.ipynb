{
 "cells": [
  {
   "cell_type": "markdown",
   "metadata": {},
   "source": [
    " <table style=\"width:100%;\">\n",
    "    <tr style=\"display:none\">\n",
    "        <td></td>\n",
    "        <td></td>\n",
    "    </tr>\n",
    "    <tr style=\"height:3em\">\n",
    "        <td style=\"width:20%;align:left\"><img src=\"iut_bordeaux.jpg\"></td>\n",
    "        <td style=\"width:60%;font: bold 2em 'Fira Sans', serif;text-align:center\"> TP4 <br>Evaluation</td>\n",
    "        <td style=\"width:20%;font: bold 1.3em 'Fira Sans', serif;vertical-align:top;\">R01.06<br><i>1h30</i></td>\n",
    "    </tr>\n",
    "</table>"
   ]
  },
  {
   "cell_type": "markdown",
   "metadata": {},
   "source": [
    "<div style=\"text-align:center\">Sans document - Internet Interdit  <br> Vous rendrez ce fichier complété sur Moodle</div>\n"
   ]
  },
  {
   "cell_type": "markdown",
   "metadata": {},
   "source": [
    "\n",
    "## Exercice 1 ( 4 points )\n",
    "\n",
    "* Ecrire une fonction `implies` qui prend comme paramètre deux booléens et retourne le résultat de l'expression logique $a \\implies b$.\n",
    "* Ecrire une fonction `equiv` qui prend comme paramètre deux booléens et retourne le résultat de l'expression logique $a \\iff b$.\n",
    "* Ecrire une fonction $f$ qui prend en paramètre deux booléens et retourne le résultat de l'expression logique : $$(a \\vee \\overline b)\\iff (a \\wedge c)$$.\n",
    "* Etablir, en la formatant correctement, la table de vérité de $f$.\n"
   ]
  },
  {
   "cell_type": "code",
   "execution_count": 1,
   "metadata": {},
   "outputs": [
    {
     "name": "stdout",
     "output_type": "stream",
     "text": [
      "False\n",
      "|  a   |   b   |  c   |  f   |\n",
      "|  1   |   1   |  1   |  1   |\n",
      "|  1   |   1   |  0   |  0   |\n",
      "|  1   |   0   |  1   |  1   |\n",
      "|  1   |   0   |  0   |  0   |\n",
      "|  0   |   1   |  1   |  1   |\n",
      "|  0   |   1   |  0   |  1   |\n",
      "|  0   |   0   |  1   |  0   |\n",
      "|  0   |   0   |  0   |  0   |\n"
     ]
    }
   ],
   "source": [
    "def implies(a,b):\n",
    "    return (not a) or b\n",
    "print(implies(True,False))\n",
    "\n",
    "def equiv(a,b):\n",
    "    return implies(a,b) and implies(b,a)\n",
    "\n",
    "def f(a,b,c):\n",
    "    return equiv(a or (not b),a and c) \n",
    "\n",
    "\n",
    "def table():\n",
    "    print(\"|{:^5} | {:^5} |{:^5} |{:^5} |\".format(\"a\",\"b\",\"c\",\"f\"))\n",
    "    for a in [True,False]: \n",
    "        for b in [True,False]: \n",
    "            for c in [True,False]: \n",
    "                r=f(a,b,c)\n",
    "                print(f\"|{a:^5} | {b:^5} |{c:^5} |{r:^5} |\")\n",
    "\n",
    "table()"
   ]
  },
  {
   "cell_type": "markdown",
   "metadata": {},
   "source": [
    "#### Exercice 2\n",
    "\n",
    "Écrire une fonction `premier` qui prend comme paramètre un nombre entier naturel et retourne un booléen. \n",
    "\n",
    "Cette fonction retournera `True` si le nombre passé en paramètre est premier et `False`sinon.\n",
    "\n",
    "On prendra soin d'optimiser son code (critère d'arrêt) en indiquant les choix faits en commentaire.\n",
    "\n"
   ]
  },
  {
   "cell_type": "code",
   "execution_count": 8,
   "metadata": {},
   "outputs": [
    {
     "ename": "AssertionError",
     "evalue": "12 n'est pas premier",
     "output_type": "error",
     "traceback": [
      "\u001b[0;31m---------------------------------------------------------------------------\u001b[0m",
      "\u001b[0;31mAssertionError\u001b[0m                            Traceback (most recent call last)",
      "\u001b[1;32m/Users/stephanefosse/Google Drive/maths-but/Maths11/TP/Devoir TP 2021/devoir 2022 corr.ipynb Cellule 6\u001b[0m in \u001b[0;36m<cell line: 22>\u001b[0;34m()\u001b[0m\n\u001b[1;32m     <a href='vscode-notebook-cell:/Users/stephanefosse/Google%20Drive/maths-but/Maths11/TP/Devoir%20TP%202021/devoir%202022%20corr.ipynb#W5sZmlsZQ%3D%3D?line=19'>20</a>\u001b[0m \u001b[39massert\u001b[39;00m premier(\u001b[39m1\u001b[39m)\u001b[39m==\u001b[39m\u001b[39mFalse\u001b[39;00m, \u001b[39m\"\u001b[39m\u001b[39m1 n\u001b[39m\u001b[39m'\u001b[39m\u001b[39mest pas premier\u001b[39m\u001b[39m\"\u001b[39m\n\u001b[1;32m     <a href='vscode-notebook-cell:/Users/stephanefosse/Google%20Drive/maths-but/Maths11/TP/Devoir%20TP%202021/devoir%202022%20corr.ipynb#W5sZmlsZQ%3D%3D?line=20'>21</a>\u001b[0m \u001b[39massert\u001b[39;00m  premier(\u001b[39m5\u001b[39m)\u001b[39m==\u001b[39m\u001b[39mTrue\u001b[39;00m, \u001b[39m\"\u001b[39m\u001b[39m2 est premier\u001b[39m\u001b[39m\"\u001b[39m\n\u001b[0;32m---> <a href='vscode-notebook-cell:/Users/stephanefosse/Google%20Drive/maths-but/Maths11/TP/Devoir%20TP%202021/devoir%202022%20corr.ipynb#W5sZmlsZQ%3D%3D?line=21'>22</a>\u001b[0m \u001b[39massert\u001b[39;00m premier(\u001b[39m12\u001b[39m)\u001b[39m==\u001b[39m\u001b[39mTrue\u001b[39;00m, \u001b[39m\"\u001b[39m\u001b[39m12 n\u001b[39m\u001b[39m'\u001b[39m\u001b[39mest pas premier\u001b[39m\u001b[39m\"\u001b[39m\n",
      "\u001b[0;31mAssertionError\u001b[0m: 12 n'est pas premier"
     ]
    }
   ],
   "source": [
    "from math import sqrt\n",
    "\n",
    "\n",
    "def premier(p):\n",
    "    if p==0 or p==1:\n",
    "        return False\n",
    "    elif p==2 or p==3:\n",
    "           return True\n",
    "    else:\n",
    "        maxi = int(sqrt(p))+1\n",
    " \n",
    "        for k in range(2,maxi):\n",
    "            if p%k==0:\n",
    "                return False\n",
    "            \n",
    "        return True\n",
    "    \n",
    "\n",
    "assert premier(0)==False, \"0 n'est pas premier\"\n",
    "assert premier(1)==False, \"1 n'est pas premier\"\n",
    "assert  premier(5)==True, \"2 est premier\"\n",
    "assert premier(12)==False, \"12 n'est pas premier\"\n"
   ]
  },
  {
   "cell_type": "markdown",
   "metadata": {},
   "source": [
    "#### Exercice 3\n",
    "\n",
    "Ecrire une fonction qui renvoie le plus petit entier tel que $n^2+10n+41$ soit plus grand que 10000.\n"
   ]
  },
  {
   "cell_type": "code",
   "execution_count": 3,
   "metadata": {},
   "outputs": [
    {
     "name": "stdout",
     "output_type": "stream",
     "text": [
      "95\n",
      "10016.8\n"
     ]
    }
   ],
   "source": [
    "def seuil():\n",
    "    n=1\n",
    "    while n**2+10*n+41.8 <10000:\n",
    "        n+=1\n",
    "    return n\n",
    "\n",
    "a=seuil()\n",
    "print(a)\n",
    "print(a**2+a*10+41.8)"
   ]
  },
  {
   "cell_type": "markdown",
   "metadata": {},
   "source": [
    "## Exercice  ( points)\n",
    "\n",
    "Le but de cet exercice est de créer une fonction qui prend comme paramètre une liste de nombres entiers naturels et qui affiche en sortie une liste des indices où se trouvent le maximum de la liste donnée en entrée.(sans utiliser de fonction `max`)\n",
    "\n",
    "Par exemple : \n",
    "\n",
    "si `liste=[1, 10, 5, 10, 1, 6, 1, 2, 1, 10, 9, 1, 4]` \n",
    "\n",
    "alors comme le maximum est 10, la liste des indices où on trouve 10 est `[1,3,9]`.\n",
    "\n"
   ]
  },
  {
   "cell_type": "code",
   "execution_count": 12,
   "metadata": {},
   "outputs": [
    {
     "name": "stdout",
     "output_type": "stream",
     "text": [
      "\n"
     ]
    }
   ],
   "source": [
    "def maxilist(L):\n",
    "    Liste=[]\n",
    "    maxi=0\n",
    "    for i in range(len(L)):\n",
    "        if L[i]>maxi:\n",
    "            maxi=L[i]\n",
    "            Liste=[i]\n",
    "        elif L[i]==maxi:\n",
    "            Liste.append(i)\n",
    "    return Liste\n",
    "        \n",
    "l=[1, 10, 5, 10, 1, 6, 1, 2, 1, 10, 9, 1, 4]\n",
    "l1=[10, 10, 5, 10, 11, 6, 11, 2, 1, 10, 9, 1, 10]\n",
    "print()\n",
    "assert maxilist(l)==[1,3,9], \"la liste des indices est incorrecte\"\n",
    "\n",
    "assert maxilist(l1)==[4,6], \"la liste des indices est incorrecte\"\n",
    "            "
   ]
  },
  {
   "cell_type": "markdown",
   "metadata": {},
   "source": [
    "## Exercice  (5 points)\n",
    "\n",
    "Un nombre triangulaire est un nombre qui est la somme des entiers de 1 jusqu'à un certain nombre. Par exemple, le septième nombre triangulaire est 1 + 2 + 3 + 4 + 5 + 6 + 7 = 28.\n",
    "\n",
    "Les 10 premiers nombres triangulaires sont : 1, 3, 6, 10, 15, 21, 28, 36, 45, 55.\n",
    "\n",
    "Listons les diviseurs des sept premiers nombres triangulaires :\n",
    "\n",
    " 1: 1  \n",
    "\n",
    " 3: 1,3  \n",
    "\n",
    " 6: 1,2,3,6  \n",
    "\n",
    "10: 1,2,5,10  \n",
    "\n",
    "15: 1,3,5,15  \n",
    "\n",
    "21: 1,3,7,21  \n",
    "\n",
    "28: 1,2,4,7,14,28  \n",
    "\n",
    "On peut remarquer que 28 est le premier nombre triangulaire qui a plus de 5 diviseurs.\n",
    "\n",
    "1. Quel est le premier nombre triangulaire qui possède plus de 100 diviseurs ?\n",
    "2. Tracer un graphique avec en abscisse les nombres triangulaires et en ordonnée le nombre de diviseur correspondant.\n"
   ]
  },
  {
   "cell_type": "code",
   "execution_count": 15,
   "metadata": {},
   "outputs": [
    {
     "name": "stdout",
     "output_type": "stream",
     "text": [
      "15\n",
      "6\n",
      "73920 112\n"
     ]
    },
    {
     "data": {
      "image/png": "[encoded data removed]",
      "text/plain": [
       "<Figure size 432x288 with 1 Axes>"
      ]
     },
     "metadata": {
      "needs_background": "light"
     },
     "output_type": "display_data"
    }
   ],
   "source": [
    "import matplotlib.pyplot as plt\n",
    "\n",
    "def triangulaire(n):\n",
    "    return sum([i for i in range (1,n+1)])\n",
    "\n",
    "print(triangulaire(5))\n",
    "\n",
    "def nb_diviseur(n): # non optimisé\n",
    "    L=[]\n",
    "    for i in range (1,n+1):\n",
    "        if n%i==0:\n",
    "            L.append(i)\n",
    "    return len(L)\n",
    "            \n",
    "print(nb_diviseur(28))     \n",
    "\n",
    "ab=[]\n",
    "ordo=[]\n",
    "\n",
    "n=1\n",
    "find=False\n",
    "while  not find:\n",
    "    nb=triangulaire(n)\n",
    "    ab.append(nb)\n",
    "   \n",
    "    a=nb_diviseur(nb)\n",
    "    ordo.append(a)\n",
    "    if a>100:\n",
    "        find=True\n",
    "    n+=1\n",
    "    #print(f\"n={n} nb={nb} nb_diviseur={a}\")\n",
    "    \n",
    "print(nb,nb_diviseur(nb))\n",
    "\n",
    "plt.plot(ab,ordo)\n",
    "\n",
    "\n",
    "assert triangulaire(1)==1\n",
    "assert triangulaire(2)==3\n",
    "assert triangulaire(5)==15\n",
    "\n",
    "assert nb_diviseur(1)==1         \n",
    "assert nb_diviseur(28)==6\n"
   ]
  },
  {
   "cell_type": "code",
   "execution_count": null,
   "metadata": {},
   "outputs": [],
   "source": []
  }
 ],
 "metadata": {
  "interpreter": {
   "hash": "aee8b7b246df8f9039afb4144a1f6fd8d2ca17a180786b69acc140d282b71a49"
  },
  "kernelspec": {
   "display_name": "Python 3",
   "language": "python",
   "name": "python3"
  },
  "language_info": {
   "codemirror_mode": {
    "name": "ipython",
    "version": 3
   },
   "file_extension": ".py",
   "mimetype": "text/x-python",
   "name": "python",
   "nbconvert_exporter": "python",
   "pygments_lexer": "ipython3",
   "version": "3.10.4"
  }
 },
 "nbformat": 4,
 "nbformat_minor": 5
}
