{
 "cells": [
  {
   "cell_type": "markdown",
   "metadata": {},
   "source": [
    " <table style=\"width:100%;\">\n",
    "    <tr style=\"display:none\">\n",
    "        <td></td>\n",
    "        <td></td>\n",
    "    </tr>\n",
    "    <tr style=\"height:3em\">\n",
    "        <td style=\"width:20%;align:left\"><img src=\"iut_bordeaux.jpg\"></td>\n",
    "        <td style=\"width:60%;font: bold 2em 'Fira Sans', serif;text-align:center\"> TP4 <br>Evaluation</td>\n",
    "        <td style=\"width:20%;font: bold 1.3em 'Fira Sans', serif;vertical-align:top;\">R01.06<br><i>1h30</i></td>\n",
    "    </tr>\n",
    "</table>"
   ]
  },
  {
   "cell_type": "markdown",
   "metadata": {},
   "source": [
    "<div style=\"text-align:center\">Sans document - Internet Interdit  <br> Vous rendrez ce fichier complété sur Moodle</div>\n"
   ]
  },
  {
   "cell_type": "markdown",
   "metadata": {},
   "source": [
    "\n",
    "### Exercice 1 (4 points )\n",
    "\n",
    "* Ecrire une fonction `implies` qui prend comme paramètre deux booléens et retourne le résultat de l'expression logique $a \\implies b$.\n",
    "* Ecrire une fonction `equiv` qui prend comme paramètre deux booléens et retourne le résultat de l'expression logique $a \\iff b$.\n",
    "* Ecrire une fonction $f$ qui prend en paramètre trois booléens et retourne le résultat de l'expression logique : $$(a \\vee \\overline b)\\iff (a \\wedge c)$$.\n",
    "* Ecrire, en la formatant correctement, la table de vérité de $f$.\n"
   ]
  },
  {
   "cell_type": "code",
   "execution_count": null,
   "id": "2e8d53be",
   "metadata": {},
   "outputs": [],
   "source": [
    "def implies(a,b):\n",
    "    pass\n",
    "\n",
    "def equiv(a,b):\n",
    "    pass\n",
    "\n",
    "def f(a,b,c):\n",
    "    pass\n",
    "\n",
    "\n",
    "def table():\n",
    "   pass\n",
    "\n",
    "table()"
   ]
  },
  {
   "cell_type": "markdown",
   "metadata": {},
   "source": [
    "### Exercice 2 (3 points)\n",
    "\n",
    "Écrire une fonction `premier` qui prend comme paramètre un nombre entier naturel et retourne un booléen. \n",
    "\n",
    "Cette fonction retournera `True` si le nombre passé en paramètre est premier et `False` sinon.\n",
    "\n",
    "On prendra soin d'optimiser son code (critère d'arrêt) en indiquant le(s) choix fait(s) en commentaire.\n",
    "\n"
   ]
  },
  {
   "cell_type": "code",
   "execution_count": null,
   "metadata": {},
   "outputs": [],
   "source": [
    "\n",
    "\n",
    "def premier(p):\n",
    "   pass\n",
    "    \n",
    " \n",
    "assert premier(0)==False, \"0 n'est pas premier\"\n",
    "assert premier(1)==False, \"1 n'est pas premier\"\n",
    "assert premier(5)==True, \"5 est premier\"\n",
    "assert premier(12)==False, \"12 n'est pas premier\""
   ]
  },
  {
   "cell_type": "markdown",
   "metadata": {},
   "source": [
    "### Exercice 3 (3 points)\n",
    "\n",
    "Ecrire une fonction qui renvoie le plus petit entier naturel $n$ tel que $n^2+10n+41$ soit plus grand que $10000$.\n"
   ]
  },
  {
   "cell_type": "code",
   "execution_count": null,
   "metadata": {},
   "outputs": [],
   "source": [
    "def seuil():\n",
    "    pass\n",
    "\n",
    "print(f\"le seuil est atteint pour n={seuil()}\")"
   ]
  },
  {
   "cell_type": "markdown",
   "metadata": {},
   "source": [
    "### Exercice 4 (4 points)\n",
    "\n",
    "Le but de cet exercice est de créer une fonction qui prend comme paramètre une liste de nombres entiers naturels et qui affiche en sortie la liste des indices où se trouvent le maximum de la liste donnée en entrée.(sans utiliser de fonction `max`)\n",
    "\n",
    "Par exemple : \n",
    "\n",
    "si `liste=[1, 10, 5, 10, 1, 6, 1, 2, 1, 10, 9, 1, 4]` \n",
    "\n",
    "alors comme le maximum est 10, la liste des indices où on trouve 10 est `[1,3,9]`.\n"
   ]
  },
  {
   "cell_type": "code",
   "execution_count": null,
   "metadata": {},
   "outputs": [],
   "source": [
    "def maxilist(L):\n",
    "    pass\n",
    "\n",
    "\n",
    "\n",
    "\n",
    "        \n",
    "l=[1, 10, 5, 10, 1, 6, 1, 2, 1, 10, 9, 1, 4]\n",
    "\n",
    "l1=[11, 10, 5, 10, 11, 6, 1, 2, 1, 10, 9, 1, 10]\n",
    "\n",
    "assert maxilist(l)==[1,3,9], \"la liste des indices est incorrecte\"\n",
    "\n",
    "assert maxilist(l1)==[0,4], \"la liste des indices est incorrecte\"\n",
    "            "
   ]
  },
  {
   "cell_type": "markdown",
   "metadata": {},
   "source": [
    "### Exercice 5 (6 points)\n",
    "\n",
    "Un nombre triangulaire est un nombre qui est la somme des entiers naturel de 1 jusqu'à un certain nombre.\n",
    "\n",
    "Par exemple, le septième nombre triangulaire est 1 + 2 + 3 + 4 + 5 + 6 + 7 = 28.\n",
    "\n",
    "Les 10 premiers nombres triangulaires sont : 1, 3, 6, 10, 15, 21, 28, 36, 45, 55.\n",
    "\n",
    "Listons les diviseurs des sept premiers nombres triangulaires :\n",
    "\n",
    " 1: 1  \n",
    "\n",
    " 3: 1,3  \n",
    "\n",
    " 6: 1,2,3,6  \n",
    "\n",
    "10: 1,2,5,10  \n",
    "\n",
    "15: 1,3,5,15  \n",
    "\n",
    "21: 1,3,7,21  \n",
    "\n",
    "28: 1,2,4,7,14,28  \n",
    "\n",
    "On peut remarquer que 28 est le premier nombre triangulaire qui a plus de 5 diviseurs.\n",
    "\n",
    "1. Quel est le premier nombre triangulaire qui possède plus de 100 diviseurs ?\n",
    "   \n",
    "2. Tracer un graphique avec en abscisse les nombres triangulaires et en ordonnée le nombre de diviseur correspondant.\n"
   ]
  },
  {
   "cell_type": "code",
   "execution_count": null,
   "metadata": {},
   "outputs": [],
   "source": [
    "import matplotlib.pyplot as plt\n",
    "\n",
    "def triangulaire(n):\n",
    "    pass\n",
    "\n",
    "\n",
    "\n",
    "assert triangulaire(1)==1\n",
    "assert triangulaire(2)==3\n",
    "assert triangulaire(5)==15\n",
    "\n",
    "\n",
    "def nb_diviseur(n): \n",
    "    pass\n",
    " \n",
    " \n",
    "    \n",
    "assert nb_diviseur(1)==1         \n",
    "assert nb_diviseur(28)==6\n",
    "\n",
    "\n",
    "# Compléter votre code ici\n"
   ]
  }
 ],
 "metadata": {
  "interpreter": {
   "hash": "aee8b7b246df8f9039afb4144a1f6fd8d2ca17a180786b69acc140d282b71a49"
  },
  "kernelspec": {
   "display_name": "Python 3",
   "language": "python",
   "name": "python3"
  },
  "language_info": {
   "codemirror_mode": {
    "name": "ipython",
    "version": 3
   },
   "file_extension": ".py",
   "mimetype": "text/x-python",
   "name": "python",
   "nbconvert_exporter": "python",
   "pygments_lexer": "ipython3",
   "version": "3.10.4"
  }
 },
 "nbformat": 4,
 "nbformat_minor": 5
}
