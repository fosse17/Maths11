{
 "cells": [
  {
   "cell_type": "markdown",
   "metadata": {},
   "source": [
    " <table style=\"width:100%;\">\n",
    "    <tr style=\"display:none\">\n",
    "        <td></td>\n",
    "        <td></td>\n",
    "    </tr>\n",
    "    <tr style=\"height:3em\">\n",
    "        <td style=\"width:20%;align:left\"><img src=\"iut_bordeaux.jpg\"></td>\n",
    "        <td style=\"width:60%;font: bold 2em 'Fira Sans', serif;text-align:center\"> TP4 <br>Evaluation</td>\n",
    "        <td style=\"width:20%;font: bold 1.3em 'Fira Sans', serif;vertical-align:top;\">R01.06<br><i>1h30</i></td>\n",
    "    </tr>\n",
    "</table>"
   ]
  },
  {
   "cell_type": "markdown",
   "metadata": {},
   "source": [
    "<div style=\"text-align:center\">Sans document - Internet Interdit  <br> Vous rendrez ce fichier complété sur Moodle</div>\n",
    "\n",
    "## Exercice 1 ( 4 points )\n",
    "\n",
    "* Ecrire une fonction `implies` qui prend comme paramètre deux booléens et retourne le résultat de l'expression logique $a \\implies b$.\n",
    "* Ecrire une fonction $f$ qui prend en paramètre deux booleens et retourne le résultat de l'expression logique : $$(a \\vee \\overline b)\\implies (a \\wedge c)$$.\n",
    "* Etablir, en la formatant correctement, la table de vérité de $f$.\n"
   ]
  },
  {
   "cell_type": "code",
   "execution_count": 1,
   "metadata": {},
   "outputs": [],
   "source": [
    "def implies(a,b):\n",
    "    return\n",
    "\n",
    "\n",
    "def f(a,b,c):\n",
    "    return \n",
    "\n",
    "\n",
    "def table():\n",
    "    return \n"
   ]
  },
  {
   "cell_type": "markdown",
   "metadata": {},
   "source": [
    "## Exercice 2 (3 points)\n",
    "\n",
    "Pour un entier $n \\in \\mathbb{N}^*$ donné, on note $d(n)$ la somme des diviseurs propres de $n$ (diviseurs de $n$ strictement inférieurs à $n$).\n",
    "\n",
    "Si $d(n) = n$, on dit que $n$ est `parfait`.\n",
    "\n",
    "#### Exemple : \n",
    "\n",
    "Avec $a = 220$, $d(a) = 1 + 2 + 4 + 5 + 10 + 11 + 20 + 22 + 44 + 55 + 110 = 284 \\neq a$ donc $a$ n'est pas parfait\n",
    "\n",
    "* Ecrire une fonction $d$ prernant un entier $n$  comme paramètre et retournant la liste des diviseurs propres de $n$.\n",
    "  \n",
    "* Ecrire une fonction `parfaits` retournant la liste des nombres parfaits inférieurs ou égaux à 1000.\n"
   ]
  },
  {
   "cell_type": "code",
   "execution_count": null,
   "metadata": {},
   "outputs": [],
   "source": [
    "def d(n):\n",
    "    return\n",
    "    \n",
    "\n",
    "def parfaits():\n",
    "    return\n",
    "\n"
   ]
  },
  {
   "cell_type": "markdown",
   "metadata": {},
   "source": [
    "## Exercice 3 (5 points)\n",
    "\n",
    "On appelle **suite de Syracuse** une suite d'entiers naturels définie de la manière suivante :\n",
    "\n",
    "On part d'un nombre entier supérieur ou égal à 2;\n",
    "\n",
    "- s’il est pair, on le divise par 2 ;\n",
    "- s’il est impair, on le multiplie par 3 et on ajoute 1.\n",
    "\n",
    "En répétant l’opération, on obtient une suite d'entiers positifs dont chacun ne dépend que de son prédécesseur.\n",
    "\n",
    "#### Exemple  \n",
    "\n",
    "A partir de 14, on construit la suite des nombres : 14, 7, 22, 11, 34, 17, 52, 26, 13, 40, 20, 10, 5, 16, 8, 4, 2, 1.\n",
    "\n",
    "C'est la suite de Syracuse du nombre 14. Elle a ici une longueur de 18.\n",
    "\n",
    "Il existe une conjecture qui dit que la suite de Syracuse de n'importe quel entier strictement positif atteint 1.\n",
    "\n",
    "* Ecrire une fonction `syracuse` prenant un entier $n$ comme paramètre et retournat sa suite de syracuse.\n",
    "  \n",
    "\n",
    "* Pour quel(s) nombre(s) de départ inférieur à 1000 obtient-on la plus longue suite de Syracuse ?\n",
    "  \n",
    "  \n",
    "* Représenter graphiquement cette suite avec 681 comme nombre de départ.\n"
   ]
  },
  {
   "cell_type": "code",
   "execution_count": null,
   "metadata": {},
   "outputs": [],
   "source": [
    "import matplotlib.pyplot as plt\n",
    "\n",
    "def syracuse(n):\n",
    "    liste=[]\n",
    "    \n",
    "    return liste\n",
    "\n",
    "def longueur_max():\n",
    "    \n",
    "    return\n",
    "\n",
    "# Tracer de la courbe"
   ]
  },
  {
   "cell_type": "markdown",
   "metadata": {},
   "source": [
    "## Exercice 4 (8 points)\n",
    "\n",
    "Si l'on prend 47, qu'on le retourne et que l'on additionne les deux nombres (47 + 74 = 121), on obtient un palindrome, c'est-à-dire un entier naturel égal à lui-même s'il est lu de gauche à droite ou de droite à gauche. \n",
    "\n",
    "Idem pour 20 : 20 + 02 = 22.\n",
    "\n",
    "Tous les nombres ne produisent pas des palindromes aussi rapidement, par exemple, il faut 3 itérations si l'on part de 349 :\n",
    "\n",
    "$$\\begin{align*}\n",
    "349 + 943 &=& 1292 \\\\\n",
    " 1292 + 2921 &=& 4213\\\\\n",
    "4213 + 3124 &=& 7337\\\\\n",
    "\\end{align*}$$\n",
    "\n",
    "On conjecture qu'il existe aussi des nombres, par exemple 196, qui ne produiront jamais un palindrôme en suivant ce processus. Ces nombres sont appelés « nombres de Lychrel ».\n",
    "\n",
    "L'objectif est d'écrire une fonction qui affiche pour un entier passé en paramètre les différentes itérations jusqu'à obtenir un palindrôme.\n",
    "\n",
    "1 - Ecrire une fonction `decompose` qui prend comme paramètre un nombre entier et renvoie sa décomposition en base 10 sous forme d'une liste d'entier.\n",
    "\n",
    "2 - Ecrire une fonction `decimale` qui prend comme paramètre une liste d'entiers ( une décomposition en base 10 ) et retourne l'entier correspondant.\n",
    "\n",
    "3 - Ecrire une fonction `palindrome` qui prend comme paramètre une liste et retourne un booléen .\n",
    "\n",
    "4 - Ecrire une fonction `play` qui prend en paramètre un entier et affiche les différentes itérations pour obtenir un *éventuel* palindrôme. Mesurer le temps d'exécution de cette fonction.\n",
    "\n",
    "```python\n",
    "decompose(123) : [1,2,3]\n",
    "\n",
    "decimale([2,4,7]) : 247\n",
    "decimale([1,2]) : 12\n",
    "\n",
    "palindrome([1]) : True\n",
    "palindrome([1,2,1]) : True\n",
    "palindrome([1,2,2,1]) : True\n",
    "palindrome([1,2,2,3]) : False\n",
    "\n",
    "play(197) : \n",
    "\n",
    "197+791=988\n",
    "988+889=1877\n",
    "1877+7781=9658\n",
    "9658+8569=18227\n",
    "18227+72281=90508\n",
    "90508+80509=171017\n",
    "171017+710171=881188\n",
    "```\n",
    "\n",
    "On pourra utiliser la fonction `reverse()` sur une liste L : `L.reverse()`"
   ]
  },
  {
   "cell_type": "code",
   "execution_count": null,
   "metadata": {},
   "outputs": [],
   "source": [
    "import time\n",
    "\n",
    "def decompose(n):\n",
    "   \n",
    "    return \n",
    "\n",
    "def decimale(L):\n",
    "   \n",
    "    return \n",
    "\n",
    "def palindrome(L):\n",
    "   \n",
    "    return \n",
    "\n",
    "\n",
    "def play(n):\n",
    "    \n",
    "    \n",
    "    \n",
    "   \n"
   ]
  },
  {
   "cell_type": "markdown",
   "metadata": {},
   "source": [
    "## Exercice 5 (Bonus 2 points)\n",
    "\n",
    "Le triplet d'entiers naturels non nuls (a,b,c) est pythagoricien si $a^2 + b^2 = c^2$. Par exemple, $(3,4,5)$ est un triplet pythagoricien.\n",
    "\n",
    "* Parmi les triplets pythagoriciens $(a,b,c)$ tels que $a + b + c = 3600$, donner le produit $a \\times b \\times c$ le plus grand.\n",
    "\n",
    "\n",
    "*Si votre algorithme ne donne pas de résultat après 2 minutes d'attente, il est peu probable qu'il vous en donne une dans les 2 prochaines minutes.*"
   ]
  },
  {
   "cell_type": "code",
   "execution_count": null,
   "metadata": {},
   "outputs": [],
   "source": [
    "def max_prod():\n",
    "    \n",
    "    return "
   ]
  }
 ],
 "metadata": {
  "interpreter": {
   "hash": "aee8b7b246df8f9039afb4144a1f6fd8d2ca17a180786b69acc140d282b71a49"
  },
  "kernelspec": {
   "display_name": "Python 3",
   "language": "python",
   "name": "python3"
  },
  "language_info": {
   "codemirror_mode": {
    "name": "ipython",
    "version": 3
   },
   "file_extension": ".py",
   "mimetype": "text/x-python",
   "name": "python",
   "nbconvert_exporter": "python",
   "pygments_lexer": "ipython3",
   "version": "3.10.4"
  }
 },
 "nbformat": 4,
 "nbformat_minor": 5
}
