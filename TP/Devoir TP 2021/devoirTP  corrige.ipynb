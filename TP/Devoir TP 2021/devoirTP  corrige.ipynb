{
 "cells": [
  {
   "cell_type": "markdown",
   "metadata": {},
   "source": [
    "## Exercice 1\n",
    "\n",
    "* Ecrire une fonction $f$ qui prend en paramètre deux booleens et retourne le resultat de l'expression logique : $$\\left((a \\vee \\overline b)\\implies (a \\wedge c)\\right)$$\n",
    "* Etablir ,en la formatant correctement, la table de vérité de $f$.\n"
   ]
  },
  {
   "cell_type": "markdown",
   "metadata": {},
   "source": [
    "## Exercice 2\n",
    "\n",
    "Pour un entier $n \\in \\mathbb{N}$ donné, on note $d(n)$ la somme des diviseurs propres de $n$ (diviseurs de $n$ strictement inférieurs à $n$).\n",
    "\n",
    "Si $d(n) = n$, on dit que $n$ est `parfait`.\n",
    "\n",
    "#### Exemple : Avec $a = 220$, $d(a) = 1 + 2 + 4 + 5 + 10 + 11 + 20 + 22 + 44 + 55 + 110 = 284 \\neq a$ donc $a$ n'est pas parfait\n",
    "\n",
    "* Donner la listes de  tous les nombres parfaits n ≤ 1000.\n"
   ]
  },
  {
   "cell_type": "code",
   "execution_count": 1,
   "metadata": {},
   "outputs": [
    {
     "name": "stdout",
     "output_type": "stream",
     "text": [
      "[6, 28, 496]\n",
      "[6, 28, 496]\n"
     ]
    }
   ],
   "source": [
    "def d(n):\n",
    "    return sum([i for i in range(1, n) if n % i == 0])\n",
    "\n",
    "def tri1():\n",
    "    return[i for i in range(1,1001) if d(i)==i]\n",
    "\n",
    "\n",
    "print(tri1())\n",
    "\n",
    "def tri():\n",
    "    parfait = []\n",
    "    for i in range(1, 1001):\n",
    "        if d(i) == i:\n",
    "            parfait.append(i)\n",
    "      \n",
    "    return parfait\n",
    "\n",
    "\n",
    "print(tri())\n"
   ]
  },
  {
   "cell_type": "markdown",
   "metadata": {},
   "source": []
  },
  {
   "cell_type": "markdown",
   "metadata": {},
   "source": [
    "Le triplet d'entiers naturels non nuls (a,b,c) est pythagoricien si $a^2 + b^2 = c^2$. Par exemple, (3,4,5) est un triplet pythagoricien.\n",
    "\n",
    "Parmi les triplets pythagoriciens (a,b,c) tels que $a + b + c = 3600$, donner le produit $a \\times b \\times c$ le plus grand.\n",
    "\n",
    "1654329600\n"
   ]
  },
  {
   "cell_type": "code",
   "execution_count": 2,
   "metadata": {},
   "outputs": [
    {
     "data": {
      "text/plain": [
       "1654329600"
      ]
     },
     "execution_count": 2,
     "metadata": {},
     "output_type": "execute_result"
    }
   ],
   "source": [
    "def max_prod():\n",
    "    S = 0\n",
    "    for a in range(3601):\n",
    "        for b in range(3601):\n",
    "            c = 3600-a-b\n",
    "            if c > 0 and a**2+b**2 == c**2:\n",
    "                if a*b*c > S:\n",
    "                    S = a*b*c\n",
    "    return S\n",
    "\n",
    "\n",
    "max_prod()\n"
   ]
  },
  {
   "cell_type": "markdown",
   "metadata": {},
   "source": [
    "## Exercice 3 \n",
    "\n",
    "On appelle \"suite de Syracuse\" une suite d'entiers naturels définie de la manière suivante :\n",
    "\n",
    "On part d'un nombre entier plus grand que zéro ;\n",
    "\n",
    "- s’il est pair, on le divise par 2 ;\n",
    "- s’il est impair, on le multiplie par 3 et on ajoute 1.\n",
    "\n",
    "En répétant l’opération, on obtient une suite d'entiers positifs dont chacun ne dépend que de son prédécesseur.\n",
    "\n",
    "#### Exemple  \n",
    "A partir de 14, on construit la suite des nombres : 14, 7, 22, 11, 34, 17, 52, 26, 13, 40, 20, 10, 5, 16, 8, 4, 2, 1.\n",
    "\n",
    "C'est ce qu'on appelle la suite de Syracuse du nombre 14. Elle a ici une longueur de 18.\n",
    "\n",
    "Il existe une conjecture qui dit que la suite de Syracuse de n'importe quel entier strictement positif atteint 1.\n",
    "\n",
    "* Pour quel(s) nombre(s) de départ inférieur à 1000 obtient-on la plus longue suite de Syracuse?\n",
    "\n",
    "* Représenter graphiquement la longueur de la suite de Syracuse (axe Y) de tous les nombres inférieurs à 1000 (axe X).\n"
   ]
  },
  {
   "cell_type": "code",
   "execution_count": 3,
   "metadata": {},
   "outputs": [
    {
     "name": "stdout",
     "output_type": "stream",
     "text": [
      "[681, 2044, 1022, 511, 1534, 767, 2302, 1151, 3454, 1727, 5182, 2591, 7774, 3887, 11662, 5831, 17494, 8747, 26242, 13121, 39364, 19682, 9841, 29524, 14762, 7381, 22144, 11072, 5536, 2768, 1384, 692, 346, 173, 520, 260, 130, 65, 196, 98, 49, 148, 74, 37, 112, 56, 28, 14, 7, 22, 11, 34, 17, 52, 26, 13, 40, 20, 10, 5, 16, 8, 4, 2, 1]\n",
      "65\n",
      "(871, 179)\n"
     ]
    },
    {
     "data": {
      "text/plain": [
       "[<matplotlib.lines.Line2D at 0x23627544790>]"
      ]
     },
     "execution_count": 3,
     "metadata": {},
     "output_type": "execute_result"
    },
    {
     "data": {
      "image/png": "[encoded data removed]",
      "text/plain": [
       "<Figure size 432x288 with 1 Axes>"
      ]
     },
     "metadata": {
      "needs_background": "light"
     },
     "output_type": "display_data"
    }
   ],
   "source": [
    "def syra(n):\n",
    "    L=[n]\n",
    "    while n>1:\n",
    "        if n%2==0:\n",
    "            n//=2\n",
    "        else :\n",
    "            n=3*n+1\n",
    "        L.append(n)\n",
    "    return L\n",
    "\n",
    "syra(17)\n",
    "\n",
    "def max_syra():\n",
    "    indice,maxi=0,0\n",
    "    for i in range(1,1001):\n",
    "        a,b=i,len(syra(i))\n",
    "        if b>=maxi :\n",
    "            maxi=b\n",
    "            indice=a\n",
    "    return indice, maxi\n",
    "\n",
    "\n",
    "\n",
    "l=syra(681)\n",
    "print(l)\n",
    "print(len(l))\n",
    "print(max_syra())\n",
    "\n",
    "import matplotlib.pyplot as plt\n",
    "\n",
    "\n",
    "plt.plot(l)\n",
    "#plt.plot(l)\n"
   ]
  },
  {
   "cell_type": "markdown",
   "metadata": {},
   "source": [
    "## Exercice 4 \n",
    "\n",
    "Si l'on prend 47, qu'on le retourne et que l'on additionne les deux nombres (47 + 74 = 121), on obtient un palindrome, c'est-à-dire un entier naturel égal à lui-même s'il est lu de gauche à droite ou de droite à gauche. Idem pour 20 : 20 + 02 = 22.\n",
    "\n",
    "Tous les nombres ne produisent pas des palindromes aussi rapidement, par exemple, il faut 3 itérations si l'on part de 349 :\n",
    "\n",
    "349 + 943 = 1292, 1292 + 2921 = 4213, 4213 + 3124 = 7337.\n",
    "\n",
    "On conjecture qu'il existe aussi des nombres, par exemple 196, qui ne produiront jamais un palindrome en suivant ce processus. Ces nombres sont appelés « nombres de Lychrel ».\n",
    "\n",
    "L'objectif est d'écrire une fonction qui affiche pour un entier passé en paramètre les différentes itérations jusqu'à obtenir un palidrôme.\n",
    "\n",
    "1 - Ecrire une fonction decompose qui prend comme paramètre un nombre décimal et renvoie sa décomposition en base 10 sous forme d'une liste d'entier\n",
    "\n",
    "2 - Ecrire une fonction decimale qui prend commeparamètre une liste d'entier ( une décomposition en base 1à ) et retourne l'entier correspondant\n",
    "\n",
    "3 - Ecrire une fonction palindrome qui prend comme paramètre une liste et retourne un booleen \n",
    "\n",
    "4 - Ecrire une fonction play qui prend en paramètre un entier et affiche les différentes itérations pour obtenir un palindrôme.\n",
    "\n",
    "    decompose(123) : [1,2,3]\n",
    "\n",
    "    decimale([2,4,7]) : 247\n",
    "    decimale([1,2]) : 12\n",
    "\n",
    "    palindrome([1,2,1]) : True\n",
    "    palindrome([1,2,2,1]) : True\n",
    "    palindrome([1,2,2,3]) : False\n"
   ]
  },
  {
   "cell_type": "code",
   "execution_count": 5,
   "metadata": {},
   "outputs": [
    {
     "name": "stdout",
     "output_type": "stream",
     "text": [
      "[1, 2, 3]\n",
      "123\n",
      "197+791=988\n",
      "988+889=1877\n",
      "1877+7781=9658\n",
      "9658+8569=18227\n",
      "18227+72281=90508\n",
      "90508+80509=171017\n",
      "171017+710171=881188\n"
     ]
    },
    {
     "data": {
      "text/plain": [
       "881188"
      ]
     },
     "execution_count": 5,
     "metadata": {},
     "output_type": "execute_result"
    }
   ],
   "source": [
    "def decompose(n):\n",
    "    L=[]\n",
    "    while n>=1:\n",
    "        L.append(n%10)\n",
    "        n//=10\n",
    "    L.reverse()\n",
    "    return L\n",
    "\n",
    "def palindrome(n):\n",
    "    L=decompose(n)\n",
    "    l=len(L)\n",
    "    for i in range(l//2):\n",
    "        if L[i]!=L[l-i-1]: return False\n",
    "    return True\n",
    "\n",
    "assert palindrome(33)==True\n",
    "\n",
    "\n",
    "\n",
    "a=decompose(123)\n",
    "print(a)\n",
    "\n",
    "\n",
    "def decimale(L):\n",
    "    nombre=0\n",
    "    l=len(L)\n",
    "    for i in range(0,l): \n",
    "        nombre+=L[i]*10**(l-i-1)\n",
    "    return nombre\n",
    "\n",
    "print(decimale(a))\n",
    "\n",
    "def play(n):\n",
    "    end=False\n",
    "    while not end:\n",
    "        L=decompose(n)\n",
    "        L.reverse()\n",
    "        p=decimale(L)\n",
    "        print(f\"{n}+{p}={n+p}\")\n",
    "        n=n+p\n",
    "        if palindrome(n):\n",
    "            end=True\n",
    "    return n\n",
    "\n",
    "play(197)"
   ]
  },
  {
   "cell_type": "markdown",
   "metadata": {},
   "source": [
    "## Exercice 5 (Bonus : 2 points)\n",
    "\n",
    "Le triplet d'entiers naturels non nuls (a,b,c) est pythagoricien si $a^2 + b^2 = c^2$. Par exemple, (3,4,5) est un triplet pythagoricien.\n",
    "\n",
    "* Parmi les triplets pythagoriciens $(a,b,c)$ tels que $a + b + c = 3600$, donner le produit $a \\times b \\times c$ le plus grand.\n",
    "\n",
    "* Mesurer le temps d'execution de cette fonction.\n",
    "\n",
    "*Si votre algorithme ne donne pas de résultat après 2 minutes d'attente, il est peu probable qu'il vous en donne une dans les 2 prochaines minutes.*"
   ]
  },
  {
   "cell_type": "code",
   "execution_count": null,
   "metadata": {},
   "outputs": [
    {
     "name": "stdout",
     "output_type": "stream",
     "text": [
      "1654329600\n"
     ]
    }
   ],
   "source": [
    "def pyth():\n",
    "    P=1\n",
    "    for a in range(3601) :\n",
    "        for b in range(3601):\n",
    "            c=3600-a-b\n",
    "            if c**2==a**2+b**2:\n",
    "                P=max(P,a*b*c)\n",
    "    return P\n",
    "      \n",
    "print(pyth())     "
   ]
  },
  {
   "cell_type": "code",
   "execution_count": null,
   "metadata": {},
   "outputs": [],
   "source": []
  }
 ],
 "metadata": {
  "interpreter": {
   "hash": "aee8b7b246df8f9039afb4144a1f6fd8d2ca17a180786b69acc140d282b71a49"
  },
  "kernelspec": {
   "display_name": "Python 3",
   "language": "python",
   "name": "python3"
  },
  "language_info": {
   "codemirror_mode": {
    "name": "ipython",
    "version": 3
   },
   "file_extension": ".py",
   "mimetype": "text/x-python",
   "name": "python",
   "nbconvert_exporter": "python",
   "pygments_lexer": "ipython3",
   "version": "3.10.4"
  }
 },
 "nbformat": 4,
 "nbformat_minor": 5
}
