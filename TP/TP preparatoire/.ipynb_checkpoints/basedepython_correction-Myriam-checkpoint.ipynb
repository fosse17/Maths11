{
 "cells": [
  {
   "cell_type": "markdown",
   "metadata": {},
   "source": [
    "# Mise en route en Python"
   ]
  },
  {
   "cell_type": "markdown",
   "metadata": {},
   "source": [
    "## Affectation de variable \n",
    "\n",
    "L'affectation en Python se fait avec le signe `=`.  \n",
    "\n",
    "On peut affecter plusieurs variables simultanément en utilisant la `,`\n",
    "\n",
    "```python\n",
    "a=2\n",
    "print(a)\n",
    "\n",
    "b=a\n",
    "print(b)\n",
    "\n",
    "a=\"un étudiant\"\n",
    "print(a)\n",
    "\n",
    "a=2.\n",
    "print(a)\n",
    "\n",
    "a,b=3,4\n",
    "print(a,b)\n",
    "\n",
    "a,b=b,a\n",
    "print(a,b)\n",
    "```"
   ]
  },
  {
   "cell_type": "code",
   "execution_count": 6,
   "metadata": {},
   "outputs": [
    {
     "name": "stdout",
     "output_type": "stream",
     "text": [
      "4 3\n"
     ]
    }
   ],
   "source": [
    "a,b=b,a\n",
    "print(a,b)"
   ]
  },
  {
   "cell_type": "markdown",
   "metadata": {},
   "source": [
    "## Manipulation des listes\n",
    "\n",
    "### Listes\n",
    "La plupart des données que nous utiliserons seront des listes numériques. La syntaxe est la suivante :\n",
    "\n",
    "```python\n",
    "x = [4,3,2,1]\n",
    "y = [2,4,6,8]\n",
    "print(x,y)\n",
    "```"
   ]
  },
  {
   "cell_type": "code",
   "execution_count": 7,
   "metadata": {},
   "outputs": [
    {
     "name": "stdout",
     "output_type": "stream",
     "text": [
      "[4, 3, 2, 1] [2, 4, 6, 8]\n"
     ]
    }
   ],
   "source": [
    "x = [4,3,2,1]\n",
    "y = [2,4,6,8]\n",
    "print(x,y)"
   ]
  },
  {
   "cell_type": "markdown",
   "metadata": {},
   "source": [
    "### Concaténation\n",
    "\n",
    "\n",
    "```python\n",
    "z = x + [7,8]\n",
    "print(z)\n",
    "print([12] + x + [9] + y)\n",
    "print([3]*4)\n",
    "```\n",
    "\n"
   ]
  },
  {
   "cell_type": "code",
   "execution_count": 8,
   "metadata": {},
   "outputs": [
    {
     "name": "stdout",
     "output_type": "stream",
     "text": [
      "[4, 3, 2, 1, 7, 8]\n",
      "[12, 4, 3, 2, 1, 9, 2, 4, 6, 8]\n",
      "[3, 3, 3, 3]\n"
     ]
    }
   ],
   "source": [
    "z = x + [7,8]\n",
    "print(z)\n",
    "print([12] + x + [9] + y)\n",
    "print([3]*4)"
   ]
  },
  {
   "cell_type": "markdown",
   "metadata": {},
   "source": [
    "### Création d'une liste vide\n",
    "\n",
    "```python\n",
    "v = []\n",
    "print(v)\n",
    "```\n"
   ]
  },
  {
   "cell_type": "code",
   "execution_count": 9,
   "metadata": {},
   "outputs": [
    {
     "name": "stdout",
     "output_type": "stream",
     "text": [
      "[]\n"
     ]
    }
   ],
   "source": [
    "v = []\n",
    "print(v)"
   ]
  },
  {
   "cell_type": "markdown",
   "metadata": {},
   "source": [
    "### Extraction de coefficients\n",
    "\n",
    "L'extraction de coefficient se fait à l'aide des `[..]` (commandes de slicing).\n",
    "\n",
    "Que font les commandes suivantes ?\n",
    "\n",
    "```python\n",
    "y[0]\n",
    "y[2]\n",
    "y[0:3]\n",
    "y[1:3]\n",
    "y[2:3]\n",
    "y[1:]\n",
    "y[2:]\n",
    "y[:-1]\n",
    "```\n",
    "\n",
    "***Attention***, si vous voulez recopier la liste x dans une nouvelle variable w, la commande suivante ne fonctionne pas :\n",
    "```python\n",
    "w=x\n",
    "```\n",
    "\n",
    "w n'est pas une copie, mais une nouvelle référence vers la liste x.\n",
    "\n",
    "```python\n",
    "w[2]=88\n",
    "print(x)\n",
    "```\n",
    "\n",
    "Pour créer un nouvel objet liste, on pourra utiliser le slicing.\n",
    "\n",
    "```python\n",
    "x = [4,3,2,1]\n",
    "w[:]=x\n",
    "w[2]=88\n",
    "print(x)\n",
    "print(w)\n",
    "```"
   ]
  },
  {
   "cell_type": "code",
   "execution_count": 23,
   "metadata": {},
   "outputs": [
    {
     "name": "stdout",
     "output_type": "stream",
     "text": [
      "[2, 4, 6, 8]\n"
     ]
    },
    {
     "data": {
      "text/plain": [
       "[2, 4]"
      ]
     },
     "execution_count": 23,
     "metadata": {},
     "output_type": "execute_result"
    }
   ],
   "source": [
    "print(y)\n",
    "#y[0]\n",
    "#y[2]\n",
    "#y[0:4]\n",
    "#y[1:3]\n",
    "#y[2:3]\n",
    "#y[1:]\n",
    "#y[2:]\n",
    "#y[:-1]\n",
    "y[:-2]"
   ]
  },
  {
   "cell_type": "markdown",
   "metadata": {},
   "source": [
    "### Séquence\n",
    "\n",
    "Taper les commandes suivantes :\n",
    "\n",
    "```python\n",
    "[0,1,2,3]\n",
    "list(range(0,4))\n",
    "list(range(4))\n",
    "\n",
    "#Si on souhaite créer une séquence avec un pas différent de 1 :\n",
    "list(range(12,2,-1))\n",
    "list(range(1,9,2))\n",
    "```"
   ]
  },
  {
   "cell_type": "code",
   "execution_count": 28,
   "metadata": {},
   "outputs": [
    {
     "data": {
      "text/plain": [
       "[0, 1, 2, 3]"
      ]
     },
     "execution_count": 28,
     "metadata": {},
     "output_type": "execute_result"
    }
   ],
   "source": [
    "#[0,1,2,3]\n",
    "#list(range(0,4))\n",
    "list(range(4))"
   ]
  },
  {
   "cell_type": "code",
   "execution_count": 37,
   "metadata": {},
   "outputs": [
    {
     "data": {
      "text/plain": [
       "[12, 11, 10, 9, 8, 7, 6, 5, 4, 3]"
      ]
     },
     "execution_count": 37,
     "metadata": {},
     "output_type": "execute_result"
    }
   ],
   "source": [
    "list(range(12,2,-1))"
   ]
  },
  {
   "cell_type": "code",
   "execution_count": 38,
   "metadata": {},
   "outputs": [
    {
     "data": {
      "text/plain": [
       "[1, 3, 5, 7]"
      ]
     },
     "execution_count": 38,
     "metadata": {},
     "output_type": "execute_result"
    }
   ],
   "source": [
    "list(range(1,9,2))"
   ]
  },
  {
   "cell_type": "markdown",
   "metadata": {},
   "source": [
    "## Les fonctions \n",
    "\n",
    "Les fonctions en Python ont toutes la même syntaxe : `nomfonction(variables)`.\n",
    "\n",
    "```python\n",
    "y = [2,4,6,8]\n",
    "len(y)\n",
    "sum(y)\n",
    "del(y[2])\n",
    "```"
   ]
  },
  {
   "cell_type": "code",
   "execution_count": 41,
   "metadata": {},
   "outputs": [
    {
     "name": "stdout",
     "output_type": "stream",
     "text": [
      "[2, 4, 8]\n"
     ]
    }
   ],
   "source": [
    "y = [2,4,6,8]\n",
    "#len(y)\n",
    "#sum(y)\n",
    "del(y[2])\n",
    "print(y)"
   ]
  },
  {
   "cell_type": "markdown",
   "metadata": {},
   "source": [
    "### Créations de fonctions\n",
    "\n",
    "La syntaxe de création d'une fonction est la suivante :\n",
    "\n",
    "```python\n",
    "def nomdemafonction(x1,x2,...xp):\n",
    "    instructions\n",
    "    return y1, y2, ..., yn\n",
    "```\n",
    "\n",
    "`(x1,...,xp)`  est la liste des arguments d'entrée de la fonction donnés par l'utilisateur. \n",
    "\n",
    "`(y1,...,yp)` sont les arguments de sortie.\n",
    "\n",
    "#### Exemple :\n",
    "Copier-coller la fonction suivante pm(a,b), qui retourne l'addition et la soustraction de a et de b.\n",
    "\n",
    "```python\n",
    "def pm(a,b):\n",
    "    plus = a+b\n",
    "    moins = a-b\n",
    "    res = (plus, moins)\n",
    "    return res\n",
    "```\n",
    "\n",
    "Tester cette fonction, avec quelques valeurs de a et de b.\n",
    "\n",
    "```python\n",
    "pm(12,7)\n",
    "```"
   ]
  },
  {
   "cell_type": "code",
   "execution_count": 43,
   "metadata": {},
   "outputs": [
    {
     "data": {
      "text/plain": [
       "(19, 5)"
      ]
     },
     "execution_count": 43,
     "metadata": {},
     "output_type": "execute_result"
    }
   ],
   "source": [
    "def pm(a,b):\n",
    "    plus = a+b\n",
    "    moins = a-b\n",
    "    res = (plus, moins)\n",
    "    return res\n",
    "pm(12,7)"
   ]
  },
  {
   "cell_type": "markdown",
   "metadata": {},
   "source": [
    "## Structures de contrôle\n",
    "\n",
    "### Le test \"si\"\"\n",
    "\n",
    "Nous utiliserons le test `if ... else`.  \n",
    "\n",
    "Attention aux `:` , à l'alignement et à la comparaison avec `==`,\n",
    "les autres symboles de comparaisons sont `>`,`<`, `>=`, `<=`, et `!=`.\n",
    "\n",
    "```python\n",
    "x=3\n",
    "if x==2:\n",
    "    print(\"oh\")\n",
    "else:\n",
    "    print(\"ah\")\n",
    "```"
   ]
  },
  {
   "cell_type": "code",
   "execution_count": null,
   "metadata": {},
   "outputs": [],
   "source": []
  },
  {
   "cell_type": "markdown",
   "metadata": {},
   "source": [
    "\n",
    "### La boucle for\n",
    "\n",
    "On peut parcourir directement les élements d'une liste donnée :\n",
    "\n",
    "```python\n",
    "liste=[\"A\",\"B\",\"C\"]\n",
    "for i in liste:\n",
    "    print(i)\n",
    "```\n",
    "\n",
    "Pour parcourir des indices entiers, on utilise la fonction `range` :\n",
    "\n",
    "```python\n",
    "liste=[\"A\",\"B\",\"C\"]\n",
    "for i in liste:\n",
    "    print(i)\n",
    "for i in range(0,len(liste)):\n",
    "    print(i)   \n",
    "```"
   ]
  },
  {
   "cell_type": "code",
   "execution_count": null,
   "metadata": {},
   "outputs": [],
   "source": [
    "   "
   ]
  },
  {
   "cell_type": "markdown",
   "metadata": {},
   "source": [
    "### La boucle \"tant que\"\n",
    "\n",
    "Il faut être attentif à la condition d'arrêt (pour sortir de la boucle)\n",
    "\n",
    "```python\n",
    "i=3\n",
    "while i<6:\n",
    "    print(i)\n",
    "    i+=1\n",
    "```"
   ]
  },
  {
   "cell_type": "code",
   "execution_count": null,
   "metadata": {},
   "outputs": [],
   "source": []
  },
  {
   "cell_type": "markdown",
   "metadata": {},
   "source": [
    "## Exercices \n",
    "\n",
    "\n",
    "#### Exercice 1 :  modification de listes\n",
    "\n",
    "Construire une fonction nulpos(liste) qui met à 0 les éléments positifs d'une liste numérique.\n",
    "\n",
    "Exemple :\n",
    "\n",
    "```python\n",
    "a = [8,5,-2,1,2]\n",
    "nulpos(a)\n",
    "[0, 0, -2, 0, 0]\n",
    "```"
   ]
  },
  {
   "cell_type": "code",
   "execution_count": 1,
   "metadata": {},
   "outputs": [
    {
     "name": "stdout",
     "output_type": "stream",
     "text": [
      "[3, 0, 0, 0, 5, 6, 0]\n"
     ]
    }
   ],
   "source": [
    "x=[3,-4,-1,0,5,6,-7]\n",
    "\n",
    "def nulpos(liste):\n",
    "    for i in range(len(liste)):\n",
    "        if liste[i]>0:\n",
    "            liste[i]=0\n",
    "    return(liste)\n",
    "\n",
    "#version courte\n",
    "\n",
    "def nulpos2(liste):\n",
    "    return [i if i>=0 else 0 for i in liste]\n",
    "\n",
    "# print(nulpos(x))\n",
    "print(nulpos2(x))"
   ]
  },
  {
   "cell_type": "markdown",
   "metadata": {},
   "source": [
    "#### Exercice 2 \n",
    "\n",
    "Construire une fonction puiss(liste) qui met à la puissance  i le  ième élément de liste.\n",
    "\n",
    "```python\n",
    "a=[8, 5, -2, 1, 2]\n",
    "puiss(a)\n",
    "[8, 25, -8, 1, 32]\n",
    "```"
   ]
  },
  {
   "cell_type": "code",
   "execution_count": 2,
   "metadata": {},
   "outputs": [
    {
     "data": {
      "text/plain": [
       "[8, 25, -8, 1, 32]"
      ]
     },
     "execution_count": 2,
     "metadata": {},
     "output_type": "execute_result"
    }
   ],
   "source": [
    "a=[8, 5, -2, 1, 2]\n",
    "def puiss(x):\n",
    "    for i in range(len(x)):\n",
    "        x[i]=(x[i])**(i+1)\n",
    "    return(x)\n",
    "\n",
    "puiss(a)"
   ]
  },
  {
   "cell_type": "markdown",
   "metadata": {},
   "source": [
    "#### Exercice 3 \n",
    "\n",
    "Construire une fonction nbre_pairs(liste) qui compte le nombre d'entier pair d'une liste d'entiers relatifs.\n",
    "\n",
    "```python\n",
    "a=[8, 5, -2, 1, 2]\n",
    "nbre_pairs(a)\n",
    "3\n",
    "```"
   ]
  },
  {
   "cell_type": "code",
   "execution_count": 5,
   "metadata": {},
   "outputs": [
    {
     "data": {
      "text/plain": [
       "3"
      ]
     },
     "execution_count": 5,
     "metadata": {},
     "output_type": "execute_result"
    }
   ],
   "source": [
    "a=[8, 5, -2, 1, 2]\n",
    "def nbre_pairs(x):\n",
    "    n=0\n",
    "    for i in x:\n",
    "        if i%2==0:\n",
    "            n+=1\n",
    "    return n\n",
    "nbre_pairs(a)"
   ]
  },
  {
   "cell_type": "markdown",
   "metadata": {},
   "source": [
    "#### Exercice 4\n",
    "\n",
    "Construire une fonction minval(liste) qui retourne la plus petite valeur d'une liste, ainsi que son indice.\n",
    "\n",
    "```python\n",
    "a=[8, 5, -2, 1, 2]\n",
    "minval(a)\n",
    "-2, 2\n",
    "```"
   ]
  },
  {
   "cell_type": "code",
   "execution_count": 6,
   "metadata": {},
   "outputs": [
    {
     "data": {
      "text/plain": [
       "(-2, 2)"
      ]
     },
     "execution_count": 6,
     "metadata": {},
     "output_type": "execute_result"
    }
   ],
   "source": [
    "a=[8, 5, -2, 1, 2]\n",
    "def minval(x):\n",
    "    valeur_mini=x[0]\n",
    "    rang_mini=0;\n",
    "    for i in range(len(x)):\n",
    "        if valeur_mini>x[i]:\n",
    "            valeur_mini=x[i]\n",
    "            rang_mini=i\n",
    "    return(valeur_mini,rang_mini)\n",
    "minval(a)"
   ]
  },
  {
   "cell_type": "markdown",
   "metadata": {},
   "source": [
    "#### Exercice 5 : $\\pi$\n",
    "\n",
    "Construire une fonction `pi(n)` qui calcule la somme suivante :\n",
    "\n",
    "$$4 \\sum_{k=0}^n \\dfrac{(-1)^k}{2k+1}=4\\left(1-\\dfrac13+\\dfrac15-\\dfrac17+\\dfrac19\\cdots+\\dfrac{(-1)^n}{2n+1}\\right)$$\n",
    "\n"
   ]
  },
  {
   "cell_type": "code",
   "execution_count": 7,
   "metadata": {},
   "outputs": [
    {
     "data": {
      "text/plain": [
       "3.1416926435905346"
      ]
     },
     "execution_count": 7,
     "metadata": {},
     "output_type": "execute_result"
    }
   ],
   "source": [
    "def pi(n):\n",
    "    somme=0\n",
    "    for k in range(n+1):\n",
    "        somme=somme+((-1)**k)/(2*k+1)\n",
    "    somme=4*somme\n",
    "    return(somme)\n",
    "pi(10000)"
   ]
  },
  {
   "cell_type": "markdown",
   "metadata": {},
   "source": [
    "\n",
    "#### Exercice 6  \n",
    "\n",
    "On dispose d'une feuille de papier d'épaisseur 0,1 mm.\n",
    "\n",
    "Combien de fois doit-on la plier au minimum pour que l'épaisseur dépasse la distance terre lune soit 384 400 km.\n",
    "\n",
    "Écrire une fonction en Python pour résoudre ce problème.\n",
    "\n",
    "\n"
   ]
  },
  {
   "cell_type": "code",
   "execution_count": 11,
   "metadata": {},
   "outputs": [
    {
     "data": {
      "text/plain": [
       "(439804.6511104, 42)"
      ]
     },
     "execution_count": 11,
     "metadata": {},
     "output_type": "execute_result"
    }
   ],
   "source": [
    "def pliage():\n",
    "    p=0.1*10**(-6)\n",
    "    nb_pliage=0\n",
    "    while p<384000:\n",
    "        p*=2 \n",
    "        nb_pliage+=1\n",
    "    return nb_pliage\n",
    "    \n",
    "pliage()"
   ]
  },
  {
   "cell_type": "markdown",
   "metadata": {},
   "source": [
    "#### Exercice 7 : travail sur les listes \n",
    "\n",
    "Afficher :\n",
    "\n",
    "* la liste des nombres de 1 à 50\n",
    "\n",
    "* tous les nombres pairs compris entre 45 et 65 (inclus).\n",
    "\n",
    "* tous les multiples de 7 inférieurs à 70.\n",
    "\n",
    "On donne `L=list(range(1,101))`, donner\n",
    "\n",
    "* La liste des 15 premiers nombre de L\n",
    "\n",
    "* la liste des 50 derniers nombres, dans l’ordre inverse.\n",
    "\n"
   ]
  },
  {
   "cell_type": "code",
   "execution_count": 28,
   "metadata": {},
   "outputs": [
    {
     "name": "stdout",
     "output_type": "stream",
     "text": [
      "[100, 99, 98, 97, 96, 95, 94, 93, 92, 91, 90, 89, 88, 87, 86, 85, 84, 83, 82, 81, 80, 79, 78, 77, 76, 75, 74, 73, 72, 71, 70, 69, 68, 67, 66, 65, 64, 63, 62, 61, 60, 59, 58, 57, 56, 55, 54, 53, 52, 51]\n"
     ]
    }
   ],
   "source": [
    "l1=[i for i in range(1,51)]\n",
    "l2=[i for i in range(45,65) if i%2==0]\n",
    "l3=[i for i in range(71) if i%7==0]\n",
    "\n",
    "L=list(range(1,101))\n",
    "\n",
    "l4=L[:15]\n",
    "l5=L[100:49:-1]\n",
    "print(l5)"
   ]
  },
  {
   "cell_type": "markdown",
   "metadata": {},
   "source": [
    "#### Exercice 8 : Mélanges et tris\n",
    "\n",
    "Générer la liste N  des 20 premiers nombres entiers positifs non nuls.\n",
    "\n",
    "Générer la liste L  des 20 premières lettres de l’alphabet (en majuscules).(`ord`, `chr` et `range` )\n",
    "\n",
    "Mélanger ces deux listes grâce à la fonction **shuffle()**  du module **random** .\n",
    "\n",
    "Parcourir et afficher ces deux listes simultanément  (fonction **zip**)\n"
   ]
  },
  {
   "cell_type": "code",
   "execution_count": 34,
   "metadata": {},
   "outputs": [
    {
     "name": "stdout",
     "output_type": "stream",
     "text": [
      "o 17 c 10 v 7 r 12 z 11 g 13 a 4 x 9 h 15 p 5 d 2 f 16 k 1 i 20 q 18 w 8 l 14 y 19 s 3 u 6 "
     ]
    }
   ],
   "source": [
    "from random import shuffle\n",
    "\n",
    "\n",
    "N=list(range(1,21))\n",
    "L=[chr(i) for i in range(ord('a'),ord('z')+1)]\n",
    "shuffle(L)\n",
    "shuffle(N)\n",
    "M=zip(L,N)\n",
    "for i,j in M:\n",
    "    print(i,j,end=\" \")"
   ]
  },
  {
   "cell_type": "markdown",
   "metadata": {},
   "source": [
    "#### Exercice 8\n",
    "\n",
    "Écrire un programme qui affiche un triangle de taille n avec des **^**.\n",
    "\n",
    "par exemple , pour n=4 :\n",
    "\n",
    ">^      \n",
    ">^^    \n",
    ">^^^   \n",
    ">^^^^ "
   ]
  },
  {
   "cell_type": "code",
   "execution_count": 36,
   "metadata": {},
   "outputs": [
    {
     "name": "stdout",
     "output_type": "stream",
     "text": [
      "^\n",
      "^^\n",
      "^^^\n",
      "^^^^\n",
      "^^^^^\n"
     ]
    }
   ],
   "source": [
    "def triangle(n):\n",
    "    for l in range(n):\n",
    "        for c in range(l+1):\n",
    "            print(\"^\", end=\"\")\n",
    "        print()\n",
    "        \n",
    "triangle(5)"
   ]
  },
  {
   "cell_type": "markdown",
   "metadata": {},
   "source": [
    "#### Exercice 10\n",
    "\n",
    "Afficher la représentation graphique de la fonction  $f$ définie par $f(x)=sin(1/x)$ pour $x$ entre 0,001 et 1."
   ]
  },
  {
   "cell_type": "code",
   "execution_count": 37,
   "metadata": {},
   "outputs": [
    {
     "data": {
      "image/png": "[encoded data removed]",
      "text/plain": [
       "<Figure size 432x288 with 1 Axes>"
      ]
     },
     "metadata": {
      "needs_background": "light"
     },
     "output_type": "display_data"
    }
   ],
   "source": [
    "import matplotlib.pyplot as plt\n",
    "import numpy as np\n",
    "\n",
    "x = np.linspace(0.001,1,100)\n",
    "f=np.sin(1/x)\n",
    "    \n",
    "plt.plot(x,f)\n",
    "\n",
    "plt.show()"
   ]
  },
  {
   "cell_type": "markdown",
   "metadata": {},
   "source": [
    "#### Exercice 11\n",
    "\n",
    "Afficher les représentations graphiques de la famille de fonctions définie par $f_n(x)=\\dfrac{1-nx}{x-1}$ pour $n$ allant de 1 à 3. \n",
    "\n",
    "On se placera dans un repère allant de -2 à 4 pour les abscisses et de -8 à 8 pour les ordonnées. \n",
    "\n",
    "On fera apparaître aussi une légende en haut à gauche."
   ]
  },
  {
   "cell_type": "code",
   "execution_count": 38,
   "metadata": {},
   "outputs": [
    {
     "data": {
      "image/png": "[encoded data removed]",
      "text/plain": [
       "<Figure size 432x288 with 1 Axes>"
      ]
     },
     "metadata": {
      "needs_background": "light"
     },
     "output_type": "display_data"
    }
   ],
   "source": [
    "import matplotlib.pyplot as plt\n",
    "import numpy as np\n",
    "\n",
    "x = np.linspace(-2,4,100)\n",
    "for n in range(1,4):\n",
    "    y = (1-n*x)/(x-1)\n",
    "    plt.plot(x,y, label=\"n=\"+str(n))\n",
    "    \n",
    "plt.legend(loc=\"upper left\")\n",
    "plt.axis([-2,4,-8,8])\n",
    "\n",
    "plt.show()"
   ]
  },
  {
   "cell_type": "code",
   "execution_count": null,
   "metadata": {},
   "outputs": [],
   "source": []
  }
 ],
 "metadata": {
  "interpreter": {
   "hash": "7812ea015bdcee6f23a998adcdd2ef97c151c0c241b7b7070987d9313e41299d"
  },
  "kernelspec": {
   "display_name": "Python 3",
   "language": "python",
   "name": "python3"
  },
  "language_info": {
   "codemirror_mode": {
    "name": "ipython",
    "version": 3
   },
   "file_extension": ".py",
   "mimetype": "text/x-python",
   "name": "python",
   "nbconvert_exporter": "python",
   "pygments_lexer": "ipython3",
   "version": "3.8.5"
  }
 },
 "nbformat": 4,
 "nbformat_minor": 5
}
