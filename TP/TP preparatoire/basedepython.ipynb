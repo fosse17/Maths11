{
 "cells": [
  {
   "cell_type": "markdown",
   "metadata": {},
   "source": [
    "# Mise en route en Python"
   ]
  },
  {
   "cell_type": "markdown",
   "metadata": {},
   "source": [
    "## Affectation de variable \n",
    "\n",
    "L'affectation en Python se fait avec le signe `=`.  \n",
    "\n",
    "On peut affecter plusieurs variables simultanément en utilisant la `,`\n",
    "\n",
    "```python\n",
    "a=2\n",
    "print(a)\n",
    "\n",
    "b=a\n",
    "print(b)\n",
    "\n",
    "a=\"un étudiant\"\n",
    "print(a)\n",
    "\n",
    "a=2.\n",
    "print(a)\n",
    "\n",
    "a,b=3,4\n",
    "print(a,b)\n",
    "\n",
    "a,b=b,a\n",
    "print(a,b)\n",
    "```"
   ]
  },
  {
   "cell_type": "code",
   "execution_count": null,
   "metadata": {},
   "outputs": [],
   "source": []
  },
  {
   "cell_type": "markdown",
   "metadata": {},
   "source": [
    "## Manipulation des listes\n",
    "\n",
    "### Listes\n",
    "La plupart des données que nous utiliserons seront des listes numériques. La syntaxe est la suivante :\n",
    "\n",
    "```python\n",
    "x = [4,3,2,1]\n",
    "y = [2,4,6,8]\n",
    "print(x,y)\n",
    "```"
   ]
  },
  {
   "cell_type": "code",
   "execution_count": null,
   "metadata": {},
   "outputs": [],
   "source": []
  },
  {
   "cell_type": "markdown",
   "metadata": {},
   "source": [
    "### Concaténation de listes\n",
    "\n",
    "\n",
    "```python\n",
    "z = x + [7,8]\n",
    "print(z)\n",
    "print([12] + x + [9] + y)\n",
    "print([3]*4)\n",
    "```\n",
    "\n"
   ]
  },
  {
   "cell_type": "code",
   "execution_count": null,
   "metadata": {},
   "outputs": [],
   "source": []
  },
  {
   "cell_type": "markdown",
   "metadata": {},
   "source": [
    "### Création d'une liste vide\n",
    "\n",
    "```python\n",
    "v = []\n",
    "print(v)\n",
    "```\n"
   ]
  },
  {
   "cell_type": "code",
   "execution_count": null,
   "metadata": {},
   "outputs": [],
   "source": []
  },
  {
   "cell_type": "markdown",
   "metadata": {},
   "source": [
    "### Extraction de coefficients\n",
    "\n",
    "L'extraction de coefficient se fait à l'aide des `[.:.]` (commandes de slicing).\n",
    "\n",
    "Que font les commandes suivantes ?\n",
    "\n",
    "```python\n",
    "y[0]\n",
    "y[2]\n",
    "y[0:3]\n",
    "y[1:3]\n",
    "y[2:3]\n",
    "y[1:]\n",
    "y[2:]\n",
    "y[:-1]\n",
    "```\n",
    "\n",
    "***Attention***, si vous voulez recopier la liste x dans une nouvelle variable w, la commande suivante ne fonctionne pas :\n",
    "```python\n",
    "w=x\n",
    "```\n",
    "\n",
    "w n'est pas une copie, mais une nouvelle référence vers la liste x.\n",
    "\n",
    "```python\n",
    "w[2]=88\n",
    "print(x)\n",
    "```\n",
    "\n",
    "Pour créer un nouvel objet liste, on pourra utiliser le slicing.\n",
    "\n",
    "```python\n",
    "x = [4,3,2,1]\n",
    "w[:]=x\n",
    "w[2]=88\n",
    "print(x)\n",
    "print(w)\n",
    "```"
   ]
  },
  {
   "cell_type": "code",
   "execution_count": null,
   "metadata": {},
   "outputs": [],
   "source": []
  },
  {
   "cell_type": "markdown",
   "metadata": {},
   "source": [
    "### Séquence avec la fonction `range`\n",
    "\n",
    "Taper les commandes suivantes :\n",
    "\n",
    "```python\n",
    "[0,1,2,3]\n",
    "list(range(0,4))\n",
    "list(range(4))\n",
    "\n",
    "Si on souhaite créer une séquence avec un pas différent de 1 :\n",
    "\n",
    "list(range(12,2,-1))\n",
    "list(range(1,9,2))\n",
    "```"
   ]
  },
  {
   "cell_type": "code",
   "execution_count": null,
   "metadata": {},
   "outputs": [],
   "source": []
  },
  {
   "cell_type": "markdown",
   "metadata": {},
   "source": [
    "## Les fonctions \n",
    "\n",
    "Les fonctions en Python ont toutes la même syntaxe : `nomfonction(variables)`.\n",
    "\n",
    "```python\n",
    "y = [2,4,6,8]\n",
    "len(y)\n",
    "sum(y)\n",
    "del(y[2])\n",
    "```"
   ]
  },
  {
   "cell_type": "code",
   "execution_count": null,
   "metadata": {},
   "outputs": [],
   "source": []
  },
  {
   "cell_type": "markdown",
   "metadata": {},
   "source": [
    "### Créations de fonctions\n",
    "\n",
    "La syntaxe de création d'une fonction est la suivante :\n",
    "\n",
    "```python\n",
    "def nomdemafonction(x1,x2,...xp):\n",
    "    instructions\n",
    "    return y1, y2, ..., yn\n",
    "```\n",
    "\n",
    "`(x1,...,xp)`  est la liste des arguments d'entrée de la fonction donnés par l'utilisateur. \n",
    "\n",
    "`(y1,...,yp)` sont les arguments de sortie.\n",
    "\n",
    "#### Exemple :\n",
    "Copier-coller la fonction suivante pm(a,b), qui retourne l'addition et la soustraction de a et de b.\n",
    "\n",
    "```python\n",
    "def pm(a,b):\n",
    "    plus = a+b\n",
    "    moins = a-b\n",
    "    res = (plus, moins)\n",
    "    return res\n",
    "```\n",
    "\n",
    "Tester cette fonction, avec quelques valeurs de a et de b.\n",
    "\n",
    "```python\n",
    "pm(12,7)\n",
    "```"
   ]
  },
  {
   "cell_type": "code",
   "execution_count": null,
   "metadata": {},
   "outputs": [],
   "source": []
  },
  {
   "cell_type": "markdown",
   "metadata": {},
   "source": [
    "## Structures de contrôle\n",
    "\n",
    "### Le test \"si\"\"\n",
    "\n",
    "Nous utiliserons le test `if ... else`.  \n",
    "\n",
    "Attention aux `:` , à l'alignement et à la comparaison avec `==`,\n",
    "les autres symboles de comparaisons sont `>`,`<`, `>=`, `<=`, et `!=`.\n",
    "\n",
    "```python\n",
    "x=3\n",
    "if x==2:\n",
    "    print(\"oh\")\n",
    "else:\n",
    "    print(\"ah\")\n",
    "```"
   ]
  },
  {
   "cell_type": "markdown",
   "metadata": {},
   "source": [
    "\n",
    "### La boucle for\n",
    "\n",
    "On peut parcourir directement les élements d'une liste donnée :\n",
    "\n",
    "```python\n",
    "liste=[\"A\",\"B\",\"C\"]\n",
    "for i in liste:\n",
    "    print(i)\n",
    "```\n",
    "\n",
    "Pour parcourir des indices entiers, on utilise la fonction `range` :\n",
    "\n",
    "```python\n",
    "liste=[\"A\",\"B\",\"C\"]\n",
    "for i in liste:\n",
    "    print(i)\n",
    "for i in range(0,len(liste)):\n",
    "    print(i)   \n",
    "```"
   ]
  },
  {
   "cell_type": "code",
   "execution_count": null,
   "metadata": {},
   "outputs": [],
   "source": [
    "   "
   ]
  },
  {
   "cell_type": "markdown",
   "metadata": {},
   "source": [
    "### La boucle \"tant que\"\n",
    "\n",
    "Il faut être attentif à la condition d'arrêt (pour sortir de la boucle)\n",
    "\n",
    "```python\n",
    "i=3\n",
    "while i<6:\n",
    "    print(i)\n",
    "    i+=1\n",
    "```"
   ]
  },
  {
   "cell_type": "code",
   "execution_count": null,
   "metadata": {},
   "outputs": [],
   "source": []
  },
  {
   "cell_type": "markdown",
   "metadata": {},
   "source": [
    "## Exercices d'entraînement\n",
    "\n",
    "#### Exercice 1 :  modification de listes\n",
    "\n",
    "Construire une fonction nulpos(liste) qui met à 0 les éléments positifs d'une liste numérique.\n",
    "\n",
    "Exemple :\n",
    "\n",
    "```python\n",
    "a = [8,5,-2,1,2]\n",
    "nulpos(a)\n",
    "[0, 0, -2, 0, 0]\n",
    "```"
   ]
  },
  {
   "cell_type": "markdown",
   "metadata": {},
   "source": [
    "#### Exercice 2 \n",
    "\n",
    "Construire une fonction `puiss(liste)` qui met à la puissance  i le  ième élément de liste.\n",
    "\n",
    "```python\n",
    "a=[8, 5, -2, 1, 2]\n",
    "puiss(a)\n",
    "[8, 25, -8, 1, 32]\n",
    "```"
   ]
  },
  {
   "cell_type": "markdown",
   "metadata": {},
   "source": [
    "#### Exercice 3 \n",
    "\n",
    "Construire une fonction `nbre_pairs(liste)` qui compte le nombre d'entier pair d'une liste d'entiers relatifs.\n",
    "\n",
    "```python\n",
    "a=[8, 5, -2, 1, 2]\n",
    "nbre_pairs(a)\n",
    "3\n",
    "```"
   ]
  },
  {
   "cell_type": "markdown",
   "metadata": {},
   "source": [
    "#### Exercice 4\n",
    "\n",
    "Construire une fonction `minval(liste)` qui retourne la plus petite valeur d'une liste, ainsi que son indice.\n",
    "\n",
    "```python\n",
    "a=[8, 5, -2, 1, 2]\n",
    "minval(a)\n",
    "-2, 2\n",
    "```"
   ]
  },
  {
   "cell_type": "markdown",
   "metadata": {},
   "source": [
    "\n",
    "#### Exercice 5  \n",
    "\n",
    "On dispose d'une feuille de papier d'épaisseur 0,1 mm.\n",
    "\n",
    "Combien de fois doit-on la plier au minimum pour que l'épaisseur dépasse la distance terre-lune soit 384 400 km.\n",
    "\n",
    "Écrire une fonction en Python pour résoudre ce problème.\n"
   ]
  },
  {
   "cell_type": "markdown",
   "metadata": {},
   "source": [
    "#### Exercice 6 : travail sur les listes \n",
    "\n",
    "Afficher :\n",
    "\n",
    "* la liste des nombres de 1 à 50\n",
    "\n",
    "* tous les nombres pairs compris entre 45 et 65 (inclus).\n",
    "\n",
    "* tous les multiples de 7 inférieurs à 70.\n",
    "\n",
    "On donne `L=list(range(1,101))`, donner\n",
    "\n",
    "* La liste des 15 premiers nombre de L\n",
    "\n",
    "* la liste des 50 derniers nombres, dans l’ordre inverse.\n",
    "\n"
   ]
  },
  {
   "cell_type": "markdown",
   "metadata": {},
   "source": [
    "#### Exercice 7 : Mélanges et tris\n",
    "\n",
    "Générer la liste N  des 20 premiers nombres entiers positifs non nuls.\n",
    "\n",
    "Générer la liste L  des 20 premières lettres de l’alphabet (en majuscules).(`ord`, `chr` et `range` )\n",
    "\n",
    "Mélanger ces deux listes grâce à la fonction **shuffle()**  du module **random** .\n",
    "\n",
    "Parcourir et afficher ces deux listes simultanément  (fonction **zip**)\n"
   ]
  },
  {
   "cell_type": "markdown",
   "metadata": {},
   "source": [
    "#### Exercice 8\n",
    "\n",
    "Écrire un programme qui affiche un triangle de taille n avec des **^**.\n",
    "\n",
    "par exemple , pour n=4 :\n",
    "\n",
    ">^  \n",
    ">^^   \n",
    ">^^^   \n",
    ">^^^^ \n"
   ]
  },
  {
   "cell_type": "markdown",
   "metadata": {},
   "source": [
    "## Matplotlib\n",
    "\n",
    "Le module **matplotlib** est un module très complet. Nous allons ici donner quelques exemples d'utilisation comme par exemple le tracé de représentations graphiques de fonctions ou de séries statistiques.\n",
    "\n",
    "il faut le charger le  sous-module qui va nous intéresser : **pyplot** sous un nom plus court à utiliser (un alias). \n",
    "\n",
    "```python\n",
    "import matplotlib.pyplot as plt\n",
    "```\n",
    "\n",
    "Ce qui signifie que pour utiliser une fonction de ce module comme **show()** par exemple, on devra écrire **plt.show()** (puisqu'on a importé le module sous le nom plt).\n",
    "\n",
    "De plus, le module **matplotlib** est très lié à un autre module qui sert à faire du calcul numérique qui s'appelle **numpy** et qu'on importe souvent sous le nom np.\n",
    "\n",
    "Pour résumer, pour représenter graphiquement des fonctions ou autres, il faudra mettre en en-tête :\n",
    "\n",
    "```python\n",
    "import numpy as np\n",
    "import matplotlib.pyplot as plt\n",
    "```\n"
   ]
  },
  {
   "cell_type": "markdown",
   "metadata": {},
   "source": [
    "Les fonctions de base\n",
    "\n",
    "\n",
    "* **plt.show()** : Pour afficher le résultat. \n",
    "\n",
    "* **plt.plot(liste_x,liste_y)** : Où liste_x est une liste de nombres [x_1, x_2, ..., x_n] et liste_y une liste de nombres [y_1, y_2, ..., y_n] avec le même nombre d'éléments. \n",
    "\n",
    "Alors plt.plot(liste_x,liste_y) placera les points de coordonnées (x_1,y_1), (x_2,y_2), ..., (x_n, y_n) et les reliera de proche en proche par un segment. \n",
    "\n",
    "Il est aussi possible de ne passer qu'une liste comme paramètre.\n",
    "\n",
    "\n"
   ]
  },
  {
   "cell_type": "code",
   "execution_count": 15,
   "metadata": {},
   "outputs": [
    {
     "data": {
      "image/png": "[encoded data removed]",
      "text/plain": [
       "<Figure size 432x288 with 1 Axes>"
      ]
     },
     "metadata": {
      "needs_background": "light"
     },
     "output_type": "display_data"
    }
   ],
   "source": [
    "import numpy as np\n",
    "import matplotlib.pyplot as plt\n",
    "\n",
    "plt.plot([1,3,4],[2,1,6])\n",
    "\n",
    "plt.show()"
   ]
  },
  {
   "cell_type": "markdown",
   "metadata": {},
   "source": [
    "L'idée pour tracer une fonction va donc être de placer beaucoup de points de la courbe qu'on veut représenter assez proches pour qu'on ne voit pas qu'ils sont reliés par une droite.\n",
    "\n",
    "* **np.linspace(debut, fin, N)**: C'est ici que le module numpy intervient. Pour tracer correctement une fonction, il va nous falloir beaucoup de points.\n",
    "\n",
    "La fonction np.linspace permet de créer une liste de N nombres qui commencent à la valeur début et s'arrête à la valeur fin et uniformément répartis.\n",
    "\n",
    "De plus, **numpy** permet d'appliquer directement les opérations sur les listes."
   ]
  },
  {
   "cell_type": "code",
   "execution_count": 16,
   "metadata": {},
   "outputs": [
    {
     "name": "stdout",
     "output_type": "stream",
     "text": [
      "[-2.         -1.95959596 -1.91919192 -1.87878788 -1.83838384 -1.7979798\n",
      " -1.75757576 -1.71717172 -1.67676768 -1.63636364]\n",
      "[-2.         -2.19875523 -2.39098051 -2.57667585 -2.75584124 -2.92847669\n",
      " -3.09458219 -3.25415774 -3.40720335 -3.55371901]\n"
     ]
    },
    {
     "data": {
      "image/png": "[encoded data removed]",
      "text/plain": [
       "<Figure size 432x288 with 1 Axes>"
      ]
     },
     "metadata": {
      "needs_background": "light"
     },
     "output_type": "display_data"
    }
   ],
   "source": [
    "import matplotlib.pyplot as plt\n",
    "import numpy as np\n",
    "\n",
    "x = np.linspace(-2, 2, 100)\n",
    "\n",
    "print(x[:10])\n",
    "y = 2*x**2+3*x-4\n",
    "\n",
    "print(y[:10])\n",
    "\n",
    "plt.plot(x,y)\n",
    "plt.show()"
   ]
  },
  {
   "cell_type": "markdown",
   "metadata": {},
   "source": [
    "* **plt.axis(x_min, x_max, y_min, y_max)** : Cette fonction permet de modifier les axes du repère qui sera affiché. Si on ne l'utilise pas, le choix des axes sera fait automatiquement.\n",
    "\n",
    "Les deux premières valeurs qu'on donne sont les valeurs minimale et maximale pour l'axe des abscisses et les deux suivantes sont celles pour l'axe des ordonnées.\n",
    "\n",
    "* **plt.grid()** : Affiche un quadrillage en plus sur notre repère."
   ]
  },
  {
   "cell_type": "code",
   "execution_count": 17,
   "metadata": {},
   "outputs": [
    {
     "name": "stdout",
     "output_type": "stream",
     "text": [
      "[-2.         -1.95959596 -1.91919192 -1.87878788 -1.83838384 -1.7979798\n",
      " -1.75757576 -1.71717172 -1.67676768 -1.63636364]\n"
     ]
    },
    {
     "data": {
      "image/png": "[encoded data removed]",
      "text/plain": [
       "<Figure size 432x288 with 1 Axes>"
      ]
     },
     "metadata": {
      "needs_background": "light"
     },
     "output_type": "display_data"
    }
   ],
   "source": [
    "import matplotlib.pyplot as plt\n",
    "import numpy as np\n",
    "\n",
    "x = np.linspace(-2, 2, 100)\n",
    "\n",
    "print(x[:10])\n",
    "y = np.sin(x)\n",
    "\n",
    "plt.axis([-3, 2, -1.5, 1.5])\n",
    "plt.grid()\n",
    "\n",
    "plt.plot(x,y)\n",
    "plt.show()"
   ]
  },
  {
   "cell_type": "markdown",
   "metadata": {},
   "source": [
    "### Tracé de plusieurs fonctions\n",
    "\n",
    "Pour tracer plusieurs fonctions dans un même repère, il suffit de tracer plusieurs fois une fonction... Elles seront automatiquement dans le même repère."
   ]
  },
  {
   "cell_type": "code",
   "execution_count": 18,
   "metadata": {},
   "outputs": [
    {
     "data": {
      "image/png": "[encoded data removed]",
      "text/plain": [
       "<Figure size 432x288 with 1 Axes>"
      ]
     },
     "metadata": {
      "needs_background": "light"
     },
     "output_type": "display_data"
    }
   ],
   "source": [
    "import matplotlib.pyplot as plt\n",
    "import numpy as np\n",
    "\n",
    "x = np.linspace(-1,3,100)\n",
    "y = -2*x+3\n",
    "plt.plot(x,y)\n",
    "y = x**2 - 4*x + 4\n",
    "plt.plot(x,y)\n",
    "    \n",
    "plt.show()"
   ]
  },
  {
   "cell_type": "code",
   "execution_count": 19,
   "metadata": {},
   "outputs": [
    {
     "data": {
      "image/png": "[encoded data removed]",
      "text/plain": [
       "<Figure size 432x288 with 1 Axes>"
      ]
     },
     "metadata": {
      "needs_background": "light"
     },
     "output_type": "display_data"
    }
   ],
   "source": [
    "import matplotlib.pyplot as plt\n",
    "import numpy as np\n",
    "\n",
    "x = np.linspace(-3,3,100)\n",
    "for n in range(1,5):\n",
    "    y = n*x*x\n",
    "    plt.plot(x,y, label=\"n=\"+str(n))\n",
    "    \n",
    "plt.legend(loc=\"lower right\")\n",
    "\n",
    "plt.show()"
   ]
  },
  {
   "cell_type": "markdown",
   "metadata": {},
   "source": [
    "\n",
    "\n",
    "#### Exercice 9\n",
    "\n",
    "Afficher la représentation graphique de la fonction  $f$ définie par $f(x)=sin(1/x)$ pour $x$ entre 0,001 et 1.\n"
   ]
  },
  {
   "cell_type": "code",
   "execution_count": null,
   "metadata": {},
   "outputs": [],
   "source": []
  },
  {
   "cell_type": "markdown",
   "metadata": {},
   "source": [
    "\n",
    "#### Exercice 10\n",
    "\n",
    "Afficher les représentations graphiques de la famille de fonctions définie par $f_n(x)=\\dfrac{1-nx}{x-1}$ pour $n$ allant de 1 à 3. \n",
    "\n",
    "On se placera dans un repère allant de -2 à 4 pour les abscisses et de -8 à 8 pour les ordonnées. \n",
    "\n",
    "On fera apparaître aussi une légende en haut à gauche."
   ]
  },
  {
   "cell_type": "code",
   "execution_count": null,
   "metadata": {},
   "outputs": [],
   "source": []
  },
  {
   "cell_type": "code",
   "execution_count": null,
   "metadata": {},
   "outputs": [],
   "source": []
  }
 ],
 "metadata": {
  "kernelspec": {
   "display_name": "Python 3",
   "language": "python",
   "name": "python3"
  },
  "language_info": {
   "codemirror_mode": {
    "name": "ipython",
    "version": 3
   },
   "file_extension": ".py",
   "mimetype": "text/x-python",
   "name": "python",
   "nbconvert_exporter": "python",
   "pygments_lexer": "ipython3",
   "version": "3.10.4"
  },
  "vscode": {
   "interpreter": {
    "hash": "aee8b7b246df8f9039afb4144a1f6fd8d2ca17a180786b69acc140d282b71a49"
   }
  }
 },
 "nbformat": 4,
 "nbformat_minor": 5
}
