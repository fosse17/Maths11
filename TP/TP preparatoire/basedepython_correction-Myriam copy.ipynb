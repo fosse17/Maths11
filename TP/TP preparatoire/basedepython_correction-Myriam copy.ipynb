{
 "cells": [
  {
   "cell_type": "markdown",
   "metadata": {
    "slideshow": {
     "slide_type": "slide"
    }
   },
   "source": [
    "# Mise en route en Python"
   ]
  },
  {
   "cell_type": "markdown",
   "metadata": {
    "slideshow": {
     "slide_type": "slide"
    }
   },
   "source": [
    "## Affectation de variable \n",
    "\n",
    "L'affectation en Python se fait avec le signe `=`.  \n",
    "\n",
    "On peut affecter plusieurs variables simultanément en utilisant la `,`\n",
    "\n",
    "```python\n",
    "a=2\n",
    "print(a)\n",
    "\n",
    "b=a\n",
    "print(b)\n",
    "\n",
    "a=\"un étudiant\"\n",
    "print(a)\n",
    "\n",
    "a=2.\n",
    "print(a)\n",
    "\n",
    "a,b=3,4\n",
    "print(a,b)\n",
    "\n",
    "a,b=b,a\n",
    "print(a,b)\n",
    "```"
   ]
  },
  {
   "cell_type": "code",
   "execution_count": 12,
   "metadata": {
    "slideshow": {
     "slide_type": "slide"
    }
   },
   "outputs": [
    {
     "name": "stdout",
     "output_type": "stream",
     "text": [
      "6 5\n"
     ]
    }
   ],
   "source": [
    "a,b=5,6\n",
    "a,b=b,a\n",
    "print(a,b)"
   ]
  },
  {
   "cell_type": "markdown",
   "metadata": {
    "slideshow": {
     "slide_type": "slide"
    }
   },
   "source": [
    "## Manipulation des listes\n",
    "\n",
    "### Listes\n",
    "La plupart des données que nous utiliserons seront des listes numériques. La syntaxe est la suivante :\n",
    "\n",
    "```python\n",
    "x = [4,3,2,1]\n",
    "y = [2,4,6,8]\n",
    "print(x,y)\n",
    "```"
   ]
  },
  {
   "cell_type": "code",
   "execution_count": 58,
   "metadata": {
    "slideshow": {
     "slide_type": "fragment"
    }
   },
   "outputs": [
    {
     "name": "stdout",
     "output_type": "stream",
     "text": [
      "[4, 3, 2, 1] [2, 4, 6, 8]\n"
     ]
    }
   ],
   "source": [
    "x = [4,3,2,1]\n",
    "y = [2,4,6,8]\n",
    "print(x,y)"
   ]
  },
  {
   "cell_type": "markdown",
   "metadata": {
    "slideshow": {
     "slide_type": "slide"
    }
   },
   "source": [
    "### Concaténation\n",
    "\n",
    "\n",
    "```python\n",
    "z = x + [7,8]\n",
    "print(z)\n",
    "print([12] + x + [9] + y)\n",
    "print([3]*4)\n",
    "```\n",
    "\n"
   ]
  },
  {
   "cell_type": "code",
   "execution_count": 59,
   "metadata": {
    "slideshow": {
     "slide_type": "fragment"
    }
   },
   "outputs": [
    {
     "name": "stdout",
     "output_type": "stream",
     "text": [
      "[4, 3, 2, 1, 7, 8]\n",
      "[12, 4, 3, 2, 1, 9, 2, 4, 6, 8]\n",
      "[3, 3, 3, 3]\n"
     ]
    }
   ],
   "source": [
    "z = x + [7,8]\n",
    "print(z)\n",
    "print([12] + x + [9] + y)\n",
    "print([3]*4)"
   ]
  },
  {
   "cell_type": "markdown",
   "metadata": {
    "slideshow": {
     "slide_type": "slide"
    }
   },
   "source": [
    "### Création d'une liste vide\n",
    "\n",
    "```python\n",
    "v = []\n",
    "print(v)\n",
    "```\n"
   ]
  },
  {
   "cell_type": "code",
   "execution_count": 9,
   "metadata": {
    "slideshow": {
     "slide_type": "fragment"
    }
   },
   "outputs": [
    {
     "name": "stdout",
     "output_type": "stream",
     "text": [
      "[]\n"
     ]
    }
   ],
   "source": [
    "v = []\n",
    "print(v)"
   ]
  },
  {
   "cell_type": "markdown",
   "metadata": {
    "slideshow": {
     "slide_type": "slide"
    }
   },
   "source": [
    "### Extraction de coefficients\n",
    "\n",
    "L'extraction de coefficient se fait à l'aide des `[.:.]` (commandes de slicing).\n",
    "\n",
    "Que font les commandes suivantes ?\n",
    "\n",
    "```python\n",
    "y[0]\n",
    "y[2]\n",
    "y[0:3]\n",
    "y[1:3]\n",
    "y[2:3]\n",
    "y[1:]\n",
    "y[2:]\n",
    "y[:-1]\n",
    "```"
   ]
  },
  {
   "cell_type": "code",
   "execution_count": 60,
   "metadata": {
    "slideshow": {
     "slide_type": "slide"
    }
   },
   "outputs": [
    {
     "data": {
      "text/plain": [
       "2"
      ]
     },
     "execution_count": 60,
     "metadata": {},
     "output_type": "execute_result"
    }
   ],
   "source": [
    "y = [2,4,6,8]\n",
    "y[0]"
   ]
  },
  {
   "cell_type": "code",
   "execution_count": 46,
   "metadata": {
    "slideshow": {
     "slide_type": "fragment"
    }
   },
   "outputs": [
    {
     "data": {
      "text/plain": [
       "6"
      ]
     },
     "execution_count": 46,
     "metadata": {},
     "output_type": "execute_result"
    }
   ],
   "source": [
    "y[2]"
   ]
  },
  {
   "cell_type": "code",
   "execution_count": 47,
   "metadata": {
    "slideshow": {
     "slide_type": "fragment"
    }
   },
   "outputs": [
    {
     "data": {
      "text/plain": [
       "[2, 4]"
      ]
     },
     "execution_count": 47,
     "metadata": {},
     "output_type": "execute_result"
    }
   ],
   "source": [
    "y[0:2]"
   ]
  },
  {
   "cell_type": "code",
   "execution_count": 48,
   "metadata": {
    "slideshow": {
     "slide_type": "fragment"
    }
   },
   "outputs": [
    {
     "data": {
      "text/plain": [
       "[4, 6]"
      ]
     },
     "execution_count": 48,
     "metadata": {},
     "output_type": "execute_result"
    }
   ],
   "source": [
    "y[1:3]"
   ]
  },
  {
   "cell_type": "code",
   "execution_count": 49,
   "metadata": {
    "slideshow": {
     "slide_type": "fragment"
    }
   },
   "outputs": [
    {
     "data": {
      "text/plain": [
       "[6]"
      ]
     },
     "execution_count": 49,
     "metadata": {},
     "output_type": "execute_result"
    }
   ],
   "source": [
    "y[2:3]"
   ]
  },
  {
   "cell_type": "code",
   "execution_count": 50,
   "metadata": {
    "slideshow": {
     "slide_type": "slide"
    }
   },
   "outputs": [
    {
     "data": {
      "text/plain": [
       "[4, 6, 8]"
      ]
     },
     "execution_count": 50,
     "metadata": {},
     "output_type": "execute_result"
    }
   ],
   "source": [
    "y[1:]"
   ]
  },
  {
   "cell_type": "code",
   "execution_count": 51,
   "metadata": {
    "slideshow": {
     "slide_type": "fragment"
    }
   },
   "outputs": [
    {
     "data": {
      "text/plain": [
       "[6, 8]"
      ]
     },
     "execution_count": 51,
     "metadata": {},
     "output_type": "execute_result"
    }
   ],
   "source": [
    "y[2:]"
   ]
  },
  {
   "cell_type": "code",
   "execution_count": 52,
   "metadata": {
    "slideshow": {
     "slide_type": "fragment"
    }
   },
   "outputs": [
    {
     "data": {
      "text/plain": [
       "[2, 4, 6]"
      ]
     },
     "execution_count": 52,
     "metadata": {},
     "output_type": "execute_result"
    }
   ],
   "source": [
    "y[:-1]"
   ]
  },
  {
   "cell_type": "code",
   "execution_count": 53,
   "metadata": {
    "slideshow": {
     "slide_type": "fragment"
    }
   },
   "outputs": [
    {
     "data": {
      "text/plain": [
       "[2, 4]"
      ]
     },
     "execution_count": 53,
     "metadata": {},
     "output_type": "execute_result"
    }
   ],
   "source": [
    "y[:-2]"
   ]
  },
  {
   "cell_type": "markdown",
   "metadata": {
    "slideshow": {
     "slide_type": "slide"
    }
   },
   "source": [
    "`\n",
    "\n",
    "***Attention***, si vous voulez recopier la liste x dans une nouvelle variable w, la commande suivante ne fonctionne pas :\n",
    "```python\n",
    "w=x\n",
    "```\n",
    "\n",
    "w n'est pas une copie, mais une nouvelle référence vers la liste x.\n",
    "\n",
    "```python\n",
    "w[2]=88\n",
    "print(x)\n",
    "```\n",
    "\n",
    "Pour créer un nouvel objet liste, on pourra utiliser le slicing.\n",
    "\n",
    "```python\n",
    "x = [4,3,2,1]\n",
    "w[:]=x\n",
    "w[2]=88\n",
    "print(x)\n",
    "print(w)\n",
    "```"
   ]
  },
  {
   "cell_type": "code",
   "execution_count": 61,
   "metadata": {
    "slideshow": {
     "slide_type": "slide"
    }
   },
   "outputs": [
    {
     "name": "stdout",
     "output_type": "stream",
     "text": [
      "[4, 3, 2, 1]\n",
      "[4, 3, 88, 1]\n"
     ]
    }
   ],
   "source": [
    "w=[]\n",
    "x = [4,3,2,1]\n",
    "w[:]=x\n",
    "w[2]=88\n",
    "print(x)\n",
    "print(w)"
   ]
  },
  {
   "cell_type": "markdown",
   "metadata": {
    "slideshow": {
     "slide_type": "slide"
    }
   },
   "source": [
    "### Séquence\n",
    "\n",
    "Taper les commandes suivantes :\n",
    "\n",
    "```python\n",
    "[0,1,2,3]\n",
    "list(range(0,4))\n",
    "list(range(4))\n",
    "\n",
    "#Si on souhaite créer une séquence avec un pas différent de 1 :\n",
    "list(range(12,2,-1))\n",
    "list(range(1,9,2))\n",
    "```"
   ]
  },
  {
   "cell_type": "code",
   "execution_count": 37,
   "metadata": {
    "slideshow": {
     "slide_type": "fragment"
    }
   },
   "outputs": [
    {
     "data": {
      "text/plain": [
       "[0, 1, 2, 3]"
      ]
     },
     "execution_count": 37,
     "metadata": {},
     "output_type": "execute_result"
    }
   ],
   "source": [
    "[0,1,2,3]"
   ]
  },
  {
   "cell_type": "code",
   "execution_count": 38,
   "metadata": {
    "slideshow": {
     "slide_type": "fragment"
    }
   },
   "outputs": [
    {
     "data": {
      "text/plain": [
       "[0, 1, 2, 3]"
      ]
     },
     "execution_count": 38,
     "metadata": {},
     "output_type": "execute_result"
    }
   ],
   "source": [
    "list(range(0,4))"
   ]
  },
  {
   "cell_type": "code",
   "execution_count": 39,
   "metadata": {
    "slideshow": {
     "slide_type": "fragment"
    }
   },
   "outputs": [
    {
     "data": {
      "text/plain": [
       "[0, 1, 2, 3]"
      ]
     },
     "execution_count": 39,
     "metadata": {},
     "output_type": "execute_result"
    }
   ],
   "source": [
    "list(range(4))"
   ]
  },
  {
   "cell_type": "code",
   "execution_count": 37,
   "metadata": {
    "slideshow": {
     "slide_type": "slide"
    }
   },
   "outputs": [
    {
     "data": {
      "text/plain": [
       "[12, 11, 10, 9, 8, 7, 6, 5, 4, 3]"
      ]
     },
     "execution_count": 37,
     "metadata": {},
     "output_type": "execute_result"
    }
   ],
   "source": [
    "list(range(12,2,-1))"
   ]
  },
  {
   "cell_type": "code",
   "execution_count": 38,
   "metadata": {
    "slideshow": {
     "slide_type": "fragment"
    }
   },
   "outputs": [
    {
     "data": {
      "text/plain": [
       "[1, 3, 5, 7]"
      ]
     },
     "execution_count": 38,
     "metadata": {},
     "output_type": "execute_result"
    }
   ],
   "source": [
    "list(range(1,9,2))"
   ]
  },
  {
   "cell_type": "markdown",
   "metadata": {
    "slideshow": {
     "slide_type": "slide"
    }
   },
   "source": [
    "## Les fonctions \n",
    "\n",
    "Les fonctions en Python ont toutes la même syntaxe : `nomfonction(variables)`.\n",
    "\n",
    "```python\n",
    "y = [2,4,6,8]\n",
    "len(y)\n",
    "sum(y)\n",
    "del(y[2])\n",
    "```"
   ]
  },
  {
   "cell_type": "code",
   "execution_count": 26,
   "metadata": {
    "slideshow": {
     "slide_type": "fragment"
    }
   },
   "outputs": [
    {
     "name": "stdout",
     "output_type": "stream",
     "text": [
      "4\n"
     ]
    }
   ],
   "source": [
    "y = [2,4,6,8]\n",
    "a=len(y)\n",
    "print(a)"
   ]
  },
  {
   "cell_type": "code",
   "execution_count": 27,
   "metadata": {
    "slideshow": {
     "slide_type": "fragment"
    }
   },
   "outputs": [
    {
     "name": "stdout",
     "output_type": "stream",
     "text": [
      "20\n"
     ]
    }
   ],
   "source": [
    "y = [2,4,6,8]\n",
    "b=sum(y)\n",
    "print(b)"
   ]
  },
  {
   "cell_type": "code",
   "execution_count": 28,
   "metadata": {
    "slideshow": {
     "slide_type": "fragment"
    }
   },
   "outputs": [
    {
     "name": "stdout",
     "output_type": "stream",
     "text": [
      "[2, 4, 8]\n"
     ]
    }
   ],
   "source": [
    "y = [2,4,6,8]\n",
    "del(y[2])\n",
    "print(y)"
   ]
  },
  {
   "cell_type": "markdown",
   "metadata": {
    "slideshow": {
     "slide_type": "slide"
    }
   },
   "source": [
    "### Créations de fonctions\n",
    "\n",
    "La syntaxe de création d'une fonction est la suivante :\n",
    "\n",
    "```python\n",
    "def nomdemafonction(x1,x2,...xp):\n",
    "    instructions\n",
    "    return y1, y2, ..., yn\n",
    "```\n",
    "\n",
    "`(x1,...,xp)`  est la liste des arguments d'entrée de la fonction donnés par l'utilisateur. \n",
    "\n",
    "`(y1,...,yp)` sont les arguments de sortie.\n",
    "\n",
    "#### Exemple :\n",
    "Copier-coller la fonction suivante pm(a,b), qui retourne l'addition et la soustraction de a et de b.\n",
    "\n",
    "```python\n",
    "def pm(a,b):\n",
    "    plus = a+b\n",
    "    moins = a-b\n",
    "    res = (plus, moins)\n",
    "    return res\n",
    "```\n",
    "\n",
    "Tester cette fonction, avec quelques valeurs de a et de b.\n",
    "\n",
    "```python\n",
    "pm(12,7)\n",
    "```"
   ]
  },
  {
   "cell_type": "code",
   "execution_count": 43,
   "metadata": {
    "slideshow": {
     "slide_type": "fragment"
    }
   },
   "outputs": [
    {
     "data": {
      "text/plain": [
       "(19, 5)"
      ]
     },
     "execution_count": 43,
     "metadata": {},
     "output_type": "execute_result"
    }
   ],
   "source": [
    "def pm(a,b):\n",
    "    plus = a+b\n",
    "    moins = a-b\n",
    "    res = (plus, moins)\n",
    "    return res\n",
    "pm(12,7)"
   ]
  },
  {
   "cell_type": "markdown",
   "metadata": {
    "slideshow": {
     "slide_type": "slide"
    }
   },
   "source": [
    "## Structures de contrôle\n",
    "\n",
    "### Le test \"si\"\"\n",
    "\n",
    "Nous utiliserons le test `if ... else`.  \n",
    "\n",
    "Attention aux `:` , à l'alignement et à la comparaison avec `==`,\n",
    "les autres symboles de comparaisons sont `>`,`<`, `>=`, `<=`, et `!=`.\n",
    "\n",
    "```python\n",
    "x=3\n",
    "if x==2:\n",
    "    print(\"oh\")\n",
    "else:\n",
    "    print(\"ah\")\n",
    "```"
   ]
  },
  {
   "cell_type": "code",
   "execution_count": 15,
   "metadata": {
    "slideshow": {
     "slide_type": "fragment"
    }
   },
   "outputs": [
    {
     "name": "stdout",
     "output_type": "stream",
     "text": [
      "ah\n"
     ]
    }
   ],
   "source": [
    "x=3\n",
    "if x==2:\n",
    "    print(\"oh\")\n",
    "else:\n",
    "    print(\"ah\")"
   ]
  },
  {
   "cell_type": "markdown",
   "metadata": {
    "slideshow": {
     "slide_type": "slide"
    }
   },
   "source": [
    "\n",
    "### La boucle for\n",
    "\n",
    "On peut parcourir directement les élements d'une liste donnée :\n",
    "\n",
    "```python\n",
    "liste=[\"A\",\"B\",\"C\"]\n",
    "for i in liste:\n",
    "    print(i)\n",
    "```\n",
    "\n",
    "Pour parcourir des indices entiers, on utilise la fonction `range` :\n",
    "\n",
    "```python\n",
    "liste=[\"A\",\"B\",\"C\"]\n",
    "for i in liste:\n",
    "    print(i)\n",
    "for i in range(0,len(liste)):\n",
    "    print(i)   \n",
    "```"
   ]
  },
  {
   "cell_type": "code",
   "execution_count": 16,
   "metadata": {
    "slideshow": {
     "slide_type": "fragment"
    }
   },
   "outputs": [
    {
     "name": "stdout",
     "output_type": "stream",
     "text": [
      "A\n",
      "B\n",
      "C\n"
     ]
    }
   ],
   "source": [
    "   liste=[\"A\",\"B\",\"C\"]\n",
    "for i in liste:\n",
    "    print(i)"
   ]
  },
  {
   "cell_type": "code",
   "execution_count": 18,
   "metadata": {
    "slideshow": {
     "slide_type": "fragment"
    }
   },
   "outputs": [
    {
     "name": "stdout",
     "output_type": "stream",
     "text": [
      "0\n",
      "1\n",
      "2\n"
     ]
    }
   ],
   "source": [
    "liste=[\"A\",\"B\",\"C\"]\n",
    "for i in range(0,len(liste)):\n",
    "    print(i)"
   ]
  },
  {
   "cell_type": "markdown",
   "metadata": {
    "slideshow": {
     "slide_type": "slide"
    }
   },
   "source": [
    "### La boucle \"tant que\"\n",
    "\n",
    "Il faut être attentif à la condition d'arrêt (pour sortir de la boucle)\n",
    "\n",
    "```python\n",
    "i=3\n",
    "while i<6:\n",
    "    print(i)\n",
    "    i+=1\n",
    "```"
   ]
  },
  {
   "cell_type": "code",
   "execution_count": 19,
   "metadata": {
    "slideshow": {
     "slide_type": "fragment"
    }
   },
   "outputs": [
    {
     "name": "stdout",
     "output_type": "stream",
     "text": [
      "3\n",
      "4\n",
      "5\n"
     ]
    }
   ],
   "source": [
    "i=3\n",
    "while i<6:\n",
    "    print(i)\n",
    "    i+=1"
   ]
  },
  {
   "cell_type": "markdown",
   "metadata": {
    "slideshow": {
     "slide_type": "slide"
    }
   },
   "source": [
    "## Exercices \n",
    "\n",
    "\n",
    "#### Exercice 1 :  modification de listes\n",
    "\n",
    "Construire une fonction nulpos(liste) qui met à 0 les éléments positifs d'une liste numérique.\n",
    "\n",
    "Exemple :\n",
    "\n",
    "```python\n",
    "a = [8,5,-2,1,2]\n",
    "nulpos(a)\n",
    "[0, 0, -2, 0, 0]\n",
    "```"
   ]
  },
  {
   "cell_type": "code",
   "execution_count": 22,
   "metadata": {
    "slideshow": {
     "slide_type": "fragment"
    }
   },
   "outputs": [
    {
     "name": "stdout",
     "output_type": "stream",
     "text": [
      "[0, -4, -1, 0, 0, 0, -7]\n"
     ]
    }
   ],
   "source": [
    "x=[3,-4,-1,0,5,6,-7]\n",
    "\n",
    "def nulpos(liste):\n",
    "    for i in range(len(liste)):\n",
    "        if liste[i]>0:\n",
    "            liste[i]=0\n",
    "    return(liste)\n",
    "print(nulpos(x))"
   ]
  },
  {
   "cell_type": "code",
   "execution_count": 30,
   "metadata": {
    "slideshow": {
     "slide_type": "fragment"
    }
   },
   "outputs": [
    {
     "name": "stdout",
     "output_type": "stream",
     "text": [
      "[0, -4, -1, 0, 0, 0, -7]\n"
     ]
    }
   ],
   "source": [
    "#version courte\n",
    "x=[3,-4,-1,0,5,6,-7]\n",
    "\n",
    "def nulpos2(liste):\n",
    "    return [i if i<=0 else 0 for i in liste]\n",
    "\n",
    "print(nulpos2(x))"
   ]
  },
  {
   "cell_type": "markdown",
   "metadata": {
    "slideshow": {
     "slide_type": "slide"
    }
   },
   "source": [
    "#### Exercice 2 \n",
    "\n",
    "Construire une fonction puiss(liste) qui met à la puissance  i le  ième élément de liste.\n",
    "\n",
    "```python\n",
    "a=[8, 5, -2, 1, 2]\n",
    "puiss(a)\n",
    "[8, 25, -8, 1, 32]\n",
    "```"
   ]
  },
  {
   "cell_type": "code",
   "execution_count": 2,
   "metadata": {
    "slideshow": {
     "slide_type": "fragment"
    }
   },
   "outputs": [
    {
     "data": {
      "text/plain": [
       "[8, 25, -8, 1, 32]"
      ]
     },
     "execution_count": 2,
     "metadata": {},
     "output_type": "execute_result"
    }
   ],
   "source": [
    "a=[8, 5, -2, 1, 2]\n",
    "def puiss(x):\n",
    "    for i in range(len(x)):\n",
    "        x[i]=(x[i])**(i+1)\n",
    "    return(x)\n",
    "\n",
    "puiss(a)"
   ]
  },
  {
   "cell_type": "code",
   "execution_count": 72,
   "metadata": {
    "slideshow": {
     "slide_type": "fragment"
    }
   },
   "outputs": [
    {
     "data": {
      "text/plain": [
       "[8, 25, -8, 1, 32]"
      ]
     },
     "execution_count": 72,
     "metadata": {},
     "output_type": "execute_result"
    }
   ],
   "source": [
    "#version courte    \n",
    "a=[8, 5, -2, 1, 2]\n",
    "def puiss(x):\n",
    "    return[x[i]**(i+1)for i in range (len(x))]\n",
    "puiss(a)"
   ]
  },
  {
   "cell_type": "markdown",
   "metadata": {
    "slideshow": {
     "slide_type": "slide"
    }
   },
   "source": [
    "#### Exercice 3 \n",
    "\n",
    "Construire une fonction nbre_pairs(liste) qui compte le nombre d'entiers pairs d'une liste d'entiers relatifs.\n",
    "\n",
    "```python\n",
    "a=[8, 5, -2, 1, 2]\n",
    "nbre_pairs(a)\n",
    "3\n",
    "```"
   ]
  },
  {
   "cell_type": "code",
   "execution_count": 62,
   "metadata": {
    "slideshow": {
     "slide_type": "fragment"
    }
   },
   "outputs": [
    {
     "data": {
      "text/plain": [
       "3"
      ]
     },
     "execution_count": 62,
     "metadata": {},
     "output_type": "execute_result"
    }
   ],
   "source": [
    "a=[8, 5, -2, 1, 2]\n",
    "def nbre_pairs(x):\n",
    "    n=0\n",
    "    for i in x:\n",
    "        if i%2==0:\n",
    "            n+=1\n",
    "    return n\n",
    "nbre_pairs(a)"
   ]
  },
  {
   "cell_type": "markdown",
   "metadata": {
    "slideshow": {
     "slide_type": "slide"
    }
   },
   "source": [
    "#### Exercice 4\n",
    "\n",
    "Construire une fonction minval(liste) qui retourne la plus petite valeur d'une liste, ainsi que son indice.\n",
    "\n",
    "```python\n",
    "a=[8, 5, -2, 1, 2]\n",
    "minval(a)\n",
    "-2, 2\n",
    "```"
   ]
  },
  {
   "cell_type": "code",
   "execution_count": 68,
   "metadata": {
    "slideshow": {
     "slide_type": "fragment"
    }
   },
   "outputs": [
    {
     "data": {
      "text/plain": [
       "(-2, 2)"
      ]
     },
     "execution_count": 68,
     "metadata": {},
     "output_type": "execute_result"
    }
   ],
   "source": [
    "a=[8, 5, -2, 1, 2]\n",
    "def minval(x):\n",
    "    valeur_mini=x[0]\n",
    "    rang_mini=0;\n",
    "    for i in range(len(x)):\n",
    "        if valeur_mini>x[i]:\n",
    "            valeur_mini=x[i]\n",
    "            rang_mini=i\n",
    "    return(valeur_mini,rang_mini)\n",
    "minval(a)"
   ]
  },
  {
   "cell_type": "code",
   "execution_count": 74,
   "metadata": {
    "slideshow": {
     "slide_type": "fragment"
    }
   },
   "outputs": [
    {
     "data": {
      "text/plain": [
       "[-2, 2]"
      ]
     },
     "execution_count": 74,
     "metadata": {},
     "output_type": "execute_result"
    }
   ],
   "source": [
    "#version courte\n",
    "a=[8, 5, -2, 1, 2]\n",
    "def minval(x):\n",
    "    return[min(a), a.index(min(a))]\n",
    "minval(a)"
   ]
  },
  {
   "cell_type": "markdown",
   "metadata": {
    "slideshow": {
     "slide_type": "slide"
    }
   },
   "source": [
    "#### Exercice 5 : $\\pi$\n",
    "\n",
    "Construire une fonction `pi(n)` qui calcule la somme suivante :\n",
    "\n",
    "$$4 \\sum_{k=0}^n \\dfrac{(-1)^k}{2k+1}=4\\left(1-\\dfrac13+\\dfrac15-\\dfrac17+\\dfrac19\\cdots+\\dfrac{(-1)^n}{2n+1}\\right)$$\n",
    "\n"
   ]
  },
  {
   "cell_type": "code",
   "execution_count": 75,
   "metadata": {
    "slideshow": {
     "slide_type": "fragment"
    }
   },
   "outputs": [
    {
     "data": {
      "text/plain": [
       "3.1416926435905346"
      ]
     },
     "execution_count": 75,
     "metadata": {},
     "output_type": "execute_result"
    }
   ],
   "source": [
    "def pi(n):\n",
    "    somme=0\n",
    "    for k in range(n+1):\n",
    "        somme=somme+((-1)**k)/(2*k+1)\n",
    "    somme=4*somme\n",
    "    return(somme)\n",
    "pi(10000)"
   ]
  },
  {
   "cell_type": "code",
   "execution_count": 91,
   "metadata": {
    "slideshow": {
     "slide_type": "fragment"
    }
   },
   "outputs": [
    {
     "data": {
      "text/plain": [
       "3.1416926435905346"
      ]
     },
     "execution_count": 91,
     "metadata": {},
     "output_type": "execute_result"
    }
   ],
   "source": [
    "#version courte\n",
    "def pi(n):\n",
    "    return 4*sum([((-1)**i)/(2*i+1) for i in range(n+1)])\n",
    "pi(10000)"
   ]
  },
  {
   "cell_type": "markdown",
   "metadata": {
    "slideshow": {
     "slide_type": "slide"
    }
   },
   "source": [
    "\n",
    "#### Exercice 6  \n",
    "\n",
    "On dispose d'une feuille de papier d'épaisseur 0,1 mm.\n",
    "\n",
    "Combien de fois doit-on la plier au minimum pour que l'épaisseur dépasse la distance terre lune soit 384 400 km.\n",
    "\n",
    "Écrire une fonction en Python pour résoudre ce problème.\n",
    "\n",
    "\n"
   ]
  },
  {
   "cell_type": "code",
   "execution_count": 93,
   "metadata": {
    "slideshow": {
     "slide_type": "fragment"
    }
   },
   "outputs": [
    {
     "data": {
      "text/plain": [
       "(439804.6511104, 42)"
      ]
     },
     "execution_count": 93,
     "metadata": {},
     "output_type": "execute_result"
    }
   ],
   "source": [
    "def pliage():\n",
    "    p=0.1*10**(-6)\n",
    "    nb_pliage=0\n",
    "    while p<384000:\n",
    "        p*=2 \n",
    "        nb_pliage+=1\n",
    "    return p,nb_pliage\n",
    "    \n",
    "pliage()"
   ]
  },
  {
   "cell_type": "markdown",
   "metadata": {
    "slideshow": {
     "slide_type": "slide"
    }
   },
   "source": [
    "#### Exercice 7 : travail sur les listes \n",
    "\n",
    "Afficher :\n",
    "\n",
    "* la liste des nombres de 1 à 50.\n",
    "\n",
    "* tous les nombres pairs compris entre 45 et 65 (inclus).\n",
    "\n",
    "* tous les multiples de 7 inférieurs à 70.\n",
    "\n",
    "On donne `L=list(range(1,101))`, donner\n",
    "\n",
    "* La liste des 15 premiers nombre de L\n",
    "\n",
    "* la liste des 50 derniers nombres, dans l’ordre inverse.\n",
    "\n"
   ]
  },
  {
   "cell_type": "code",
   "execution_count": 13,
   "metadata": {
    "slideshow": {
     "slide_type": "fragment"
    }
   },
   "outputs": [
    {
     "name": "stdout",
     "output_type": "stream",
     "text": [
      "[1, 2, 3, 4, 5, 6, 7, 8, 9, 10, 11, 12, 13, 14, 15, 16, 17, 18, 19, 20, 21, 22, 23, 24, 25, 26, 27, 28, 29, 30, 31, 32, 33, 34, 35, 36, 37, 38, 39, 40, 41, 42, 43, 44, 45, 46, 47, 48, 49, 50]\n"
     ]
    }
   ],
   "source": [
    "L1=[i for i in range(1,51)]\n",
    "print(L1)"
   ]
  },
  {
   "cell_type": "code",
   "execution_count": 14,
   "metadata": {
    "slideshow": {
     "slide_type": "fragment"
    }
   },
   "outputs": [
    {
     "name": "stdout",
     "output_type": "stream",
     "text": [
      "[46, 48, 50, 52, 54, 56, 58, 60, 62, 64]\n"
     ]
    }
   ],
   "source": [
    "L2=[i for i in range(45,66) if i%2==0]\n",
    "print(L2)"
   ]
  },
  {
   "cell_type": "code",
   "execution_count": 15,
   "metadata": {
    "slideshow": {
     "slide_type": "fragment"
    }
   },
   "outputs": [
    {
     "name": "stdout",
     "output_type": "stream",
     "text": [
      "[0, 7, 14, 21, 28, 35, 42, 49, 56, 63, 70]\n"
     ]
    }
   ],
   "source": [
    "L3=[i for i in range(71) if i%7==0]\n",
    "print(L3)"
   ]
  },
  {
   "cell_type": "code",
   "execution_count": 16,
   "metadata": {
    "slideshow": {
     "slide_type": "fragment"
    }
   },
   "outputs": [
    {
     "name": "stdout",
     "output_type": "stream",
     "text": [
      "[1, 2, 3, 4, 5, 6, 7, 8, 9, 10, 11, 12, 13, 14, 15]\n"
     ]
    }
   ],
   "source": [
    "L=list(range(1,101))\n",
    "L4=L[:15]\n",
    "print(L4)"
   ]
  },
  {
   "cell_type": "code",
   "execution_count": 18,
   "metadata": {
    "slideshow": {
     "slide_type": "fragment"
    }
   },
   "outputs": [
    {
     "name": "stdout",
     "output_type": "stream",
     "text": [
      "[100, 99, 98, 97, 96, 95, 94, 93, 92, 91, 90, 89, 88, 87, 86, 85, 84, 83, 82, 81, 80, 79, 78, 77, 76, 75, 74, 73, 72, 71, 70, 69, 68, 67, 66, 65, 64, 63, 62, 61, 60, 59, 58, 57, 56, 55, 54, 53, 52, 51]\n"
     ]
    }
   ],
   "source": [
    "L5=L[99:49:-1]\n",
    "print(L5)"
   ]
  },
  {
   "cell_type": "markdown",
   "metadata": {
    "slideshow": {
     "slide_type": "slide"
    }
   },
   "source": [
    "#### Exercice 8 : Mélanges et tris\n",
    "\n",
    "Générer la liste N  des 20 premiers nombres entiers positifs non nuls.\n",
    "\n",
    "Générer la liste L  des 20 premières lettres de l’alphabet (en majuscules).(`ord`, `chr` et `range` )\n",
    "\n",
    "Mélanger ces deux listes grâce à la fonction **shuffle()**  du module **random** .\n",
    "\n",
    "Parcourir et afficher ces deux listes simultanément  (fonction **zip**)\n"
   ]
  },
  {
   "cell_type": "code",
   "execution_count": 97,
   "metadata": {
    "slideshow": {
     "slide_type": "slide"
    }
   },
   "outputs": [
    {
     "name": "stdout",
     "output_type": "stream",
     "text": [
      "[1, 2, 3, 4, 5, 6, 7, 8, 9, 10, 11, 12, 13, 14, 15, 16, 17, 18, 19, 20]\n"
     ]
    }
   ],
   "source": [
    "N=list(range(1,21))\n",
    "print(N)"
   ]
  },
  {
   "cell_type": "code",
   "execution_count": 99,
   "metadata": {
    "slideshow": {
     "slide_type": "fragment"
    }
   },
   "outputs": [
    {
     "name": "stdout",
     "output_type": "stream",
     "text": [
      "['A', 'B', 'C', 'D', 'E', 'F', 'G', 'H', 'I', 'J', 'K', 'L', 'M', 'N', 'O', 'P', 'Q', 'R', 'S', 'T']\n"
     ]
    }
   ],
   "source": [
    "L=[chr(i) for i in range(ord('A'),ord('T')+1)]\n",
    "print(L)"
   ]
  },
  {
   "cell_type": "code",
   "execution_count": 100,
   "metadata": {
    "slideshow": {
     "slide_type": "fragment"
    }
   },
   "outputs": [
    {
     "name": "stdout",
     "output_type": "stream",
     "text": [
      "Q 6 P 16 H 1 C 4 B 17 R 19 N 9 I 18 E 20 G 5 T 7 K 13 O 15 A 12 S 10 L 14 M 8 D 3 J 11 F 2 "
     ]
    }
   ],
   "source": [
    "from random import shuffle\n",
    "shuffle(N)\n",
    "shuffle(L)\n",
    "M=zip(L,N)\n",
    "for i,j in M:\n",
    "    print(i,j,end=\" \")"
   ]
  },
  {
   "cell_type": "markdown",
   "metadata": {
    "slideshow": {
     "slide_type": "slide"
    }
   },
   "source": [
    "#### Exercice 8\n",
    "\n",
    "Écrire un programme qui affiche un triangle de taille n avec des **^**.\n",
    "\n",
    "par exemple , pour n=4 :\n",
    "\n",
    "^\n",
    "\n",
    "^^     \n",
    "^^^   \n",
    "^^^^ "
   ]
  },
  {
   "cell_type": "code",
   "execution_count": 101,
   "metadata": {
    "slideshow": {
     "slide_type": "fragment"
    }
   },
   "outputs": [
    {
     "name": "stdout",
     "output_type": "stream",
     "text": [
      "^\n",
      "^^\n",
      "^^^\n",
      "^^^^\n"
     ]
    }
   ],
   "source": [
    "def triangle(n):\n",
    "    for l in range(n):\n",
    "        for c in range(l+1):\n",
    "            print(\"^\", end=\"\")\n",
    "        print()\n",
    "        \n",
    "triangle(4)"
   ]
  },
  {
   "cell_type": "markdown",
   "metadata": {
    "slideshow": {
     "slide_type": "slide"
    }
   },
   "source": [
    "## Matplotlib\n",
    "\n",
    "Le module **matplotlib** est un module très complet. Nous allons ici donner quelques exemples d'utilisation comme par exemple le tracé de représentations graphiques de fonctions ou de séries statistiques.\n",
    "\n",
    "il faut le charger le  sous-module qui va nous intéresser : **pyplot** sous un nom plus court à utiliser (un alias). \n",
    "\n",
    "```python\n",
    "import matplotlib.pyplot as plt\n",
    "```\n",
    "\n",
    "Ce qui signifie que pour utiliser une fonction de ce module comme **show()** par exemple, on devra écrire **plt.show()** (puisqu'on a importé le module sous le nom plt).\n",
    "\n",
    "De plus, le module **matplotlib** est très lié à un autre module qui sert à faire du calcul numérique qui s'appelle **numpy** et qu'on importe souvent sous le nom np.\n",
    "\n",
    "Pour résumer, pour représenter graphiquement des fonctions ou autres, il faudra mettre en en-tête :\n",
    "\n",
    "```python\n",
    "import numpy as np\n",
    "import matplotlib.pyplot as plt\n",
    "```\n"
   ]
  },
  {
   "cell_type": "markdown",
   "metadata": {
    "slideshow": {
     "slide_type": "slide"
    }
   },
   "source": [
    "Les fonctions de base\n",
    "\n",
    "\n",
    "* **plt.show()** : Pour afficher le résultat. \n",
    "\n",
    "* **plt.plot(liste_x,liste_y)** : Où liste_x est une liste de nombres [x_1, x_2, ..., x_n] et liste_y une liste de nombres [y_1, y_2, ..., y_n] avec le même nombre d'éléments. \n",
    "\n",
    "Alors plt.plot(liste_x,liste_y) placera les points de coordonnées (x_1,y_1), (x_2,y_2), ..., (x_n, y_n) et les reliera de proche en proche par un segment. \n",
    "\n",
    "Il est aussi possible de ne passer qu'une liste comme paramètre.\n",
    "\n",
    "\n"
   ]
  },
  {
   "cell_type": "markdown",
   "metadata": {
    "slideshow": {
     "slide_type": "slide"
    }
   },
   "source": [
    "#### Exercice 10\n",
    "\n",
    "Afficher la représentation graphique de la fonction  $f$ définie par $f(x)=sin(1/x)$ pour $x$ entre 0,001 et 1."
   ]
  },
  {
   "cell_type": "code",
   "execution_count": 19,
   "metadata": {
    "slideshow": {
     "slide_type": "fragment"
    }
   },
   "outputs": [
    {
     "data": {
      "image/png": "[encoded data removed]",
      "text/plain": [
       "<Figure size 432x288 with 1 Axes>"
      ]
     },
     "metadata": {
      "needs_background": "light"
     },
     "output_type": "display_data"
    }
   ],
   "source": [
    "import matplotlib.pyplot as plt\n",
    "import numpy as np\n",
    "\n",
    "x = np.linspace(0.001,1,100)\n",
    "f=np.sin(1/x)\n",
    "    \n",
    "plt.plot(x,f)\n",
    "#print(f)\n",
    "plt.show()"
   ]
  },
  {
   "cell_type": "markdown",
   "metadata": {
    "slideshow": {
     "slide_type": "slide"
    }
   },
   "source": [
    "#### Exercice 11\n",
    "\n",
    "Afficher les représentations graphiques de la famille de fonctions définie par $f_n(x)=\\dfrac{1-nx}{x-1}$ pour $n$ allant de 1 à 3. \n",
    "\n",
    "On se placera dans un repère allant de -2 à 4 pour les abscisses et de -8 à 8 pour les ordonnées. \n",
    "\n",
    "On fera apparaître aussi une légende en haut à gauche."
   ]
  },
  {
   "cell_type": "code",
   "execution_count": 38,
   "metadata": {
    "slideshow": {
     "slide_type": "fragment"
    }
   },
   "outputs": [
    {
     "data": {
      "image/png": "[encoded data removed]",
      "text/plain": [
       "<Figure size 432x288 with 1 Axes>"
      ]
     },
     "metadata": {
      "needs_background": "light"
     },
     "output_type": "display_data"
    }
   ],
   "source": [
    "import matplotlib.pyplot as plt\n",
    "import numpy as np\n",
    "\n",
    "x = np.linspace(-2,4,100)\n",
    "for n in range(1,4):\n",
    "    y = (1-n*x)/(x-1)\n",
    "    plt.plot(x,y, label=\"n=\"+str(n))\n",
    "    \n",
    "plt.legend(loc=\"upper left\")\n",
    "plt.axis([-2,4,-8,8])\n",
    "\n",
    "plt.show()"
   ]
  },
  {
   "cell_type": "code",
   "execution_count": null,
   "metadata": {},
   "outputs": [],
   "source": []
  }
 ],
 "metadata": {
  "celltoolbar": "Diaporama",
  "kernelspec": {
   "display_name": "Python 3.10.4 64-bit",
   "language": "python",
   "name": "python3"
  },
  "language_info": {
   "codemirror_mode": {
    "name": "ipython",
    "version": 3
   },
   "file_extension": ".py",
   "mimetype": "text/x-python",
   "name": "python",
   "nbconvert_exporter": "python",
   "pygments_lexer": "ipython3",
   "version": "3.10.4"
  },
  "vscode": {
   "interpreter": {
    "hash": "aee8b7b246df8f9039afb4144a1f6fd8d2ca17a180786b69acc140d282b71a49"
   }
  }
 },
 "nbformat": 4,
 "nbformat_minor": 5
}
