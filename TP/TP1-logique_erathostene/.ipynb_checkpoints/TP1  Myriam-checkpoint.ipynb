{
 "cells": [
  {
   "cell_type": "markdown",
   "metadata": {},
   "source": [
    " <table style=\"width:100%;\">\n",
    "    <tr style=\"display:none\">\n",
    "        <td></td>\n",
    "        <td></td>\n",
    "    </tr>\n",
    "    <tr style=\"height:3em\">\n",
    "        <td style=\"width:20%;align:left\"><img src=\"iut_bordeaux.jpg\"></td>\n",
    "        <td style=\"width:60%;font: bold 2em 'Fira Sans', serif;text-align:center\"> TP  1<br>Table de vérité et crible</td>\n",
    "        <td style=\"width:20%;font: bold 1.3em 'Fira Sans', serif;vertical-align:top;\">R01.06<i></i></td>\n",
    "    </tr>\n",
    "</table>"
   ]
  },
  {
   "cell_type": "markdown",
   "metadata": {},
   "source": [
    "## Table de vérité\n",
    "\n",
    "Python possède trois opérateurs booléens : `and`, `or`, `not`.     \n",
    "On peut composer ces opérateurs pour obtenir des conditions booléennes complexes.  \n",
    "Par exemple , a et b étant des booléens :\n",
    "\n",
    "**a and ( b or (not a))** représente la proposition \n",
    "$a \\wedge ( b \\vee \\overline a)$."
   ]
  },
  {
   "cell_type": "markdown",
   "metadata": {},
   "source": [
    "#### Exercice 1\n",
    "\n",
    "Tester et comprendre :\n",
    "\n",
    "```python\n",
    "a=True\n",
    "b=False\n",
    "c = a and (not b)\n",
    "print(c)\n",
    "d=not(a or b)\n",
    "print(d)\n",
    "for a in [True,False]:\n",
    "    print(a)\n",
    "```"
   ]
  },
  {
   "cell_type": "code",
   "execution_count": 1,
   "metadata": {},
   "outputs": [
    {
     "name": "stdout",
     "output_type": "stream",
     "text": [
      "True\n"
     ]
    }
   ],
   "source": [
    "a=True\n",
    "b=False\n",
    "c = a and (not b)\n",
    "print(c)"
   ]
  },
  {
   "cell_type": "code",
   "execution_count": null,
   "metadata": {},
   "outputs": [],
   "source": [
    "d=not(a or b)\n",
    "print(d)\n",
    "for a in [True,False]:\n",
    "    print(a)"
   ]
  },
  {
   "cell_type": "markdown",
   "metadata": {},
   "source": [
    "#### Exercice 2\n",
    "\n",
    "Ecrire une fonction `implies` qui prend deux paramètres booléens $a$ et $b$ et retourne le booléen $a \\implies b$.\n",
    "\n",
    "En utilisant deux boucles et cette fonction `ìmplies`, établir la table de vérité de $a \\implies b$.\n",
    "\n",
    "Pour obtenir un affichage correct, se renseigner sur la fonction `format`."
   ]
  },
  {
   "cell_type": "code",
   "execution_count": 29,
   "metadata": {},
   "outputs": [
    {
     "name": "stdout",
     "output_type": "stream",
     "text": [
      "False\n",
      "|    a     |    b     |   a=>b   |\n",
      "|    1     |    1     |    1     |\n",
      "|    1     |    0     |    0     |\n",
      "|    0     |    1     |    1     |\n",
      "|    0     |    0     |    1     |\n"
     ]
    }
   ],
   "source": [
    "B=[True,False]\n",
    "\n",
    "def implies(a,b):\n",
    "    return not(a) or b\n",
    "print(implies(True, False))\n",
    "\n",
    "print(\"|{:^10}|{:^10}|{:^10}|\".format(\"a\",\"b\",\"a=>b\"))\n",
    "for p in B:\n",
    "    for q in B: \n",
    "        exp=implies (p,q)\n",
    "        print(\"|{:^10}|{:^10}|{:^10}|\".format(p,q,exp))\n"
   ]
  },
  {
   "cell_type": "markdown",
   "metadata": {},
   "source": [
    "#### Exercice 3\n",
    "\n",
    "Etablir de même la table de vérité de \n",
    "$$ p \\iff (q \\implies ( r \\vee \\overline q))$$"
   ]
  },
  {
   "cell_type": "code",
   "execution_count": null,
   "metadata": {},
   "outputs": [],
   "source": []
  },
  {
   "cell_type": "markdown",
   "metadata": {},
   "source": [
    "## Crible d’Eratosthène.\n",
    "\n",
    "Le crible d’Eratosthène est un procédé qui permet de trouver tous les nombres premiers inférieurs à un certain entier naturel donné N. \n",
    "\n",
    "Cet algorithme procède par élimination :\n",
    "* On envisage au départ que tous les nombres de 1 à N soient premiers.\n",
    "* On élimine 0 et 1.\n",
    "* 2 est encore dans la liste, donc on considère qu’il est premier, mais on élimine de la liste tous ses mutliples.\n",
    "* 3 est encore dans la liste, donc on considère qu’il est premier, mais on élimine de la liste tous ses mutliples.\n",
    "* 4 n’est plus dans la liste, car il a été éliminé lors de l’élimination des multiples de 2.\n",
    "* etc.\n",
    "\n",
    "En pratique, on s’arrête dès que l’on dépasse $\\sqrt{N}$.\n",
    "\n",
    "1 . Expliquer pourquoi cette condition est valide ?"
   ]
  },
  {
   "cell_type": "markdown",
   "metadata": {},
   "source": [
    " \n",
    " "
   ]
  },
  {
   "cell_type": "markdown",
   "metadata": {},
   "source": [
    "2 . Créer une fonction python `eratosthene` prenant en argument un nombre N et qui renvoie la liste des nombres premiers jusqu’à N.  \n",
    "\n",
    "Pour cela :\n",
    "\n",
    "* Créer une liste de booleens de taille N+1,tous de valeur `True`.\n",
    "* Mettre d’office les éléments de rang 0 et 1 à `False`.\n",
    "* Faire tourner l'algorithme à partir de 2.\n",
    "* Une fois le travail terminé, on affiche les rangs des booléens dont la valeur est `True`."
   ]
  },
  {
   "cell_type": "code",
   "execution_count": null,
   "metadata": {},
   "outputs": [],
   "source": []
  },
  {
   "cell_type": "markdown",
   "metadata": {},
   "source": [
    "3 . En utilisant le module `time`, mesurer le temps d'execution de votre fonction `Eratosthene`, pour $N=100.....10^6$.   \n",
    "Ce temps d'execution semble-t'il linéaire par rapport à $N$ ?"
   ]
  },
  {
   "cell_type": "code",
   "execution_count": null,
   "metadata": {},
   "outputs": [],
   "source": []
  },
  {
   "cell_type": "markdown",
   "metadata": {},
   "source": [
    "En utilisant le module matplotlib.pyplot https://matplotlib.org/stable/tutorials/introductory/pyplot.html, tracer un graphique ayant en abscice $N$ et en ordonnée le temps d'execution."
   ]
  },
  {
   "cell_type": "code",
   "execution_count": null,
   "metadata": {},
   "outputs": [],
   "source": []
  },
  {
   "cell_type": "markdown",
   "metadata": {},
   "source": [
    "On note $\\pi(n)$ le nombre de nombres premiers inférieurs ou égaux à $n$. \n",
    "\n",
    "A l'aide de la fonction `Eratosthene`, donner les valeurs de $\\pi(n)$ pour $n = 10^2, \\ 10^3,\\dots 10^6$.\n",
    "\n",
    "On admet que $\\pi(10^9) = 50 847 534$.\n",
    "\n",
    "Comparer $\\pi(n)$ à $\\dfrac{n}{\\ln(n)}$.  \n",
    "Présenter les résultats sous forme d'un tableau, puis d'un graphique réalisé avec matplotlib.pyplot.\n"
   ]
  },
  {
   "cell_type": "code",
   "execution_count": null,
   "metadata": {},
   "outputs": [],
   "source": []
  },
  {
   "cell_type": "markdown",
   "metadata": {},
   "source": [
    "Ecrire une conjecture sur le nombre de nombres premiers inférieurs à un entier N."
   ]
  },
  {
   "cell_type": "markdown",
   "metadata": {},
   "source": [
    "\n"
   ]
  }
 ],
 "metadata": {
  "kernelspec": {
   "display_name": "Python 3",
   "language": "python",
   "name": "python3"
  },
  "language_info": {
   "codemirror_mode": {
    "name": "ipython",
    "version": 3
   },
   "file_extension": ".py",
   "mimetype": "text/x-python",
   "name": "python",
   "nbconvert_exporter": "python",
   "pygments_lexer": "ipython3",
   "version": "3.8.5"
  }
 },
 "nbformat": 4,
 "nbformat_minor": 2
}
