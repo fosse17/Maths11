{
 "cells": [
  {
   "cell_type": "markdown",
   "metadata": {
    "slideshow": {
     "slide_type": "slide"
    }
   },
   "source": [
    " <table style=\"background-color: white;width:100%;\">\n",
    "    <tr style=\"display:none\">\n",
    "        <td></td>\n",
    "        <td></td>\n",
    "    </tr>\n",
    "    <tr style=\"height:3em\">\n",
    "        <td style=\"width:20%;align:left\"><img src=\"iut_bordeaux.jpg\"></td>\n",
    "        <td style=\"width:60%;font: bold 2em 'Fira Sans', serif;text-align:center\"> TP  1<br>Table de vérité et crible</td>\n",
    "        <td style=\"width:20%;font: bold 1.3em 'Fira Sans', serif;vertical-align:top;\">R01.06<i></i></td>\n",
    "    </tr>\n",
    "</table>"
   ]
  },
  {
   "cell_type": "markdown",
   "metadata": {
    "slideshow": {
     "slide_type": "slide"
    }
   },
   "source": [
    "## Table de vérité\n",
    "\n",
    "Python possède trois opérateurs booléens : `and`, `or`, `not`.     \n",
    "On peut composer ces opérateurs pour obtenir des conditions booléennes complexes.  \n",
    "Par exemple , a et b étant des booléens :\n",
    "\n",
    "**a and ( b or (not a))** réprésente la proposition \n",
    "$a \\wedge ( b \\vee \\overline a)$."
   ]
  },
  {
   "cell_type": "markdown",
   "metadata": {
    "slideshow": {
     "slide_type": "slide"
    }
   },
   "source": [
    "#### Exercice 1\n",
    "\n",
    "Tester et comprendre :\n",
    "\n",
    "```python\n",
    "a=True\n",
    "b=False\n",
    "c = a and (not b)\n",
    "print(c)\n",
    "d=not(a or b)\n",
    "print(d)\n",
    "for a in [True,False]:\n",
    "    print(a)\n",
    "```"
   ]
  },
  {
   "cell_type": "code",
   "execution_count": 1,
   "metadata": {
    "slideshow": {
     "slide_type": "subslide"
    }
   },
   "outputs": [
    {
     "name": "stdout",
     "output_type": "stream",
     "text": [
      "True\n",
      "False\n",
      "True\n",
      "False\n"
     ]
    }
   ],
   "source": [
    "a=True\n",
    "b=False\n",
    "c = a and (not b)\n",
    "print(c)\n",
    "d=not(a or b)\n",
    "print(d)\n",
    "for a in [True,False]:\n",
    "    print(a)"
   ]
  },
  {
   "cell_type": "markdown",
   "metadata": {
    "slideshow": {
     "slide_type": "slide"
    }
   },
   "source": [
    "#### Exercice 2\n",
    "\n",
    "Ecrire une fonction `implies` qui prend deux paramètres booléens $a$ et $b$ et retourne le booléen $a \\implies b$.\n",
    "\n",
    "En utilisant deux boucles et cette fonction `ìmplies`, établir la table de vérité de $a \\implies b$.\n",
    "\n",
    "Pour obtenir un affichage correct, se renseigner sur la fonction `format`ou une chaîne formatée."
   ]
  },
  {
   "cell_type": "code",
   "execution_count": 2,
   "metadata": {
    "slideshow": {
     "slide_type": "slide"
    }
   },
   "outputs": [
    {
     "name": "stdout",
     "output_type": "stream",
     "text": [
      "False\n",
      "|    a      |     b      |   a => b   |\n",
      "|    1      |     1      |     1      |\n",
      "|    1      |     0      |     0      |\n",
      "|    0      |     1      |     1      |\n",
      "|    0      |     0      |     1      |\n"
     ]
    }
   ],
   "source": [
    "P=[True,False]\n",
    "\n",
    "def implies(a,b):\n",
    "    return not(a) or b\n",
    "print(implies(True,False))\n",
    "\n",
    "print(\"|{:^10} | {:^10} | {:^10} |\".format(\"a\",\"b\",\"a => b\"))\n",
    "for p in P:\n",
    "    for q in P:\n",
    "        impl=implies(p,q)\n",
    "        #print(\"|{:^10} | {:^10} | {:^10} |\".format(p,q,impl))\n",
    "        print(f\"|{p:^10} | {q:^10} | {impl:^10} |\")"
   ]
  },
  {
   "cell_type": "markdown",
   "metadata": {
    "slideshow": {
     "slide_type": "slide"
    }
   },
   "source": [
    "#### Exercice 3\n",
    "\n",
    "Etablir de même la table de vérité de \n",
    "$$ p \\iff (q \\implies ( r \\vee \\overline q))$$"
   ]
  },
  {
   "cell_type": "code",
   "execution_count": 3,
   "metadata": {
    "slideshow": {
     "slide_type": "slide"
    }
   },
   "outputs": [
    {
     "name": "stdout",
     "output_type": "stream",
     "text": [
      "|    p     |    q     |    r     |    f     |\n",
      "|    1     |    1     |    1     |    1     |\n",
      "|    1     |    1     |    0     |    0     |\n",
      "|    1     |    0     |    1     |    1     |\n",
      "|    1     |    0     |    0     |    1     |\n",
      "|    0     |    1     |    1     |    0     |\n",
      "|    0     |    1     |    0     |    1     |\n",
      "|    0     |    0     |    1     |    0     |\n",
      "|    0     |    0     |    0     |    0     |\n"
     ]
    }
   ],
   "source": [
    "def equiv(a,b):\n",
    "    return implies(a,b) and implies(b,a)\n",
    "        \n",
    "def fonction_logique(p,q,r):\n",
    "    return equiv(p,implies(q,r or( not q)))\n",
    "\n",
    "print(\"|{:^10}|{:^10}|{:^10}|{:^10}|\".format(\"p\",\"q\",\"r\",\"f\"))\n",
    "for p in P:\n",
    "    for q in P:\n",
    "        for r in P:\n",
    "            f=fonction_logique(p,q,r)\n",
    "            print(\"|{:^10}|{:^10}|{:^10}|{:^10}|\".format(p,q,r,f))\n",
    "            #print(f\"|{p:^10}|{q:^10}|{r:^10}|{f:^10}|\")\n",
    "    "
   ]
  },
  {
   "cell_type": "markdown",
   "metadata": {
    "slideshow": {
     "slide_type": "slide"
    }
   },
   "source": [
    "## Crible d’Eratosthène.\n",
    "\n",
    "Le crible d’Eratosthène est un procédé qui permet de trouver tous les nombres premiers inférieurs à un certain entier naturel donné N. \n",
    "\n",
    "Cet algorithme procède par élimination :\n",
    "* On envisage au départ que tous les nombres de 1 à N soient premiers.\n",
    "* On élimine 0 et 1.\n",
    "* 2 est encore dans la liste, donc on considère qu’il est premier, mais on élimine de la liste tous ses mutliples.\n",
    "* 3 est encore dans la liste, donc on considère qu’il est premier, mais on élimine de la liste tous ses mutliples.\n",
    "* 4 n’est plus dans la liste, car il a été éliminé lors de l’élimination des multiples de 2.\n",
    "* etc.\n",
    "\n",
    "En pratique, on s’arrête dès que l’on dépasse $\\sqrt{N}$.\n",
    "\n",
    "1 . Expliquer pourquoi cette condition est valide ?"
   ]
  },
  {
   "cell_type": "markdown",
   "metadata": {
    "slideshow": {
     "slide_type": "slide"
    }
   },
   "source": [
    " Tout entier naturel $n, n \\geq 2$, admet un diviseur premier.  \n",
    "Si $n$ n’est pas premier, alors il admet un diviseur premier $p$ tel que : $2\\leq p\\leq \\sqrt{n}$\n",
    "\n",
    "* Si $n$ est premier, il admet donc un diviseur premier : lui-même.\n",
    "* Si $n$ n’est pas premier, l’ensemble des diviseurs $d$ de $n$ tel que : $2 \\leq d < n$ n’est pas vide. Il admet donc un plus petit élément $p$. Si $p$ n’était pas premier, il admettrait un diviseur $d'$ tel que $2 \\leq  d' < p$ qui diviserait $n$.   Ceci est impossible car p est le plus petit. Donc $p$ est premier.  \n",
    "* On a donc $p$ premier et $n = p × q$ avec $p \\leq q$.  \n",
    "En multipliant cette inégalité par $p$, on obtient :\n",
    "$$p^2\\leq pq \\implies p^2 \\leq  n \\text{ soit } p \\leq \\sqrt{n}$$"
   ]
  },
  {
   "cell_type": "markdown",
   "metadata": {
    "slideshow": {
     "slide_type": "slide"
    }
   },
   "source": [
    "2 . Créer une fonction python `eratosthene` prenant en argument un nombre N et qui renvoie la liste des nombres premiers jusqu’à N.  \n",
    "\n",
    "Pour cela :\n",
    "\n",
    "* Créer une liste de booleens de taille N+1,tous de valeur `True`.\n",
    "* Mettre d’office les éléments de rang 0 et 1 à `False`.\n",
    "* Faire tourner l'algorithme à partir de 2.\n",
    "* Une fois le travail terminé, on affiche les rangs des booléens dont la valeur est `True`."
   ]
  },
  {
   "cell_type": "code",
   "execution_count": 4,
   "metadata": {
    "slideshow": {
     "slide_type": "slide"
    }
   },
   "outputs": [
    {
     "name": "stdout",
     "output_type": "stream",
     "text": [
      "[2, 3, 5, 7, 11, 13, 17, 19, 23, 29, 31, 37, 41, 43, 47, 53, 59, 61, 67, 71, 73, 79, 83, 89, 97]\n"
     ]
    }
   ],
   "source": [
    "from math import sqrt\n",
    "\n",
    "def erast(N):\n",
    "    #L=list(range(N+1))\n",
    "    #for i in L:\n",
    "    #   L[i]=True\n",
    "    # ou\n",
    "    #L=[True]*(N+1)\n",
    "    # ou\n",
    "    \n",
    "    L=[True for i in range(N+1)]\n",
    "    L[0],L[1]=False,False\n",
    "\n",
    "    for i in range(int(sqrt(N)+1)):\n",
    "        if L[i]:       # ou if L[i]==True:\n",
    "            j=2*i\n",
    "            while j<=N:\n",
    "                if L[j]:\n",
    "                    L[j]=False\n",
    "                j=j+i\n",
    "    \n",
    "    NombrePremier=[];\n",
    "    for i in range(len(L)):\n",
    "        if L[i]==True :\n",
    "            NombrePremier.append(i)\n",
    "            \n",
    "    return NombrePremier\n",
    "    \n",
    "    ##return [i for i,e in enumerate(L) if e]\n",
    "    ## enumerate permet de récupérer la clé et la valeur dans une liste\n",
    "\n",
    "print(erast(97))"
   ]
  },
  {
   "cell_type": "code",
   "execution_count": 5,
   "metadata": {
    "slideshow": {
     "slide_type": "slide"
    }
   },
   "outputs": [
    {
     "name": "stdout",
     "output_type": "stream",
     "text": [
      "[2, 3, 5, 7, 11, 13, 17, 19, 23, 29, 31, 37, 41, 43, 47, 53, 59, 61, 67, 71, 73, 79, 83, 89, 97]\n"
     ]
    }
   ],
   "source": [
    "from math import sqrt\n",
    "\n",
    "def erast(N):\n",
    " \n",
    "    \n",
    "    L=[True for i in range(N+1)]\n",
    "    L[0],L[1]=False,False\n",
    "\n",
    "    for i in range(int(sqrt(N)+1)):\n",
    "        if L[i]:       # ou if L[i]==True:\n",
    "            k=2\n",
    "            \n",
    "            while k*i<=N:\n",
    "                j=k*i\n",
    "                if L[j]:\n",
    "                    L[j]=False\n",
    "                k=k+1\n",
    "    \n",
    "    NombrePremier=[]\n",
    "    for i in range(len(L)):\n",
    "        if L[i]==True :\n",
    "            NombrePremier.append(i);\n",
    "            \n",
    "    return NombrePremier\n",
    "    \n",
    "\n",
    "print(erast(97))"
   ]
  },
  {
   "cell_type": "markdown",
   "metadata": {},
   "source": [
    "3 . En utilisant le module `time`, mesurer le temps d'execution de votre fonction `Eratosthene`, pour $N=100.....10^6$.   \n",
    "Ce temps d'exécution semble-t-il linéaire par rapport à $N$ ?"
   ]
  },
  {
   "cell_type": "code",
   "execution_count": 6,
   "metadata": {
    "slideshow": {
     "slide_type": "slide"
    }
   },
   "outputs": [
    {
     "name": "stdout",
     "output_type": "stream",
     "text": [
      "Temps pour 100: 3.505e-05ms\n",
      "rapport : 3.505\n",
      "Temps pour 1000: 0.000447ms\n",
      "rapport : 4.47\n",
      "Temps pour 10000: 0.004314ms\n",
      "rapport : 4.314\n",
      "Temps pour 100000: 0.0468ms\n",
      "rapport : 4.68\n",
      "Temps pour 1000000: 0.4841ms\n",
      "rapport : 4.841\n",
      "[100, 1000, 10000, 100000, 1000000]\n",
      "[3.504753112792969e-05, 0.0004470348358154297, 0.00431370735168457, 0.046804189682006836, 0.4840707778930664]\n"
     ]
    }
   ],
   "source": [
    "import time\n",
    "\n",
    "abs=[]\n",
    "ord=[]\n",
    "\n",
    "for p in range(2,7):\n",
    "    N=10**p;\n",
    "    abs.append(N)\n",
    "    \n",
    "    start = time.time()\n",
    "    erast(N)\n",
    "    end = time.time()\n",
    "    elapsed = end - start\n",
    "    ord.append(elapsed)\n",
    "    print(f\"Temps pour {N}: {elapsed:.4}ms\")   \n",
    "    print(f'rapport : {(elapsed*10**7)/N:.4}')\n",
    "\n",
    "print(abs)\n",
    "print(ord)\n",
    "\n",
    "    ## Le 10^7 est juste pour obtenir des valeur lisible mais n'est pas obligatoire\n",
    "    ## On peut parler d'une certaine linéarité "
   ]
  },
  {
   "cell_type": "markdown",
   "metadata": {
    "slideshow": {
     "slide_type": "slide"
    }
   },
   "source": [
    "En utilisant le module matplotlib.pyplot https://matplotlib.org/stable/tutorials/introductory/pyplot.html, tracer un graphique ayant en abscisse $N$ et en ordonnée le temps d'exécution."
   ]
  },
  {
   "cell_type": "code",
   "execution_count": 7,
   "metadata": {
    "slideshow": {
     "slide_type": "slide"
    }
   },
   "outputs": [
    {
     "data": {
      "image/png": "[encoded data removed]",
      "text/plain": [
       "<Figure size 432x288 with 1 Axes>"
      ]
     },
     "metadata": {
      "needs_background": "light"
     },
     "output_type": "display_data"
    }
   ],
   "source": [
    "import matplotlib.pyplot as plt  ## le \"as\" permet d'utiliser un alias\n",
    "plt.plot(abs,ord)\n",
    "#plt.plot(abs,ord,\"ro\")   # r: red o : un rond\n",
    "plt.plot(abs,ord,\"bs\")  # b : blue s : square (et il y en a d'autres dans la doc)\n",
    "plt.xlabel('N') # label sur les axes\n",
    "plt.ylabel('temps exécution')\n",
    "plt.show()  # indispensable pour afficher le graphique"
   ]
  },
  {
   "cell_type": "markdown",
   "metadata": {
    "slideshow": {
     "slide_type": "slide"
    }
   },
   "source": [
    "On note $\\pi(n)$ le nombre de nombres premiers inférieurs ou égaux à $n$. \n",
    "\n",
    "A l'aide de la fonction `Eratosthene`, donner les valeurs de $\\pi(n)$ pour $n = 10^2, \\ 10^3,\\dots 10^6$.\n",
    "\n",
    "On admet que $\\pi(10^9) = 50 847 534$.\n",
    "\n",
    "Comparer $\\pi(n)$ à $\\dfrac{n}{\\ln(n)}$.  \n",
    "Présenter les résultats sous forme d'un tableau, puis d'un graphique réalisé avec matplotlib.pyplot.\n"
   ]
  },
  {
   "cell_type": "code",
   "execution_count": 8,
   "metadata": {
    "slideshow": {
     "slide_type": "slide"
    }
   },
   "outputs": [
    {
     "name": "stdout",
     "output_type": "stream",
     "text": [
      "|   100    |    25    |   21.7147|\n",
      "|   1000   |   168    |   144.765|\n",
      "|  10000   |   1229   |   1085.74|\n",
      "|  100000  |   9592   |   8685.89|\n",
      "| 1000000  |  78498   |   72382.4|\n"
     ]
    },
    {
     "data": {
      "image/png": "[encoded data removed]",
      "text/plain": [
       "<Figure size 432x288 with 1 Axes>"
      ]
     },
     "metadata": {
      "needs_background": "light"
     },
     "output_type": "display_data"
    }
   ],
   "source": [
    "# Attention, si le nombre est trop grand, ça plante le noyau, il faut alors le relancer !\n",
    "\n",
    "\n",
    "from math import log\n",
    "pi=[]\n",
    "abs=[]\n",
    "nln=[]\n",
    "\n",
    "maxi=10**6\n",
    "n=100\n",
    "while n<=maxi:\n",
    "    abs.append(n)\n",
    "    pi.append(len(erast(n)))\n",
    "    nln.append(n/log(n)) ## On insère les n/ln(n) dans une liste\n",
    "    n*=10\n",
    "\n",
    "    \n",
    "\n",
    "for i in range(len(abs)):\n",
    "    print(f\"|{(abs[i]):^10}|{(pi[i]):^10}|{nln[i]:10.6}|\")\n",
    "    \n",
    "\n",
    "plt.plot(abs,pi,\"ro\")\n",
    "plt.plot(abs,nln,\"ys\")\n",
    "\n",
    "plt.xlabel('n')\n",
    "plt.ylabel('Comparaison')\n",
    "plt.show()\n",
    "    \n",
    "\n",
    "    "
   ]
  },
  {
   "cell_type": "markdown",
   "metadata": {},
   "source": [
    "Ecrire une conjecture sur le nombre de nombres premiers inférieurs à un entier N."
   ]
  },
  {
   "cell_type": "markdown",
   "metadata": {},
   "source": [
    "Le nombre de nombres premiers inférieurs à N est à peu près identique à $\\dfrac{N}{ln(N)}$.  \n"
   ]
  }
 ],
 "metadata": {
  "celltoolbar": "Diaporama",
  "interpreter": {
   "hash": "aee8b7b246df8f9039afb4144a1f6fd8d2ca17a180786b69acc140d282b71a49"
  },
  "kernelspec": {
   "display_name": "Python 3",
   "language": "python",
   "name": "python3"
  },
  "language_info": {
   "codemirror_mode": {
    "name": "ipython",
    "version": 3
   },
   "file_extension": ".py",
   "mimetype": "text/x-python",
   "name": "python",
   "nbconvert_exporter": "python",
   "pygments_lexer": "ipython3",
   "version": "3.10.4"
  }
 },
 "nbformat": 4,
 "nbformat_minor": 2
}
