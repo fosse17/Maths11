{
 "cells": [
  {
   "cell_type": "markdown",
   "metadata": {
    "slideshow": {
     "slide_type": "slide"
    }
   },
   "source": [
    " <table style=\"background-color: white;width:100%;\">\n",
    "    <tr style=\"display:none\">\n",
    "        <td></td>\n",
    "        <td></td>\n",
    "    </tr>\n",
    "    <tr style=\"height:3em\">\n",
    "        <td style=\"width:20%;align:left\"><img src=\"iut_bordeaux.jpg\"></td>\n",
    "        <td style=\"width:60%;font: bold 2em 'Fira Sans', serif;text-align:center\"> TP  2<br>Euclide et exponentiation modulaire</td>\n",
    "        <td style=\"width:20%;font: bold 1.3em 'Fira Sans', serif;vertical-align:top;\">R01.06<i></i></td>\n",
    "    </tr>\n",
    "</table>"
   ]
  },
  {
   "cell_type": "markdown",
   "metadata": {
    "slideshow": {
     "slide_type": "fragment"
    }
   },
   "source": [
    "## Exponentiation modulaire\n",
    "\n",
    "Nous avons souvent besoin de calculer rapidement des puissances modulo $n$. Pour cela il existe une méthode beaucoup plus efficace que de calculer d’abord $a^k$ puis de le réduire modulo $n$. Il faut garder à l’esprit que les entiers manipulés ont parfois des dizaines voire des centaines de chiffres."
   ]
  },
  {
   "cell_type": "markdown",
   "metadata": {
    "slideshow": {
     "slide_type": "slide"
    }
   },
   "source": [
    "Commençons par donner une fonction naïve de calcul d'exponentiation modulaire. Elle sera utilisée à la fin de ce TP."
   ]
  },
  {
   "cell_type": "code",
   "execution_count": 9,
   "metadata": {
    "slideshow": {
     "slide_type": "fragment"
    }
   },
   "outputs": [
    {
     "data": {
      "text/plain": [
       "3"
      ]
     },
     "execution_count": 9,
     "metadata": {},
     "output_type": "execute_result"
    }
   ],
   "source": [
    "def naïve(n,p,m):\n",
    "    return (n**p)%m\n",
    "naïve(5,11,14)"
   ]
  },
  {
   "cell_type": "markdown",
   "metadata": {
    "slideshow": {
     "slide_type": "slide"
    }
   },
   "source": [
    "#### Un premier exemple d'exponentiation rapide: $5^{11} (14)$\n",
    "\n",
    "L’idée est de seulement calculer $5,5^2,5^4,5^8$ ...et de réduire modulo $n$ à chaque fois. \n",
    "\n",
    "Pour cela on remarque que $11 = 2^3+2^1+2^0=8 + 2 + 1$ en décomposant uniquement avec des puissances de 2, donc\n",
    "on calcule les $5^{2^i}(14)$ :\n",
    "\n",
    "$5\\equiv5 (14)$\n",
    "\n",
    "$5^2 \\equiv 25\\equiv 11 (14)$\n",
    "\n",
    "$5^4 \\equiv 5^2\\times 5^2 \\equiv 11×11\\equiv 121\\equiv 9 (14) $\n",
    "\n",
    "$5^8 \\equiv 5^4 \\times 5^4 \\equiv 9×9\\equiv 81\\equiv 11 (14)$\n",
    "\n",
    "A chaque étape est effectuée une multiplication modulaire. \n",
    "\n",
    "Conséquence :\n",
    "$5^{11} \\equiv 5^{8+2+1}(14)\\equiv5^8 \\times 5^2 \\times 5(14)$\n",
    "\n",
    "$5^{11} \\equiv 11 \\times 11 \\times 5 (14)\\equiv 11 \\times 55 \\equiv 11 \\times 13 \\equiv 143 \\equiv 3(14).$\n",
    "\n",
    "Nous obtenons donc un calcul de $5^{11} ( 14)$ en 5 opérations au lieu de $10$ si on avait fait 5×5×5... et surtout avec des nombres plus petits à manipuler."
   ]
  },
  {
   "cell_type": "markdown",
   "metadata": {
    "slideshow": {
     "slide_type": "slide"
    }
   },
   "source": [
    "En fait, cette technique est basée sur la décomposition en base 2 de l'exposant.\n",
    "\n",
    "Voici un autre exemple à compléter manuellement **dans ce fichier** :\n",
    "\n",
    "Calculer $17^{154} (100)$. \n",
    "\n",
    "Tout d’abord on décompose l’exposant k = 154 en base 2 : \n",
    "\n",
    "> $(154)_{10}=$"
   ]
  },
  {
   "cell_type": "markdown",
   "metadata": {
    "slideshow": {
     "slide_type": "fragment"
    }
   },
   "source": [
    "> $(154)_{10}=(10011010)_2$"
   ]
  },
  {
   "cell_type": "markdown",
   "metadata": {
    "slideshow": {
     "slide_type": "fragment"
    }
   },
   "source": [
    "On en déduit la décompostion en somme de puissance de 2.\n",
    "\n",
    "> $154 =$"
   ]
  },
  {
   "cell_type": "markdown",
   "metadata": {
    "slideshow": {
     "slide_type": "fragment"
    }
   },
   "source": [
    "\n",
    "> $154 =2^7+2^4+2^3+2$"
   ]
  },
  {
   "cell_type": "markdown",
   "metadata": {
    "slideshow": {
     "slide_type": "slide"
    }
   },
   "source": [
    "Ensuite on calcule $17,17^2,17^4,17^8,... ( 100)$\n",
    "\n",
    ">$$\n",
    "\\begin{align*}\n",
    "17 & \\equiv 17[100] \\\\\n",
    "17^2 & \\equiv  \\\\\n",
    "17^4 & \\equiv \\\\\n",
    "17^8  & \\equiv \\\\\n",
    "17^{16} & \\equiv \\\\\n",
    "17^{32} & \\equiv \\\\\n",
    "17^{64}  & \\equiv \\\\\n",
    "17^{128} & \\equiv \\\\\n",
    "\\end{align*}\n",
    "$$"
   ]
  },
  {
   "cell_type": "markdown",
   "metadata": {
    "slideshow": {
     "slide_type": "fragment"
    }
   },
   "source": [
    "\n",
    "\n",
    ">$$\n",
    "\\begin{align*}\n",
    "17 ={17^2}^0& \\equiv  17[100]\\\\\n",
    "17^2 ={17^2}^1&\\equiv  17\\times 17 \\equiv  89[100]\\\\\n",
    "17^4 ={17^2}^2& \\equiv 89 \\times 89 \\equiv 21[100]\\\\\n",
    "17^8  ={17^2}^3& \\equiv 41[100]\\\\\n",
    "17^{16}={17^2}^4 & \\equiv 81[100]\\\\\n",
    "17^{32}={17^2}^5 & \\equiv 61[100]\\\\\n",
    "17^{64} ={17^2}^6 & \\equiv 21[100]\\\\\n",
    "17^{128}={17^2}^7 & \\equiv 41[100]\\\\\n",
    "\\end{align*}\n",
    "$$"
   ]
  },
  {
   "cell_type": "markdown",
   "metadata": {
    "slideshow": {
     "slide_type": "fragment"
    }
   },
   "source": [
    "Il ne reste qu’à rassembler :\n",
    "\n",
    "> $17^{154} \\equiv $"
   ]
  },
  {
   "cell_type": "markdown",
   "metadata": {
    "slideshow": {
     "slide_type": "fragment"
    }
   },
   "source": [
    "Il ne reste qu’à rassembler :\n",
    "\n",
    "> $17^{154} \\equiv 17^{2^7+2^4+2^3+2}\\equiv 41\\times 81\\times 41 \\times 89 \\equiv 29[100] $"
   ]
  },
  {
   "cell_type": "markdown",
   "metadata": {
    "slideshow": {
     "slide_type": "slide"
    }
   },
   "source": [
    "1. Ecrire une fonction `expo` qui prend en paramètre trois entier $p,n,m$ et renvoie une liste contenant les $p^{2^i}[m]$ pour $i$ entre $0$ et $n$.  \n",
    "Elle utilisera obligatoirement la technique vue ci-dessus."
   ]
  },
  {
   "cell_type": "code",
   "execution_count": 1,
   "metadata": {
    "slideshow": {
     "slide_type": "fragment"
    }
   },
   "outputs": [
    {
     "name": "stdout",
     "output_type": "stream",
     "text": [
      "[5, 11, 9, 11]\n",
      "[17, 89, 21, 41, 81, 61, 21, 41]\n"
     ]
    }
   ],
   "source": [
    "def expo(n,p,m):           #n=longueur liste binaire -1 (= puissance maximale)\n",
    "    liste=[]\n",
    "    liste.append(n%m)\n",
    "    for i in range(0,p):\n",
    "        liste.append(((liste[i])**2)%m)\n",
    "    return liste\n",
    "\n",
    "print(expo(5,3,14))\n",
    "print(expo(17,7,100))"
   ]
  },
  {
   "cell_type": "markdown",
   "metadata": {
    "slideshow": {
     "slide_type": "slide"
    }
   },
   "source": [
    "2. Ecrire une fonction `binaire` qui prend comme paramètre un nombre en décimal et retourne sa décomposition en binaire (sous forme de liste)."
   ]
  },
  {
   "cell_type": "code",
   "execution_count": 4,
   "metadata": {
    "slideshow": {
     "slide_type": "fragment"
    }
   },
   "outputs": [
    {
     "data": {
      "text/plain": [
       "[1, 0, 0, 1, 1, 0, 1, 0]"
      ]
     },
     "execution_count": 4,
     "metadata": {},
     "output_type": "execute_result"
    }
   ],
   "source": [
    "def binaire(n):\n",
    "    liste=[]\n",
    "    while n>0:\n",
    "        r=n%2\n",
    "        n=n//2\n",
    "        liste.append(r)\n",
    "    liste.reverse()\n",
    "    return liste\n",
    "\n",
    "binaire(154)"
   ]
  },
  {
   "cell_type": "markdown",
   "metadata": {
    "slideshow": {
     "slide_type": "slide"
    }
   },
   "source": [
    "3. Ecrire une fonction `exponentiation_rapide(n,p,m)` qui retourne $n^p[m]$"
   ]
  },
  {
   "cell_type": "code",
   "execution_count": 6,
   "metadata": {
    "slideshow": {
     "slide_type": "fragment"
    }
   },
   "outputs": [
    {
     "name": "stdout",
     "output_type": "stream",
     "text": [
      "3\n",
      "29\n"
     ]
    }
   ],
   "source": [
    "def exponentiation_rapide(n,p,m):            # exponentiation rapide(17,154,100)\n",
    "    binaire_expo=binaire(p)                  # (154)_10=[10011010]_2=(2^7+2^4+2^3+2^1)_10\n",
    "    binaire_expo.reverse()                   # [01011001]_2=(2^1+2^3+2^4+2^7)_10\n",
    "    cong=expo(n,len(binaire(p)),m)           # expo(17,8,100) donne la liste des congruences\n",
    "    result=1;                                \n",
    "    for p in range(len(binaire_expo)) :     # p de 0 à 7  (puissances de 2)\n",
    "        if binaire_expo[p]==1:              \n",
    "            result*=(cong[p])             # multiplication des congruences modulo m\n",
    "    \n",
    "    return result%m\n",
    "\n",
    "print(exponentiation_rapide(5,11,14))\n",
    "print(exponentiation_rapide(17,154,100))"
   ]
  },
  {
   "cell_type": "markdown",
   "metadata": {
    "slideshow": {
     "slide_type": "slide"
    }
   },
   "source": [
    "Python a déjà une fonction `pow` qui permet le calcul d'une exponentiation modulaire.\n",
    "\n",
    "Comparer le temps de calcul de votre fonction , de `pow` et de la fonction naïve pour :\n",
    "\n",
    "```python\n",
    "n=24433  \n",
    "p=123121  \n",
    "m=72 \n",
    "```\n"
   ]
  },
  {
   "cell_type": "code",
   "execution_count": 10,
   "metadata": {
    "slideshow": {
     "slide_type": "fragment"
    }
   },
   "outputs": [
    {
     "name": "stdout",
     "output_type": "stream",
     "text": [
      "Temps d'exécution pour pow: 6.199e-05ms\n",
      "Temps d'exécution pour exponentiation_rapide: 8.798e-05ms\n",
      "Temps d'exécution pour naïve: 0.137ms\n"
     ]
    }
   ],
   "source": [
    "import time\n",
    "\n",
    "n=24433\n",
    "p=123121\n",
    "m=72\n",
    "\n",
    "start = time.time()\n",
    "pow(n,p,m)\n",
    "end = time.time()\n",
    "elapsed = end - start\n",
    "print(f'Temps d\\'exécution pour pow: {elapsed:.4}ms') \n",
    "\n",
    "\n",
    "start = time.time()\n",
    "exponentiation_rapide(n,p,m)\n",
    "end = time.time()\n",
    "elapsed = end - start\n",
    "print(f'Temps d\\'exécution pour exponentiation_rapide: {elapsed:.4}ms')  \n",
    "\n",
    "start = time.time()\n",
    "naïve(n,p,m)\n",
    "end = time.time()\n",
    "elapsed = end - start\n",
    "print(f'Temps d\\'exécution pour naïve: {elapsed:.4}ms')  "
   ]
  },
  {
   "cell_type": "markdown",
   "metadata": {
    "slideshow": {
     "slide_type": "slide"
    }
   },
   "source": [
    "## Algorithme d'Euclide\n",
    "\n",
    "On rappelle l’algorithme d’Euclide :\n",
    "\n",
    "Soit $a\\in\\mathbb{Z}^*$ et $b\\in\\mathbb{N}^*$. \n",
    "\n",
    "On effectue des divisions euclidiennes successives tant que le reste est non nul.\n",
    "* On pose $r_0 = a, r_1 = b \\text{ et } k = 1$\n",
    "* Tant que $r_k \\neq 0$, on effectue la division euclidienne de $r_{k−1}$ par $r_k$.  \n",
    "    En notant $q_k$ le quotient et $r_{k+1}$\n",
    "le reste, on obtient :\n",
    "$$r_{k−1} = r_k\\times q_k + r_{k+1} \\text{ avec } 0 \\leq  r_{k+1} < r_k$$.\n",
    "* On incrémente $k$ de $1$.  \n",
    "\n",
    "$$\\begin{array}{rclcc} %cl}\n",
    "a=r_0&=&r_1q_1+r_2&\\quad& 0<r_2<r_1\\\\ %&\\quad& d=\\text{PGCD}(b,r_1)\\\\\n",
    "b=r_1&=&r_2q_2+r_3&& 0<r_3<r_2\\\\ % && d=\\text{PGCD}(r_1,r_2)\\\\\n",
    "r_2&=&r_3q_3+r_4&& 0<r_4<r_3\\\\ % && d=\\text{PGCD}(r_2,r_3)\\\\\n",
    "\\quad\\vdots&&\\\\\n",
    "r_{n-3}&=&r_{n-2}q_{n-2}+r_{n-1}&& 0<r_{n-1}<r_{n-2}\\\\\n",
    "r_{n-2}&=&r_{n-1}q_{n-1}+r_n&& 0< r_n<r_{n-1}\\\\ %&& d=\\text{PGCD}(r_{n-1},r_n)\\\\\n",
    "r_{n-1}&=&r_nq_{n}+0 && r_{n+1}=0\\\\\n",
    "\\end{array}\n",
    "$$\n",
    "\n",
    "$(r_k)_{k \\in \\mathbb{N}}$ est une suite strictement décroissante d'entiers naturels donc, *au bout d'un certain temps*, on obtient un reste nul et l'algorithme s'arrête. \n",
    "\n",
    "Si $r_{n+1}=0$ alors $r_n$ divise $r_{n-1}$, donc $\\text{PGCD}(r_{n-1},r_n)=r_n$. \n",
    "\n",
    "\n",
    "\n",
    "\n",
    "\n",
    "\n",
    "\n",
    "En effectuant cet algorithme, il existera toujours $n \\geq 0$ tel que $r_{n+1} = 0$, ce qui assure que\n",
    "l’algorithme s’arrête. \n",
    "\n",
    "On a alors $PGCD(a,b) = r_n$.\n",
    "\n",
    "\n"
   ]
  },
  {
   "cell_type": "markdown",
   "metadata": {
    "slideshow": {
     "slide_type": "slide"
    }
   },
   "source": [
    "1 . Créer une fonction PGCD prenant en entrée deux entiers naturels $a$ et $b$ et qui renvoie $PGCD(a,b)$  en procédant comme l’algorithme d’Euclide.\n",
    "* On utilisera une liste R contenant les valeurs des $r_k$.\n",
    "* On affichera les étapes de manière à pouvoir comparer à une exécution “à la main” de l’algorithme. "
   ]
  },
  {
   "cell_type": "code",
   "execution_count": 13,
   "metadata": {
    "slideshow": {
     "slide_type": "fragment"
    }
   },
   "outputs": [
    {
     "name": "stdout",
     "output_type": "stream",
     "text": [
      "139=17*8+3\n",
      "17=3*5+2\n",
      "3=2*1+1\n",
      "2=1*2+0\n"
     ]
    },
    {
     "data": {
      "text/plain": [
       "1"
      ]
     },
     "execution_count": 13,
     "metadata": {},
     "output_type": "execute_result"
    }
   ],
   "source": [
    "def PGCD(a,b,trace=False):\n",
    "    R=[a,b]\n",
    "    k=1\n",
    "    while R[k] != 0:\n",
    "        q=R[k-1]//R[k]\n",
    "        R.append(R[k-1]%R[k])\n",
    "        if trace:\n",
    "            print(f\"{R[k-1]}={R[k]}*{q}+{R[k+1]}\")\n",
    "        k+=1\n",
    "    return R[k-1]\n",
    "\n",
    "PGCD(139,17,True)\n",
    "    "
   ]
  },
  {
   "cell_type": "markdown",
   "metadata": {
    "slideshow": {
     "slide_type": "slide"
    }
   },
   "source": [
    "2 . Créer une fonction $PPCM$ qui calcule le $PPCM$ de deux entiers non nuls $a$ et $b$."
   ]
  },
  {
   "cell_type": "code",
   "execution_count": 14,
   "metadata": {
    "slideshow": {
     "slide_type": "fragment"
    }
   },
   "outputs": [
    {
     "data": {
      "text/plain": [
       "60"
      ]
     },
     "execution_count": 14,
     "metadata": {},
     "output_type": "execute_result"
    }
   ],
   "source": [
    "def PPCM(a,b):\n",
    "    \n",
    "    return (a*b)//PGCD(a,b)\n",
    "\n",
    "PPCM(12,5)"
   ]
  },
  {
   "cell_type": "markdown",
   "metadata": {
    "slideshow": {
     "slide_type": "slide"
    }
   },
   "source": [
    "3 . Déterminer les couples $(a, b)$ d’entiers naturels $a \\leq  b$ tels que $a + b = 256$ et $PGCD(a,b) = 16$\n",
    "\n",
    "Retrouver ces couples par une démonstration."
   ]
  },
  {
   "cell_type": "code",
   "execution_count": 27,
   "metadata": {
    "slideshow": {
     "slide_type": "fragment"
    }
   },
   "outputs": [
    {
     "name": "stdout",
     "output_type": "stream",
     "text": [
      "[(16, 240), (48, 208), (80, 176), (112, 144)]\n"
     ]
    }
   ],
   "source": [
    "L=[]\n",
    "for a in range(0,257):\n",
    "    b=256-a\n",
    "    if a<=b and PGCD(a,b)==16:\n",
    "        L.append((a,b))\n",
    "print(L)"
   ]
  },
  {
   "cell_type": "markdown",
   "metadata": {
    "slideshow": {
     "slide_type": "fragment"
    }
   },
   "source": [
    "$(a, b)$ couple d'entiers naturels tels que $a \\leq  b$.   \n",
    "$a + b = 256$  \n",
    "$PGCD(a,b) = 16$ donc il existe deux entiers relatifs $k$ et $k'$ tels que $a=16k$ et $b=16k'$   \n",
    "$PGCD(16k;16k')=16$\n",
    "or $PGCD(ac;bc)=c \\times PGCD(a;b)$  \n",
    "donc $PGCD(k;k')=1$ c'est à dire $k$ et $k'$ sont premiers entre eux.  \n",
    "De plus, $a+b=256$ donc $16k+16k'=256$   \n",
    "soit $16(k+k')=256$ donc $k+k'=16$.  \n",
    "Les couples qui conviennent :  \n",
    "$k=1$ et $k'=15$, soit $(16,240)$  \n",
    "$k=3$ et $k'=13$, soit $(48,208)$  \n",
    "$k=5$ et $k'=11$, soit $(80,176)$  \n",
    "$k=7$ et $k'=9$, soit $(112,144)$."
   ]
  },
  {
   "cell_type": "markdown",
   "metadata": {
    "slideshow": {
     "slide_type": "slide"
    }
   },
   "source": [
    "4 . Résoudre dans $\\mathbb{N^2}$\n",
    "\n",
    "$\n",
    "PPCM(x,y)+11\\times PGCD(x,y)=203\n",
    "$"
   ]
  },
  {
   "cell_type": "code",
   "execution_count": 29,
   "metadata": {
    "slideshow": {
     "slide_type": "fragment"
    }
   },
   "outputs": [
    {
     "name": "stdout",
     "output_type": "stream",
     "text": [
      "[(1, 192), (3, 64), (7, 126), (14, 63)]\n"
     ]
    }
   ],
   "source": [
    "L=[]\n",
    "for x in range(1,203):\n",
    "    for y in range(1,203):\n",
    "        if PPCM(x,y)+11*PGCD(x,y)==203:\n",
    "            if(x<=y) :\n",
    "                L.append((x,y))\n",
    "print(L)"
   ]
  },
  {
   "cell_type": "code",
   "execution_count": null,
   "metadata": {},
   "outputs": [],
   "source": []
  }
 ],
 "metadata": {
  "celltoolbar": "Diaporama",
  "kernelspec": {
   "display_name": "Python 3",
   "language": "python",
   "name": "python3"
  },
  "language_info": {
   "codemirror_mode": {
    "name": "ipython",
    "version": 3
   },
   "file_extension": ".py",
   "mimetype": "text/x-python",
   "name": "python",
   "nbconvert_exporter": "python",
   "pygments_lexer": "ipython3",
   "version": "3.8.5"
  },
  "vscode": {
   "interpreter": {
    "hash": "aee8b7b246df8f9039afb4144a1f6fd8d2ca17a180786b69acc140d282b71a49"
   }
  }
 },
 "nbformat": 4,
 "nbformat_minor": 5
}
