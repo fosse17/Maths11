{
 "cells": [
  {
   "cell_type": "markdown",
   "metadata": {},
   "source": [
    " <table style=\"background-color: white;width:100%;\">\n",
    "    <tr style=\"display:none\">\n",
    "        <td></td>\n",
    "        <td></td>\n",
    "    </tr>\n",
    "    <tr style=\"height:3em\">\n",
    "        <td style=\"width:20%;align:left\"><img src=\"iut_bordeaux.jpg\"></td>\n",
    "        <td style=\"width:60%;font: bold 2em 'Fira Sans', serif;text-align:center\"> TP  2<br>Euclide et exponentiation modulaire</td>\n",
    "        <td style=\"width:20%;font: bold 1.3em 'Fira Sans', serif;vertical-align:top;\">R01.06<i></i></td>\n",
    "    </tr>\n",
    "</table>"
   ]
  },
  {
   "cell_type": "markdown",
   "metadata": {},
   "source": [
    "## Exponentiation modulaire\n",
    "\n",
    "Nous avons souvent besoin de calculer rapidement des puissances modulo $n$. Pour cela il existe une méthode beaucoup plus efficace que de calculer d’abord $a^k$ puis de le réduire modulo $n$. Il faut garder à l’esprit que les entiers manipulés ont parfois des dizaines voire des centaines de chiffres."
   ]
  },
  {
   "cell_type": "markdown",
   "metadata": {},
   "source": [
    "Commençons par donner une fonction naïve de calcul d'exponentiation modulaire. Elle sera utilisée à la fin de ce TP."
   ]
  },
  {
   "cell_type": "code",
   "execution_count": 16,
   "metadata": {},
   "outputs": [],
   "source": [
    "def naive(n,p,m):\n",
    "    return (n**p)%m"
   ]
  },
  {
   "cell_type": "markdown",
   "metadata": {},
   "source": [
    "#### Un premier exemple d'exponentiation rapide: $5^{11} (14)$\n",
    "\n",
    "L’idée est de seulement calculer $5,5^2,5^4,5^8$ ...et de réduire modulo $n$ à chaque fois. \n",
    "\n",
    "Pour cela on remarque que $11 = 2^3+2^1+2^0=8 + 2 + 1$ en décomposant uniquement avec des puissances de 2, donc\n",
    "on calcule les $5^{2^i}(14)$ :\n",
    "\n",
    "$5\\equiv5 (14)$\n",
    "\n",
    "$5^2 \\equiv 25\\equiv 11 (14)$\n",
    "\n",
    "$5^4 \\equiv 5^2\\times 5^2 \\equiv 11×11\\equiv 121\\equiv 9 (14) $\n",
    "\n",
    "$5^8 \\equiv 5^4 \\times 5^4 \\equiv 9×9\\equiv 81\\equiv 11 (14)$\n",
    "\n",
    "A chaque étape est effectuée une multiplication modulaire. \n",
    "\n",
    "Conséquence :\n",
    "$5^{11} \\equiv 5^{8+2+1}(14)\\equiv5^8 \\times 5^2 \\times 5(14)$\n",
    "\n",
    "$5^{11} \\equiv 11 \\times 11 \\times 5 (14)\\equiv 11 \\times 55 \\equiv 11 \\times 13 \\equiv 143 \\equiv 3(14).$\n",
    "\n",
    "Nous obtenons donc un calcul de $5^{11} ( 14)$ en 5 opérations au lieu de $10$ si on avait fait 5×5×5... et surtout avec des nombres plus petits à manipuler."
   ]
  },
  {
   "cell_type": "markdown",
   "metadata": {},
   "source": [
    "En fait, cette technique est basée sur la décomposition en base 2 de l'exposant.\n",
    "\n",
    "Voici un autre exemple à compléter manuellement **dans ce fichier** :\n",
    "\n",
    "Calculer $17^{154} (100)$. \n",
    "\n",
    "Tout d’abord on décompose l’exposant k = 154 en base 2 : \n",
    "\n",
    "> $(154)_{10}=(10011010)_2$\n",
    "\n",
    "On en déduit la décompostion en somme de puissance de 2.\n",
    "\n",
    "> $154 =2^7+2^4+2^3+2$\n",
    "\n",
    "Ensuite on calcule $17,17^2,17^4,17^8,... ( 100)$\n",
    "\n",
    ">$$\n",
    "\\begin{align*}\n",
    "17 & \\equiv  17[100]\\\\\n",
    "17^2 &\\equiv  17\\times 17 \\equiv  89[100]\\\\\n",
    "17^4 & \\equiv 89 \\times 89 \\equiv 21[100]\\\\\n",
    "17^8  & \\equiv 41[100]\\\\\n",
    "17^{16} & \\equiv 81[100]\\\\\n",
    "17^{32} & \\equiv 61[100]\\\\\n",
    "17^{64}  & \\equiv 21[100]\\\\\n",
    "17^{128} & \\equiv 41[100]\\\\\n",
    "\\end{align*}\n",
    "$$"
   ]
  },
  {
   "cell_type": "markdown",
   "metadata": {},
   "source": [
    "Il ne reste qu’à rassembler :\n",
    "\n",
    "> $17^{154} \\equiv 17^{2^7+2^4+2^3+2}\\equiv 41\\times 81\\times 41 \\times 89 \\equiv 29[100] $"
   ]
  },
  {
   "cell_type": "markdown",
   "metadata": {},
   "source": [
    "1. Ecrire une fonction `expo` qui prend en paramètre trois entier $p,n,m$ et renvoie une liste contenant les $p^{2^i}[m]$ pour $i$ entre $0$ et $n$.  \n",
    "Elle utilisera obligatoirement la technique vue ci-dessus."
   ]
  },
  {
   "cell_type": "code",
   "execution_count": 6,
   "metadata": {},
   "outputs": [
    {
     "name": "stdout",
     "output_type": "stream",
     "text": [
      "[5, 11, 9, 11]\n",
      "[17, 89, 21, 41, 81, 61, 21, 41]\n"
     ]
    },
    {
     "data": {
      "text/plain": [
       "21"
      ]
     },
     "execution_count": 6,
     "metadata": {},
     "output_type": "execute_result"
    }
   ],
   "source": [
    "def expo(p,n,m):\n",
    "    liste=[]\n",
    "    liste.append(p%m)\n",
    "    for puis in range(1,n+1):\n",
    "        liste.append((liste[puis-1]*liste[puis-1])%m);\n",
    "    return liste\n",
    "\n",
    "print(expo(5,3,14))\n",
    "print(expo(17,7,100))"
   ]
  },
  {
   "cell_type": "markdown",
   "metadata": {},
   "source": [
    "2. Ecrire une fonction `binaire` qui prend comme paramètre un nombre en décimal et retourne sa décomposition en binaire (sous forme de liste)"
   ]
  },
  {
   "cell_type": "code",
   "execution_count": 2,
   "metadata": {},
   "outputs": [
    {
     "data": {
      "text/plain": [
       "[1, 0, 0, 1, 1, 0, 1, 0]"
      ]
     },
     "execution_count": 2,
     "metadata": {},
     "output_type": "execute_result"
    }
   ],
   "source": [
    "def binaire(p):\n",
    "    liste=[]\n",
    "    while p>0:\n",
    "        p,r=p//2,p%2\n",
    "        liste.append(r)\n",
    "    liste.reverse()\n",
    "    return liste\n",
    "\n",
    "binaire(154)"
   ]
  },
  {
   "cell_type": "markdown",
   "metadata": {},
   "source": [
    "3. Ecrire une fonction `exponentiation_rapide(p,n,m)` qui retourne $p^n[m]$"
   ]
  },
  {
   "cell_type": "code",
   "execution_count": 14,
   "metadata": {},
   "outputs": [
    {
     "name": "stdout",
     "output_type": "stream",
     "text": [
      "3\n",
      "29\n"
     ]
    }
   ],
   "source": [
    "def exponentiation_rapide(p,n,m):\n",
    "    binaire_expo=binaire(n)\n",
    "    binaire_expo.reverse()\n",
    "    puis=expo(p,len(binaire(n)),m)\n",
    "    result=1;\n",
    "    for pu in range(len(binaire_expo)) :\n",
    "        if binaire_expo[pu]==1:\n",
    "            result*=(puis[pu])%m\n",
    "    \n",
    "    return result%m\n",
    "\n",
    "print(exponentiation_rapide(5,11,14))\n",
    "print(exponentiation_rapide(17,154,100))"
   ]
  },
  {
   "cell_type": "markdown",
   "metadata": {},
   "source": [
    "Python a déjà une fonction `pow` qui permet le calcul d'une exponentiation modulaire.\n",
    "\n",
    "Comparer le temps de calcul de votre fonction , de `pow` et de la fonction naïve pour :\n",
    "\n",
    "```python\n",
    "n=24433  \n",
    "p=123121  \n",
    "m=72 \n",
    "```\n"
   ]
  },
  {
   "cell_type": "code",
   "execution_count": 17,
   "metadata": {},
   "outputs": [
    {
     "name": "stdout",
     "output_type": "stream",
     "text": [
      "Temps d'exécution pour pow: 5.293e-05ms\n",
      "Temps d'exécution pour exponentiation_rapide: 8.488e-05ms\n",
      "Temps d'exécution pour naive: 0.1106ms\n"
     ]
    }
   ],
   "source": [
    "import time\n",
    "\n",
    "n=24433\n",
    "p=123121\n",
    "m=72\n",
    "\n",
    "start = time.time()\n",
    "pow(n,p,m)\n",
    "end = time.time()\n",
    "elapsed = end - start\n",
    "print(f'Temps d\\'exécution pour pow: {elapsed:.4}ms') \n",
    "\n",
    "\n",
    "start = time.time()\n",
    "exponentiation_rapide(n,p,m)\n",
    "end = time.time()\n",
    "elapsed = end - start\n",
    "print(f'Temps d\\'exécution pour exponentiation_rapide: {elapsed:.4}ms')  \n",
    "\n",
    "start = time.time()\n",
    "naive(n,p,m)\n",
    "end = time.time()\n",
    "elapsed = end - start\n",
    "print(f'Temps d\\'exécution pour naive: {elapsed:.4}ms')  "
   ]
  },
  {
   "cell_type": "markdown",
   "metadata": {},
   "source": [
    "## Algorithme d'Euclide\n",
    "\n",
    "On rappelle l’algorithme d’Euclide :\n",
    "\n",
    "Soit $a$ et $b$ deux entiers naturels dont l’un au moins est non nul. Le PGCD des nombres a et b peut être obtenu par l’algorithme suivant :\n",
    "\n",
    "* On pose $r_0 = a, r_1 = b \\text{ et } k = 1$\n",
    "* Tant que $r_k \\neq 0$\n",
    "    On effectue la division euclidienne de $r_{k−1}$ par $r_k$.  \n",
    "    En notant $q_k$ le quotient et $r_{k+1}$\n",
    "le reste, on obtient :\n",
    "$$r_{k−1} = r_k\\times q_k + r_{k+1} \\text{ avec } 0 \\leq  r_{k+1} < r_k$$\n",
    "* On incrémente $k$ de $1$.\n",
    "\n",
    "En effectuant cet algorithme, il existera toujours $n \\geq 0$ tel que $r_{n+1} = 0$, ce qui assure que\n",
    "l’algorithme s’arrête. \n",
    "\n",
    "On a alors $PGCD(a,b) = r_n$.\n",
    "\n",
    "\n",
    "1 . Créer une fonction PGCD prenant en entrée deux entiers naturels $a$ et $b$ et qui renvoie $PGCD(a,b)$  en procédant comme l’algorithme d’Euclide.\n",
    "* On utilisera une liste R contenant les valeurs des $r_k$.\n",
    "* On affichera les étapes de manière à pouvoir comparer à une exécution “à la main” de l’algorithme. "
   ]
  },
  {
   "cell_type": "code",
   "execution_count": 22,
   "metadata": {},
   "outputs": [
    {
     "name": "stdout",
     "output_type": "stream",
     "text": [
      "139=17*8+3\n",
      "17=3*5+2\n",
      "3=2*1+1\n",
      "2=1*2+0\n"
     ]
    },
    {
     "data": {
      "text/plain": [
       "1"
      ]
     },
     "execution_count": 22,
     "metadata": {},
     "output_type": "execute_result"
    }
   ],
   "source": [
    "def PGCD(a,b,trace=False):\n",
    "    R=[]\n",
    "    k=1\n",
    "    R.append(a)\n",
    "    R.append(b)\n",
    "    while R[k] != 0:\n",
    "        q=R[k-1]//R[k]\n",
    "        R.append(R[k-1]%R[k])\n",
    "        if trace:\n",
    "            print(f\"{R[k-1]}={R[k]}*{q}+{R[k+1]}\")\n",
    "        k+=1\n",
    "    return R[k-1]\n",
    "\n",
    "PGCD(139,17,True)\n",
    "    "
   ]
  },
  {
   "cell_type": "markdown",
   "metadata": {},
   "source": [
    "2 . Créer une fonction $PPCM$ qui calcule le $PPCM$ de deux entiers non nuls $a$ et $b$."
   ]
  },
  {
   "cell_type": "code",
   "execution_count": 23,
   "metadata": {},
   "outputs": [
    {
     "data": {
      "text/plain": [
       "60"
      ]
     },
     "execution_count": 23,
     "metadata": {},
     "output_type": "execute_result"
    }
   ],
   "source": [
    "def PPCM(a,b):\n",
    "    \n",
    "    return (a*b)//PGCD(a,b)\n",
    "\n",
    "PPCM(12,5)"
   ]
  },
  {
   "cell_type": "markdown",
   "metadata": {},
   "source": [
    "3 . Déterminer les couples $(a, b)$ d’entiers naturels $a \\leq  b$ tels que $a + b = 256$ et $PGCD(a,b) = 16$\n",
    "\n",
    "Retouver ces couples par une démonstration."
   ]
  },
  {
   "cell_type": "code",
   "execution_count": 24,
   "metadata": {},
   "outputs": [
    {
     "name": "stdout",
     "output_type": "stream",
     "text": [
      "[{16, 240}, {48, 208}, {80, 176}, {112, 144}]\n"
     ]
    }
   ],
   "source": [
    "L=[]\n",
    "for a in range(0,257):\n",
    "    b=256-a\n",
    "    if a<=b and PGCD(a,b)==16:\n",
    "        L.append({a,b})\n",
    "print(L)"
   ]
  },
  {
   "cell_type": "markdown",
   "metadata": {},
   "source": [
    "votre démonstration ici\n",
    "\n"
   ]
  },
  {
   "cell_type": "markdown",
   "metadata": {},
   "source": [
    "4 . Résoudre dans $\\mathbb{N^2}$\n",
    "\n",
    "$\n",
    "PPCM(x,y)+11\\times PGCD(x,y)=203\n",
    "$"
   ]
  },
  {
   "cell_type": "code",
   "execution_count": 28,
   "metadata": {},
   "outputs": [
    {
     "name": "stdout",
     "output_type": "stream",
     "text": [
      "[{192, 1}, {64, 3}, {126, 7}, {14, 63}]\n"
     ]
    }
   ],
   "source": [
    "L=[]\n",
    "for x in range(1,203):\n",
    "    for y in range(1,203):\n",
    "        if PPCM(x,y)+11*PGCD(x,y)==203:\n",
    "            if(x<=y) :\n",
    "                L.append({x,y})\n",
    "print(L)"
   ]
  },
  {
   "cell_type": "markdown",
   "metadata": {},
   "source": [
    "## Test de primalité\n",
    "\n",
    "On donne le petit **théorème de fermat :** \n",
    "\n",
    ">si p est un nombre premier alors pour tout $a \\in \\mathbb{N}, \n",
    "\\quad 1\\leq a <p, \\quad a^{p-1}\\equiv 1[p]$\n",
    "\n",
    "Vérifier ce théorème pour les nombres premiers inférieurs à 100 . vous pourrez reprendre votre fonction `Eratosthene` du TP 1.\n"
   ]
  },
  {
   "cell_type": "code",
   "execution_count": 31,
   "metadata": {},
   "outputs": [
    {
     "name": "stdout",
     "output_type": "stream",
     "text": [
      "pour 2 :  1,\n",
      "pour 3 :  1,1,\n",
      "pour 5 :  1,1,1,1,\n",
      "pour 7 :  1,1,1,1,1,1,\n",
      "pour 11 :  1,1,1,1,1,1,1,1,1,1,\n",
      "pour 13 :  1,1,1,1,1,1,1,1,1,1,1,1,\n",
      "pour 17 :  1,1,1,1,1,1,1,1,1,1,1,1,1,1,1,1,\n",
      "pour 19 :  1,1,1,1,1,1,1,1,1,1,1,1,1,1,1,1,1,1,\n",
      "pour 23 :  1,1,1,1,1,1,1,1,1,1,1,1,1,1,1,1,1,1,1,1,1,1,\n",
      "pour 29 :  1,1,1,1,1,1,1,1,1,1,1,1,1,1,1,1,1,1,1,1,1,1,1,1,1,1,1,1,\n",
      "pour 31 :  1,1,1,1,1,1,1,1,1,1,1,1,1,1,1,1,1,1,1,1,1,1,1,1,1,1,1,1,1,1,\n",
      "pour 37 :  1,1,1,1,1,1,1,1,1,1,1,1,1,1,1,1,1,1,1,1,1,1,1,1,1,1,1,1,1,1,1,1,1,1,1,1,\n",
      "pour 41 :  1,1,1,1,1,1,1,1,1,1,1,1,1,1,1,1,1,1,1,1,1,1,1,1,1,1,1,1,1,1,1,1,1,1,1,1,1,1,1,1,\n",
      "pour 43 :  1,1,1,1,1,1,1,1,1,1,1,1,1,1,1,1,1,1,1,1,1,1,1,1,1,1,1,1,1,1,1,1,1,1,1,1,1,1,1,1,1,1,\n",
      "pour 47 :  1,1,1,1,1,1,1,1,1,1,1,1,1,1,1,1,1,1,1,1,1,1,1,1,1,1,1,1,1,1,1,1,1,1,1,1,1,1,1,1,1,1,1,1,1,1,\n",
      "pour 53 :  1,1,1,1,1,1,1,1,1,1,1,1,1,1,1,1,1,1,1,1,1,1,1,1,1,1,1,1,1,1,1,1,1,1,1,1,1,1,1,1,1,1,1,1,1,1,1,1,1,1,1,1,\n",
      "pour 59 :  1,1,1,1,1,1,1,1,1,1,1,1,1,1,1,1,1,1,1,1,1,1,1,1,1,1,1,1,1,1,1,1,1,1,1,1,1,1,1,1,1,1,1,1,1,1,1,1,1,1,1,1,1,1,1,1,1,1,\n",
      "pour 61 :  1,1,1,1,1,1,1,1,1,1,1,1,1,1,1,1,1,1,1,1,1,1,1,1,1,1,1,1,1,1,1,1,1,1,1,1,1,1,1,1,1,1,1,1,1,1,1,1,1,1,1,1,1,1,1,1,1,1,1,1,\n",
      "pour 67 :  1,1,1,1,1,1,1,1,1,1,1,1,1,1,1,1,1,1,1,1,1,1,1,1,1,1,1,1,1,1,1,1,1,1,1,1,1,1,1,1,1,1,1,1,1,1,1,1,1,1,1,1,1,1,1,1,1,1,1,1,1,1,1,1,1,1,\n",
      "pour 71 :  1,1,1,1,1,1,1,1,1,1,1,1,1,1,1,1,1,1,1,1,1,1,1,1,1,1,1,1,1,1,1,1,1,1,1,1,1,1,1,1,1,1,1,1,1,1,1,1,1,1,1,1,1,1,1,1,1,1,1,1,1,1,1,1,1,1,1,1,1,1,\n",
      "pour 73 :  1,1,1,1,1,1,1,1,1,1,1,1,1,1,1,1,1,1,1,1,1,1,1,1,1,1,1,1,1,1,1,1,1,1,1,1,1,1,1,1,1,1,1,1,1,1,1,1,1,1,1,1,1,1,1,1,1,1,1,1,1,1,1,1,1,1,1,1,1,1,1,1,\n",
      "pour 79 :  1,1,1,1,1,1,1,1,1,1,1,1,1,1,1,1,1,1,1,1,1,1,1,1,1,1,1,1,1,1,1,1,1,1,1,1,1,1,1,1,1,1,1,1,1,1,1,1,1,1,1,1,1,1,1,1,1,1,1,1,1,1,1,1,1,1,1,1,1,1,1,1,1,1,1,1,1,1,\n",
      "pour 83 :  1,1,1,1,1,1,1,1,1,1,1,1,1,1,1,1,1,1,1,1,1,1,1,1,1,1,1,1,1,1,1,1,1,1,1,1,1,1,1,1,1,1,1,1,1,1,1,1,1,1,1,1,1,1,1,1,1,1,1,1,1,1,1,1,1,1,1,1,1,1,1,1,1,1,1,1,1,1,1,1,1,1,\n",
      "pour 89 :  1,1,1,1,1,1,1,1,1,1,1,1,1,1,1,1,1,1,1,1,1,1,1,1,1,1,1,1,1,1,1,1,1,1,1,1,1,1,1,1,1,1,1,1,1,1,1,1,1,1,1,1,1,1,1,1,1,1,1,1,1,1,1,1,1,1,1,1,1,1,1,1,1,1,1,1,1,1,1,1,1,1,1,1,1,1,1,1,\n",
      "pour 97 :  1,1,1,1,1,1,1,1,1,1,1,1,1,1,1,1,1,1,1,1,1,1,1,1,1,1,1,1,1,1,1,1,1,1,1,1,1,1,1,1,1,1,1,1,1,1,1,1,1,1,1,1,1,1,1,1,1,1,1,1,1,1,1,1,1,1,1,1,1,1,1,1,1,1,1,1,1,1,1,1,1,1,1,1,1,1,1,1,1,1,1,1,1,1,1,1,\n"
     ]
    }
   ],
   "source": [
    "from math import sqrt\n",
    "\n",
    "def erast(N):\n",
    "    #L=list(range(N+1))\n",
    "    #for i in L:\n",
    "    #   L[i]=True\n",
    "        \n",
    "    L=[True for i in range(N+1)]\n",
    "    L[0],L[1]=False,False\n",
    "\n",
    "    for i in range(int(sqrt(N)+1)):\n",
    "        if L[i]:\n",
    "            j=2*i\n",
    "            while j<=N:\n",
    "                if L[j]:\n",
    "                    L[j]=False\n",
    "                j=j+i\n",
    "    \n",
    "    return [i for i,e in enumerate(L) if e]\n",
    "\n",
    "def test_fermat():\n",
    "    P=erast(100)\n",
    "    for n in P:\n",
    "        print(f\"pour {n} : \",end=\" \")\n",
    "        for a in range(1,n):\n",
    "                print(pow(a,p-1,p),end=',')\n",
    "        print()\n",
    "\n",
    "test_fermat()"
   ]
  },
  {
   "cell_type": "markdown",
   "metadata": {},
   "source": [
    "Par contre, si on fixe $a$, il se peut que $ a^{p-1}\\equiv 1[ p]$ sans que $p$ ne soit premier; un tel nombre est dit *pseudo-premier de Fermat* de base $a$. \n",
    "\n",
    "Vérifier cette afirmation pour $a=2$ et $p=561=3\\times 11 \\times 17$"
   ]
  },
  {
   "cell_type": "code",
   "execution_count": 32,
   "metadata": {},
   "outputs": [
    {
     "data": {
      "text/plain": [
       "1"
      ]
     },
     "execution_count": 32,
     "metadata": {},
     "output_type": "execute_result"
    }
   ],
   "source": [
    "pow(2,560,561)"
   ]
  },
  {
   "cell_type": "markdown",
   "metadata": {},
   "source": [
    "On déduit de ce théorème le test de primalité de Fermat qui repose sur l'idée suivante  : \n",
    "\n",
    ">si $p$ est composé (non premier), alors il est *peu probable* que $a^{p–1}$ soit congru à 1 modulo $p$ pour une valeur arbitraire de a. \n",
    "\n",
    "On parle alors de nombre *pseudo-premiers*\n",
    "\n",
    "> En utilisant des tirages aléatoires, donner un entier *pseudo-premier* à 6 chiffres.\n",
    "\n",
    "On prendra $a=2$ ou $a=3$ pour les tests.\n",
    "\n",
    "Vérifier que le nombre *pseudo-premier* est ou n'est pas premier avec le théorème de fermat."
   ]
  },
  {
   "cell_type": "code",
   "execution_count": 39,
   "metadata": {},
   "outputs": [
    {
     "name": "stdout",
     "output_type": "stream",
     "text": [
      "test non passé pour a=7, on a 7^5394826800=4624137259 mod(5394826801)\n",
      "False\n",
      "nombre essais nécéssaires :  3 et nombre pseudo premier trouvé : 716951\n",
      " 716951 est un nombre premier\n"
     ]
    }
   ],
   "source": [
    "from random import randint\n",
    "\n",
    "def check_pseudo_primal(p):\n",
    "    return pow(2,p-1,p)==1\n",
    "\n",
    "def test(p):\n",
    "    for a in range(1,p):\n",
    "        if pow(a,p-1,p)  !=1 :\n",
    "            print(f\"test non passé pour a={a}, on a {a}^{p-1}={pow(a,p-1,p)} mod({p})\")\n",
    "            return False\n",
    "    return True\n",
    "\n",
    "print(test(5394826801))\n",
    "\n",
    "t=False\n",
    "nb_essai=0\n",
    "while (not t and nb_essai<1000):\n",
    "    alea=randint(10**5, 10**6-1)\n",
    "    nb_essai+=1\n",
    "    if check_pseudo_primal(alea):\n",
    "        t= not t\n",
    "        print(f\"nombre essais nécessaires :  {nb_essai} et nombre pseudo premier trouvé : {alea}\")\n",
    "if nb_essai<1000 :\n",
    "    if test(alea):\n",
    "        print(f\" {alea} est un nombre premier\")\n",
    "    else :\n",
    "        print(f\" {alea} n'est pas un nombre premier\")"
   ]
  },
  {
   "cell_type": "code",
   "execution_count": null,
   "metadata": {},
   "outputs": [],
   "source": []
  }
 ],
 "metadata": {
  "kernelspec": {
   "display_name": "Python 3",
   "language": "python",
   "name": "python3"
  },
  "language_info": {
   "codemirror_mode": {
    "name": "ipython",
    "version": 3
   },
   "file_extension": ".py",
   "mimetype": "text/x-python",
   "name": "python",
   "nbconvert_exporter": "python",
   "pygments_lexer": "ipython3",
   "version": "3.8.5"
  }
 },
 "nbformat": 4,
 "nbformat_minor": 5
}
