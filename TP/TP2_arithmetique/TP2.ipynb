{
 "cells": [
  {
   "cell_type": "markdown",
   "metadata": {},
   "source": [
    " <table style=\"width:100%;\">\n",
    "    <tr style=\"display:none\">\n",
    "        <td></td>\n",
    "        <td></td>\n",
    "    </tr>\n",
    "    <tr style=\"height:3em\">\n",
    "        <td style=\"width:20%;align:left\"><img src=\"iut_bordeaux.jpg\"></td>\n",
    "        <td style=\"width:60%;font: bold 2em 'Fira Sans', serif;text-align:center\"> TP  2<br>Euclide et exponentiation modulaire</td>\n",
    "        <td style=\"width:20%;font: bold 1.3em 'Fira Sans', serif;vertical-align:top;\">R01.06<i></i></td>\n",
    "    </tr>\n",
    "</table>"
   ]
  },
  {
   "cell_type": "markdown",
   "metadata": {},
   "source": [
    "## Exponentiation modulaire\n",
    "\n",
    "Nous avons souvent besoin de calculer rapidement des puissances modulo $m$. Pour cela il existe une méthode beaucoup plus efficace que de calculer d’abord $a^k$ puis de le réduire modulo $m$. Il faut garder à l’esprit que les entiers manipulés ont parfois des dizaines voire des centaines de chiffres."
   ]
  },
  {
   "cell_type": "markdown",
   "metadata": {},
   "source": [
    "Commençons par donner une fonction naïve de calcul d'exponentiation modulaire. Elle sera utilisée à la fin de ce TP."
   ]
  },
  {
   "cell_type": "code",
   "execution_count": 1,
   "metadata": {},
   "outputs": [],
   "source": [
    "def naive(p,n,m):\n",
    "    return (p**n)%m"
   ]
  },
  {
   "cell_type": "markdown",
   "metadata": {},
   "source": [
    "#### Un premier exemple d'exponentiation rapide: $5^{11} (14)$\n",
    "\n",
    "L’idée est de seulement calculer $5,5^2,5^4,5^8$ ...et de réduire modulo $n$ à chaque fois. \n",
    "\n",
    "Pour cela on remarque que $11 = 2^3+2^1+2^0=8 + 2 + 1$ en décomposant uniquement avec des puissances de 2, donc\n",
    "on calcule les $5^{2^i}(14)$ :\n",
    "\n",
    "$5\\equiv5 (14)$\n",
    "\n",
    "$5^2 \\equiv 25\\equiv 11 (14)$\n",
    "\n",
    "$5^4 \\equiv 5^2\\times 5^2 \\equiv 11×11\\equiv 121\\equiv 9 (14) $\n",
    "\n",
    "$5^8 \\equiv 5^4 \\times 5^4 \\equiv 9×9\\equiv 81\\equiv 11 (14)$\n",
    "\n",
    "A chaque étape est effectuée une multiplication modulaire. \n",
    "\n",
    "Conséquence :\n",
    "$5^{11} \\equiv 5^{8+2+1}(14)\\equiv5^8 \\times 5^2 \\times 5(14)$\n",
    "\n",
    "$5^{11} \\equiv 11 \\times 11 \\times 5 (14)\\equiv 11 \\times 55 \\equiv 11 \\times 13 \\equiv 143 \\equiv 3(14).$\n",
    "\n",
    "Nous obtenons donc un calcul de $5^{11} ( 14)$ en 5 opérations au lieu de $10$ si on avait fait 5×5×5... et surtout avec des nombres plus petits à manipuler."
   ]
  },
  {
   "cell_type": "markdown",
   "metadata": {},
   "source": [
    "En fait, cette technique est basée sur la décomposition en base 2 de l'exposant.\n",
    "\n",
    "Voici un autre exemple à compléter manuellement **dans ce fichier** :\n",
    "\n",
    "Calculer $17^{154} (100)$. \n",
    "\n",
    "Tout d’abord on décompose l’exposant k = 154 en base 2 : \n",
    "\n",
    "> $(154)_{10}=$\n",
    "\n",
    "On en déduit la décompostion en somme de puissance de 2.\n",
    "\n",
    "> $154 =$\n",
    "\n",
    "Ensuite on calcule $17,17^2,17^4,17^8,... ( 100)$\n",
    "\n",
    ">$$\n",
    "\\begin{align*}\n",
    "17 & \\equiv  \\\\\n",
    "17^2 & \\equiv  \\\\\n",
    "17^4 & \\equiv \\\\\n",
    "17^8  & \\equiv \\\\\n",
    "17^{16} & \\equiv \\\\\n",
    "17^{32} & \\equiv \\\\\n",
    "17^{64}  & \\equiv \\\\\n",
    "17^{128} & \\equiv \\\\\n",
    "\\end{align*}\n",
    "$$"
   ]
  },
  {
   "cell_type": "markdown",
   "metadata": {},
   "source": [
    "Il ne reste qu’à rassembler :\n",
    "\n",
    "> $17^{154} \\equiv $"
   ]
  },
  {
   "cell_type": "markdown",
   "metadata": {},
   "source": [
    "1. Ecrire une fonction `expo` qui prend en paramètre trois entier $p,n,m$ et renvoie une liste contenant les $p^{2^i}[m]$ pour $i$ entre $0$ et $n$.  \n",
    "Elle utilisera obligatoirement la technique vue ci-dessus."
   ]
  },
  {
   "cell_type": "code",
   "execution_count": 2,
   "metadata": {},
   "outputs": [
    {
     "name": "stdout",
     "output_type": "stream",
     "text": [
      "[]\n",
      "[]\n"
     ]
    }
   ],
   "source": [
    "def expo(p,n,m):\n",
    "    liste=[]\n",
    "\n",
    "    return liste;\n",
    "\n",
    "print(expo(5,3,14))\n",
    "print(expo(17,7,100))"
   ]
  },
  {
   "cell_type": "markdown",
   "metadata": {},
   "source": [
    "2. Ecrire une fonction `binaire` qui prend comme paramètre un nombre en décimal et retourne sa décomposition en binaire (sous forme de liste)"
   ]
  },
  {
   "cell_type": "code",
   "execution_count": 39,
   "metadata": {},
   "outputs": [],
   "source": [
    "def binaire(p):\n",
    "    liste=[]\n",
    "\n",
    "    return liste\n",
    "\n",
    "binaire(154)"
   ]
  },
  {
   "cell_type": "markdown",
   "metadata": {},
   "source": [
    "3. Ecrire une fonction `exponentiation_rapide(p,n,m)` qui retourne $p^n[m]$"
   ]
  },
  {
   "cell_type": "code",
   "execution_count": 1,
   "metadata": {},
   "outputs": [
    {
     "data": {
      "text/plain": [
       "0"
      ]
     },
     "execution_count": 1,
     "metadata": {},
     "output_type": "execute_result"
    }
   ],
   "source": [
    "def exponentiation_rapide(p,n,m):\n",
    "    \n",
    "    return 0\n",
    "\n",
    "exponentiation_rapide(5,11,14)\n"
   ]
  },
  {
   "cell_type": "markdown",
   "metadata": {},
   "source": [
    "Python a déjà une fonction `pow` qui permet le calcul d'une exponentiation modulaire.\n",
    "\n",
    "Comparer le temps de calcul de votre fonction , de `pow` et de la fonction naïve pour :\n",
    "\n",
    "```python\n",
    "n=24433  \n",
    "p=123121  \n",
    "m=72 \n",
    "```\n"
   ]
  },
  {
   "cell_type": "code",
   "execution_count": 41,
   "metadata": {},
   "outputs": [],
   "source": [
    "import time\n",
    "\n",
    "n=24433\n",
    "p=123121\n",
    "m=72\n"
   ]
  },
  {
   "cell_type": "markdown",
   "metadata": {},
   "source": [
    "## Algorithme d'Euclide\n",
    "\n",
    "On rappelle l’algorithme d’Euclide :\n",
    "\n",
    "Soit $a$ et $b$ deux entiers naturels dont l’un au moins est non nul. Le PGCD des nombres a et b peut être obtenu par l’algorithme suivant :\n",
    "\n",
    "* On pose $r_0 = a, r_1 = b \\text{ et } k = 1$. \n",
    "\n",
    "* Tant que $r_k \\neq 0$  \n",
    "    On effectue la division euclidienne de $r_{k−1}$ par $r_k$.  \n",
    "    En notant $q_k$ le quotient et $r_{k+1}$\n",
    "le reste, on obtient :\n",
    "$$r_{k−1} = r_k\\times q_k + r_{k+1} \\text{ avec } 0 \\leq  r_{k+1} < r_k$$\n",
    "* On incrémente $k$ de $1$.\n",
    "\n",
    "En effectuant cet algorithme, il existera toujours $n \\geq 0$ tel que $r_{n+1} = 0$, ce qui assure que\n",
    "l’algorithme s’arrête. \n",
    "\n",
    "On a alors $PGCD(a,b) = r_n$.\n",
    "\n",
    "\n",
    "1 . Créer une fonction PGCD prenant en entrée deux entiers naturels $a$ et $b$ et qui renvoie $PGCD(a,b)$  en procédant comme l’algorithme d’Euclide.\n",
    "* On utilisera une liste R contenant les valeurs des $r_k$.\n",
    "* On affichera les étapes de manière à pouvoir comparer à une exécution “à la main” de l’algorithme. "
   ]
  },
  {
   "cell_type": "code",
   "execution_count": 42,
   "metadata": {},
   "outputs": [],
   "source": [
    "def PGCD(a,b):\n",
    "    R=[]\n",
    "\n",
    "    return\n",
    "\n",
    "PGCD(13,3)\n",
    "    "
   ]
  },
  {
   "cell_type": "markdown",
   "metadata": {},
   "source": [
    "2 . Créer une fonction $PPCM$ qui calcule le $PPCM$ de deux entiers non nuls $a$ et $b$."
   ]
  },
  {
   "cell_type": "code",
   "execution_count": 43,
   "metadata": {},
   "outputs": [],
   "source": [
    "def PPCM(a,b):\n",
    "    \n",
    "    return \n",
    "\n",
    "PPCM(12,5)"
   ]
  },
  {
   "cell_type": "markdown",
   "metadata": {},
   "source": [
    "3 . Déterminer les couples $(a, b)$ d’entiers naturels $a \\leq  b$ tels que $a + b = 256$ et $PGCD(a,b) = 16$\n",
    "\n",
    "Retouver ces couples par une démonstration."
   ]
  },
  {
   "cell_type": "code",
   "execution_count": 45,
   "metadata": {},
   "outputs": [
    {
     "name": "stdout",
     "output_type": "stream",
     "text": [
      "[]\n"
     ]
    }
   ],
   "source": []
  },
  {
   "cell_type": "markdown",
   "metadata": {},
   "source": [
    "votre démonstration ici\n",
    "\n"
   ]
  },
  {
   "cell_type": "markdown",
   "metadata": {},
   "source": [
    "4 . Résoudre dans $\\mathbb{N^2}$\n",
    "\n",
    "$\n",
    "PPCM(x,y)+11\\times PGCD(x,y)=203\n",
    "$"
   ]
  },
  {
   "cell_type": "code",
   "execution_count": null,
   "metadata": {},
   "outputs": [],
   "source": []
  }
 ],
 "metadata": {
  "kernelspec": {
   "display_name": "Python 3",
   "language": "python",
   "name": "python3"
  },
  "language_info": {
   "codemirror_mode": {
    "name": "ipython",
    "version": 3
   },
   "file_extension": ".py",
   "mimetype": "text/x-python",
   "name": "python",
   "nbconvert_exporter": "python",
   "pygments_lexer": "ipython3",
   "version": "3.8.5"
  },
  "vscode": {
   "interpreter": {
    "hash": "aee8b7b246df8f9039afb4144a1f6fd8d2ca17a180786b69acc140d282b71a49"
   }
  }
 },
 "nbformat": 4,
 "nbformat_minor": 5
}
