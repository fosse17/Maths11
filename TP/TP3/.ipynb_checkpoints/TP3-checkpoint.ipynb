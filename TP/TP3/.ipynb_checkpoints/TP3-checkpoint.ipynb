{
 "cells": [
  {
   "cell_type": "markdown",
   "metadata": {},
   "source": [
    " <table style=\"width:100%;\">\n",
    "    <tr style=\"display:none\">\n",
    "        <td></td>\n",
    "        <td></td>\n",
    "    </tr>\n",
    "    <tr style=\"height:3em\">\n",
    "        <td style=\"width:20%;align:left\"><img src=\"iut_bordeaux.jpg\"></td>\n",
    "        <td style=\"width:60%;font: bold 2em 'Fira Sans', serif;text-align:center\"> TP  3<br>Chiffrement et PGCD</td>\n",
    "        <td style=\"width:20%;font: bold 1.3em 'Fira Sans', serif;vertical-align:top;\">R01.06<i></i></td>\n",
    "    </tr>\n",
    "</table>"
   ]
  },
  {
   "cell_type": "markdown",
   "metadata": {},
   "source": [
    "# Un exemple de chiffrement symétrique : XOR\n",
    "\n",
    "Le XOR (OU exclusif $\\oplus$) est très utilisé dans les protocoles de chiffrement symétrique. On utilise sa propriété : \n",
    "$$(A\\oplus B)\\oplus A=B$$\n",
    "\n",
    "1 . Démontrer la propriété précédente."
   ]
  },
  {
   "cell_type": "markdown",
   "metadata": {},
   "source": [
    "#### Démonstration "
   ]
  },
  {
   "cell_type": "markdown",
   "metadata": {},
   "source": [
    "Nous allons programmer un protocole de chiffrement symétrique (c'est à dire que la même clé sert au chiffrement et au déchiffrement)  utilisant le $\\oplus$.\n",
    "\n",
    "On souhaite chiffrer (encoder) un message (par exemple une chaîne de caractères) à l’aide d’une clé, qui peut aussi être une chaîne de caractères.\n",
    "\n",
    "On supposera que seuls des caractères `ASCII` sont utilisés (pas d’utf-8 ou plus généralement d’Unicode).\n",
    "\n",
    "2 . Ecrire une fonction `dec2bin(n)` qui prend comme paramètre un entier en décimal (inférieur à 255) et retourne sous forme d'une chaine de caractère le binaire associé sur 8 bits\n",
    "\n",
    "On pourra utiliser la fonction `str`.\n",
    "\n",
    "#### Exemple :\n",
    "\n",
    "`dec2bin(3)` retourne la chaine de caractère `00000011` "
   ]
  },
  {
   "cell_type": "code",
   "execution_count": null,
   "metadata": {},
   "outputs": [],
   "source": [
    "def dec2bin(n):\n",
    "    \n",
    "    \n",
    "    return "
   ]
  },
  {
   "cell_type": "markdown",
   "metadata": {},
   "source": [
    "3 . Ecrire la fonction `text2bin(texte)` qui convertit la chaine de caractères passée en paramètre en une chaine binaire et retourne cette chaine binaire. Chaque caractère sera représenté par son code ASCII en binaire sur un octet.\n",
    "\n",
    "On pourra utiliser la fonction `ord`.\n",
    "\n",
    "#### Exemple : \n",
    "\n",
    "`text2bin(\"iut bordeaux\")` doit retourner la chaine : \n",
    "\n",
    "011010010111010101110100001000000110001001101111011100100110010001100101011000010111010101111000"
   ]
  },
  {
   "cell_type": "code",
   "execution_count": null,
   "metadata": {},
   "outputs": [],
   "source": [
    "def text2bin(texte):\n",
    "    chaine=\"\"\n",
    "    \n",
    "    return chaine\n",
    "\n"
   ]
  },
  {
   "cell_type": "markdown",
   "metadata": {},
   "source": [
    "4 . Ecrire le corps de la fonction `bin2text(binaire)`  qui convertit la chaine *binaire* passée en paramètre composée d'octets binaires représentant des caractères codés en ASCII en une chaine de caractères et retourne cette chaine de caractères.\n",
    "\n",
    "On pourra utiliser la fonction `chr`. "
   ]
  },
  {
   "cell_type": "code",
   "execution_count": 1,
   "metadata": {},
   "outputs": [
    {
     "name": "stdout",
     "output_type": "stream",
     "text": [
      "\n"
     ]
    }
   ],
   "source": [
    "def bin2text(chaine_binaire):\n",
    "    chaine=\"\"\n",
    "\n",
    "    return chaine\n",
    "                \n",
    "print(bin2text(\"011010010111010101110100001000000110001001101111011100100110010001100101011000010111010101111000\"))"
   ]
  },
  {
   "cell_type": "markdown",
   "metadata": {},
   "source": [
    "5 . Ecrire le corps de la fonction `chiffre_xor(binaire,cle)` qui chiffre la chaine binaire passée en paramètre avec la cle binaire passée en paramètre en effectuant l'opération XOR bit à bit entre la chaine binaire et la cle binaire (répétée).  La fonction doit retourner la chaine ainsi chiffrée."
   ]
  },
  {
   "cell_type": "code",
   "execution_count": null,
   "metadata": {},
   "outputs": [],
   "source": [
    "def chiffre_xor(binaire,cle):\n",
    "    chaine=\"\"\n",
    "    \n",
    "    \n",
    "    \n",
    "    return chaine\n"
   ]
  },
  {
   "cell_type": "markdown",
   "metadata": {},
   "source": [
    "6 . Application avec ouverture d'un fichier.\n",
    "\n",
    "* Ouvrir le fichier `lorem.txt` et en récupérer le contenu dans une variable `message`.\n",
    "\n",
    "* Convertir le texte `message` en binaire et stocker le résultat dans une variable `message_binaire`\n",
    "\n",
    "* Chiffrer `message_binaire` en utilisant une clé sur 8 bits. Stocker le résultat dans la chaine `message_binaire_chiffre` \n",
    "\n",
    "* Concaténer la clé et `message_binaire_chiffre` puis convertir l'ensemble en une chaine de caractère que l'on sauvegardera dans un fichier `lorem_chiffre.txt`.\n",
    "\n",
    "* Envoyer par mail ce fichier à un autre étudiant qui doit être capable de le déchiffrer. "
   ]
  },
  {
   "cell_type": "markdown",
   "metadata": {},
   "source": [
    "## PGCD\n",
    "\n",
    "1 - Écrire une fonction `facteurspremiers(n)` qui prend en argument un entier, et qui retourne la décomposition en facteurs premiers de ce nombre sous forme d'une liste.  \n",
    "\n",
    "Si le nombre est égal à 1, la liste contiendra 1.  \n",
    "Sinon si le nombre est supérieur ou égal à 2, ne pas faire apparaître 1 dans la décomposition en facteurs premiers. \n",
    "\n",
    "```python\n",
    "print(facteurspremiers(300))\n",
    "[2, 2, 3, 5, 5]\n",
    "```"
   ]
  },
  {
   "cell_type": "code",
   "execution_count": null,
   "metadata": {},
   "outputs": [],
   "source": [
    "def facteurspremiers(n):\n",
    "    \n",
    "    return "
   ]
  },
  {
   "cell_type": "markdown",
   "metadata": {},
   "source": [
    "En utilisant la fonction `count`, écrire la fonction `facteur_premier_factorisé`\n",
    "\n",
    "exemple :\n",
    "\n",
    "```python\n",
    "print(facteur_premier_factorisé(300))\n",
    "[[2, 2], [3, 1], [5, 2]]\n",
    "```\n"
   ]
  },
  {
   "cell_type": "code",
   "execution_count": null,
   "metadata": {},
   "outputs": [],
   "source": [
    "def facteur_premier_factorisé(n):\n",
    "    \n",
    "    return\n"
   ]
  },
  {
   "cell_type": "markdown",
   "metadata": {},
   "source": [
    "2 - En utilisant la fonction `facteur_premier_factorisé`, écrire une fonction `PGCD_facteur` puis une fonction `calcul_PGCD` pour le PGCD de deux nombres.\n",
    "\n",
    "```python\n",
    "print(PGCD_facteur(40,770))\n",
    "[[2, 1], [5, 1]]\n",
    "print(calcul_PGCD(PGCD_facteur(40,770)))\n",
    "10\n",
    "```"
   ]
  },
  {
   "cell_type": "code",
   "execution_count": null,
   "metadata": {},
   "outputs": [],
   "source": [
    "def PGCD_facteur(n1,n2):\n",
    "    return\n",
    "\n",
    "\n",
    "def calcul_PGCD(L):\n",
    "    return\n",
    "\n",
    "\n",
    "\n",
    "\n"
   ]
  },
  {
   "cell_type": "markdown",
   "metadata": {},
   "source": [
    "4 - On rappelle que pour trois entiers $a,b,c$ , on a :\n",
    "$$PGCD(a,b,c)=PGCD(a,PGCD(b,c))$$\n",
    "En utilisant cette propriété, écrire une fonction `PGCD_liste` qui prend comme paramètre une liste d'entiers et retourne leur PGCD.\n",
    "\n",
    "```python\n",
    "L=[8,6,40,730]\n",
    "PGCD_liste(L)\n",
    "2\n",
    "```\n"
   ]
  },
  {
   "cell_type": "code",
   "execution_count": null,
   "metadata": {
    "scrolled": false
   },
   "outputs": [],
   "source": [
    "def PGCD_liste(L):\n",
    "    return\n"
   ]
  }
 ],
 "metadata": {
  "interpreter": {
   "hash": "aee8b7b246df8f9039afb4144a1f6fd8d2ca17a180786b69acc140d282b71a49"
  },
  "kernelspec": {
   "display_name": "Python 3",
   "language": "python",
   "name": "python3"
  },
  "language_info": {
   "codemirror_mode": {
    "name": "ipython",
    "version": 3
   },
   "file_extension": ".py",
   "mimetype": "text/x-python",
   "name": "python",
   "nbconvert_exporter": "python",
   "pygments_lexer": "ipython3",
   "version": "3.8.5"
  }
 },
 "nbformat": 4,
 "nbformat_minor": 5
}
