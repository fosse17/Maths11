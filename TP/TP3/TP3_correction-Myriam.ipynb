{
 "cells": [
  {
   "cell_type": "markdown",
   "metadata": {
    "slideshow": {
     "slide_type": "slide"
    }
   },
   "source": [
    " <table style=\"width:100%;\">\n",
    "    <tr style=\"display:none\">\n",
    "        <td></td>\n",
    "        <td></td>\n",
    "    </tr>\n",
    "    <tr style=\"height:3em\">\n",
    "        <td style=\"width:20%;align:left\"><img src=\"iut_bordeaux.jpg\"></td>\n",
    "        <td style=\"width:60%;font: bold 2em 'Fira Sans', serif;text-align:center\"> TP  3<br>Chiffrement et PGCD</td>\n",
    "        <td style=\"width:20%;font: bold 1.3em 'Fira Sans', serif;vertical-align:top;\">R01.06<i></i></td>\n",
    "    </tr>\n",
    "</table>"
   ]
  },
  {
   "cell_type": "markdown",
   "metadata": {
    "slideshow": {
     "slide_type": "slide"
    }
   },
   "source": [
    "# Un exemple de chiffrement symétrique : XOR\n",
    "\n",
    "Le XOR (OU exclusif $\\oplus$) est très utilisé dans les protocoles de chiffrement symétrique. On utilise sa propriété : \n",
    "$$(A\\oplus B)\\oplus A=B$$\n",
    "\n",
    "1 . Démontrer la propriété précédente."
   ]
  },
  {
   "cell_type": "markdown",
   "metadata": {
    "slideshow": {
     "slide_type": "fragment"
    }
   },
   "source": [
    "$\\begin{aligned}\n",
    "(A\\oplus B)\\oplus A&=A\\oplus B\\oplus A\\qquad \\text{associativité}\\\\\n",
    "&=A \\oplus A \\oplus B\\qquad \\text{commutativité}\\\\\n",
    "&=0 \\oplus B\\\\\n",
    "&=B\n",
    "\\end{aligned}$\n"
   ]
  },
  {
   "cell_type": "markdown",
   "metadata": {
    "slideshow": {
     "slide_type": "slide"
    }
   },
   "source": [
    "Nous allons programmer un protocole de chiffrement symétrique (c'est à dire que la même clé sert au chiffrement et au déchiffrement)  utilisant le $\\oplus$.\n",
    "\n",
    "On souhaite chiffrer (encoder) un message (par exemple une chaîne de caractères) à l’aide d’une clé, qui peut aussi être une chaîne de caractères.\n",
    "\n",
    "On supposera que seuls des caractères `ASCII` sont utilisés (pas d’utf-8 ou plus généralement d’Unicode).\n",
    "\n",
    "2 . Ecrire une fonction `dec2bin(n)` qui prend comme paramètre un entier en décimal (inférieur à 255) et retourne sous forme d'une chaine de caractère le binaire associé sur 8 bits\n",
    "\n",
    "On pourra utiliser la fonction `str`.\n",
    "\n",
    "#### Exemple :\n",
    "\n",
    "`dec2bin(3)` retourne la chaine de caractère `00000011` "
   ]
  },
  {
   "cell_type": "code",
   "execution_count": 4,
   "metadata": {},
   "outputs": [
    {
     "data": {
      "text/plain": [
       "[1, 0, 0, 1, 1, 0, 1, 0]"
      ]
     },
     "execution_count": 4,
     "metadata": {},
     "output_type": "execute_result"
    }
   ],
   "source": [
    "def binaire(n):\n",
    "    liste=[]\n",
    "    while n>0:\n",
    "        r=n%2\n",
    "        n=n//2\n",
    "        liste.append(r)\n",
    "    liste.reverse()\n",
    "    return liste\n",
    "\n",
    "binaire(154)"
   ]
  },
  {
   "cell_type": "code",
   "execution_count": 2,
   "metadata": {
    "slideshow": {
     "slide_type": "slide"
    }
   },
   "outputs": [
    {
     "data": {
      "text/plain": [
       "'00000011'"
      ]
     },
     "execution_count": 2,
     "metadata": {},
     "output_type": "execute_result"
    }
   ],
   "source": [
    "def dec2bin(n):\n",
    "    s = \"\"\n",
    "    while n>0:\n",
    "        n,r=n//2,n%2\n",
    "        s=str(r)+s      \n",
    "    s=s.zfill(8)         #while(len(s)<8):                                 \n",
    "    return s             #s=\"0\"+s             \n",
    "\n",
    "dec2bin(3)"
   ]
  },
  {
   "cell_type": "markdown",
   "metadata": {
    "slideshow": {
     "slide_type": "slide"
    }
   },
   "source": [
    "3 . Ecrire la fonction `text2bin(texte)` qui convertit la chaine de caractères passée en paramètre en une chaine binaire et retourne cette chaine binaire. Chaque caractère sera représenté par son code ASCII en binaire sur un octet.\n",
    "\n",
    "On pourra utiliser la fonction `ord`.\n",
    "\n",
    "#### Exemple : \n",
    "\n",
    "`text2bin(\"iut bordeaux\")` doit retourner la chaine : \n",
    "\n",
    "011010010111010101110100001000000110001001101111011100100110010001100101011000010111010101111000"
   ]
  },
  {
   "cell_type": "code",
   "execution_count": 28,
   "metadata": {
    "slideshow": {
     "slide_type": "fragment"
    }
   },
   "outputs": [
    {
     "data": {
      "text/plain": [
       "65"
      ]
     },
     "execution_count": 28,
     "metadata": {},
     "output_type": "execute_result"
    }
   ],
   "source": [
    "ord(\"A\")"
   ]
  },
  {
   "cell_type": "code",
   "execution_count": 29,
   "metadata": {
    "slideshow": {
     "slide_type": "fragment"
    }
   },
   "outputs": [
    {
     "data": {
      "text/plain": [
       "'A'"
      ]
     },
     "execution_count": 29,
     "metadata": {},
     "output_type": "execute_result"
    }
   ],
   "source": [
    "chr(65)"
   ]
  },
  {
   "cell_type": "code",
   "execution_count": 3,
   "metadata": {
    "slideshow": {
     "slide_type": "slide"
    }
   },
   "outputs": [
    {
     "name": "stdout",
     "output_type": "stream",
     "text": [
      "011010010111010101110100001000000110001001101111011100100110010001100101011000010111010101111000\n"
     ]
    }
   ],
   "source": [
    "def text2bin(texte):\n",
    "    chaine=\"\"\n",
    "    for l in texte:\n",
    "        b=ord(l)\n",
    "        chaine+=dec2bin(b)\n",
    "    return chaine\n",
    "\n",
    "binaire =text2bin(\"iut bordeaux\")\n",
    "print(binaire)"
   ]
  },
  {
   "cell_type": "markdown",
   "metadata": {
    "slideshow": {
     "slide_type": "slide"
    }
   },
   "source": [
    "4 . Ecrire le corps de la fonction `bin2text(binaire)`  qui convertit la chaine 'binaire' passée en paramètre composée d'octets binaires représentant des caractères codés en ASCII en une chaine de caractères et retourne cette chaine de caractères.\n",
    "\n",
    "On pourra utiliser la fonction `chr` "
   ]
  },
  {
   "cell_type": "code",
   "execution_count": 33,
   "metadata": {
    "slideshow": {
     "slide_type": "fragment"
    }
   },
   "outputs": [
    {
     "data": {
      "text/plain": [
       "3"
      ]
     },
     "execution_count": 33,
     "metadata": {},
     "output_type": "execute_result"
    }
   ],
   "source": [
    "int(\"00000011\",2)"
   ]
  },
  {
   "cell_type": "code",
   "execution_count": 4,
   "metadata": {
    "slideshow": {
     "slide_type": "fragment"
    }
   },
   "outputs": [
    {
     "name": "stdout",
     "output_type": "stream",
     "text": [
      "iut bordeaux\n"
     ]
    }
   ],
   "source": [
    "def bin2text(binaire):\n",
    "    chaine=\"\"\n",
    "    for b in range(0,len(binaire),8):\n",
    "        a=chr(int(binaire[b:b+8],2))\n",
    "        chaine+=a\n",
    "    return chaine\n",
    "                \n",
    "print(bin2text(\"011010010111010101110100001000000110001001101111011100100110010001100101011000010111010101111000\"))"
   ]
  },
  {
   "cell_type": "markdown",
   "metadata": {
    "slideshow": {
     "slide_type": "slide"
    }
   },
   "source": [
    "5 . Ecrire le corps de la fonction `chiffre_xor(binaire,cle)` qui chiffre la chaine *binaire passée* en paramètre avec la clé binaire passée en paramètre en effectuant l'opération XOR bit à bit entre la chaine binaire et la clé binaire (répétée). La fonction doit retourner la chaine ainsi chiffrée."
   ]
  },
  {
   "cell_type": "code",
   "execution_count": 5,
   "metadata": {
    "slideshow": {
     "slide_type": "fragment"
    }
   },
   "outputs": [
    {
     "name": "stdout",
     "output_type": "stream",
     "text": [
      "001101000000000010100011011111010001011110111000001011110001000110110010001111000000000010101111\n",
      "4\u0000£}\u0017¸/\u0011²<\u0000¯\n"
     ]
    }
   ],
   "source": [
    "def chiffre_xor(binaire,cle):\n",
    "    chaine=\"\"\n",
    "    for b in range(0,len(binaire)): \n",
    "        a=int(binaire[b])^int(cle[b%len(cle)])\n",
    "        chaine+=str(a)\n",
    "    return chaine\n",
    "\n",
    "\n",
    "cle='010111'\n",
    "ch_binaire=\"011010010111010101110100001000000110001001101111011100100110010001100101011000010111010101111000\"\n",
    "crypt= chiffre_xor(ch_binaire,cle)\n",
    "print(crypt)\n",
    "chaine_crypt=bin2text(crypt)\n",
    "print(chaine_crypt)\n"
   ]
  },
  {
   "cell_type": "code",
   "execution_count": 14,
   "metadata": {
    "slideshow": {
     "slide_type": "slide"
    }
   },
   "outputs": [
    {
     "name": "stdout",
     "output_type": "stream",
     "text": [
      "4\u0000£}\u0017¸/\u0011²<\u0000¯\n",
      "True\n",
      "011010010111010101110100001000000110001001101111011100100110010001100101011000010111010101111000\n",
      "iut bordeaux\n"
     ]
    }
   ],
   "source": [
    "cle='010111'\n",
    "ch_binaire=\"011010010111010101110100001000000110001001101111011100100110010001100101011000010111010101111000\"\n",
    "crypt= chiffre_xor(ch_binaire,cle)\n",
    "chaine_crypt=bin2text(crypt)\n",
    "print(chaine_crypt)\n",
    "\n",
    "decrypt=chiffre_xor(crypt,cle)\n",
    "print(decrypt == ch_binaire)\n",
    "print(decrypt)\n",
    "print(bin2text(decrypt))\n"
   ]
  },
  {
   "cell_type": "markdown",
   "metadata": {
    "slideshow": {
     "slide_type": "slide"
    }
   },
   "source": [
    "6 . Application avec ouverture d'un fichier.\n",
    "\n",
    "* Ouvrir le fichier `lorem.txt` et en récupérer le contenu dans une variable\n",
    "`message`.\n",
    "\n",
    "* Convertir le texte `message` en binaire et stocker le résultat dans une variable `message_binaire`\n",
    "\n",
    "* Chiffrer `message_binaire` en utilisant une clé sur 8 bits. Stocker le résultat dans la chaine `message_binaire_chiffre` \n",
    "\n",
    "* Concaténer la clé et `message_binaire_chiffre` puis convertir l'ensemble en une chaine de caractère que l'on sauvegardera dans un fichier `lorem_chiffre.txt`.\n",
    "\n",
    "* Envoyer par mail ce fichier à un autre étudiant qui doit être capable de le déchiffrer. "
   ]
  },
  {
   "cell_type": "code",
   "execution_count": 17,
   "metadata": {
    "slideshow": {
     "slide_type": "slide"
    }
   },
   "outputs": [
    {
     "name": "stdout",
     "output_type": "stream",
     "text": [
      "Lorem Ipsum is simply dummy text of the printing and typesetting industry. Lorem Ipsum has been the industry's standard dummy text ever since the 1500s, when an unknown printer took a galley of type and scrambled it to make a type specimen book. It has survived not only five centuries, but also the leap into electronic typesetting, remaining essentially unchanged. It was popularised in the 1960s with the release of Letraset sheets containing Lorem Ipsum passages, and more recently with desktop publishing software like Aldus PageMaker including versions of Lorem Ipsum.\n"
     ]
    }
   ],
   "source": [
    "f = open('lorem.txt','r')\n",
    "message = f.read()\n",
    "print(message)\n",
    "f.close()\n"
   ]
  },
  {
   "cell_type": "code",
   "execution_count": 20,
   "metadata": {
    "slideshow": {
     "slide_type": "slide"
    }
   },
   "outputs": [
    {
     "name": "stdout",
     "output_type": "stream",
     "text": [
      "\n",
      "\u00130-:2\u0016/,*26,,62/3&;*22&+:'+09+7:/-61+618>1;+&/:,:++61861;*,+-&q\u00130-:2\u0016/,*27>,=::1+7:61;*,+-&x,,+>1;>-;;*22&+:'+:):-,61<:+7:njoo,s(7:1>1*1410(1/-61+:-+004>8>33:&09+&/:>1;,<->2=3:;6++02>4:>+&/:,/:<62:1=004q\u0016+7>,,*-)6):;10+013&96):<:1+*-6:,s=*+>3,0+7:3:>/61+0:3:<+-016<+&/:,:++618s-:2>61618:,,:1+6>33&*1<7>18:;q\u0016+(>,/0/*3>-6,:;61+7:nfio,(6+7+7:-:3:>,:09\u0013:+->,:+,7::+,<01+>61618\u00130-:2\u0016/,*2/>,,>8:,s>1;20-:-:<:1+3&(6+7;:,4+0//*=36,7618,09+(>-:364:\u001e",
      "3;*,\u000f>8:\u0012>4:-61<3*;618):-,601,09\u00130-:2\u0016/,*2q\n",
      "\n",
      "Lorem Ipsum is simply dummy text of the printing and typesetting industry. Lorem Ipsum has been the industry's standard dummy text ever since the 1500s, when an unknown printer took a galley of type and scrambled it to make a type specimen book. It has survived not only five centuries, but also the leap into electronic typesetting, remaining essentially unchanged. It was popularised in the 1960s with the release of Letraset sheets containing Lorem Ipsum passages, and more recently with desktop publishing software like Aldus PageMaker including versions of Lorem Ipsum.\n"
     ]
    }
   ],
   "source": [
    "cle=\"01011111\"\n",
    "\n",
    "## Test des fonctions\n",
    "texte_binaire=text2bin(message)\n",
    "texte_crypt=chiffre_xor(texte_binaire,cle)\n",
    "print()\n",
    "print(bin2text(texte_crypt))\n",
    "\n",
    "print()\n",
    "decrypt=chiffre_xor(texte_crypt,cle)\n",
    "print(bin2text(decrypt))"
   ]
  },
  {
   "cell_type": "markdown",
   "metadata": {
    "slideshow": {
     "slide_type": "slide"
    }
   },
   "source": [
    "## PGCD\n",
    "\n",
    "1 - Écrire une fonction `facteurspremiers(n)` qui prend en argument un entier, et qui retourne la décomposition en facteurs premiers de ce nombre sous forme d'une liste.  \n",
    "Si le nombre est égal à 1, la liste contiendra 1.  \n",
    "Sinon si le nombre est supérieur ou égal à 2, ne pas faire apparaître 1 dans la décomposition en facteurs premiers. \n",
    "\n",
    "```python\n",
    "print(facteurspremiers(300))\n",
    "[2, 2, 3, 5, 5]\n",
    "```"
   ]
  },
  {
   "cell_type": "code",
   "execution_count": 34,
   "metadata": {
    "slideshow": {
     "slide_type": "slide"
    }
   },
   "outputs": [
    {
     "data": {
      "text/plain": [
       "[2, 2, 3]"
      ]
     },
     "execution_count": 34,
     "metadata": {},
     "output_type": "execute_result"
    }
   ],
   "source": [
    "from math import sqrt\n",
    "def facteurspremiers(n):\n",
    "    if n==1: return [1]\n",
    "    factors = []\n",
    "    i=2\n",
    "    while i <= int(sqrt(n))+1:\n",
    "        if n % i !=0:\n",
    "            i += 1\n",
    "        else:\n",
    "            n //= i\n",
    "            factors.append(i)\n",
    "    if n > 1:\n",
    "        factors.append(n)\n",
    "    return factors\n",
    "\n",
    "facteurspremiers(12)"
   ]
  },
  {
   "cell_type": "markdown",
   "metadata": {
    "slideshow": {
     "slide_type": "slide"
    }
   },
   "source": [
    "En utilisant la fonction `count`, écrire la fonction `facteur_premier_factorisé`\n",
    "\n",
    "exemple :\n",
    "\n",
    "```python\n",
    "print(facteur_premier_factorisé(300))\n",
    "[[2, 2], [3, 1], [5, 2]]\n",
    "```\n"
   ]
  },
  {
   "cell_type": "code",
   "execution_count": 24,
   "metadata": {
    "slideshow": {
     "slide_type": "fragment"
    }
   },
   "outputs": [
    {
     "data": {
      "text/plain": [
       "[[2, 2], [3, 1], [5, 2]]"
      ]
     },
     "execution_count": 24,
     "metadata": {},
     "output_type": "execute_result"
    }
   ],
   "source": [
    "def facteur_premier_factorisé(n):\n",
    "    L=facteurspremiers(n)\n",
    "    L_facto=[]\n",
    "    for nb in set(L):\n",
    "        L_facto.append([nb,L.count(nb)])\n",
    "    return L_facto\n",
    "\n",
    "facteur_premier_factorisé(300)"
   ]
  },
  {
   "cell_type": "markdown",
   "metadata": {
    "slideshow": {
     "slide_type": "slide"
    }
   },
   "source": [
    "2 - En utilisant la fonction `facteur_premier_factorisé`, écrire une fonction `PGCD_facteur` puis une fonction `calcul_PGCD` pour le PGCD de deux nombres.\n",
    "\n",
    "```python\n",
    "print(PGCD_facteur(40,770))\n",
    "[[2, 1], [5, 1]]\n",
    "print(calcul_PGCD(PGCD_facteur(40,770)))\n",
    "10\n",
    "```"
   ]
  },
  {
   "cell_type": "code",
   "execution_count": 25,
   "metadata": {
    "slideshow": {
     "slide_type": "slide"
    }
   },
   "outputs": [
    {
     "name": "stdout",
     "output_type": "stream",
     "text": [
      "[[2, 1], [5, 1]]\n",
      "10\n"
     ]
    }
   ],
   "source": [
    "def PGCD_facteur(n1,n2):\n",
    "    L1=facteur_premier_factorisé(n1)\n",
    "    L2=facteur_premier_factorisé(n2)\n",
    "    PGCD=[]\n",
    "    for a in L1:\n",
    "        for b in L2:\n",
    "            if a[0]==b[0]:\n",
    "                PGCD.append([a[0],min(a[1],b[1])])\n",
    "    if PGCD==[]: PGCD.append([1,1])\n",
    "    return PGCD\n",
    "print(PGCD_facteur(40,770))\n",
    "\n",
    "\n",
    "def calcul_PGCD(L):\n",
    "    S=1\n",
    "    for a in L :\n",
    "        S*=a[0]**a[1]\n",
    "    return S\n",
    "print(calcul_PGCD(PGCD_facteur(40,770)))\n"
   ]
  },
  {
   "cell_type": "markdown",
   "metadata": {
    "slideshow": {
     "slide_type": "slide"
    }
   },
   "source": [
    "4 - On rappelle que pour trois entiers $a,b,c$ , on a :\n",
    "$$PGCD(a,b,c)=PGCD(a,PGCD(b,c))$$\n",
    "En utilisant cette propriété, écrire une fonction `PGCD_liste` qui prend comme paramètre une liste d'entiers et retourne leur PGCD.\n",
    "\n",
    "```python\n",
    "L=[8,6,40,730]\n",
    "PGCD_liste(L)\n",
    "2\n",
    "```\n"
   ]
  },
  {
   "cell_type": "code",
   "execution_count": null,
   "metadata": {
    "scrolled": false,
    "slideshow": {
     "slide_type": "fragment"
    }
   },
   "outputs": [],
   "source": [
    "def PGCD_liste(L):\n",
    "    g=(calcul_PGCD(PGCD_facteur(L[0],L[1])))\n",
    "    for a in L[2:]:\n",
    "        g=calcul_PGCD(PGCD_facteur(a,g))\n",
    "    return g\n",
    "\n",
    "L=[8,6,40,730]\n",
    "\n",
    "PGCD_liste(L)\n"
   ]
  },
  {
   "cell_type": "code",
   "execution_count": null,
   "metadata": {},
   "outputs": [],
   "source": []
  }
 ],
 "metadata": {
  "celltoolbar": "Diaporama",
  "interpreter": {
   "hash": "aee8b7b246df8f9039afb4144a1f6fd8d2ca17a180786b69acc140d282b71a49"
  },
  "kernelspec": {
   "display_name": "Python 3",
   "language": "python",
   "name": "python3"
  },
  "language_info": {
   "codemirror_mode": {
    "name": "ipython",
    "version": 3
   },
   "file_extension": ".py",
   "mimetype": "text/x-python",
   "name": "python",
   "nbconvert_exporter": "python",
   "pygments_lexer": "ipython3",
   "version": "3.8.5"
  }
 },
 "nbformat": 4,
 "nbformat_minor": 5
}
