{
 "cells": [
  {
   "cell_type": "markdown",
   "metadata": {},
   "source": [
    "\n",
    "## Exercice 1 ( 4 points )\n",
    "\n",
    "* Ecrire une fonction `xor` qui prend comme paramètre deux booléens et retourne le résultat de l'expression logique $a \\oplus b$.  \n",
    "  On n'utilisera pas l'opérateur `^` de Python.\n",
    "* Ecrire une fonction $f$ qui prend en paramètre trois booléens et retourne le résultat de l'expression logique : $$(a \\vee \\overline b)\\oplus (a \\oplus c)$$.\n",
    "* Ecrire, en la formatant correctement, la table de vérité de $f$."
   ]
  },
  {
   "cell_type": "code",
   "execution_count": null,
   "metadata": {},
   "outputs": [],
   "source": [
    "def xor(a:bool,b:bool)->bool:\n",
    "    pass\n",
    "\n",
    "    assert xor(True,True)==False\n",
    "    assert xor(True,False)==True\n",
    "    assert xor(False,True)==True\n",
    "    assert xor(False,False)==False\n"
   ]
  },
  {
   "cell_type": "code",
   "execution_count": null,
   "metadata": {},
   "outputs": [],
   "source": [
    " \n",
    "def f(a:bool,b:bool,c:bool)->bool:\n",
    "    pass\n"
   ]
  },
  {
   "cell_type": "code",
   "execution_count": null,
   "metadata": {},
   "outputs": [],
   "source": [
    "\n",
    "def table_verite():\n",
    "    pass"
   ]
  },
  {
   "cell_type": "markdown",
   "metadata": {},
   "source": [
    "\n",
    "## Exercice 2 : Calcul d'une somme ( 3 points)\n",
    "\n",
    "Écrire une fonction Somme qui prend en argument un entier $n \\geq 1$ et qui renvoie la somme $$S_n=\\sum_{k=1}^n \\frac{1}{k^2}$$\n",
    "\n",
    "On donne $L=\\frac{\\pi^2}{6}$.\n",
    "\n",
    "Déterminer la valeur de $n$ telle que la différence, en valeur absolue, entre la valeur de la somme et $L$ soit inférieure à $10^{-3}$.\n",
    "\n"
   ]
  },
  {
   "cell_type": "code",
   "execution_count": null,
   "metadata": {},
   "outputs": [],
   "source": [
    "from math import pi\n",
    "\n",
    "def Somme(n:int)->float:\n",
    "    pass\n"
   ]
  },
  {
   "cell_type": "code",
   "execution_count": null,
   "metadata": {},
   "outputs": [],
   "source": [
    "\n",
    "L=pi**2/6\n",
    "\n",
    "def différence()->int:\n",
    "   pass\n"
   ]
  },
  {
   "cell_type": "markdown",
   "metadata": {},
   "source": [
    "## Exercice 3 : Le test de Fermat (7 points)\n",
    "\n",
    "1. Écrire une fonction `testPremier` qui prend en argument un nombre $n$ et qui renvoie un booléen indiquant si $n$ est premier ou non.\n",
    "   \n",
    "   On optimisera le code en ne testant que les diviseurs impairs inférieurs ou égaux à $\\sqrt{n}$ pour $n>2$.\n"
   ]
  },
  {
   "cell_type": "code",
   "execution_count": null,
   "metadata": {},
   "outputs": [],
   "source": [
    "from math import sqrt\n",
    "\n",
    "def testPremier(n:int)->bool:\n",
    "   pass\n",
    "\n",
    "assert testPremier(1)==False\n",
    "assert testPremier(2)==True\n",
    "assert testPremier(3)==True\n",
    "assert testPremier(4)==False\n",
    "assert testPremier(15)==False\n",
    "assert testPremier(111231213131)==True"
   ]
  },
  {
   "cell_type": "markdown",
   "metadata": {},
   "source": [
    "2. Ecrire une fonction `liste_premiers` qui prend en argument un entier $n$ et qui renvoie la liste des nombres premiers inférieurs ou égaux à $n$."
   ]
  },
  {
   "cell_type": "code",
   "execution_count": null,
   "metadata": {},
   "outputs": [],
   "source": [
    "def liste_premiers(n:int)->list:\n",
    "    pass\n",
    "\n",
    "assert liste_premiers(10)==[2,3,5,7]\n",
    "assert liste_premiers(17)==[2,3,5,7,11,13,17]\n",
    "assert liste_premiers(100)==[2,3,5,7,11,13,17,19,23,29,31,37,41,43,47,\n",
    "                            53,59,61,67,71,73,79,83,89,97]"
   ]
  },
  {
   "cell_type": "markdown",
   "metadata": {},
   "source": [
    "\n",
    "3. Le petit théorème de Fermat assure que si $n$ est un nombre premier alors : $$\\forall a \\in \\mathbb{N},\\quad 1<a \\leq n-1 \\quad, a^{n}≡ a [n].$$\n",
    "   \n",
    "    Écrire une fonction `verification_Fermat` qui prend en argument un nombre $n$ et qui renvoie un booléen indiquant si le test passe pour tous les nombres **premiers** inférieur à $n$.\n",
    "\n",
    "On pourra utiliser la fonction `pow(a,b,n)` qui calcule $a^b[n]$.\n"
   ]
  },
  {
   "cell_type": "code",
   "execution_count": null,
   "metadata": {},
   "outputs": [],
   "source": [
    "def verification_fermat(n:int)->bool:\n",
    "    pass\n",
    "\n",
    "assert verification_fermat(100)==True"
   ]
  },
  {
   "cell_type": "markdown",
   "metadata": {},
   "source": [
    "\n",
    "4. La contraposée de ce théorème nous indique que s'il existe un $a$ tel que $a^{n} \\not\\equiv a [n]$, on est sûr que $n$ n’est pas premier. \n",
    "\n",
    "On dira alors que $n$ ne passe pas le test de Fermat pour la valeur $a$.\n",
    "\n",
    "\n",
    "\n",
    "\n",
    "\n"
   ]
  },
  {
   "cell_type": "markdown",
   "metadata": {},
   "source": [
    "\n",
    "Écrire une fonction `test_fermat` qui prend en argument un nombre $n$ et un argument facultatif $a$, avec la valeur 2 par défaut, et qui teste si $n$ __passe__ le test de Fermat pour $a$, en renvoyant un booléen."
   ]
  },
  {
   "cell_type": "code",
   "execution_count": null,
   "metadata": {},
   "outputs": [],
   "source": [
    "def test_fermat(n:int,a=2)->bool:\n",
    "    pass\n",
    "\n",
    "assert test_fermat(8,3)==False\n",
    "assert test_fermat(341)==True\n",
    "assert test_fermat(91,3)==True"
   ]
  },
  {
   "cell_type": "markdown",
   "metadata": {},
   "source": [
    "5. A l’aide de la fonction `testpremier` et de la fonction `test_fermat` :\n",
    "   \n",
    "* Faire la liste des nombres inférieurs à 10000 qui ne sont pas premiers mais qui passent le test de Fermat pour a = 2.  \n",
    "On en trouve 22, le premier étant 341 et le dernier 8911.\n",
    "\n"
   ]
  },
  {
   "cell_type": "code",
   "execution_count": null,
   "metadata": {},
   "outputs": [],
   "source": []
  },
  {
   "cell_type": "markdown",
   "metadata": {},
   "source": [
    "\n",
    "\n",
    "* Faire la liste des nombres inférieurs à 10000 qui ne sont pas premiers mais qui passent le test de Fermat pour a = 3.  \n",
    "On en trouve 30 le premier étant 6, le dernier 8911.\n"
   ]
  },
  {
   "cell_type": "code",
   "execution_count": null,
   "metadata": {},
   "outputs": [],
   "source": []
  },
  {
   "cell_type": "markdown",
   "metadata": {},
   "source": [
    "\n",
    "\n",
    "* Finalement faire la liste des nombres inférieurs à 10000 qui ne sont pas premiers mais qui passent le test de Fermat pour a = 2 et pour a = 3.\n",
    "On en trouve 8.\n"
   ]
  },
  {
   "cell_type": "code",
   "execution_count": null,
   "metadata": {},
   "outputs": [],
   "source": []
  },
  {
   "cell_type": "markdown",
   "metadata": {},
   "source": [
    "## Exercice 4 ( 7 points)\n",
    "\n",
    "Si l'on prend 47, qu'on le retourne et que l'on additionne les deux nombres (47 + 74 = 121), on obtient un palindrome, c'est-à-dire un entier naturel égal à lui-même s'il est lu de gauche à droite ou de droite à gauche. \n",
    "\n",
    "Idem pour 20 : 20 + 02 = 22.\n",
    "\n",
    "Tous les nombres ne produisent pas des palindromes aussi rapidement, par exemple, il faut 3 itérations si l'on part de 349 :\n",
    "\n",
    "$$\\begin{align*}\n",
    "349 + 943 &=& 1292 \\\\\n",
    " 1292 + 2921 &=& 4213\\\\\n",
    "4213 + 3124 &=& 7337\\\\\n",
    "\\end{align*}$$\n",
    "\n",
    "On conjecture qu'il existe aussi des nombres, par exemple 196, qui ne produiront jamais un palindrome en suivant ce processus. Ces nombres sont appelés « nombres de Lychrel ».\n",
    "\n",
    "L'objectif est d'écrire une fonction qui affiche pour un entier passé en paramètre les différentes itérations jusqu'à obtenir un palindrôme.\n",
    "\n",
    "1 - Ecrire une fonction `decompose` qui prend comme paramètre un nombre entier et renvoie sa décomposition en base 10 sous forme d'une liste d'entier.\n",
    "\n",
    "2 - Ecrire une fonction `decimale` qui prend comme paramètre une liste d'entiers ( une décomposition en base 10 ) et retourne l'entier correspondant.\n",
    "\n",
    "3 - Ecrire une fonction `palindrome` qui prend comme paramètre une liste et retourne un booléen .\n",
    "\n",
    "4 - Ecrire une fonction `play` qui prend en paramètre un entier et affiche les différentes itérations pour obtenir un *éventuel* palindrôme. Mesurer le temps d'exécution de cette fonction.\n",
    "\n",
    "```python\n",
    "play(197) : \n",
    "\n",
    "197+791=988\n",
    "988+889=1877\n",
    "1877+7781=9658\n",
    "9658+8569=18227\n",
    "18227+72281=90508\n",
    "90508+80509=171017\n",
    "171017+710171=881188\n",
    "```\n",
    "\n",
    "On pourra utiliser la fonction `reverse()` sur une liste L : `L.reverse()`"
   ]
  },
  {
   "cell_type": "code",
   "execution_count": null,
   "metadata": {},
   "outputs": [],
   "source": [
    "def decompose(n:int)->list:\n",
    "   pass\n",
    "\n",
    "\n",
    "assert decompose(1)==[1]\n",
    "assert decompose(1234)==[1,2,3,4]\n"
   ]
  },
  {
   "cell_type": "code",
   "execution_count": null,
   "metadata": {},
   "outputs": [],
   "source": [
    "\n",
    "def decimale(L:list)->int:\n",
    "    pass\n",
    "\n",
    "assert decimale([1])==1\n",
    "assert decimale([1,2,3,4])==1234\n"
   ]
  },
  {
   "cell_type": "code",
   "execution_count": null,
   "metadata": {},
   "outputs": [],
   "source": [
    "\n",
    "\n",
    "def palindrome(L:list)-> bool:\n",
    "    pass\n",
    "\n",
    "assert palindrome([1])==True\n",
    "assert palindrome([1,2,3,4])==False\n",
    "assert palindrome([1,2,3,4,3,2,1])==True\n"
   ]
  },
  {
   "cell_type": "code",
   "execution_count": null,
   "metadata": {},
   "outputs": [],
   "source": [
    "\n",
    "\n",
    "def play(n:int)->int:\n",
    "    pass\n",
    "\n",
    "\n"
   ]
  }
 ],
 "metadata": {
  "kernelspec": {
   "display_name": "Python 3",
   "language": "python",
   "name": "python3"
  },
  "language_info": {
   "codemirror_mode": {
    "name": "ipython",
    "version": 3
   },
   "file_extension": ".py",
   "mimetype": "text/x-python",
   "name": "python",
   "nbconvert_exporter": "python",
   "pygments_lexer": "ipython3",
   "version": "3.10.4"
  }
 },
 "nbformat": 4,
 "nbformat_minor": 2
}
