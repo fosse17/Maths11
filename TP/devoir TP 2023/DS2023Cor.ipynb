{
 "cells": [
  {
   "cell_type": "markdown",
   "metadata": {},
   "source": [
    "# Exercice 1 \n",
    "\n",
    "## Le test de Fermat \n",
    "\n",
    "1. Écrire une fonction premier qui prend en argument un nombre $n$ et qui renvoie un booléen indiquant si $n$ est premier ou non.\n",
    "   \n",
    "   On optimisera le code en ne testant que les diviseurs impairs inférieurs ou égaux à $\\sqrt{n}$ pour $n>2$.\n"
   ]
  },
  {
   "cell_type": "code",
   "execution_count": 6,
   "metadata": {},
   "outputs": [],
   "source": [
    "from math import sqrt\n",
    "\n",
    "def testPremier(n:int)->bool:\n",
    "    if n==2:\n",
    "        return True \n",
    "    if n<2:\n",
    "        return False\n",
    "    if n%2==0:\n",
    "        return False\n",
    "    for i in range(3,int(sqrt(n))+1,2):\n",
    "        if n%i==0:\n",
    "            return False\n",
    "    return True\n",
    "\n",
    "assert testPremier(1)==False\n",
    "assert testPremier(2)==True\n",
    "assert testPremier(3)==True\n",
    "assert testPremier(4)==False\n",
    "assert testPremier(15)==False\n",
    "assert testPremier(111231213131)==True"
   ]
  },
  {
   "cell_type": "markdown",
   "metadata": {},
   "source": [
    "2. Ecrire une fonction `liste_premiers` qui prend en argument un entier $n$ et qui renvoie la liste des nombres premiers inférieurs ou égaux à $n$."
   ]
  },
  {
   "cell_type": "code",
   "execution_count": 7,
   "metadata": {},
   "outputs": [
    {
     "name": "stdout",
     "output_type": "stream",
     "text": [
      "[2, 3, 5, 7]\n",
      "[2, 3, 5, 7, 11, 13, 17]\n",
      "[2, 3, 5, 7, 11, 13, 17, 19, 23, 29, 31, 37, 41, 43, 47, 53, 59, 61, 67, 71, 73, 79, 83, 89, 97]\n"
     ]
    }
   ],
   "source": [
    "def liste_premiers(n:int)->list:\n",
    "    L=[]\n",
    "    i=1\n",
    "    while i<=n:\n",
    "        if testPremier(i):\n",
    "            L.append(i)\n",
    "        i+=1\n",
    "    print(L)\n",
    "    return L\n",
    "\n",
    "assert liste_premiers(10)==[2,3,5,7]\n",
    "assert liste_premiers(17)==[2,3,5,7,11,13,17]\n",
    "assert liste_premiers(100)==[2,3,5,7,11,13,17,19,23,29,31,37,41,43,47,\n",
    "                            53,59,61,67,71,73,79,83,89,97]"
   ]
  },
  {
   "cell_type": "markdown",
   "metadata": {},
   "source": [
    "\n",
    "3. Le petit théorème de Fermat assure que si $n$ est un nombre premier alors : $$\\forall a \\in \\mathbb{N},\\quad 1<a \\leq n-1 \\quad, a^{n}≡ a [n].$$\n",
    "   \n",
    "    Écrire une fonction `verification_Fermat` qui prend en argument un nombre $n$ et qui renvoie un booléen indiquant si le test passe pour tous les nombres premiers inférieur à $n$.\n",
    "\n",
    "On pourra utiliser la fonction `pow(a,b,n)` qui calcule $a^b[n]$.\n"
   ]
  },
  {
   "cell_type": "code",
   "execution_count": 8,
   "metadata": {},
   "outputs": [
    {
     "name": "stdout",
     "output_type": "stream",
     "text": [
      "[2, 3, 5, 7, 11, 13, 17, 19, 23, 29, 31, 37, 41, 43, 47, 53, 59, 61, 67, 71, 73, 79, 83, 89, 97]\n",
      "True\n"
     ]
    }
   ],
   "source": [
    "def verification_fermat(n:int)->bool:\n",
    "    for i in liste_premiers(n):\n",
    "        for a in range(1,i):\n",
    "            if pow(a,i,i)%i!=a:\n",
    "                return False\n",
    "    return True\n",
    "\n",
    "print(verification_fermat(100))"
   ]
  },
  {
   "cell_type": "markdown",
   "metadata": {},
   "source": [
    "\n",
    "La contraposé de ce théorème nous indique que s'il existe un $a$ tel que $a^{n-1} \\not\\equiv 1 [n]$, on est sûr que $n$ n’est pas premier. \n",
    "\n",
    "On dira alors que $n$ ne passe pas le test de Fermat pour la valeur $a$.\n",
    "\n",
    "\n",
    "Nous allons chercher s'il existe des nombres non premiers qui passent le test de Fermat pour toutes les valeurs de $a$.\n",
    "\n",
    "\n"
   ]
  },
  {
   "cell_type": "markdown",
   "metadata": {},
   "source": [
    "\n",
    "3. Écrire une fonction `test_Fermat` qui prend en argument un nombre $n$ et un argument facultatif $a$, qui sinon admet a=2 comme valeur par défaut, et qui teste si $n$ ≪ passe ≫ le test de Fermat pour $a$, en renvoyant un booléen."
   ]
  },
  {
   "cell_type": "code",
   "execution_count": 21,
   "metadata": {},
   "outputs": [
    {
     "name": "stdout",
     "output_type": "stream",
     "text": [
      "True\n",
      "True\n",
      "True\n"
     ]
    }
   ],
   "source": [
    "def test_fermat(n:int,a=2)->bool:\n",
    "    return pow(a,n,n)==a%n\n",
    "\n",
    "print(test_fermat(7,3))\n",
    "print(test_fermat(341))\n",
    "print(test_fermat(66,3))"
   ]
  },
  {
   "cell_type": "markdown",
   "metadata": {},
   "source": [
    "\n",
    "\n",
    "4. A l’aide de la fonction `testpremier` et de la fonction `test_Fermat` :\n",
    "   \n",
    "* Faire la liste des nombres inférieurs à 10000 qui ne sont pas premiers mais qui passent le test de Fermat pour a = 2.\n",
    "On en trouve 22, le premier étant 341 et le dernier 8911.\n",
    "\n"
   ]
  },
  {
   "cell_type": "code",
   "execution_count": 19,
   "metadata": {},
   "outputs": [
    {
     "name": "stdout",
     "output_type": "stream",
     "text": [
      "[341, 561, 645, 1105, 1387, 1729, 1905, 2047, 2465, 2701, 2821, 3277, 4033, 4369, 4371, 4681, 5461, 6601, 7957, 8321, 8481, 8911]\n"
     ]
    }
   ],
   "source": [
    "L1=[l for l in range(2,10001) if test_fermat(l) and not(testPremier(l))]\n",
    "print (L1)"
   ]
  },
  {
   "cell_type": "markdown",
   "metadata": {},
   "source": [
    "\n",
    "\n",
    "* Faire la liste des nombres inférieurs à 10000 qui ne sont pas premiers mais qui passent le test de Fermat pour a = 3.\n",
    "On en trouve 30 le premier étant 6, le dernier 8911.\n"
   ]
  },
  {
   "cell_type": "code",
   "execution_count": 20,
   "metadata": {},
   "outputs": [
    {
     "name": "stdout",
     "output_type": "stream",
     "text": [
      "[6, 66, 91, 121, 286, 561, 671, 703, 726, 949, 1105, 1541, 1729, 1891, 2465, 2665, 2701, 2821, 3281, 3367, 3751, 4961, 5551, 6601, 7107, 7381, 8205, 8401, 8646, 8911]\n"
     ]
    }
   ],
   "source": [
    "L2=[l for l in range(2,10001) if test_fermat(l,3) and not(testPremier(l))]\n",
    "print (L2)"
   ]
  },
  {
   "cell_type": "markdown",
   "metadata": {},
   "source": [
    "\n",
    "\n",
    "* Finalement faire la liste des nombres inférieurs à 10000 qui ne sont pas premiers mais qui passent le test de Fermat pour a = 2 et pour a = 3.\n",
    "On en trouve 8.\n"
   ]
  },
  {
   "cell_type": "code",
   "execution_count": 12,
   "metadata": {},
   "outputs": [
    {
     "name": "stdout",
     "output_type": "stream",
     "text": [
      "[561, 1105, 1729, 2465, 2701, 2821, 6601, 8911]\n"
     ]
    }
   ],
   "source": [
    "L=[l for l in L1 if l in L2]\n",
    "print (L)"
   ]
  },
  {
   "cell_type": "markdown",
   "metadata": {},
   "source": [
    "\n",
    "## Calcul d'une somme\n",
    "\n",
    "Écrire une fonction Somme qui prend en argument un entier $n \\geq 1$ et qui renvoie la somme $ \\sum_{k=1}^n \\frac{1}{k^2}$.\n",
    "\n",
    "On donne L=math.pi**2/6\n",
    "\n",
    "Déterminer la valeur de $n$ telle que la différence entre la valeur de la somme et la valeur de $L$ soit inférieure à $10^{-3}$.\n",
    "\n"
   ]
  },
  {
   "cell_type": "code",
   "execution_count": 13,
   "metadata": {},
   "outputs": [
    {
     "data": {
      "text/plain": [
       "1000"
      ]
     },
     "execution_count": 13,
     "metadata": {},
     "output_type": "execute_result"
    }
   ],
   "source": [
    "from math import pi\n",
    "\n",
    "def Somme(n:int)->float:\n",
    "    return sum([1/pow(l,2) for l in range(1,n+1)])\n",
    "\n",
    "L=pi**2/6\n",
    "\n",
    "def différence()->int:\n",
    "    n=1\n",
    "    while (abs(L-Somme(n)))>10**(-3):\n",
    "        n+=1\n",
    "    return n\n",
    "\n",
    "différence()\n"
   ]
  },
  {
   "cell_type": "markdown",
   "metadata": {},
   "source": [
    "\n",
    "### Exercice 1 (4 points )\n",
    "\n",
    "* Ecrire une fonction `xor` qui prend comme paramètre deux booléens et retourne le résultat de l'expression logique $a \\oplus b$.\n",
    "  On n'utilisera pas l'opérateur `^` de Python.\n",
    "* Ecrire une fonction $f$ qui prend en paramètre trois booléens et retourne le résultat de l'expression logique : $$(a \\vee \\overline b)\\oplus (a \\oplus c)$$.\n",
    "* Ecrire, en la formatant correctement, la table de vérité de $f$."
   ]
  },
  {
   "cell_type": "markdown",
   "metadata": {},
   "source": [
    "### Exercice 5 (6 points)\n",
    "\n",
    "Un nombre triangulaire est un nombre qui est la somme des entiers naturel de 1 jusqu'à un certain nombre.\n",
    "\n",
    "Par exemple, le septième nombre triangulaire est 1 + 2 + 3 + 4 + 5 + 6 + 7 = 28.\n",
    "\n",
    "Les 10 premiers nombres triangulaires sont : 1, 3, 6, 10, 15, 21, 28, 36, 45, 55.\n",
    "\n",
    "Listons les diviseurs des sept premiers nombres triangulaires :\n",
    "\n",
    " 1: 1  \n",
    "\n",
    " 3: 1,3  \n",
    "\n",
    " 6: 1,2,3,6  \n",
    "\n",
    "10: 1,2,5,10  \n",
    "\n",
    "15: 1,3,5,15  \n",
    "\n",
    "21: 1,3,7,21  \n",
    "\n",
    "28: 1,2,4,7,14,28  \n",
    "\n",
    "On peut remarquer que 28 est le premier nombre triangulaire qui a plus de 5 diviseurs.\n",
    "\n",
    "1. Quel est le premier nombre triangulaire qui possède plus de 100 diviseurs ?\n",
    "   \n",
    "2. Tracer un graphique avec en abscisse les nombres triangulaires et en ordonnée le nombre de diviseur correspondant.\n"
   ]
  },
  {
   "cell_type": "code",
   "execution_count": 14,
   "metadata": {},
   "outputs": [
    {
     "name": "stdout",
     "output_type": "stream",
     "text": [
      "73920\n"
     ]
    },
    {
     "data": {
      "image/png": "[encoded data removed]",
      "text/plain": [
       "<Figure size 432x288 with 1 Axes>"
      ]
     },
     "metadata": {
      "needs_background": "light"
     },
     "output_type": "display_data"
    }
   ],
   "source": [
    "import matplotlib.pyplot as plt\n",
    "\n",
    "def triangulaire(n):\n",
    "    return sum([l for l in range(1,n+1)])\n",
    "\n",
    "\n",
    "\n",
    "assert triangulaire(1)==1\n",
    "assert triangulaire(2)==3\n",
    "assert triangulaire(5)==15\n",
    "\n",
    "\n",
    "def nb_diviseur(n): \n",
    "    return sum([1 for i in range(1,n+1) if n%i==0])\n",
    "\n",
    "def first_triangular_with_more_than_n_divisors(n):\n",
    "    i=1\n",
    "    while nb_diviseur(triangulaire(i))<n:\n",
    "        i+=1\n",
    "    return triangulaire(i)\n",
    " \n",
    "assert first_triangular_with_more_than_n_divisors(5)==28\n",
    "\n",
    "print(first_triangular_with_more_than_n_divisors(100))\n",
    "    \n",
    "assert nb_diviseur(1)==1         \n",
    "assert nb_diviseur(28)==6\n",
    "\n",
    "x=[triangulaire(l) for l in range(1,21)]\n",
    "y=[nb_diviseur(l) for l in x]\n",
    "\n",
    "plt.scatter(x,y,marker='o',color='red')\n",
    "plt.xlabel(\"nombre triangulaire\")\n",
    "plt.ylabel(\"nombre de diviseur\")\n",
    "\n",
    "\n",
    "plt.show()\n",
    "\n",
    "\n",
    "\n",
    "\n",
    "# Compléter votre code ici"
   ]
  },
  {
   "cell_type": "code",
   "execution_count": null,
   "metadata": {},
   "outputs": [],
   "source": []
  },
  {
   "cell_type": "markdown",
   "metadata": {},
   "source": [
    "## Exercice 4 (8 points)\n",
    "\n",
    "Si l'on prend 47, qu'on le retourne et que l'on additionne les deux nombres (47 + 74 = 121), on obtient un palindrome, c'est-à-dire un entier naturel égal à lui-même s'il est lu de gauche à droite ou de droite à gauche. \n",
    "\n",
    "Idem pour 20 : 20 + 02 = 22.\n",
    "\n",
    "Tous les nombres ne produisent pas des palindromes aussi rapidement, par exemple, il faut 3 itérations si l'on part de 349 :\n",
    "\n",
    "$$\\begin{align*}\n",
    "349 + 943 &=& 1292 \\\\\n",
    " 1292 + 2921 &=& 4213\\\\\n",
    "4213 + 3124 &=& 7337\\\\\n",
    "\\end{align*}$$\n",
    "\n",
    "On conjecture qu'il existe aussi des nombres, par exemple 196, qui ne produiront jamais un palindrôme en suivant ce processus. Ces nombres sont appelés « nombres de Lychrel ».\n",
    "\n",
    "L'objectif est d'écrire une fonction qui affiche pour un entier passé en paramètre les différentes itérations jusqu'à obtenir un palindrôme.\n",
    "\n",
    "1 - Ecrire une fonction `decompose` qui prend comme paramètre un nombre entier et renvoie sa décomposition en base 10 sous forme d'une liste d'entier.\n",
    "\n",
    "2 - Ecrire une fonction `decimale` qui prend comme paramètre une liste d'entiers ( une décomposition en base 10 ) et retourne l'entier correspondant.\n",
    "\n",
    "3 - Ecrire une fonction `palindrome` qui prend comme paramètre une liste et retourne un booléen .\n",
    "\n",
    "4 - Ecrire une fonction `play` qui prend en paramètre un entier et affiche les différentes itérations pour obtenir un *éventuel* palindrôme. Mesurer le temps d'exécution de cette fonction.\n",
    "\n",
    "```python\n",
    "decompose(123) : [1,2,3]\n",
    "\n",
    "decimale([2,4,7]) : 247\n",
    "decimale([1,2]) : 12\n",
    "\n",
    "palindrome([1]) : True\n",
    "palindrome([1,2,1]) : True\n",
    "palindrome([1,2,2,1]) : True\n",
    "palindrome([1,2,2,3]) : False\n",
    "\n",
    "play(197) : \n",
    "\n",
    "197+791=988\n",
    "988+889=1877\n",
    "1877+7781=9658\n",
    "9658+8569=18227\n",
    "18227+72281=90508\n",
    "90508+80509=171017\n",
    "171017+710171=881188\n",
    "```\n",
    "\n",
    "On pourra utiliser la fonction `reverse()` sur une liste L : `L.reverse()`"
   ]
  },
  {
   "cell_type": "code",
   "execution_count": 15,
   "metadata": {},
   "outputs": [
    {
     "name": "stdout",
     "output_type": "stream",
     "text": [
      "[1, 2, 3, 4]\n",
      "     691+      196=    887\n",
      "     788+      887=   1675\n",
      "    5761+     1675=   7436\n",
      "    6347+     7436=  13783\n",
      "   38731+    13783=  52514\n",
      "   41525+    52514=  94039\n",
      "   93049+    94039= 187088\n",
      "  880781+   187088=1067869\n",
      " 9687601+  1067869=10755470\n",
      " 7455701+ 10755470=18211171\n",
      "17111281+ 18211171=35322452\n",
      "25422353+ 35322452=60744805\n",
      "50844706+ 60744805=111589511\n",
      "115985111+ 111589511=227574622\n",
      "226475722+ 227574622=454050344\n",
      "443050454+ 454050344=897100798\n",
      "897001798+ 897100798=1794102596\n",
      "6952014971+ 1794102596=8746117567\n",
      "7657116478+ 8746117567=16403234045\n",
      "54043230461+ 16403234045=70446464506\n",
      "60546464407+ 70446464506=130992928913\n",
      "319829299031+ 130992928913=450822227944\n",
      "449722228054+ 450822227944=900544455998\n",
      "899554445009+ 900544455998=1800098901007\n",
      "7001098900081+ 1800098901007=8801197801088\n",
      "8801087911088+ 8801197801088=17602285712176\n",
      "67121758220671+ 17602285712176=84724043932847\n",
      "74823934042748+ 84724043932847=159547977975595\n",
      "595579779745951+ 159547977975595=755127757721546\n",
      "645127757721557+ 755127757721546=1400255515443103\n",
      "3013445155520041+ 1400255515443103=4413700670963144\n",
      "4413690760073144+ 4413700670963144=8827391431036288\n",
      "8826301341937288+ 8827391431036288=17653692772973576\n",
      "67537927729635671+ 17653692772973576=85191620502609247\n",
      "74290620502619158+ 85191620502609247=159482241005228405\n",
      "504822500142284951+ 159482241005228405=664304741147513356\n",
      "653315741147403466+ 664304741147513356=1317620482294916822\n",
      "2286194922840267131+ 1317620482294916822=3603815405135183953\n",
      "3593815315045183063+ 3603815405135183953=7197630720180367016\n",
      "6107630810270367917+ 7197630720180367016=13305261530450734933\n",
      "33943705403516250331+ 13305261530450734933=47248966933966985264\n",
      "46258966933966984274+ 47248966933966985264=93507933867933969538\n",
      "83596933976833970539+ 93507933867933969538=177104867844767940077\n",
      "770049767448768401771+ 177104867844767940077=947154635293536341848\n",
      "848143635392536451749+ 947154635293536341848=1795298270686072793597\n",
      "7953972706860728925971+ 1795298270686072793597=9749270977546801719568\n",
      "8659171086457790729479+ 9749270977546801719568=18408442064004592449047\n",
      "74094429540046024480481+ 18408442064004592449047=92502871604050616929528\n",
      "82592961605040617820529+ 92502871604050616929528=175095833209091234750057\n",
      "750057432190902338590571+ 175095833209091234750057=925153265399993573340628\n",
      "826043375399993562351529+ 925153265399993573340628=1751196640799987135692157\n",
      "7512965317899970466911571+ 1751196640799987135692157=9264161958699957602603728\n",
      "8273062067599968591614629+ 9264161958699957602603728=17537224026299926194218357\n",
      "75381249162999262042273571+ 17537224026299926194218357=92918473189299188236491928\n",
      "82919463288199298137481929+ 92918473189299188236491928=175837936477498486373973857\n",
      "758379373684894774639738571+ 175837936477498486373973857=934217310162393261013712428\n",
      "824217310162393261013712439+ 934217310162393261013712428=1758434620324786522027424867\n",
      "7684247202256874230264348571+ 1758434620324786522027424867=9442681822581660752291773438\n",
      "8343771922570661852281862449+ 9442681822581660752291773438=17786453745152322604573635887\n",
      "78853637540622325154735468771+ 17786453745152322604573635887=96640091285774647759309104658\n",
      "85640190395774647758219004669+ 96640091285774647759309104658=182280281681549295517528109327\n",
      "723901825715592945186182082281+ 182280281681549295517528109327=906182107397142240703710191608\n",
      "806191017307042241793701281609+ 906182107397142240703710191608=1712373124704184482497411473217\n",
      "7123741147942844814074213732171+ 1712373124704184482497411473217=8836114272647029296571625205388\n",
      "8835025261756929207462724116388+ 8836114272647029296571625205388=17671139534403958504034349321776\n",
      "67712394343040585930443593117671+ 17671139534403958504034349321776=85383533877444544434477942439447\n",
      "74493424977443444544477833538358+ 85383533877444544434477942439447=159876958854887988978955775977805\n",
      "508779577559879889788458859678951+ 159876958854887988978955775977805=668656536414767878767414635656756\n",
      "657656536414767878767414635656866+ 668656536414767878767414635656756=1326313072829535757534829271313622\n",
      "2263131729284357575359282703136231+ 1326313072829535757534829271313622=3589444802113893332894111974449853\n",
      "3589444791114982333983112084449853+ 3589444802113893332894111974449853=7178889593228875666877224058899706\n",
      "6079988504227786665788223959888717+ 7178889593228875666877224058899706=13258878097456662332665448018788423\n",
      "32488781084456623326665479087885231+ 13258878097456662332665448018788423=45747659181913285659330927106673654\n",
      "45637660172903395658231918195674754+ 45747659181913285659330927106673654=91385319354816681317562845302348408\n",
      "80484320354826571318661845391358319+ 91385319354816681317562845302348408=171869639709643252636224690693706727\n",
      "727607396096422636252346907936968171+ 171869639709643252636224690693706727=899477035806065888888571598630674898\n",
      "898476036895175888888560608530774998+ 899477035806065888888571598630674898=1797953072701241777777132207161449896\n",
      "6989441617022317777771421072703597971+ 1797953072701241777777132207161449896=8787394689723559555548553279865047867\n",
      "7687405689723558455559553279864937878+ 8787394689723559555548553279865047867=16474800379447118011108106559729985745\n",
      "54758992795560180111081174497300847461+ 16474800379447118011108106559729985745=71233793175007298122189281057030833206\n",
      "60233803075018298122189270057139733217+ 71233793175007298122189281057030833206=131467596250025596244378551114170566423\n",
      "324665071411155873442695520052695764131+ 131467596250025596244378551114170566423=456132667661181469687074071166866330554\n",
      "455033668661170470786964181166766231654+ 456132667661181469687074071166866330554=911166336322351940474038252333632562208\n",
      "802265236333252830474049153223633661119+ 911166336322351940474038252333632562208=1713431572655604770948087405557266223327\n",
      "7233226627555047808490774065562751343171+ 1713431572655604770948087405557266223327=8946658200210652579438861471120017566498\n",
      "8946657100211741688349752560120028566498+ 8946658200210652579438861471120017566498=17893315300422394267788614031240046132996\n",
      "69923164004213041688776249322400351339871+ 17893315300422394267788614031240046132996=87816479304635435956564863353640397472867\n",
      "76827479304635336846565953453640397461878+ 87816479304635435956564863353640397472867=164643958609270772803130816807280794934745\n",
      "547439497082708618031308277072906859346461+ 164643958609270772803130816807280794934745=712083455691979390834439093880187654281206\n",
      "602182456781088390934438093979196554380217+ 712083455691979390834439093880187654281206=1314265912473067781768877187859384208661423\n",
      "3241668024839587817788671877603742195624131+ 1314265912473067781768877187859384208661423=4555933937312655599557549065463126404285554\n",
      "4555824046213645609457559955562137393395554+ 4555933937312655599557549065463126404285554=9111757983526301209015109021025263797681108\n",
      "8011867973625201209015109021036253897571119+ 9111757983526301209015109021025263797681108=17123625957151502418030218042061517695252227\n",
      "72225259671516024081203081420515175952632171+ 17123625957151502418030218042061517695252227=89348885628667526499233299462576693647884398\n",
      "89348874639667526499233299462576682658884398+ 89348885628667526499233299462576693647884398=178697760268335052998466598925153376306768796\n",
      "697867603673351529895664899250533862067796871+ 178697760268335052998466598925153376306768796=876565363941686582894131498175687238374565667\n",
      "766565473832786571894131498285686149363565678+ 876565363941686582894131498175687238374565667=1643130837774473154788262996461373387738131345\n",
      "5431318377833731646992628874513744777380313461+ 1643130837774473154788262996461373387738131345=7074449215608204801780891870975118165118444806\n",
      "6084448115618115790781980871084028065129444707+ 7074449215608204801780891870975118165118444806=13158897331226320592562872742059146230247889513\n",
      "31598874203264195024727826529502362213379885131+ 13158897331226320592562872742059146230247889513=44757771534490515617290699271561508443627774644\n",
      "Pas de palindrome trouvé\n"
     ]
    }
   ],
   "source": [
    "def decompose(n:int)->list:\n",
    "    L=[]\n",
    "    while n>0:\n",
    "        L.append(n%10)\n",
    "        n=n//10\n",
    "    L.reverse()\n",
    "    return L\n",
    "\n",
    "print(decompose(1234))\n",
    "\n",
    "def decimale(L:list)->int:\n",
    "    return sum([L[i]*10**(len(L)-i-1) for i in range(len(L))])\n",
    "\n",
    "decimale([1,2,3,4])\n",
    "\n",
    "\n",
    "def palindrome(n)-> bool:\n",
    "    L=decompose(n)\n",
    "    return L==L[::-1]\n",
    "\n",
    "palindrome(1231)\n",
    "\n",
    "def play(n:int)->int:\n",
    "    iter=0\n",
    "    while not palindrome(n) and iter<100:\n",
    "        iter+=1\n",
    "        L=decompose(n)\n",
    "        L.reverse()\n",
    "        new=decimale(L)+n\n",
    "        print(f\"{decimale(L):8}+ {n:8}={new:7}\")\n",
    "        n=new\n",
    "        if(iter==100):\n",
    "            print(\"Pas de palindrome trouvé\")\n",
    "play(196)\n"
   ]
  },
  {
   "cell_type": "markdown",
   "metadata": {},
   "source": [
    "Ecrire maitenant la fonction inverse de deco(n) qui permet de reconstruire un entier à partir de sa décomposition en facteurs premiers. Cette fonction prend en argument deux listes : la première contient les facteurs premiers de n, la seconde contient les exposants correspondants.\n",
    "\n",
    "Par exemple,\n",
    "\n",
    "reco([2, 3, 5],[3, 4, 1]) renvoie 3240.\n"
   ]
  },
  {
   "cell_type": "code",
   "execution_count": 16,
   "metadata": {},
   "outputs": [
    {
     "name": "stdout",
     "output_type": "stream",
     "text": [
      "3240\n"
     ]
    }
   ],
   "source": [
    "def reconstruit(L1:list,L2:list)->int:\n",
    "    n=1\n",
    "    for i in range(len(L1)):\n",
    "        n*=L1[i]**L2[i]\n",
    "    return n\n",
    "\n",
    "print(reconstruit([2,3,5],[3,4,1]))"
   ]
  },
  {
   "cell_type": "code",
   "execution_count": null,
   "metadata": {},
   "outputs": [],
   "source": []
  }
 ],
 "metadata": {
  "kernelspec": {
   "display_name": "Python 3",
   "language": "python",
   "name": "python3"
  },
  "language_info": {
   "codemirror_mode": {
    "name": "ipython",
    "version": 3
   },
   "file_extension": ".py",
   "mimetype": "text/x-python",
   "name": "python",
   "nbconvert_exporter": "python",
   "pygments_lexer": "ipython3",
   "version": "3.10.1"
  }
 },
 "nbformat": 4,
 "nbformat_minor": 2
}
