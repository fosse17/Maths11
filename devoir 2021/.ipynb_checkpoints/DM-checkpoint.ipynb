{
 "cells": [
  {
   "cell_type": "markdown",
   "id": "7c495f22",
   "metadata": {},
   "source": [
    " <table style=\"background-color: white;width:100%;\">\n",
    "    <tr style=\"display:none\">\n",
    "        <td></td>\n",
    "        <td></td>\n",
    "    </tr>\n",
    "    <tr style=\"height:3em\">\n",
    "        <td style=\"width:20%;align:left\"><img src=\"iut_bordeaux.jpg\"></td>\n",
    "        <td style=\"width:60%;font: bold 2em 'Fira Sans', serif;text-align:center\"> DM 1<br>Récurrence et arithmétique</td>\n",
    "        <td style=\"width:20%;font: bold 1.3em 'Fira Sans', serif;vertical-align:top;\">R01.06<br>octobre 2021<br><i></i></td>\n",
    "    </tr>\n",
    "</table>"
   ]
  },
  {
   "cell_type": "markdown",
   "id": "96dffcb4",
   "metadata": {},
   "source": [
    "### Exercice 1\n",
    "\n",
    "Soit $(u_n)$ la suite définie par: $u_0=1$ et $u_{n+1}=\\dfrac{1}{2}u_n+2$ pour tout $n\\geq 2$.\n",
    "\n",
    "Démontrer par récurrence que pour tout entier $n\\geq  0$ on a :  $$u_n=-3\\left(\\dfrac{1}{2}\\right)^n+4$$"
   ]
  },
  {
   "cell_type": "markdown",
   "id": "f12fe6c9",
   "metadata": {},
   "source": [
    "### Exercice 2\n",
    "\n",
    "Pour tout $n\\geq 1$,soit \n",
    "$S_n = \\sum_{k=1}^{n} (2k-1)^2$\n",
    "\n",
    "Démontrer par récurrence que pour tout $n \\geq 1$, on a : \n",
    "\n",
    "$$S_n = \\dfrac{n(2n−1)(2n+1)}{3}$$\n"
   ]
  },
  {
   "cell_type": "markdown",
   "id": "578e0d7d",
   "metadata": {},
   "source": [
    "### Exercice 3\n",
    "\n",
    "Démontrer par récurrence que pour tout entier naturel $n$ : $\\quad 6 \\mid 3 n^2 + 3n + 6$\n",
    "\n",
    "Reprendre cette démonstration avec les **congruences**."
   ]
  },
  {
   "cell_type": "markdown",
   "id": "f06e8720",
   "metadata": {},
   "source": [
    "### Exercice 4\n",
    "\n",
    "Résoudre dans $\\mathbb{Z}$ : $\\quad 1665x + 1035y = 45$\n",
    "\n",
    "Après avoir cherché PGCD(1665,1035) et simplifié l'équation, on justifiera l'existence de solutions et on sera précis dans la résolution."
   ]
  },
  {
   "cell_type": "markdown",
   "id": "af32c2fb",
   "metadata": {},
   "source": [
    "### Exercice 5\n",
    "\n",
    "Pour tout entier naturel non nul $n$, on pose $a=5n+1$ et $b=2n−1$. On note $\\Delta = PGCD(a ; b)$.\n",
    "\n",
    "1 - Démontrer que les valeurs possibles de $\\Delta$ sont 1 ou 7.\n",
    "\n",
    "2 - Déterminer les entiers $n$ tels que $a\\equiv 0[7]$ et $b\\equiv 0[7]$.\n",
    "\n",
    "3 -  En déduire, suivant les valeurs de $n$, la valeur de $\\Delta$."
   ]
  }
 ],
 "metadata": {
  "kernelspec": {
   "display_name": "Python 3",
   "language": "python",
   "name": "python3"
  },
  "language_info": {
   "codemirror_mode": {
    "name": "ipython",
    "version": 3
   },
   "file_extension": ".py",
   "mimetype": "text/x-python",
   "name": "python",
   "nbconvert_exporter": "python",
   "pygments_lexer": "ipython3",
   "version": "3.8.11"
  }
 },
 "nbformat": 4,
 "nbformat_minor": 5
}
