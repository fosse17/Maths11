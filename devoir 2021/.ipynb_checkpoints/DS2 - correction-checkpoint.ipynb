{
 "cells": [
  {
   "cell_type": "markdown",
   "metadata": {},
   "source": [
    "<table style=\"width:100%;\">\n",
    "    <tr style=\"display:none\">\n",
    "        <td></td>\n",
    "        <td></td>\n",
    "    </tr>\n",
    "    <tr style=\"height:3em\">\n",
    "        <td style=\"width:20%;align:left\"><img src=\"iut_bordeaux.jpg\"></td>\n",
    "        <td style=\"width:60%;font: bold 2em 'Fira Sans', serif;text-align:center\"> DS 2<br>logique  et arithmétique</td>\n",
    "        <td style=\"width:20%;font: bold 1.3em 'Fira Sans', serif;vertical-align:top;\">R01.06<br>4 décembre 2021<br>1h30<i>\n",
    "            <br> sur 30 points</i></td>\n",
    "    </tr>\n",
    "</table>"
   ]
  },
  {
   "cell_type": "markdown",
   "metadata": {},
   "source": [
    "## Partie 1 (15 points)\n",
    "\n",
    "### Exercice 1 (3 points)\n",
    "\n",
    "Exprimer les propositions suivantes en utilisant les connecteurs logiques et les quantificateurs :\n",
    "   \n",
    "   a.  L’équation $x^2+x-1=0$ admet au moins une solution réelle supérieure à $\\dfrac32$.  \n",
    "   \n",
    "   b.  Il existe un unique nombre entier naturel compris entre $\\sqrt5$ et $\\sqrt{10}$.  \n",
    "\n",
    "   c.  Pour qu’un nombre réel $x$ soit supérieur à 1, il suffit que son cube soit supérieur à 2.  "
   ]
  },
  {
   "cell_type": "markdown",
   "metadata": {},
   "source": [
    "a. $\\exists x_0 \\in \\mathbb{R} , x>\\frac32 \\mid x_0^2+x_0-1=0$\n",
    "\n",
    "b. $\\exists ! n \\in \\mathbb{N} \\mid \\sqrt5 < n< \\sqrt{10}$.\n",
    "\n",
    "c. $\\forall x \\in \\mathbb{R}, x^3 >2 \\implies x>1$"
   ]
  },
  {
   "cell_type": "markdown",
   "metadata": {},
   "source": [
    "\n",
    "\n",
    "\n",
    "### Exercice 2 (2 points)\n",
    "\n",
    "Soit $P$ la proposition : $\\forall x \\in \\mathbb{R}, \\exists a \\in \\mathbb{R} \\quad \\mid \\quad x^2-ax+a^2=0$  \n",
    "   \n",
    "   a. Déterminer $\\overline{P}$ la négation de la proposition $P$.  \n",
    "   \n",
    "   b. En déduire que la proposition $P$ est fausse."
   ]
  },
  {
   "cell_type": "markdown",
   "metadata": {},
   "source": [
    "a. $\\overline{P} :\\exists x \\in \\mathbb{R} \\mid  \\forall a \\in \\mathbb{R} \\quad \\mid \\quad x^2-ax+a^2 \\neq 0$ \n",
    "\n",
    "b. Pour $x=2$ , $a^2-2a+4=(a-1)^2+3>0$ . $\\overline{P}$ est donc vraie et ainsi $P$ est fausse. "
   ]
  },
  {
   "cell_type": "markdown",
   "metadata": {},
   "source": [
    "\n",
    "### Exercice 3 (2 points)\n",
    "\n",
    "Montrer en utilisant un raisonnement par contraposée que :  \n",
    "   \n",
    "   $$\\forall (x,y) \\in \\mathbb{R}^2, (xy+x+y<0)\\implies (x>-2 \\text{ ou } y>-2)$$\n",
    "\n",
    "   \n"
   ]
  },
  {
   "cell_type": "markdown",
   "metadata": {},
   "source": [
    "La contraposée  est :\n",
    "\n",
    " $$\\forall (x,y) \\in \\mathbb{R}^2, (x\\leq -2 \\text{ et } y\\leq -2) \\implies  (xy+x+y \\geq 0) $$\n"
   ]
  },
  {
   "cell_type": "markdown",
   "metadata": {},
   "source": [
    "### Exercice 4 (2 points)\n",
    "\n",
    "Démontrer que $n(2n + 1)(7n + 1)$ est divisible par $2$ par disjonction de cas."
   ]
  },
  {
   "cell_type": "markdown",
   "metadata": {},
   "source": [
    "Par discjonction de cas : \n",
    "\n",
    "* Si $n$ est pair, $\\exists k \\in \\mathbb{N} \\mid n=2k$, $2k(4k + 1)(14k + 1)= 2\\left( k(4k + 1)(14k + 1) \\right)$ qui est divisible par 2\n",
    "\n",
    "* Si $n$ est impair, $\\exists k \\in \\mathbb{N} \\mid n=2k+1$, $(2k+1)(2(2k+1)+1)(7(2k+1)+1)= (2k+1)(4k+3)(14k+8) =2(2k+1)(4k+3)(7k+3)$ qui est divisible par 2"
   ]
  },
  {
   "cell_type": "markdown",
   "metadata": {},
   "source": [
    "### Exercice 5 (4 points)\n",
    "\n",
    "Montrer par récurrence que :\n",
    "   $$\\forall n \\in \\mathbb{N}^*,\\quad \\sum_{k=1}^{n} k^2 =\\frac{n(n+1)(2n+1)}{6}$$\n",
    "\n",
    "Soit $P(n)$ la proposition $$P(n) : \\sum_{k=1}^{n} k^2 =\\frac{n(n+1)(2n+1)}{6}$$\n",
    "\n",
    "- $P(1)$ est vraie car $\\sum_{k=1}^{1} k^2 =1$ et $\\frac{1(1+1)(2\\times 1 +1)}{6}=1$\n",
    "\n",
    "- Suppsons que pour un enteir $n \\geq 1$ fixé, $p(n)$ est vraie et démontrons $P(n+1)$\n",
    "\n",
    "$$\\begin{align*}\n",
    "\\sum_{k=1}^{n+1} k^2 &= \\sum_{k=1}^{n} k^2 +(n+1)^2 & \\\\\n",
    "                     &=  \\frac{n(n+1)(2n+1)}{6} +(n+1)^2 & \\text {par hypopthèse de récurrence} \\\\\n",
    "                     &=  \\frac{n(n+1)(2n+1)+6(n+1)^2}{6}& \\\\\n",
    "                     &=  \\frac{(n+1)(n(2n+1)+6(n+1))}{6}& \\\\\n",
    "                     &=  \\frac{(n+1)(2n^2+7n+6}{6})& \\\\\n",
    "                     &=  \\frac{(n+1)(2n+3)(n+2)}{6}& \\text{après factorisation}\\\\                \n",
    "\\end{align*}$$\n",
    "\n",
    "ce qui est bien $P(n+1)$\n",
    "\n",
    "- $P(n)$ est initialisée et héréditaire donc vraie pour tout $n \\geq 1$.\n",
    "\n",
    "   "
   ]
  },
  {
   "cell_type": "markdown",
   "metadata": {},
   "source": [
    "### Exercice 6 (2 points)\n",
    "\n",
    "Résoudre dans $\\mathbb{R}$ , $$\\sqrt{1-2x}=x+7$$\n",
    "\n",
    "L'ensemble d'étude $D_e$ de cette équation vérifie : $x \\in D_e \\iff 1-2x \\geq 0 \\iff x \\leq \\frac12$\n",
    "\n",
    "Sur $D_e , \\sqrt{1-2x}=x+7 \\implies (1-2x)=(x+7)^2 \\implies x^2+16x+48=0 \\implies x= \\text{ ou } x=$\n",
    "   \n",
    "Areès vérification, seule la solution $x=$ convient.\n",
    "$$S=\\{\\}$$"
   ]
  },
  {
   "cell_type": "markdown",
   "metadata": {},
   "source": [
    "## Partie 2 (15 points)\n",
    "\n",
    "### Exercice 7 (2 points)\n",
    "\n",
    "Déterminer les couples $(x; y)$ d’entiers naturels tels que :\n",
    "   $$x^2 − 2xy = 21$$\n",
    "\n",
    "\n",
    "$x^2 − 2xy = 21 \\iff x(x-2y)=21$ donc $x$ est un diviseur de 21 $x \\in \\{1,3,7,21\\}$\n",
    "\n",
    "* Si $x=1$, alors $1-2y=21 $ ce qui est impossible avec $y \\in \\mathbb{N}$\n",
    "* Si $x=3$, alors $3-2y=7 $ ce qui est impossible avec $y \\in \\mathbb{N}$\n",
    "* Si $x=7$, alors $7-2y=3 $  donc $y=2$\n",
    "* Si $x=21$, alors $21-2y=1 $ donc $y=10$\n",
    "\n",
    "Les couples solutions sont $S=\\{(7,2);(21,10)\\}$\n"
   ]
  },
  {
   "cell_type": "markdown",
   "metadata": {},
   "source": []
  },
  {
   "cell_type": "markdown",
   "metadata": {},
   "source": [
    "### Exercice 8 (3 points)\n",
    "\n",
    "Pour tout entier naturel non nul $n$, on pose $a=5n+1$ et $b=2n−1$. On note $\\Delta = PGCD(a ; b)$.\n",
    "   \n",
    "   a. Démontrer que les valeurs possibles de $\\Delta$ sont 1 ou 7.  \n",
    "\n",
    "   b. Déterminer les entiers $n$ tels que $a\\equiv 0[7]$ et $b\\equiv 0[7]$.  \n",
    "   \n",
    "   c. En déduire, suivant les valeurs de $n$, la valeur de $\\Delta$.  "
   ]
  },
  {
   "cell_type": "markdown",
   "metadata": {},
   "source": [
    "\n",
    "### Exercice 9 (6 points)\n",
    "\n",
    "**Question de cours** : Enoncer le théorème de Bézout.\n",
    "\n",
    "On considère l’équation $(E) : 87x + 31y = 2$ où $x$ et $y$ sont des entiers relatifs.\n",
    "   \n",
    "a. En utilisant l’algorithme d’Euclide, vérifier que 87 et 31 sont premiers entre eux.  \n",
    "\n",
    "b. En déduire un couple d’entiers relatifs $(u; v)$ tel que $87u + 31v = 1$, puis déduire une solution particulière de l’équation $(E)$.\n",
    "\n",
    "c. Déterminer l’ensemble des solutions de $(E)$ dans $\\mathbb{Z}^2$.\n",
    "\n",
    "d. Trouver les points de la droite ∆ d’équation $87x + 31y − 2 = 0$ dont les coordonnées sont des entiers naturels et dont l’abscisse est comprise strictement entre 0 et 100."
   ]
  },
  {
   "cell_type": "markdown",
   "metadata": {},
   "source": [
    "a. Le $PGCD$ est le dernier reste non nul dans l'algorithme d'Euclide \n",
    "\n",
    "$$\\begin{align*}\n",
    "87 & =31 \\times 2 +25 \\\\\n",
    "31 &= 25\\times 1+6\\\\\n",
    "25 &= 4 \\times 6 +1\\\\\n",
    "\\end{align*}$$\n",
    "\n",
    "$PGCD(87,31)=1$\n"
   ]
  },
  {
   "cell_type": "markdown",
   "metadata": {},
   "source": [
    "\n",
    "b. \n",
    "$$\\begin{align*}\n",
    "1 & = 25- 4\\times 6 & \\\\\n",
    "1 & = 25 -4 \\times (31-25) = 5 \\times 25 - 4 \\times 31 \\\\\n",
    "1&= 5 \\times (87-2\\times 31)-4 \\times 31 = 5 \\times 87 -14 \\times 31 \\\\\n",
    "1&= 5 \\times 87 -14 \\times 31\n",
    "\\end{align*}$$\n",
    "\n",
    "On en déduit $(u,v)=(5,-14)$ . Une solution particulère de $E$ est donc (10,-28)"
   ]
  },
  {
   "cell_type": "markdown",
   "metadata": {},
   "source": [
    "c. $\\begin{cases}\n",
    "10 \\times 87 -28 \\times 31 &= 2 \\\\\n",
    "x \\times 87 -y \\times 31 &= 2 \\\\\n",
    "\\end{cases}$\n",
    "\n",
    "En soustrayant terme à terme,  $87 \\times(10-x)-31 \\times(28-y)= 0$\n",
    " soit$ 87 \\times(10-x)=31 \\times(28-y)\\qquad (R)$\n",
    "\n",
    "donc 87 divise $31 \\times(28-y)$ et et premier avec 31 daonc d'après le théorème de Gauss 87 divise $28-y$\n",
    "\n",
    "Il existe donc $k \\in \\mathbb{Z}$ tel que $28-y=87k$ soit $$y=28-87k$$\n",
    "\n",
    "En remplacant dans $(R)$ on obtient $10-x=31k$ soit $$x=10-31k$$\n",
    "\n",
    "L'ensemble des solutions est donc $$S=\\{(10-31k,28-87k), k \\in \\mathbb{Z}\\}$$\n",
    "\n",
    "\n",
    "IL y a une erreur dans un coin"
   ]
  },
  {
   "cell_type": "markdown",
   "metadata": {},
   "source": [
    "### Exercice 10 (4 points)\n",
    "\n",
    "a) Montrer que : $3^3 \\equiv −1 [7]$.  \n",
    "   \n",
    "b) En déduire que $1515^{2004} -1$ est divisible par 7 et que le reste de $3^{2018}$ par 7 est 2.\n",
    "\n",
    "\n",
    "a. $3^2=9 \\equiv 2 [7]$ donc $3^3 \\equiv 3\\times 2 \\equiv 6 \\equiv -1 [7]$\n",
    "\n"
   ]
  },
  {
   "cell_type": "markdown",
   "metadata": {},
   "source": [
    "$1515 \\equiv 3 [7]$ donc $1515^{2004} \\equiv 3^{2004} [7]$\n",
    "$2004=3 \\times 668$ donc $3^{2004} \\equiv 3^{3\\times 668} \\equiv (-1)^{668} \\equiv 1 [7]$ ainsi $1515^{2004}-1 \\equiv 0[7]$ et $1515^{2004}-1 $ est divisible par 7\n",
    " \n",
    "$2018=2016+2$ donc $3^{2018} \\equiv 3^{2016+2} \\equiv 3^{2016}\\times 3^2 \\equiv 3^{3 \\times 672} \\times 3^2 \\equiv 1\\times 9 \\equiv 2 [7]$"
   ]
  },
  {
   "cell_type": "markdown",
   "metadata": {},
   "source": []
  }
 ],
 "metadata": {
  "interpreter": {
   "hash": "7812ea015bdcee6f23a998adcdd2ef97c151c0c241b7b7070987d9313e41299d"
  },
  "kernelspec": {
   "display_name": "Python 3",
   "language": "python",
   "name": "python3"
  },
  "language_info": {
   "codemirror_mode": {
    "name": "ipython",
    "version": 3
   },
   "file_extension": ".py",
   "mimetype": "text/x-python",
   "name": "python",
   "nbconvert_exporter": "python",
   "pygments_lexer": "ipython3",
   "version": "3.8.5"
  }
 },
 "nbformat": 4,
 "nbformat_minor": 2
}
