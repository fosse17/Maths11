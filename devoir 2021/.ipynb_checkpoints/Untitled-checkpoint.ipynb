{
 "cells": [
  {
   "cell_type": "markdown",
   "metadata": {},
   "source": [
    "# Bareme DS2\n",
    "\n",
    "## Exercice 1 (3pt)\n",
    "\n",
    "1 point par question\n",
    "\n",
    "## Exercice 2 (3pt)\n",
    "\n",
    "1,5 point par question\n",
    "\n",
    "## Exercice 3 (2pt)\n",
    "\n",
    "1 point pour la contraposée\n",
    "1 point pour la démonstration\n",
    "\n",
    "## Exercice 4 (2pt)\n",
    "\n",
    "* 0,5 point pour la disjonction pair/imapair\n",
    "\n",
    "* 0.5 point  pour n pair\n",
    "\n",
    "* 1 point pour n impair\n",
    "\n",
    "## Exercice 5 (5pt)\n",
    "\n",
    "* 1 point pour initialisation\n",
    "* 1 point pour utilisation de l'hérédité\n",
    "* 1 point pour la mise au même dénominateur\n",
    "* 1 point pour developpement ou facto\n",
    "* 1 point pour conclusion\n",
    "\n",
    "## Exercice 6 (3pt)\n",
    "\n",
    "1 point par question\n",
    "\n",
    "## Exercice 7 (7pt)\n",
    "* question de cours : 1 point\n",
    "* a) 1 point pour algo euclide\n",
    "* b) \n",
    "    - 0.5 point pour citer Bezout\n",
    "    - 1 point pour $87u+31v=1$\n",
    "    - 0,5 point pour une solution de (E)\n",
    "* c)\n",
    "    - 0,5 pour citer Gauss\n",
    "    - 1 point pour x(ou y)\n",
    "    -0,5 pour point pour autre solution en remplaçant\n",
    "* d) 1 point\n",
    "\n",
    "## Exercice 8 (5pt)\n",
    "\n",
    "* a) 1 point ( 0,5 pour 6[7} )\n",
    "* b) \n",
    "    - 1 point pour $1515 \\equiv 3[7] et un point pour réponse finale\n",
    "    - 1 point pour décompostion intelligente de 2018 et 1 point pour réponse finale\n",
    "    "
   ]
  }
 ],
 "metadata": {
  "kernelspec": {
   "display_name": "Python 3",
   "language": "python",
   "name": "python3"
  },
  "language_info": {
   "codemirror_mode": {
    "name": "ipython",
    "version": 3
   },
   "file_extension": ".py",
   "mimetype": "text/x-python",
   "name": "python",
   "nbconvert_exporter": "python",
   "pygments_lexer": "ipython3",
   "version": "3.8.5"
  }
 },
 "nbformat": 4,
 "nbformat_minor": 4
}
