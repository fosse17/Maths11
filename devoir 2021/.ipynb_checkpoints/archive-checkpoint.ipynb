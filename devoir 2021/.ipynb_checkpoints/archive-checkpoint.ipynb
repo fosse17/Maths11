{
 "cells": [
  {
   "cell_type": "markdown",
   "id": "8d2e3a37",
   "metadata": {},
   "source": [
    "On veut démontrer l'implication suyivante par contraposition, : \n",
    "\n",
    " pour $n \\in \\mathbb{N}^∗$: Si l'entier $(n^2−1)$ n'est pas divisible par 8, alors l'entier $n$ est pair.\n",
    " \n",
    " 1. Ecrire la contraposée de la proposition précédente.\n",
    "2. Démontrer , par disjonction de cas, qu'un entier impair $n$ s'écrit sous la forme $n=4k+r$ avec  $k \\in \\mathbb{N}$ et $r\\in \\{1;3\\}$\n",
    "3. prouver la contraposée.\n",
    "4. A-t-on démontré la propriété de l'énoncé?\n",
    "\n",
    "On considère la proposition $(𝑃)$ suivante :\n",
    "(𝑃) « Pour tout nombre réel $𝑥$, il existe au moins un entier naturel $𝑁$ supérieur ou égal à $𝑥$ »\n",
    "\n",
    "1. Ecrire la proposition (𝑃) avec des quantificateurs.\n",
    "2. Ecrire la négation avec des quantificateurs puis l’énoncer en français.\n",
    "\n",
    "On définit l'opérateur logique ↑ par A ↑ B =⌉(A ∧ B). Montrer qu'on peut exprimer tous les opérateurs logiques du cours (⌉, ∧, ∨, ⇒, ⇔) en utilisant uniquement ↑.\n",
    "\n",
    "Un inspecteur livre sa version des faits au juge pour savoir qui de Vincent  ou de Quentin  est le véritable auteur d'un meurtre.\n",
    "\n",
    "* Si Vincent n’a pas rencontré Quentin l’autre nuit, c’est que Quentin est le meurtrier ou Vincent est un menteur.  \n",
    "* Si Quentin n’est pas le meurtrier, alors Vincent n’a pas rencontré Quentin l’autre nuit et le crime a eu lieu après minuit.  \n",
    "* Si le crime a eu lieu après minuit, alors Quentin est le meurtrier ou Vincent n’est pas un menteur.\n",
    "\n",
    "\n",
    "* Donc Quentin est le meurtrier.\n",
    "\n",
    "\n",
    "L’inspecteur est-il un bon logicien ?"
   ]
  }
 ],
 "metadata": {
  "kernelspec": {
   "display_name": "Python 3",
   "language": "python",
   "name": "python3"
  },
  "language_info": {
   "codemirror_mode": {
    "name": "ipython",
    "version": 3
   },
   "file_extension": ".py",
   "mimetype": "text/x-python",
   "name": "python",
   "nbconvert_exporter": "python",
   "pygments_lexer": "ipython3",
   "version": "3.8.11"
  }
 },
 "nbformat": 4,
 "nbformat_minor": 5
}
