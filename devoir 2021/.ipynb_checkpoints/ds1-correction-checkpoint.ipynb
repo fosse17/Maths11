{
 "cells": [
  {
   "cell_type": "markdown",
   "metadata": {},
   "source": [
    " <table style=\"background-color: white;width:100%;\">\n",
    "    <tr style=\"display:none\">\n",
    "        <td></td>\n",
    "        <td></td>\n",
    "    </tr>\n",
    "    <tr style=\"height:3em\">\n",
    "        <td style=\"width:20%;align:left\"><img src=\"iut_bordeaux.jpg\"></td>\n",
    "        <td style=\"width:60%;font: bold 2em 'Fira Sans', serif;text-align:center\"> DS 1<br>Numération et logique</td>\n",
    "        <td style=\"width:20%;font: bold 1.3em 'Fira Sans', serif;vertical-align:top;\">R01.06<br>9 octobre 2021<br>1 heure 30<i></i></td>\n",
    "    </tr>\n",
    "</table>"
   ]
  },
  {
   "cell_type": "markdown",
   "metadata": {},
   "source": [
    "<p style=\"text-align:center\">Le barème indicatif est sur 30 points. La note sera ensuite ramenée sur 20. <br>\n",
    "    <br>\n",
    "    <strong>Sans document, ni calculatrice.</strong></p>\n",
    "\n",
    "On donne : \n",
    "\n",
    "$$\\begin{array}{|c||c|}\n",
    "\\hline\n",
    "2^7 & 2^4 & 2^3  & 2^{-1} & 2^{-2} & 2^{-3} \\\\\n",
    "\\hline\n",
    "128 & 16 & 8  & 0,5 & 0,25 & 0,125 \\\\\n",
    "\\hline\n",
    "\\end{array}\n",
    "$$"
   ]
  },
  {
   "cell_type": "markdown",
   "metadata": {},
   "source": [
    "## Numération (15 points)\n",
    "\n",
    "1 . Convertir (**3 points**) $\\color{red}{\\text{0.5 point par réponse}}$:\n",
    "\n",
    "* $(1011, 11)_2$ vers la base 10. $\\color{red} {11,75}$\n",
    "\n",
    "\n",
    "\n",
    "* $(10 0100 1011)_2$ vers les bases 4 et 16. $\\color{red} {21023_ 4} \\text{ et } \\color{red}{24B_{16}}$\n",
    "\n",
    "* $(A5C)_{16}$ vers la base deux. $\\color{red}{101001011100}$ \n",
    "\n",
    "* $(12,625)_{10}$ vers la base  2 $\\color{red}{1100,101}$\n",
    "\n",
    "* $(0,15)_{10}$ vers la base 2 (on écrira la partie fractionnaire sur 7 bits). $\\color{red}{0,0010011}$"
   ]
  },
  {
   "cell_type": "markdown",
   "metadata": {},
   "source": [
    "---\n",
    "2 . Effectuer  (**1 point**) : $\\color{red}{\\text{0.5 point par réponse}}$\n",
    "\n",
    "* $(101101)_2 + (111)_2$.    $\\color{red}{110100_2}$\n",
    "\n",
    "* $(2054)_7 + (156)_7$. $\\color{red}{2243_7}$\n",
    "---\n",
    "3 . Complément à deux. (**4 points**)\n",
    "\n",
    "* Donner la représentation en complément à deux sur un octet de -108 et de 32.$\\color{red}{\\:\\:\\text{1 point par réponse}}$\n",
    "$01101100 \\rightarrow 10010011 \\rightarrow \\color{red}{10010100} $\n",
    "* Effectuer l'opération 32-108 en binaire complément à deux. $\\color{red}{10110100} $$\\:\\:\\color{red}{\\text{1 point}}$\n",
    "\n",
    "* Convertir le résultat en décimal pour vérification.\n",
    "\n",
    "$\\color{red}{10110100 \\rightarrow  01001100_2=76_{10} \\text{ donc }  32-108=(-76)}$$\\color{red}{\\:\\:\\text{1 point}}$\n",
    "\n",
    "---"
   ]
  },
  {
   "cell_type": "markdown",
   "metadata": {},
   "source": [
    "4 . Représentation en IEEE 754. (**4 points**) $\\color{red}{\\:\\:\\text{2 points par réponse( 1 point méthode, 1 résultat)}}$\n",
    "* Quelle est la représentation en IEEE 754 (32 bits) de $(-33,75)_{10}$ ?\n",
    "$\\color{red}{11000010000001110000000000000000}$\n",
    "* A quel nombre réel correspond  : \n",
    "$$01000001010010000000000000000000$$\n",
    "$\\color{red}{12,5}$\n",
    "\n",
    "\n",
    "---"
   ]
  },
  {
   "cell_type": "markdown",
   "metadata": {},
   "source": [
    "5 . Base.  (**3 points**)  $\\color{red}{\\:\\:\\text{1  points pour équation, 1 pour 8 et un pour le nombre de chaussures}}$\n",
    "\n",
    "On compte en base $b$ un ensemble de chaussures.\n",
    "Toutes les paires sont complètes.  \n",
    "\n",
    "* Le nombre de paires est : $(352)_b$.\n",
    "\n",
    "* Le nombre de chaussures est : $(724)_b$.\n",
    "\n",
    "Découvrir dans quelle base $b$ s'est fait le dénombrement et quel est le nombre de chaussures exprimé en base $10$.\n",
    "\n",
    "$\\color{red}{2\\times (3b^2+5b+2)=7b^2+2b+4 \\text{ donc } b^2-8b=0 \\text{ soit  b=8 soit 468 chaussures}}$"
   ]
  },
  {
   "cell_type": "markdown",
   "metadata": {},
   "source": [
    "## Logique (15 points)\n",
    "\n",
    "6 . Table de vérité et simplification.  (**3 points**) $\\color{red}{\\:\\:\\text{1.5 point pour la table, 1.5 pour la simplification}}$\n",
    "\n",
    "* Etablir la table de vérité de : $$P: (\\overline q\\wedge (p\\vee r))\\implies p$$\n",
    "\n",
    "$$\n",
    "\\color{red}{\n",
    "\\begin{array}{|c|c|c|c|c|}\n",
    "\\hline\n",
    "p &  q  & r  & p \\vee r & \\overline q\\wedge (p\\vee r) & P\\\\\n",
    "\\hline\n",
    "0 &\t0 & 0 & 0 & 0 & 1\\\\\n",
    "0 & 0 & 1 & 1 & 1& 0 \\\\\n",
    "0 &\t1 &\t0 &\t0 & 0 & 1\\\\\n",
    "0 &\t1 &\t1 &\t1 & 0 & 1\\\\\n",
    "1 &\t0 &\t0 &\t1 & 1 & 1\\\\\n",
    "1 &\t0 &\t1 &\t1 & 1 & 1\\\\\n",
    "1 & 1 &\t0 &\t1 & 0 & 1\\\\\n",
    "1 &\t1 &\t1 &\t1 & 0 & 1\\\\\n",
    "\\hline\n",
    "\\end{array}\n",
    "}\n",
    "$$\n",
    "\n",
    "* Simplifier $P$.\n",
    "$\\color{red}{P: \\overline{\\overline p \\wedge \\overline q \\wedge r}= p \\vee q \\vee \\overline r}$"
   ]
  },
  {
   "cell_type": "markdown",
   "metadata": {},
   "source": [
    "7 . Expression Booléenne. (**3 points**)\n",
    "$$\\begin{array}{|c|c|c|c|}\n",
    "\\hline\n",
    "a &  b  & c  & f(a,b,c) \\\\\n",
    "\\hline\n",
    "0 &\t0 & 0 &  0 \\\\\n",
    "0\t& 0 &\t1 &\t1 \\\\\n",
    "0 &\t1 &\t0 &\t1 \\\\\n",
    "0 &\t1 &\t1 &\t0 \\\\\n",
    "1 &\t0 &\t0 &\t0 \\\\\n",
    "1 &\t0 &\t1 &\t1 \\\\\n",
    "1 & 1 &\t0 &\t1 \\\\\n",
    "1 &\t1 &\t1 &\t0 \\\\\n",
    "\\hline\n",
    "\\end{array}\n",
    "$$\n",
    "\n",
    "Donner puis simplifier l'expression logique de $f(a,b,c)$.\n",
    "\n",
    "$\\color{red}{\n",
    "\\begin{align}\n",
    "f(a,b,c) &= (\\overline a\\wedge \\overline b \\wedge c) \\vee (\\overline a\\wedge b \\wedge \\overline c) \\vee (a\\wedge \\overline b \\wedge c) \\vee (a\\wedge b \\wedge \\overline c) \\:\\:\\text{1 point }\\\\\n",
    "&=(\\overline b \\wedge c) \\vee (b \\wedge \\overline c)\\:\\:\\text{1 point }\\\\\n",
    "&=b \\oplus c \\:\\:\\text{1 point }\n",
    "\\end{align}\n",
    "}\n",
    "$"
   ]
  },
  {
   "cell_type": "markdown",
   "metadata": {},
   "source": [
    "---\n",
    "\n",
    "8 . Le $\\oplus$ (**3 points**)\n",
    "* Ecrire les formules de l'associativité et la commutativité de la disjonction exclusive $\\oplus$.\n",
    "\n",
    "$\\color{red}{(A \\oplus B) \\oplus C =A \\oplus (B \\oplus C) \\text{ et }\n",
    "A \\oplus B= B \\oplus A \\:\\:\\text{1 point }}$\n",
    "\n",
    "* Simplifier $A \\oplus A$, $A\\oplus 0$.\n",
    "\n",
    "$\\color{red}{A \\oplus A =0 \\text{ et } A \\oplus 0 =A \\:\\:\\text{1 point }}$\n",
    "* En citant précisemment  la propriété utilisée à chaque étape, démontrer que :\n",
    "$$ (A \\oplus B)\\oplus A =B.$$\n",
    "\n",
    "$$\\color{red}{\n",
    "\\begin{align*}\n",
    "(A \\oplus B)\\oplus A &=  A \\oplus (A \\oplus B) \\text{ commutativité } \\\\\n",
    "&=(A \\oplus A) \\oplus B \\text{ associativité } \\\\\n",
    "&=0 \\oplus B  \\\\\n",
    "&= B \\:\\:\\text{1 point }\n",
    "\\end{align*}}\n",
    "$$"
   ]
  },
  {
   "cell_type": "markdown",
   "metadata": {},
   "source": [
    "9 . Un jeu de logique. (**3 points**)\n",
    "\n",
    "Vous participez  à un jeu d'enigmes dont les règles sont les suivantes :\n",
    "\n",
    "Les propositions composant une énigme sont alternativement vraies et fausses, c’est-à-dire que :\n",
    "\n",
    "* soit les propositions de numéros pairs sont vraies et les propositions de numéros impairs fausses ;\n",
    "\n",
    "* soit les propositions de numéros pairs sont fausses et les propositions de numéros impairs vraies."
   ]
  },
  {
   "cell_type": "markdown",
   "metadata": {},
   "source": [
    "Dans un labyrinthe, vous vous retrouvez bloqués dans une salle face à une porte sur laquelle se trouvent deux interrupteurs étiquetés A et B en position ouverte. \n",
    "\n",
    "Sur son seuil figure l’inscription suivante :\n",
    "\n",
    "Pour ouvrir la porte :\n",
    "\n",
    "> $P_1$ : Il faut fermer l’interrupteur A.\n",
    ">\n",
    ">$P_2$ : Il faut fermer simultanément les interrupteurs A et B. \n",
    ">\n",
    "> $P_3$ : Il ne faut pas fermer l’interrupteur B.\n",
    "\n",
    "Attention, en cas d’erreur la salle s’auto-détruira...\n",
    "\n",
    "En utilisant le calcul des propositions, déterminer l’action à effectuer pour ouvrir la porte.\n",
    "\n",
    "$\\color{red}{\n",
    "\\begin{align*}\n",
    "P & : (P_1 \\wedge \\overline{P_2} \\wedge P_3) \\vee(\\overline{P_1} \\wedge P_2 \\wedge \\overline{P_3})  \\:\\:\\text{1 point }\\\\\n",
    "& : (A \\wedge \\overline{(A\\wedge B)} \\wedge \\overline B) \\vee (\\overline A \\wedge (A \\wedge B)\\wedge \\overline{\\overline{B}})\\\\\n",
    "& : (A \\wedge(\\overline A \\vee \\overline B) \\wedge \\overline B) \\vee (\\overline A \\wedge A \\wedge B\\wedge B) \\\\\n",
    "& : A \\wedge \\overline B \\:\\:\\text{1 point }\n",
    "\\end{align*}}\n",
    "\\:\\:\\text{1 point pour la conclusion}\n",
    "$\n",
    "\n",
    "---"
   ]
  },
  {
   "cell_type": "markdown",
   "metadata": {},
   "source": [
    "10 . (**3 points**)\n",
    "\n",
    "Ecrire la négation, la contraposée et la réciproque de l'implication suivante : \n",
    "\n",
    "« Si j'ai plus de 10 de moyenne et pas de note en dessous de 8, alors je réussis mon année.\n",
    "\n",
    "$\\color{red}{\\:\\:\\text{1 point par réponse}}$"
   ]
  }
 ],
 "metadata": {
  "kernelspec": {
   "display_name": "Python 3",
   "language": "python",
   "name": "python3"
  },
  "language_info": {
   "codemirror_mode": {
    "name": "ipython",
    "version": 3
   },
   "file_extension": ".py",
   "mimetype": "text/x-python",
   "name": "python",
   "nbconvert_exporter": "python",
   "pygments_lexer": "ipython3",
   "version": "3.8.11"
  }
 },
 "nbformat": 4,
 "nbformat_minor": 2
}
