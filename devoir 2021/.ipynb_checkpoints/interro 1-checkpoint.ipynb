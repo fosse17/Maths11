{
 "cells": [
  {
   "cell_type": "markdown",
   "id": "755e817b",
   "metadata": {},
   "source": [
    " <table style=\"background-color: white;width:100%;\">\n",
    "    <tr style=\"display:none\">\n",
    "        <td></td>\n",
    "        <td></td>\n",
    "    </tr>\n",
    "    <tr style=\"height:3em\">\n",
    "        <td style=\"width:20%;align:left\"><img src=\"iut_bordeaux.jpg\"></td>\n",
    "        <td style=\"width:60%;font: bold 2em 'Fira Sans', serif;text-align:center\"> Interrogation 1<br>Numération et logique</td>\n",
    "        <td style=\"width:20%;font: bold 1.3em 'Fira Sans', serif;vertical-align:top;\">R01.06<br>4 octobre 2021<br>15 min<i>\n",
    "            <br> sur 10 points</i></td>\n",
    "    </tr>\n",
    "</table>"
   ]
  },
  {
   "cell_type": "markdown",
   "id": "03f87370",
   "metadata": {},
   "source": [
    "Nom : $\\qquad \\qquad \\qquad \\qquad \\qquad \\qquad \\qquad \\qquad $Prénom : \n"
   ]
  },
  {
   "cell_type": "markdown",
   "id": "116a6146",
   "metadata": {},
   "source": [
    "#### Exercice 1\n",
    "Donner la définition de la division euclidienne dans $\\mathbb{Z}$.\n",
    "<p style=\"border:solid 1px\">\n",
    "<br>\n",
    "    <br>\n",
    "    <br>\n",
    "</p>"
   ]
  },
  {
   "cell_type": "markdown",
   "id": "7a26c743",
   "metadata": {},
   "source": [
    "#### Exercice 2\n",
    "\n",
    "Montrer que :  pour tout $a,b,c$ dans $\\mathbb{N}^*$, $a|b$ et $b|c \\implies a|c$.\n",
    "\n",
    "<p style=\"border:solid 1px\">\n",
    "<br>\n",
    "    <br>\n",
    "    <br>\n",
    "    <br>\n",
    "</p>"
   ]
  },
  {
   "cell_type": "markdown",
   "id": "919a0da5",
   "metadata": {},
   "source": [
    "#### Exercice 3\n",
    "\n",
    "On donne $(1111\\:1101)_2$ en complément à deux sur 8 bits. Quel ce nombre en décimal ?\n",
    "<p style=\"border:solid 1px\">\n",
    "<br>\n",
    "    <br>\n",
    "    <br>\n",
    "</p>"
   ]
  },
  {
   "cell_type": "markdown",
   "id": "ee5bdde8",
   "metadata": {},
   "source": [
    "#### Exercice 4\n",
    "\n",
    "Trouver l'entier $b$ tel que $(101)_b=(14)_{2b}$\n",
    "\n",
    "<p style=\"border:solid 1px\">\n",
    "<br>\n",
    "    <br>\n",
    "    <br>\n",
    "</p>"
   ]
  },
  {
   "cell_type": "markdown",
   "id": "f41d321c",
   "metadata": {},
   "source": [
    "#### Exercice 5\n",
    "\n",
    "Le connecteur de Sheffer est-il commutatif ?\n",
    "\n",
    "<p style=\"border:solid 1px\">\n",
    "<br>\n",
    "    <br>\n",
    "    <br>\n",
    "</p>\n"
   ]
  }
 ],
 "metadata": {
  "kernelspec": {
   "display_name": "Python 3",
   "language": "python",
   "name": "python3"
  },
  "language_info": {
   "codemirror_mode": {
    "name": "ipython",
    "version": 3
   },
   "file_extension": ".py",
   "mimetype": "text/x-python",
   "name": "python",
   "nbconvert_exporter": "python",
   "pygments_lexer": "ipython3",
   "version": "3.8.11"
  }
 },
 "nbformat": 4,
 "nbformat_minor": 5
}
