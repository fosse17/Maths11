{
 "cells": [
  {
   "cell_type": "markdown",
   "metadata": {},
   "source": [
    "<table style=\"width:100%;\">\n",
    "    <tr style=\"display:none\">\n",
    "        <td></td>\n",
    "        <td></td>\n",
    "    </tr>\n",
    "    <tr style=\"height:3em\">\n",
    "        <td style=\"width:20%;align:left\"><img src=\"iut_bordeaux.jpg\"></td>\n",
    "        <td style=\"width:60%;font: bold 2em 'Fira Sans', serif;text-align:center\"> DS 2<br>logique  et arithmétique</td>\n",
    "        <td style=\"width:20%;font: bold 1.3em 'Fira Sans', serif;vertical-align:top;\">R01.06<br>4 décembre 2021<br>1h30<i>\n",
    "            <br> sur 30 points</i></td>\n",
    "    </tr>\n",
    "</table>"
   ]
  },
  {
   "cell_type": "markdown",
   "metadata": {},
   "source": [
    "## Partie 1 (15 points)\n",
    "\n",
    "### Exercice 1 (3 points)\n",
    "\n",
    "Exprimer les propositions suivantes en utilisant les connecteurs logiques et les quantificateurs :\n",
    "   \n",
    "   a.  L’équation $x^2+x-1=0$ admet au moins une solution réelle supérieure à $\\dfrac32$.  \n",
    "   \n",
    "   b.  Il existe un unique nombre entier naturel compris entre $\\sqrt5$ et $\\sqrt{10}$.  \n",
    "\n",
    "   c.  Pour qu’un nombre réel $x$ soit supérieur à 1, il suffit que son cube soit supérieur à 2.  "
   ]
  },
  {
   "cell_type": "markdown",
   "metadata": {},
   "source": [
    "\n",
    "\n",
    "\n",
    "### Exercice 2 (3 points)\n",
    "\n",
    "Soit $P$ la proposition : $\\forall x \\in \\mathbb{R}, \\exists a \\in \\mathbb{R} \\quad \\mid \\quad x^2-ax+a^2=0$  \n",
    "   \n",
    "   a. Déterminer $\\overline{P}$ la négation de la proposition $P$.  \n",
    "   \n",
    "   b. En déduire que la proposition $P$ est fausse."
   ]
  },
  {
   "cell_type": "markdown",
   "metadata": {},
   "source": [
    "\n",
    "### Exercice 3 (2 points)\n",
    "\n",
    "Montrer en utilisant un raisonnement par contraposée que :  \n",
    "   \n",
    "   $$\\forall (x,y) \\in \\mathbb{R}^2, (xy+x+y<0)\\implies (x>-2 \\text{ ou } y>-2)$$\n"
   ]
  },
  {
   "cell_type": "markdown",
   "metadata": {},
   "source": [
    "### Exercice 4 (2 points)\n",
    "\n",
    "Démontrer que $n(2n + 1)(7n + 1)$ est divisible par $2$ par disjonction de cas."
   ]
  },
  {
   "cell_type": "markdown",
   "metadata": {},
   "source": [
    "### Exercice 5 (5 points)\n",
    "\n",
    "Montrer par récurrence que :\n",
    "   $$\\forall n \\in \\mathbb{N}^*,\\quad \\sum_{k=1}^{n} k^2 =\\frac{n(n+1)(2n+1)}{6}$$\n",
    "\n",
    "   "
   ]
  },
  {
   "cell_type": "markdown",
   "metadata": {},
   "source": [
    "## Partie 2 (15 points)\n"
   ]
  },
  {
   "cell_type": "markdown",
   "metadata": {},
   "source": [
    "### Exercice 6 (3 points)\n",
    "\n",
    "Pour tout entier naturel non nul $n$, on pose $a=5n+1$ et $b=2n−1$. On note $\\Delta = PGCD(a ; b)$.\n",
    "   \n",
    "   a. Démontrer que les valeurs possibles de $\\Delta$ sont 1 ou 7.  \n",
    "\n",
    "   b. Déterminer les entiers $n$ tels que $a\\equiv 0[7]$ et $b\\equiv 0[7]$.  \n",
    "   \n",
    "   c. En déduire, suivant les valeurs de $n$, la valeur de $\\Delta$.  "
   ]
  },
  {
   "cell_type": "markdown",
   "metadata": {},
   "source": [
    "\n",
    "### Exercice 7 (7 points)\n",
    "\n",
    "**Question de cours** : Enoncer le théorème de Bézout.\n",
    "\n",
    "On considère l’équation $(E) : 87x + 31y = 2$ où $x$ et $y$ sont des entiers relatifs.\n",
    "   \n",
    "a. En utilisant l’algorithme d’Euclide, vérifier que 87 et 31 sont premiers entre eux.  \n",
    "\n",
    "b. En déduire un couple d’entiers relatifs $(u; v)$ tel que $87u + 31v = 1$, puis déduire une solution particulière de l’équation $(E)$.\n",
    "\n",
    "c. Déterminer l’ensemble des solutions de $(E)$ dans $\\mathbb{Z}^2$.\n",
    "\n",
    "d. Trouver les points de la droite ∆ d’équation $87x + 31y − 2 = 0$ dont les coordonnées sont des entiers naturels et dont l’abscisse est comprise strictement entre 0 et 100."
   ]
  },
  {
   "cell_type": "markdown",
   "metadata": {},
   "source": [
    "### Exercice 8 (5 points)\n",
    "\n",
    "a) Montrer que : $3^3 \\equiv −1 [7]$.  \n",
    "   \n",
    "b) En déduire que $1515^{2004} -1$ est divisible par 7 et que le reste de $3^{2018}$ par 7 est 2."
   ]
  }
 ],
 "metadata": {
  "kernelspec": {
   "display_name": "Python 3",
   "language": "python",
   "name": "python3"
  },
  "language_info": {
   "codemirror_mode": {
    "name": "ipython",
    "version": 3
   },
   "file_extension": ".py",
   "mimetype": "text/x-python",
   "name": "python",
   "nbconvert_exporter": "python",
   "pygments_lexer": "ipython3",
   "version": "3.10.4"
  },
  "vscode": {
   "interpreter": {
    "hash": "aee8b7b246df8f9039afb4144a1f6fd8d2ca17a180786b69acc140d282b71a49"
   }
  }
 },
 "nbformat": 4,
 "nbformat_minor": 2
}
