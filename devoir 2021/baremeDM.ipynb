{
 "cells": [
  {
   "cell_type": "markdown",
   "metadata": {},
   "source": [
    "# Barème DM\n",
    "\n",
    "## Exercice 1 (5 points)\n",
    "* Intialisation : 1\n",
    "* hérédité : 3 \n",
    "* conclusion : 1\n",
    "\n",
    "## Exercice 2 (5 points)\n",
    "* Intialisation : 1\n",
    "* hérédité : 3 \n",
    "* conclusion : 1\n",
    "\n",
    "## Exercice 3 (7 points)\n",
    "* Intialisation : 1\n",
    "* hérédité : 3 \n",
    "* conclusion : 1\n",
    "* reprise avec congruence : 2\n",
    "\n",
    "## Exercice 4 (8 points)\n",
    "* Euclide pour obtenir PGCD : 2 \n",
    "* simplification : 1\n",
    "* Existence solutions :  1\n",
    "* solution générale : 3\n",
    "* vérification : 1\n",
    "\n",
    "## Exercice 5 (5 points)\n",
    "*  combinaison linéaire : 1 \n",
    "*  tableau de congruence : 2\n",
    "*  conclusion 2\n",
    "\n"
   ]
  }
 ],
 "metadata": {
  "language_info": {
   "name": "python"
  },
  "orig_nbformat": 4
 },
 "nbformat": 4,
 "nbformat_minor": 2
}
