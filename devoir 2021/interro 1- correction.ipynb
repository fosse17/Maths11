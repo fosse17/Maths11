{
 "cells": [
  {
   "cell_type": "markdown",
   "metadata": {},
   "source": [
    " <table style=\"background-color: white;width:100%;\">\n",
    "    <tr style=\"display:none\">\n",
    "        <td></td>\n",
    "        <td></td>\n",
    "    </tr>\n",
    "    <tr style=\"height:3em\">\n",
    "        <td style=\"width:20%;align:left\"><img src=\"iut_bordeaux.jpg\"></td>\n",
    "        <td style=\"width:60%;font: bold 2em 'Fira Sans', serif;text-align:center\"> Interrogation 1<br>Numération et logique</td>\n",
    "        <td style=\"width:20%;font: bold 1.3em 'Fira Sans', serif;vertical-align:top;\">R01.06<br>4 octobre 2021<br>15 min<i>\n",
    "            <br> sur 10 points</i></td>\n",
    "    </tr>\n",
    "</table>"
   ]
  },
  {
   "cell_type": "markdown",
   "metadata": {},
   "source": [
    "Nom : $\\qquad \\qquad \\qquad \\qquad \\qquad \\qquad \\qquad \\qquad $Prénom : \n"
   ]
  },
  {
   "cell_type": "markdown",
   "metadata": {},
   "source": [
    "#### Exercice 1\n",
    "Donner la définition de la division euclidienne dans $\\mathbb{Z}$.\n",
    "\n",
    "\n",
    "Soient $a \\in \\mathbb{Z}$ et $b \\in \\mathbb{N}^∗$, il existe un unique couple $(q, r) \\in \\mathbb{Z}\\times\\mathbb{N}$ tel que $$a = bq + r \\quad \\text{avec} \\quad 0 ≤ r < b$$\n",
    "    \n"
   ]
  },
  {
   "cell_type": "markdown",
   "metadata": {},
   "source": [
    "#### Exercice 2\n",
    "\n",
    "Montrer que :  pour tout $a,b,c$ dans $\\mathbb{N}^*$, $a|b$ et $b|c \\implies a|c$.\n",
    "\n",
    "\n",
    "* $a|b$ donc il existe un entier naturel $k$ tel que $b=a\\times k$  \n",
    "* $b|c$ donc il existe un entier naturel $k'$ tel que $c=b\\times k'$\n",
    "\n",
    "On a donc \n",
    "* $c=b\\times k'=a\\times k\\times k' = a \\times K$ avec  $ k\\in \\mathbb{N}^*$\n",
    "\n",
    "et $a|c$.\n",
    "\n"
   ]
  },
  {
   "cell_type": "markdown",
   "metadata": {},
   "source": [
    "#### Exercice 3\n",
    "\n",
    "On donne $(1111\\:1101)_2$ en complément à deux sur 8 bits. Quel ce nombre en décimal ?\n",
    "\n",
    "Complément à 1 : $(0000\\:0010)_2$  \n",
    "On ajoute 1 : $(0000\\:0011)_2$  \n",
    "donc $(-3)_{10}$"
   ]
  },
  {
   "cell_type": "markdown",
   "metadata": {},
   "source": [
    "#### Exercice 4\n",
    "\n",
    "Trouver l'entier $b$ tel que $(101)_b=(14)_{2b}$\n",
    "\n",
    "On obtient l'équation $1\\times b^2+0\\times b^1+1\\times b^0=1\\times (2b)^1+4\\times (2b)^0$\n",
    "    soit $$b^2+1=2b+4$$\n",
    "    \n",
    "$$b^2-2b-3=0\\iff (b+1)(b-3)=0$$ \n",
    "    \n",
    "donc $$b=3$$"
   ]
  },
  {
   "cell_type": "markdown",
   "metadata": {},
   "source": [
    "#### Exercice 5\n",
    "\n",
    "Le connecteur de Sheffer est-il commutatif ?\n",
    "\n",
    "$p|q=\\overline p \\vee \\overline q$ or la disjonction est commutative \n",
    "$$\n",
    "\\begin{align}\n",
    "p|q= & \\; \\overline p \\vee \\overline q \\\\\n",
    "    =  & \\; \\overline q \\vee \\overline p \\\\\n",
    "    = & \\: q|p\n",
    "\\end{align}\n",
    "$$\n"
   ]
  },
  {
   "cell_type": "code",
   "execution_count": null,
   "metadata": {},
   "outputs": [],
   "source": []
  }
 ],
 "metadata": {
  "kernelspec": {
   "display_name": "Python 3",
   "language": "python",
   "name": "python3"
  },
  "language_info": {
   "codemirror_mode": {
    "name": "ipython",
    "version": 3
   },
   "file_extension": ".py",
   "mimetype": "text/x-python",
   "name": "python",
   "nbconvert_exporter": "python",
   "pygments_lexer": "ipython3",
   "version": "3.8.5"
  }
 },
 "nbformat": 4,
 "nbformat_minor": 5
}
