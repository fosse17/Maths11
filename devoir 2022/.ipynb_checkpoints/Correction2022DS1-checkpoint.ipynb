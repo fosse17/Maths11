{
 "cells": [
  {
   "cell_type": "markdown",
   "metadata": {},
   "source": [
    "1. Oui , c'est une proposition fausse.\n",
    "2.  Non, on ne précise pas le domaine pour $x$"
   ]
  },
  {
   "cell_type": "markdown",
   "metadata": {},
   "source": [
    "1. \n",
    "$$\n",
    "\\begin{array}{|c|c|c|c|}\n",
    "\\hline\n",
    "p & q & r & P \\\\\n",
    "\\hline\n",
    "0 & 0 & 0 & 1\\\\\n",
    "0 & 0 & 1 & 1 \\\\\n",
    "0 & 1 & 0 & 1\\\\\n",
    "0 & 1 & 1 & 1 \\\\\n",
    "1 & 0 & 0 & 1\\\\\n",
    "1 & 0 & 1 & 1\\\\\n",
    "1 & 1 & 0 & 1\\\\\n",
    "1 & 1 & 1 & 1 \\\\\n",
    "\\hline\n",
    "\\end{array}\n",
    "$$\n",
    "2. \n",
    "$$\\begin{align*}\n",
    "    ( p\\land r)\\implies (p \\lor \\overline q)  &\\iff  \\overline{ p\\land r} \\lor (p \\lor \\overline q) \\\\\n",
    "                                                   &\\iff  (\\overline p \\lor \\overline r) \\lor (p \\lor \\overline q) \\\\\n",
    "                                                   &\\iff \\overline p \\lor \\overline r \\lor p \\lor \\overline q \\\\\n",
    "                                                   &\\iff \\overline p \\lor p \\lor \\overline r \\lor \\overline q \\\\\n",
    "                                                   &\\iff 1 \\lor \\overline r \\lor \\overline q \\\\\n",
    "                                                   &\\iff 1 \\\\\n",
    "\\end{align*}\n",
    "$$\n",
    "3. P est une tautologie"
   ]
  },
  {
   "cell_type": "markdown",
   "metadata": {},
   "source": [
    "1. $Q \\implies R$\n",
    "\n",
    "2. $Q$ est une condition suffisante de $R$\n",
    "\n",
    "3. $(x=-2) \\implies x \\leq 0$"
   ]
  },
  {
   "cell_type": "markdown",
   "metadata": {},
   "source": [
    "1. Associativité : $(A \\oplus B) \\oplus C \\iff A \\oplus (B \\oplus C )$\n",
    "\n",
    "Commutativité : $A \\oplus B  \\iff B \\oplus A $\n",
    "\n",
    "2. $A \\oplus A \\iff 0$ et $A \\oplus 0 \\iff A$\n",
    "\n",
    "3. \n",
    "$$\\begin{align*} (A \\oplus B) \\oplus A & \\iff A \\oplus (A \\oplus B) \\\\ \n",
    "& \\iff (A \\oplus A) \\oplus B \\\\\n",
    "& \\iff 0 \\oplus B \\\\\n",
    "& \\iff B\n",
    "\\end{align*} \n",
    "$$"
   ]
  },
  {
   "cell_type": "markdown",
   "metadata": {},
   "source": [
    "1. n'a pas ni connaisances informatiques ni expérience mais à suivi un stage.\n",
    "\n",
    "2. $E : (c \\land e)  \\lor (\\bar c \\land s ) \\lor (\\bar e \\land s)$\n",
    "\n",
    "3. \n",
    "$$\\begin{align*}\n",
    "(c \\land e)  \\lor (\\bar c \\land s ) \\lor (\\bar e \\land s) & \\iff (c \\land e)  \\lor [(\\bar c \\lor \\bar e ) \\land s] \\\\\n",
    "& \\iff (c \\land e)  \\lor [(\\overline{c \\land e } ) \\land s] \\\\\n",
    "& \\iff [(c \\land e)  \\lor (\\overline{c \\land e })] \\land  [(c \\land e) \\lor s] \\\\\n",
    "& \\iff 1 \\land  [(c \\land e) \\lor s] \\\\\n",
    "& \\iff  (c \\land e) \\lor s \\\\\n",
    "\\end{align*}$$\n",
    "\n",
    "4. La personne a des connaissances et de l’expérience,  ou à suivi un stage"
   ]
  },
  {
   "cell_type": "markdown",
   "metadata": {},
   "source": [
    "$f(p;q;r)\\iff 0 \\iff ( \\bar p\\land \\bar q \\land  r) \\lor ( \\bar p\\land  q \\land  r) \\lor (  p\\land  q \\land  r) \\iff 0$"
   ]
  },
  {
   "cell_type": "markdown",
   "metadata": {},
   "source": []
  },
  {
   "cell_type": "markdown",
   "metadata": {},
   "source": [
    "1. $-23=bq+7$ donc $bq=-30$ et $b>7$.\n",
    "Ainsi $b$ est un diviseur de -30( donc de 30)  supérieur à 7 donc $b \\in \\{15;30\\}$\n",
    "\n",
    "* Si $b=15$ , $q=-2$\n",
    "* si $b=30$, $q=-1$"
   ]
  },
  {
   "cell_type": "markdown",
   "metadata": {},
   "source": [
    "$$\\begin{cases}\n",
    "x-y &= & 885 \\\\\n",
    "x &= & 29y+17\n",
    "\\end{cases}$$\n",
    "\n",
    " ce qui nous donne : \n",
    "\n",
    " $$28y=868 \\iff y=31$$\n",
    "\n",
    " $$S=\\{916;31\\}$$"
   ]
  },
  {
   "cell_type": "markdown",
   "metadata": {},
   "source": [
    "1. $x\\equiv 2[7]$\n",
    "\n",
    "2. -2\n",
    "\n",
    "3. 115-27=88 et $88\\equiv 0[11]$\n",
    "\n",
    "4. $12n+7=4(3n+1)+3$ donc $r=3<4$"
   ]
  },
  {
   "cell_type": "markdown",
   "metadata": {},
   "source": [
    "1. $\\dfrac{3n-17}{n-4}=\\dfrac{3(n-4)-5}{n-4}=3-\\dfrac{5}{n-4}$\n",
    "\n",
    "2. $(n-4)$ divise $3n-17$ si et seulement si $n-4$ divise 5. Or les diviseurs de 5 dans $\\mathbb{Z}$ sont $\\{-5;-1;1;5\\}$.\n",
    "Il retse à tester les différentes valeurs possibles : \n",
    "* pour $n-4=-5$ et $n-4=-1$ c'est impossible car $n>4$\n",
    "* pour $n-4=1$ on obtient $n=5$\n",
    "* pour $n-4=5$ on obtient $n=9$\n",
    "\n",
    "$$S=\\{5;9\\}$$"
   ]
  },
  {
   "cell_type": "markdown",
   "metadata": {},
   "source": [
    "$451 × 6^{43} − 9^{12} \\equiv 3\\times (-1)^{43}-2^{12}[7] \\equiv -3 - {2^3}^4 [7] \\equiv -5[7] \\equiv 2[7]$\n",
    "\n",
    "Le reste est donc 2"
   ]
  },
  {
   "cell_type": "markdown",
   "metadata": {},
   "source": [
    "$3^{2017}[10] \\equiv 3^{2 \\times 1008 +1} \\equiv 3^{2^{1008}}\\times 3 \\equiv 1^{1008}\\times 3 \\equiv 3[10]$"
   ]
  },
  {
   "cell_type": "markdown",
   "metadata": {},
   "source": [
    "$2^{4n+1} + 3^{4n+1}[5] \\equiv {2^4}^n \\times 2 + {3^4}^n\\times 3 [5] \\equiv {1}^n \\times 2 + {1}^n\\times 3 [5] \\equiv 2+3[5] \\equiv 0[5]$"
   ]
  },
  {
   "cell_type": "markdown",
   "metadata": {},
   "source": [
    "1. \n",
    "$$\\begin{array}{|c|c|c|c|c|c|c|c|}\n",
    "\\hline\n",
    "x[7] & 0 & 1 & 2 & 3 &4 &5 &6 \\\\\n",
    "\\hline\n",
    "4x[7] & 0 & 4 & 1 & 5 &2 &6 &3 \\\\\n",
    "\\hline\n",
    "\\end{array}\n",
    "$$\n",
    "\n",
    "2. On en déduit les solutions sont de la forme $x=7k+3$ avec $k \\in \\mathbb{Z}$. Celles comprises entre -0 et 10 sont : \n",
    "\n",
    "$$S=\\{-4;3\\}$$\n",
    "\n",
    "3. $7x \\equiv 8 [9] \\iff 4\\times 7x \\equiv 4 \\times 8 [9] \\iff x \\equiv 5 [9]$\n",
    "\n",
    "$$S=\\{9k+5; k \\in \\mathbb{Z}\\}$$"
   ]
  },
  {
   "cell_type": "markdown",
   "metadata": {},
   "source": [
    "$$\\begin{align*}\n",
    "187 &= 32\\times 5+ 27 \\\\\n",
    "32 &= 27 \\times 1 +5 \\\\\n",
    "27  &= 5\\times 5 +2 \\\\\n",
    "5 &= 2\\times 2+ 1\n",
    "\\end{align*}$$\n",
    "\n",
    "Le PGCD est donc 1"
   ]
  },
  {
   "cell_type": "markdown",
   "metadata": {},
   "source": []
  }
 ],
 "metadata": {
  "kernelspec": {
   "display_name": "Python 3",
   "language": "python",
   "name": "python3"
  },
  "language_info": {
   "codemirror_mode": {
    "name": "ipython",
    "version": 3
   },
   "file_extension": ".py",
   "mimetype": "text/x-python",
   "name": "python",
   "nbconvert_exporter": "python",
   "pygments_lexer": "ipython3",
   "version": "3.8.5"
  },
  "vscode": {
   "interpreter": {
    "hash": "aee8b7b246df8f9039afb4144a1f6fd8d2ca17a180786b69acc140d282b71a49"
   }
  }
 },
 "nbformat": 4,
 "nbformat_minor": 2
}
