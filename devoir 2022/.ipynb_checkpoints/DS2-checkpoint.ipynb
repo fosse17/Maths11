{
 "cells": [
  {
   "cell_type": "markdown",
   "metadata": {},
   "source": [
    "#### Exercice 1\n",
    "\n",
    "On considère l’équation \n",
    "$$(E) \\quad 23x-40y=1$$\n",
    "dont les solutions sont des couples $(x;y)$ d’entiers relatifs.\n",
    "\n",
    "1. Citer précisément le théorème de Gauss\n",
    "2. Citer précisément le théorème de Bezout\n",
    "3. Justifier le fait que l’équation $E$ admet au moins un couple solution.\n",
    "4. En utilisant l'algorithme d'Euclide, donner un couple, solution particulière de l’équation $(E)$.\n",
    "5. Déterminer tous les couples d’entiers relatifs solutions de l’équation $(E)$\n",
    "6. En déduire qu’il existe un unique entier $d$ vérifiant les conditions $0<d<40$ et $d \\equiv 2[40]$\n"
   ]
  },
  {
   "cell_type": "markdown",
   "metadata": {},
   "source": [
    "#### Exercice 2\n",
    "\n",
    "Écrire à l'aide de quantificateurs les propositions suivantes :\n",
    "\n",
    "1. Le carré de tout réel est positif. \n",
    "   \n",
    "2. Certains réels sont strictement supérieurs à leur carré.\n",
    "   \n",
    "3. Aucun entier n'est supérieur à tous les autres. \n",
    "   \n",
    "4. Entre deux réels distincts, il existe toujours un rationnel.\n",
    "   \n",
    "5. Pour qu’un nombre réel $x$ soit supérieur à 1, il suffit que son cube soit supérieur à 2. \n",
    "\n"
   ]
  },
  {
   "cell_type": "markdown",
   "metadata": {},
   "source": [
    "Les assertions suivantes sont-elles vraies ou fausses ?\n",
    "\n",
    "1. $\\forall x ∈ \\mathbb{R}, \\forall y ∈ \\mathbb{R}, \\quad x + y^2=1$\n",
    "   \n",
    "2. $\\forall x ∈ \\mathbb{R}, \\exist y ∈ \\mathbb{R}, \\quad x + y^2=1$\n",
    "   \n",
    "3. $\\exist x ∈ \\mathbb{R}, \\forall y ∈ \\mathbb{R}, \\quad x + y^2=1$\n",
    "   \n",
    "4. $\\exist x ∈ \\mathbb{R}, \\exist y ∈ \\mathbb{R}, \\quad x + y^2=1$\n",
    "\n",
    "2. $\\forall y ∈ \\mathbb{R}, \\exist x ∈ \\mathbb{R}, \\quad x + y^2=1$\n",
    "\n"
   ]
  },
  {
   "cell_type": "markdown",
   "metadata": {},
   "source": [
    "Montrer que la différence entre les carrés de deux entiers naturels successifs est un impair"
   ]
  },
  {
   "cell_type": "markdown",
   "metadata": {},
   "source": [
    "Sur quelles équivalences logiques sont basées les démonstrations par contraposés et par l'absurde ?\n",
    "\n",
    "\n",
    "Soit $a$ et $n$ deux entiers naturels.\n",
    "\n",
    "Montrer par contraposé puis par l'absurde que \n",
    "\n",
    "$$a² + 9 = 2^n \\implies  a \\text{ est impair .}$$\n"
   ]
  },
  {
   "cell_type": "markdown",
   "metadata": {},
   "source": []
  }
 ],
 "metadata": {
  "kernelspec": {
   "display_name": "Python 3",
   "language": "python",
   "name": "python3"
  },
  "language_info": {
   "codemirror_mode": {
    "name": "ipython",
    "version": 3
   },
   "file_extension": ".py",
   "mimetype": "text/x-python",
   "name": "python",
   "nbconvert_exporter": "python",
   "pygments_lexer": "ipython3",
   "version": "3.8.5"
  },
  "vscode": {
   "interpreter": {
    "hash": "aee8b7b246df8f9039afb4144a1f6fd8d2ca17a180786b69acc140d282b71a49"
   }
  }
 },
 "nbformat": 4,
 "nbformat_minor": 2
}
