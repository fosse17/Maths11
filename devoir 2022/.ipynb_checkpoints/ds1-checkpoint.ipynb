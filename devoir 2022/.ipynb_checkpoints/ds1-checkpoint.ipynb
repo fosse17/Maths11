{
 "cells": [
  {
   "cell_type": "markdown",
   "metadata": {},
   "source": [
    " <table style=\"width:100%;\">\n",
    "    <tr style=\"display:none\">\n",
    "        <td></td>\n",
    "        <td></td>\n",
    "    </tr>\n",
    "    <tr style=\"height:3em\">\n",
    "        <td style=\"width:20%;align:left\"><img src=\"iut_bordeaux.jpg\"></td>\n",
    "        <td style=\"width:60%;font: bold 2em 'Fira Sans', serif;text-align:center\"> DS 1<br>Arithmétique et logique</td>\n",
    "        <td style=\"width:20%;font: bold 1.3em 'Fira Sans', serif;vertical-align:top;\">R01.06<br>15 octobre 2022<br>1 heure 30<i></i></td>\n",
    "    </tr>\n",
    "</table>"
   ]
  },
  {
   "cell_type": "markdown",
   "metadata": {},
   "source": [
    "## Logique (15 points)\n"
   ]
  },
  {
   "cell_type": "markdown",
   "metadata": {},
   "source": [
    "\n",
    "1 . Table de vérité et simplification.  (**3 points**)\n",
    "\n",
    "* Etablir la table de vérité de : $$P: ( p\\vee q)\\implies (p \\land \\overline q)$$\n",
    "* Simplifier $P$."
   ]
  },
  {
   "cell_type": "markdown",
   "metadata": {},
   "source": [
    "2 . Expression Booléenne. (**3 points**)\n",
    "$$\\begin{array}{|c|c|c|c|}\n",
    "\\hline\n",
    "a &  b  & c  & f(a,b,c) \\\\\n",
    "\\hline\n",
    "0 &\t0 & 0 &  1 \\\\\n",
    "0\t& 0 &\t1 &\t0 \\\\\n",
    "0 &\t1 &\t0 &\t0 \\\\\n",
    "0 &\t1 &\t1 &\t1 \\\\\n",
    "1 &\t0 &\t0 &\t1\\\\\n",
    "1 &\t0 &\t1 &\t0\\\\\n",
    "1 & 1 &\t0 &\t0 \\\\\n",
    "1 &\t1 &\t1 &\t1 \\\\\n",
    "\\hline\n",
    "\\end{array}\n",
    "$$\n",
    "\n",
    "Donner puis simplifier l'expression logique de $f(a,b,c)$."
   ]
  },
  {
   "cell_type": "markdown",
   "metadata": {},
   "source": [
    "3 . Le $\\oplus$ (**3 points**)\n",
    "* Ecrire les formules de l'associativité et la commutativité de la disjonction exclusive $\\oplus$.\n",
    "* Simplifier $A \\oplus A$, $A\\oplus 0$.\n",
    "* En citant précisemment  la propriété utilisée à chaque étape, démontrer que :\n",
    "$$ (A \\oplus B)\\oplus A =B.$$"
   ]
  },
  {
   "cell_type": "markdown",
   "metadata": {},
   "source": [
    "\n",
    "4. ( points)  Le directeur des ressources humaines (DRH) doit recruter une personne pour un travail.\n",
    "\n",
    "    Pour faire son choix, le DRH met en place trois critères de sélection concernant les connaissances en informatique, l’expérience dans le domaine concerné et le suivi d’un stage de formation spécifique.\n",
    "\n",
    "    La personne recrutée devra:\n",
    "\n",
    "* avoir des connaissances informatiques et de l’expérience dans le domaine concerné;\n",
    "\n",
    "* ou ne pas avoir de connaissances informatiques, mais avoir suivi un stage de formation spécifique;\n",
    "\n",
    "* ou ne pas avoir d’expérience dans le domaine concerné, mais avoir suivi un stage de formation spécifique.\n",
    "\n",
    "On définit trois variables logiques $c$ (connaissance informatique), $e$ (expérience) et $s$ (stage) correspondants aux trois critères.\n",
    "\n",
    "1. Décrire la situation  $\\overline{c \\lor e} \\land  s $\n",
    "\n",
    "2. Définir l’expression logique $E$ correspondant aux critères de sélection du DRH.\n",
    "\n",
    "3. À l’aide d’un calcul logique, trouver une écriture simplifiée de l’expression booléenne E\n",
    "\n",
    "4. Écrire une phrase donnant les conditions de recrutement correspondant à la simplification précédente de l’expression booléenne E.\n"
   ]
  },
  {
   "cell_type": "markdown",
   "metadata": {},
   "source": [
    "5 . (**3 points**)\n",
    "\n",
    "Ecrire la négation, la contraposée et la réciproque des implications suivantes : \n",
    "\n",
    "1. Si j'ai plus de 10 de moyenne et pas de note en dessous de 8, alors je réussis mon année.\n",
    "   \n",
    "2. Pour tous réels x et y, si xy = 0 alors (x = 0 ou y = 0)."
   ]
  },
  {
   "cell_type": "markdown",
   "metadata": {},
   "source": [
    "## Partie 2 :  Arithmétique\n",
    "\n",
    "\n",
    "\n",
    "1. (**2 point**)\n",
    "   \n",
    "Déterminer les entiers positifs $a$ et $b$ sachant que :\n",
    "   \n",
    "   * $a<4000$\n",
    "  \n",
    "   * la division euclidienne de $a$ par $b$ donne un quotient de 82 et un reste de 47.\n"
   ]
  },
  {
   "cell_type": "markdown",
   "metadata": {},
   "source": [
    "\n",
    "\n",
    "2. (**1 point**)\n",
    "   \n",
    "vérifier par un calcul  que $115 ≡ 27 [11]$\n"
   ]
  },
  {
   "cell_type": "markdown",
   "metadata": {},
   "source": [
    "\n",
    "3. (**2 point**)\n",
    "   \n",
    "Déterminer les entiers relatifs $n$ tel que $n-4$ divise $3n-17$\n"
   ]
  },
  {
   "cell_type": "markdown",
   "metadata": {},
   "source": [
    "\n",
    "\n",
    "\n",
    "4. (**2 point**)\n",
    "   \n",
    "Trouver un entier naturel $n$ inférieur à 100 qui vérifie : \n",
    "$$\\begin{cases}\n",
    "n & \\equiv 27 [11] \\\\\n",
    "n & \\equiv 4 [7] \\\\\n",
    "\\end{cases}\n",
    "$$\n"
   ]
  },
  {
   "cell_type": "markdown",
   "metadata": {},
   "source": [
    "\n",
    "\n",
    "6. (**2 point**)\n",
    "   \n",
    "Quel est le reste dans la division euclidienne de $451 × 6^{43} − 9^{12}par 7$ ?\n"
   ]
  },
  {
   "cell_type": "markdown",
   "metadata": {},
   "source": [
    "\n",
    "7. (**2 point**)\n",
    "   \n",
    "Quel est le dernier chiffre dans l'écriture décimale de $3^{2017}$ ?\n"
   ]
  },
  {
   "cell_type": "markdown",
   "metadata": {},
   "source": [
    "\n",
    "\n",
    "8. (**2 point**)\n",
    "   \n",
    "Démontrer que $2^{4n+1} + 3^{4n+1}$ est divisible par 5 quel que soit l’entier naturel n.\n"
   ]
  },
  {
   "cell_type": "markdown",
   "metadata": {},
   "source": [
    "\n",
    "\n",
    "\n",
    "9.  (**2 point**) tableau de congruence\n",
    "    \n",
    "    Ecrire un tableau de congruence permettant de résoudre l'équation $4x \\equiv 5[7]$ dans $\\mathbb{Z}$\n",
    "\n",
    "    En déduire les solutions de cette équations compris strictement entre -10 et 10\n",
    "\n",
    "    En remarquant que $4 \\times 7 =28$, résoudre sans utiliser de table des restes l’équation : $7x \\equiv 8 [9]$\n",
    "\n"
   ]
  },
  {
   "cell_type": "markdown",
   "metadata": {},
   "source": [
    "\n",
    "10. (**6 point**)\n",
    "    \n",
    "    1. Montrer que pour tout entier relatif $n$, les entiers $14n + 3$ et $5n + 1$ sont premiers entre eux.\n",
    "\n",
    "    2. On considère l'équation $(E) : 87x + 31y = 2$ où $x$ et $y$ sont des entiers relatifs.\n",
    "\n",
    "        a) Vérifier en utilisant par exemple la question 1°), que 87 et 31 sont premiers entre eux.\n",
    "\n",
    "        En déduire un couple (u ; v) d'entiers relatifs tel que 87u + 31v = 1, puis une solution $(x_0; y_0)$ de $(E)$.\n",
    "\n",
    "        b) Déterminer l'ensemble des solutions de (E) dans $\\mathbb{Z}$.\n",
    "\n",
    "        c) Application : Déterminer les points de la droite d'équation 87x - 31y - 2 = 0 dont les coordonnées sont des entiers naturels et dont l'abscisse est comprise entre 0 et 100. "
   ]
  },
  {
   "cell_type": "markdown",
   "metadata": {},
   "source": []
  }
 ],
 "metadata": {
  "kernelspec": {
   "display_name": "Python 3",
   "language": "python",
   "name": "python3"
  },
  "language_info": {
   "codemirror_mode": {
    "name": "ipython",
    "version": 3
   },
   "file_extension": ".py",
   "mimetype": "text/x-python",
   "name": "python",
   "nbconvert_exporter": "python",
   "pygments_lexer": "ipython3",
   "version": "3.8.5"
  },
  "vscode": {
   "interpreter": {
    "hash": "aee8b7b246df8f9039afb4144a1f6fd8d2ca17a180786b69acc140d282b71a49"
   }
  }
 },
 "nbformat": 4,
 "nbformat_minor": 2
}
