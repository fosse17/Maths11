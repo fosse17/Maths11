{
 "cells": [
  {
   "cell_type": "markdown",
   "metadata": {},
   "source": [
    "<table style=\"width:100%;\">\n",
    "    <tr style=\"display:none\">\n",
    "        <td></td>\n",
    "        <td></td>\n",
    "    </tr>\n",
    "    <tr style=\"height:3em\">\n",
    "        <td style=\"width:20%;align:left\"><img src=\"iut_bordeaux.jpg\"></td>\n",
    "        <td style=\"width:60%;font: bold 2em 'Fira Sans', serif;text-align:center\"> Correction du DS n°1 du 5 octobre 2022<br>Arithmétique et Logique</td>\n",
    "        <td style=\"width:20%;font: bold 1.3em 'Fira Sans', serif;vertical-align:top;\">R1.06<br><br> <i></i></td>\n",
    "    </tr>\n",
    "</table>"
   ]
  },
  {
   "cell_type": "markdown",
   "metadata": {},
   "source": [
    "## Logique (30 points)"
   ]
  },
  {
   "cell_type": "markdown",
   "metadata": {},
   "source": [
    "#### Exercice 1 (**2 points**)\n",
    "1. Oui , c'est une proposition qui est fausse.\n",
    "2.  Non, ce n'est pas un prédicat car on ne précise pas le domaine de $x$."
   ]
  },
  {
   "cell_type": "markdown",
   "metadata": {},
   "source": [
    "\n",
    "#### Exercice 2 (**6 points**)\n",
    "1. \n",
    "$$\n",
    "\\begin{array}{|c|c|c|c|c|c|c|}\n",
    "\\hline\n",
    "p & q & r &\\bar{q}&p\\wedge r&p\\vee\\bar{q}& P \\\\\n",
    "\\hline\n",
    "0 & 0 & 0 & 1&0&1&1\\\\\n",
    "0 & 0 & 1 & 1& 0&1&1\\\\\n",
    "0 & 1 & 0 & 0&0&0&1\\\\\n",
    "0 & 1 & 1 & 0&0&0 &1\\\\\n",
    "1 & 0 & 0 & 1&0&1&1\\\\\n",
    "1 & 0 & 1 & 1&1&1&1\\\\\n",
    "1 & 1 & 0 & 0&0&1&1\\\\\n",
    "1 & 1 & 1 & 0 &1&1&1\\\\\n",
    "\\hline\n",
    "\\end{array}\n",
    "$$\n",
    "\n"
   ]
  },
  {
   "cell_type": "markdown",
   "metadata": {},
   "source": [
    "\n",
    "2. \n",
    "$$\\begin{align*}\n",
    "    ( p\\land r)\\implies (p \\lor \\overline q)  &\\iff  \\overline{ p\\land r} \\lor (p \\lor \\overline q) & \\qquad\\text{équivalence de l'implication} \\\\\n",
    "    &\\iff  (\\overline p \\lor \\overline r) \\lor (p \\lor \\overline q) & \\qquad\\text{De Morgan}\\\\\n",
    "    &\\iff \\overline p \\lor \\overline r \\lor p \\lor \\overline q & \\qquad\\text{associativité}\\\\\n",
    "    &\\iff \\overline p \\lor p \\lor \\overline r \\lor \\overline q & \\qquad\\text{commutativité}\\\\\n",
    "    &\\iff 1 \\lor \\overline r \\lor \\overline q & \\qquad\\text{complémentarité}\\\\\n",
    "     &\\iff 1 & \\qquad\\text{élément neutre}\\\\\n",
    "\\end{align*}$$\n"
   ]
  },
  {
   "cell_type": "markdown",
   "metadata": {},
   "source": [
    "3. P est une tautologie."
   ]
  },
  {
   "cell_type": "markdown",
   "metadata": {},
   "source": [
    "#### Exercice 3 (**3 points**)\n",
    "1. $Q \\implies R$\n",
    "\n",
    "2. $Q$ est une condition suffisante pour $R$.\n",
    "\n",
    "3. $(x=-2) \\implies x \\leq 0$"
   ]
  },
  {
   "cell_type": "markdown",
   "metadata": {},
   "source": [
    "#### Exercice 4 (**4 points**)\n",
    "1. Associativité de la disjonction exclusive : $(A \\oplus B) \\oplus C \\iff A \\oplus (B \\oplus C )$\n",
    "\n",
    "Commutativité de la disjonction exclusive : $A \\oplus B  \\iff B \\oplus A $\n",
    "\n",
    "2. $A \\oplus A \\iff 0$ et $A \\oplus 0 \\iff A$\n",
    "\n",
    "3. \n",
    "$$\\begin{align*} (A \\oplus B) \\oplus A & \\iff A \\oplus (A \\oplus B) \\qquad\\text{commutativité}\\\\ \n",
    "& \\iff (A \\oplus A) \\oplus B\\qquad\\text{associativité} \\\\\n",
    "& \\iff 0 \\oplus B \\qquad\\text{définition de la disjonction exclusive}\\\\\n",
    "& \\iff B\\qquad\\text{élément neutre}\n",
    "\\end{align*} \n",
    "$$"
   ]
  },
  {
   "cell_type": "markdown",
   "metadata": {},
   "source": [
    "#### Exercice 5 (**6 points**)\n",
    "\n",
    "1. La personne recrutée n'a ni connaissances informatiques, ni expérience mais a suivi un stage.\n",
    "\n",
    "2. $E : (c \\land e)  \\lor (\\bar c \\land s ) \\lor (\\bar e \\land s)$\n",
    "\n",
    "3. \n",
    "$$\\begin{align*}\n",
    "(c \\land e)  \\lor (\\bar c \\land s ) \\lor (\\bar e \\land s) & \\iff (c \\land e)  \\lor [(\\bar c \\lor \\bar e ) \\land s] \\\\\n",
    "& \\iff (c \\land e)  \\lor [(\\overline{c \\land e } ) \\land s] \\\\\n",
    "& \\iff [(c \\land e)  \\lor (\\overline{c \\land e })] \\land  [(c \\land e) \\lor s] \\\\\n",
    "& \\iff 1 \\land  [(c \\land e) \\lor s] \\\\\n",
    "& \\iff  (c \\land e) \\lor s \\\\\n",
    "\\end{align*}$$\n",
    "\n",
    "4. La personne recrutée a des connaissances informatiques et de l’expérience,  ou a suivi un stage."
   ]
  },
  {
   "cell_type": "markdown",
   "metadata": {},
   "source": [
    "#### Exercice 6 (**4 points**)\n",
    "Écrire la négation, la contraposée et la réciproque des implications suivantes :\n",
    "\n",
    "1. \n",
    "P : il pleut.  \n",
    "A : avoir un parapluie.  \n",
    "M : être mouillé. \n",
    "\n",
    "S'il ne pleut pas ou que j'ai un parapluie, alors je ne serai pas mouillé.\n",
    "$$(\\bar{P}\\vee A)\\implies \\bar{M}$$\n",
    "\n",
    "Négation : $$(\\bar{P}\\vee A)\\land M.$$  \n",
    "Contraposée : $$M\\implies (P\\land \\bar{A})$$\n",
    "Réciproque : $$\\bar{M}\\implies (\\bar{P}\\vee A)$$\n"
   ]
  },
  {
   "cell_type": "markdown",
   "metadata": {},
   "source": [
    "   \n",
    "2. Pour tous réels $x$ et $y$, si $xy = 0$ alors $(x = 0$ ou $y = 0)$ est un théorème\n",
    "  \n",
    "   \n",
    "Négation :$$ xy=0 \\land (x\\neq0\\land y\\neq0)  $$ n'est donc pas un théorème.\n",
    "\n",
    "Contraposée : $$(x\\neq0\\land y\\neq0) \\implies xy\\neq0$$ est un théorème.\n",
    "\n",
    "Réciproque : $$(x=0\\vee y=0)\\implies xy=0$$ est un théorème.\n"
   ]
  },
  {
   "cell_type": "markdown",
   "metadata": {},
   "source": [
    "#### Exercice 7 (**5 points**)\n",
    "La lecture du tableau nous donne :\n",
    "\n",
    "\\begin{aligned}\n",
    "f(p;q;r)\\iff 0 &\\iff ( \\bar p\\land \\bar q \\land  r) \\lor ( \\bar p\\land  q \\land  r) \\lor (  p\\land  q \\land  r) \\iff 0\\\\\n",
    "&\\iff [( \\bar p\\land r) \\land ( \\bar{q}\\vee q)]\\vee(p\\land q\\land r)\\iff 0\\\\\n",
    "&\\iff [( \\bar p\\land r) \\land 1]\\vee(p\\land q\\land r)\\iff 0\\\\\n",
    "&\\iff ( \\bar p\\land r) \\vee(p\\land q\\land r)\\iff 0\\\\\n",
    "&\\iff [ \\bar p\\lor  (p\\land q)]\\land r \\iff 0\\\\\n",
    "&\\iff [ \\bar p\\lor  p)\\land (\\bar{p}\\vee q)]\\land r \\iff 0\\\\\n",
    "&\\iff ( \\bar p \\lor  q)\\land  r \\iff 0 \\\\\n",
    "&\\iff \\overline{( \\bar p \\lor  q)\\land  r \\iff 0} \\\\\n",
    "&\\iff \\overline{( \\bar p \\lor  q)\\land  r} \\iff 1 \\\\\n",
    "&\\iff \\overline{( \\bar p \\lor  q)}\\lor  \\bar{r} \\iff 1 \\\\\n",
    "&\\iff ( p \\land  \\bar{q})\\lor  \\bar{r} \\iff 1 \\\\\n",
    "\\end{aligned}"
   ]
  },
  {
   "cell_type": "markdown",
   "metadata": {},
   "source": [
    "## Arithmétique (30 points)"
   ]
  },
  {
   "cell_type": "markdown",
   "metadata": {},
   "source": [
    "#### Exercice 8 (**4 points**)\n",
    "\n",
    "1. Donner la définition de la divisibilité dans $\\mathbb{Z}$.\n",
    "\n",
    "Soient   $a$ ,  $b$  et $q$ des entiers relatifs.   \n",
    "$b$  divise $a$, ou $b|a$, s'il existe un entier  $q$ tel que  $a=bq$.\n",
    "\n",
    "2. Donner la définition de la congruence dans $\\mathbb{Z}$.\n",
    "\n",
    "Soit $n$ un entier naturel $(n \\geq 2)$, $a$ et $b$ deux entiers relatifs.\n",
    "\n",
    "On dit que deux entiers $a$ et $b$ sont **congrus modulo $n$** si, et seulement si, $a$ et $b$ ont le même\n",
    "reste dans la division euclidienne par $n$. \n",
    "\n",
    "On note alors :   $ a \\equiv b [n].$"
   ]
  },
  {
   "cell_type": "markdown",
   "metadata": {},
   "source": [
    "#### Exercice 9 (**2 points**)\n",
    "1. $-23=bq+7$ donc $bq=-30$ et $b>7$.\n",
    "Ainsi $b$ est un diviseur de -30 (donc de 30)  supérieur à 7 donc $b \\in \\{10;15;30\\}$\n",
    "\n",
    "* Si $b=10$ , $q=-3$\n",
    "* Si $b=15$ , $q=-2$\n",
    "* si $b=30$, $q=-1$"
   ]
  },
  {
   "cell_type": "markdown",
   "metadata": {},
   "source": [
    "#### Exercice 10 (**2 points**)\n",
    "$$\\begin{cases}\n",
    "x-y &= & 885 \\\\\n",
    "x &= & 29y+17\n",
    "\\end{cases}$$\n",
    "\n",
    " ce qui nous donne : \n",
    " \n",
    " $$\\begin{cases}\n",
    "x &= & 885+y \\\\\n",
    "x &= & 29y+17\n",
    "\\end{cases}$$\n",
    "\n",
    "soit : \n",
    "$$885+y=29y+17$$\n",
    "\n",
    " $$28y=868 \\iff y=31$$\n",
    "\n",
    " $$S=\\{916;31\\}$$"
   ]
  },
  {
   "cell_type": "markdown",
   "metadata": {},
   "source": [
    "#### Exercice 11 (**4 points**)\n",
    "1. $x\\equiv 7[2]$\n",
    "\n",
    "2. -2\n",
    "\n",
    "3. 115-27=88 et $88\\equiv 0[11]$\n",
    "\n",
    "4. $12n+7=4(3n+1)+3$ donc $r=3<4$"
   ]
  },
  {
   "cell_type": "markdown",
   "metadata": {},
   "source": [
    "#### Exercice 12 (**3 points**)\n",
    "1. $\\dfrac{3n-17}{n-4}=\\dfrac{3(n-4)-5}{n-4}=3-\\dfrac{5}{n-4}$\n",
    "\n",
    "2. $(n-4)$ divise $3n-17$ si et seulement si $n-4$ divise 5. Or les diviseurs de 5 dans $\\mathbb{Z}$ sont $\\{-5;-1;1;5\\}$.\n",
    "Il reste à tester les différentes valeurs possibles : \n",
    "* pour $n-4=-5$ et $n-4=-1$ c'est impossible car $n>4$.\n",
    "* pour $n-4=1$ on obtient $n=5$.\n",
    "* pour $n-4=5$ on obtient $n=9$.\n",
    "\n",
    "$$S=\\{5;9\\}$$"
   ]
  },
  {
   "cell_type": "markdown",
   "metadata": {},
   "source": [
    "#### Exercice 13 (**3 points**)\n",
    "\n",
    "- $451\\equiv 3[7]\\\\$ car $451=7\\times64 +3$.\n",
    "\n",
    "\n",
    "- $6\\equiv -1[7]$  \n",
    "\n",
    "\n",
    "- $9\\equiv 2[7]$  \n",
    "$9^2\\equiv 4[7]$  \n",
    "$9^3\\equiv36[7]\\equiv 1[7]$    \n",
    "$(9^3)^4\\equiv 1[7]$  \n",
    "\n",
    "donc : $451 × 6^{43} − 9^{12} \\equiv 3\\times (-1)^{43}-1[7] \\equiv -4[7]\\equiv 3 [7]$\n",
    "\n",
    "Le reste est donc 3."
   ]
  },
  {
   "cell_type": "markdown",
   "metadata": {},
   "source": [
    "#### Exercice 14 (**2 points**)\n",
    "$3^{2017}[10] \\equiv 3^{2 \\times 1008 +1} \\equiv 3^{2^{1008}}\\times 3 \\equiv (-1)^{1008}\\times 3 \\equiv 3[10]$"
   ]
  },
  {
   "cell_type": "markdown",
   "metadata": {},
   "source": [
    "#### Exercice 15 (**3 points**)\n",
    "$2^{4n+1} + 3^{4n+1}[5] \\equiv {2^4}^n \\times 2 + {3^4}^n\\times 3 [5] \\equiv {16}^n\\times 2+{9^2}^n \\times 3 \\equiv {1}^n\\times 2+1^n\\times 3 [5] \\equiv 2+3[5] \\equiv 5[5]\\equiv 0[5]$."
   ]
  },
  {
   "cell_type": "markdown",
   "metadata": {},
   "source": [
    "#### Exercice 16 (**5 points**)\n",
    "1. \n",
    "$$\\begin{array}{|c|c|c|c|c|c|c|c|}\n",
    "\\hline\n",
    "x[7] & 0 & 1 & 2 & 3 &4 &5 &6 \\\\\n",
    "\\hline\n",
    "4x[7] & 0 & 4 & 1 & 5 &2 &6 &3 \\\\\n",
    "\\hline\n",
    "\\end{array}\n",
    "$$\n",
    "\n",
    "\n",
    "2. On en déduit que les solutions sont de la forme $x=7k+3$ avec $k \\in \\mathbb{Z}$.   \n",
    "Celles comprises strictement entre -10 et 10 sont : \n",
    "\n",
    "$$S=\\{-4;3\\}$$\n",
    "\n",
    "3. $7x \\equiv 8 [9] \\iff 4\\times 7x \\equiv 4 \\times 8 [9] \\iff 28x \\equiv 32 [9]\\iff x \\equiv 5 [9]$\n",
    "\n",
    "$$S=\\{9k+5; k \\in \\mathbb{Z}\\}$$"
   ]
  },
  {
   "cell_type": "markdown",
   "metadata": {},
   "source": [
    "#### Exercice 17 (**2 points**)\n",
    "$$\\begin{align*}\n",
    "187 &= 32\\times 5+ 27 \\\\\n",
    "32 &= 27 \\times 1 +5 \\\\\n",
    "27  &= 5\\times 5 +2 \\\\\n",
    "5 &= 2\\times 2+ 1\\\\\n",
    "2&=2\\times 1\n",
    "\\end{align*}$$\n",
    "\n",
    "Le PGCD est donc 1."
   ]
  }
 ],
 "metadata": {
  "kernelspec": {
   "display_name": "Python 3",
   "language": "python",
   "name": "python3"
  },
  "language_info": {
   "codemirror_mode": {
    "name": "ipython",
    "version": 3
   },
   "file_extension": ".py",
   "mimetype": "text/x-python",
   "name": "python",
   "nbconvert_exporter": "python",
   "pygments_lexer": "ipython3",
   "version": "3.10.4"
  },
  "vscode": {
   "interpreter": {
    "hash": "aee8b7b246df8f9039afb4144a1f6fd8d2ca17a180786b69acc140d282b71a49"
   }
  }
 },
 "nbformat": 4,
 "nbformat_minor": 2
}
