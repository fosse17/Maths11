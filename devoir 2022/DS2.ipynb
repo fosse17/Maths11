{
 "cells": [
  {
   "cell_type": "markdown",
   "metadata": {},
   "source": [
    "\n",
    " <table style=\"width:100%;\">\n",
    "    <tr style=\"display:none\">\n",
    "        <td></td>\n",
    "        <td></td>\n",
    "    </tr>\n",
    "    <tr style=\"height:3em\">\n",
    "        <td style=\"width:20%;align:left\"><img src=\"iut_bordeaux.jpg\"></td>\n",
    "        <td style=\"width:60%;font: bold 2em 'Fira Sans', serif;text-align:center\"> DS 2<br>Arithmétique et Démonstrations</td>\n",
    "        <td style=\"width:20%;font: bold 1.3em 'Fira Sans', serif;vertical-align:top;\">R1.06<br>21 octobre 2022<br>1 heures 30<i><br>calculatrice interdite</i></td>\n",
    "    </tr>\n",
    "</table>"
   ]
  },
  {
   "cell_type": "markdown",
   "metadata": {},
   "source": [
    "#### Exercice 1 (2 points)\n",
    "\n",
    "Le nombre 1 014 533 235 est-il divisible par 15 ? Expliquer."
   ]
  },
  {
   "cell_type": "markdown",
   "metadata": {},
   "source": [
    "#### Exercice 2 (4 points)\n",
    "\n",
    "Écrire à l'aide de quantificateurs les propositions suivantes :\n",
    "\n",
    "1. Le carré de tout entier relatif est positif. \n",
    "   \n",
    "2. Il existe un unique entier compris entre $\\sqrt2$ et $\\sqrt5$.\n",
    "   \n",
    "3. Certains réels sont strictement supérieurs à leur carré.\n",
    "   \n",
    "4. Pour qu’un nombre réel $x$ soit supérieur à 1, il suffit que son cube soit supérieur à 2. \n",
    "\n"
   ]
  },
  {
   "cell_type": "markdown",
   "metadata": {},
   "source": [
    "#### Exercice 3 (4 points)\n",
    "\n",
    "Les propositions suivantes sont-elles vraies ou fausses ? Si elles sont fausses, donner un contre-exemple. \n",
    "   \n",
    "1. $\\forall x ∈ \\mathbb{R}, \\exists y ∈ \\mathbb{R}, \\quad x + y^2=1$\n",
    "   \n",
    "2. $\\exists x ∈ \\mathbb{R}, \\forall y ∈ \\mathbb{R}, \\quad x + y^2=1$\n",
    "   \n",
    "3. $\\exists x ∈ \\mathbb{R}, \\exists y ∈ \\mathbb{R}, \\quad x + y^2=1$\n",
    "\n",
    "4. $\\forall y ∈ \\mathbb{R}, \\exists x ∈ \\mathbb{R}, \\quad x + y^2=1$\n"
   ]
  },
  {
   "cell_type": "markdown",
   "metadata": {},
   "source": [
    "#### Exercice 4 (5 points)\n",
    "\n",
    "1. Quelle est la négation de $P \\implies Q$ ?\n",
    "   \n",
    "2. Donner la négation de :\n",
    "   \n",
    "$$ \\forall n \\in \\mathbb{N}, \\forall p \\in \\mathbb{N}, \\exists y \\in \\mathbb{Z} \\quad | \\quad (n=p) \\implies  (n \\leq y) \\land (p \\geq y)  $$\n"
   ]
  },
  {
   "cell_type": "markdown",
   "metadata": {},
   "source": [
    "#### Exercice 5 (3 points)\n",
    "\n",
    "Montrer que la différence entre les carrés de deux entiers naturels successifs est impair."
   ]
  },
  {
   "cell_type": "markdown",
   "metadata": {},
   "source": [
    "#### Exercice 6 (5 points)\n",
    "\n",
    "1. Sur quelle équivalence logique est basée la démonstration par contraposée ?\n",
    "   \n",
    "2. Sur quelle équivalence logique est basée la démonstration par l'absurde ?\n",
    "\n",
    "3. A l'aide d'un raisonnement par contraposée, démontrer que :\n",
    "\n",
    "\n",
    "$$\\text{Si } n^2 \\text{ est un entier naturel impair alors } n \\text{ est un entier naturel impair}.$$\n"
   ]
  },
  {
   "cell_type": "markdown",
   "metadata": {},
   "source": [
    "\n",
    "#### Exercice 7 (6 points)\n",
    "\n",
    "Soit $n$ un entier naturel non nul et\n",
    "$$S_n=1+3+5+7+\\cdots +(2n−1)$$\n",
    "\n",
    "1. Calculer $S_1, S_2, S_3, S_4$.\n",
    "   \n",
    "2. Conjecturer une expression simple de $S_n$ en fonction de $n$.\n",
    "   \n",
    "3. Écrire l'hypothèse de récurrence $P_n$ puis la démontrer."
   ]
  },
  {
   "cell_type": "markdown",
   "metadata": {},
   "source": [
    "#### Exercice 8 (4 points)\n",
    "\n",
    "1. Citer précisément le théorème de Gauss.\n",
    "   \n",
    "2. Citer précisément le théorème de Bézout.\n"
   ]
  },
  {
   "cell_type": "markdown",
   "metadata": {},
   "source": [
    "\n",
    "#### Exercice 9 (4 points)\n",
    "\n",
    "Soit la suite définie pour tout entier $n \\geq 1$ par : $u_1 = 1$ et $u_{n+1}=2 u_n+1$\n",
    "\n",
    "Démontrer par récurrence que : $\\forall n \\in \\mathbb{N^*}, \\quad u_n = 2^n-1$"
   ]
  },
  {
   "cell_type": "markdown",
   "metadata": {},
   "source": [
    "#### Exercice 10\n",
    "\n",
    "**Partie 1** (6 points)\n",
    "\n",
    "On considère l’équation \n",
    "$$(E) \\quad 5x-26y=2$$\n",
    "dont les solutions sont des couples $(x;y)$ d’entiers relatifs.\n",
    "   \n",
    "1. Justifier le fait que l’équation $(E)$ admet au moins un couple solution.\n",
    "   \n",
    "2. En utilisant l'algorithme d'Euclide, donner un couple solution particulière de l’équation $(E)$.\n",
    "   \n",
    "   Pour la suite de l'exercice, vous pourrez utiliser $(-10,-2)$ comme solution particulière.\n",
    "\n",
    "3. Vérifier que $5(x+10)=26(y+2)$.\n",
    "   \n",
    "4. Déterminer tous les couples d’entiers relatifs solutions de l’équation $(E)$.\n",
    "   \n",
    "5. En déduire qu’il existe un unique entier $d$ vérifiant les conditions $0\\leq d \\leq 25$ et $5d \\equiv 2[26]$.\n"
   ]
  },
  {
   "cell_type": "markdown",
   "metadata": {},
   "source": [
    "\n",
    "**Partie 2** (7 points)\n",
    "\n",
    "Pour coder un message, on traduit d'abord chaque lettre en son équivalent numérique : A=0, B=1,..., Z=25.\n",
    "\n",
    "On définit le système de codage à l'aide de la transformation $f$ suivante :\n",
    "\n",
    "$$f(x)= (ax+b)[26]$$\n",
    "\n",
    "1. Que dire du code obtenu lorsque l'on prend $a=0$ ?\n",
    "\n",
    "2. Montrer que les lettres A et C sont codées par la même lettre lorsque l'on choisit $a=13$.\n",
    "\n",
    "3. Existe-t-il d'autres valeurs de $a$ pour lesquelles on a le même problème ?\n",
    "\n",
    "    Dans toute la suite de l'exercice, on prend $a=5$ et $b=2$ donc \n",
    "\n",
    "    $$f(x)=(5x+2)[26]$$\n",
    "\n",
    "4. Coder la lettre $F$.\n",
    "   \n",
    "5. On se propose de décoder la lettre E.\n",
    "   \n",
    "    a) Montrer que décoder la lettre E revient à résoudre l'équation $5x\\equiv 2[26]$.\n",
    "\n",
    "    b) En déduire que $-x \\equiv 10 [26]$.\n",
    "\n",
    "    c) Décoder alors la lettre E.\n"
   ]
  }
 ],
 "metadata": {
  "kernelspec": {
   "display_name": "Python 3",
   "language": "python",
   "name": "python3"
  },
  "language_info": {
   "codemirror_mode": {
    "name": "ipython",
    "version": 3
   },
   "file_extension": ".py",
   "mimetype": "text/x-python",
   "name": "python",
   "nbconvert_exporter": "python",
   "pygments_lexer": "ipython3",
   "version": "3.10.4"
  },
  "vscode": {
   "interpreter": {
    "hash": "aee8b7b246df8f9039afb4144a1f6fd8d2ca17a180786b69acc140d282b71a49"
   }
  }
 },
 "nbformat": 4,
 "nbformat_minor": 2
}
