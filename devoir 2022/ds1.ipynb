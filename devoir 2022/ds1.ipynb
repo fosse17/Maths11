{
 "cells": [
  {
   "cell_type": "markdown",
   "metadata": {},
   "source": [
    " <table style=\"width:100%;\">\n",
    "    <tr style=\"display:none\">\n",
    "        <td></td>\n",
    "        <td></td>\n",
    "    </tr>\n",
    "    <tr style=\"height:3em\">\n",
    "        <td style=\"width:20%;align:left\"><img src=\"iut_bordeaux.jpg\"></td>\n",
    "        <td style=\"width:60%;font: bold 2em 'Fira Sans', serif;text-align:center\"> DS 1<br>Arithmétique et logique</td>\n",
    "        <td style=\"width:20%;font: bold 1.3em 'Fira Sans', serif;vertical-align:top;\">R1.06<br>5 octobre 2022<br>2 heures <i></i></td>\n",
    "    </tr>\n",
    "</table>\n"
   ]
  },
  {
   "cell_type": "markdown",
   "metadata": {},
   "source": [
    "## Logique (30 points)\n"
   ]
  },
  {
   "cell_type": "markdown",
   "metadata": {},
   "source": [
    "\n",
    "#### Exercice 1 (**2 points**)\n",
    "\n",
    "1. \"Le nombre $\\pi$ est un entier naturel\". Cette phrase est-elle une proposition ?\n",
    "\n",
    "2. \"$x^2$ est toujours un nombre positif ou nul\". Cette phrase est-elle un prédicat ?\n"
   ]
  },
  {
   "cell_type": "markdown",
   "metadata": {},
   "source": [
    "\n",
    "#### Exercice 2 (**6 points**)\n",
    "\n",
    "1. Établir la table de vérité de : $$P: ( p\\land r)\\implies (p \\lor \\overline q)$$\n",
    "  \n",
    "2. Simplifier $P$ en citant les propriétés utilisées. \n",
    "   \n",
    "3. Que peut-on dire de $P$ ?\n"
   ]
  },
  {
   "cell_type": "markdown",
   "metadata": {},
   "source": [
    "\n",
    "#### Exercice 3 (**3 points**)\n",
    "\n",
    "Pour un réel $x$, on note $R: x^2 = 4$ et $Q: x = 2$.\n",
    "\n",
    "1. Écrire une implication logique vraie entre $Q$ et $R$.\n",
    "\n",
    "2. Écrire une phrase contenant \"condition suffisante\" liant $Q$ et $R$.\n",
    "\n",
    "3. Écrire sous forme d'une implication logique  : \"Il est nécessaire que x soit négatif pour que x=-2\""
   ]
  },
  {
   "cell_type": "markdown",
   "metadata": {},
   "source": [
    "#### Exercice 4 (**4 points**) \n",
    "\n",
    "1. Écrire les formules de l'associativité et la commutativité de la disjonction exclusive $\\oplus$.\n",
    "  \n",
    "2. Simplifier $A \\oplus A$, $A\\oplus 0$.\n",
    "  \n",
    "3. En citant précisément la propriété utilisée à chaque étape, démontrer que :\n",
    "  $$ (A \\oplus B)\\oplus A \\iff B.$$\n"
   ]
  },
  {
   "cell_type": "markdown",
   "metadata": {},
   "source": [
    "#### Exercice 5 (**6 points**)\n",
    "\n",
    "Le directeur des ressources humaines (DRH) doit recruter une personne pour un travail.\n",
    "\n",
    "   Pour faire son choix, le DRH met en place trois critères de sélection concernant les connaissances en informatique, l’expérience dans le domaine concerné et le suivi d’un stage de formation spécifique.\n",
    "\n",
    "   La personne recrutée devra:\n",
    "\n",
    "- avoir des connaissances informatiques et de l’expérience dans le domaine concerné ;\n",
    "\n",
    "- ou ne pas avoir de connaissances informatiques, mais avoir suivi un stage de formation spécifique ;\n",
    "\n",
    "- ou ne pas avoir d’expérience dans le domaine concerné, mais avoir suivi un stage de formation spécifique.\n",
    "\n",
    "On définit trois variables logiques $c$ (connaissance informatique), $e$ (expérience) et $s$ (stage) correspondants aux trois critères.\n",
    "\n",
    "1. Décrire la situation $\\overline{c \\lor e} \\land s $ par une phrase.\n",
    "\n",
    "2. Définir l’expression logique $E$ correspondant aux critères de sélection du DRH.\n",
    "\n",
    "3. À l’aide d’un calcul logique, trouver une écriture simplifiée de l’expression booléenne E.\n",
    "\n",
    "4. Écrire une phrase donnant les conditions de recrutement correspondant à la simplification précédente de l’expression booléenne E.\n"
   ]
  },
  {
   "cell_type": "markdown",
   "metadata": {},
   "source": [
    "#### Exercice 6 (**4 points**)\n",
    "\n",
    "Écrire la négation, la contraposée et la réciproque des implications suivantes :\n",
    "\n",
    "1. S'il ne pleut pas ou que j'ai un parapluie, alors je ne serai pas mouillé.\n",
    "   \n",
    "2. Pour tous réels $x$ et $y$, si $xy = 0$ alors $(x = 0$ ou $y = 0)$.  \n",
    "   Indiquer lesquelles sont des théorèmes.\n"
   ]
  },
  {
   "cell_type": "markdown",
   "metadata": {},
   "source": [
    "#### Exercice 7 (**5 points**)\n",
    "\n",
    "Retrouver une proposition simple vérifiant la table de vérité. \n",
    "\n",
    "On simplifiera l'expression obtenue.\n",
    "\n",
    "$$\n",
    "\\begin{array}{|c|c|c|c|}\n",
    "\\hline\n",
    "p & q & r & f(p;q;r) \\\\\n",
    "\\hline\n",
    "0 & 0 & 0 & 1\\\\\n",
    "0 & 0 & 1 & 0 \\\\\n",
    "0 & 1 & 0 & 1\\\\\n",
    "0 & 1 & 1 & 0 \\\\\n",
    "1 & 0 & 0 & 1\\\\\n",
    "1 & 0 & 1 & 1\\\\\n",
    "1 & 1 & 0 & 1\\\\\n",
    "1 & 1 & 1 & 0 \\\\\n",
    "\\hline\n",
    "\\end{array}\n",
    "$$"
   ]
  },
  {
   "cell_type": "markdown",
   "metadata": {},
   "source": [
    "## Arithmétique (30 points)\n",
    "\n",
    "#### Exercice 8 (**4 points**)\n",
    "\n",
    "1. Donner la définition de la divisibilité dans $\\mathbb{Z}$.\n",
    "\n",
    "2. Donner la définition de la congruence dans $\\mathbb{Z}$\n"
   ]
  },
  {
   "cell_type": "markdown",
   "metadata": {},
   "source": [
    "\n",
    "#### Exercice 9 (**2 points**)\n",
    "\n",
    "Le reste de la division euclidienne de $−23$ par l'entier naturel non nul $b$ vaut 7.\n",
    "\n",
    "Que valent le quotient $q$ et le diviseur $b$ ?\n"
   ]
  },
  {
   "cell_type": "markdown",
   "metadata": {},
   "source": [
    "\n",
    "#### Exercice 10 (**2 points**)\n",
    "\n",
    "La différence de deux entiers naturels est 885. Si l’on divise l’un par l’autre, le quotient est 29 et le reste 17. \n",
    "\n",
    "Quels sont ces entiers ?\n"
   ]
  },
  {
   "cell_type": "markdown",
   "metadata": {},
   "source": [
    "#### Exercice 11 (**4 points**)\n",
    "\n",
    "1. Soit $k\\in\\mathbb{Z}$, si $x=2k+7$ alors compléter :$\\cdots \\equiv \\cdots [\\cdots]$.\n",
    "   \n",
    "2. Donner un entier négatif congru à 5 modulo 7.\n",
    "\n",
    "3. Vérifier par un calcul que $115 ≡ 27 [11]$\n",
    "\n",
    "4. Soit $n$ un entier. Quel est le reste de la division euclidienne de  $12n+7$ par $4$\n"
   ]
  },
  {
   "cell_type": "markdown",
   "metadata": {},
   "source": [
    "#### Exercice 12 (**3 points**)\n",
    "   \n",
    "   Soit $n$ un entier strictement supérieur à 4.\n",
    "\n",
    "   1. Vérifier que $\\dfrac{3n-17}{n-4}=3-\\dfrac{5}{n-4}$.\n",
    "\n",
    "   2. Déterminer les entiers naturels $n$ tel que $n-4$ divise $3n-17$.\n"
   ]
  },
  {
   "cell_type": "markdown",
   "metadata": {},
   "source": [
    "#### Exercice 13 (**3 points**)\n",
    "\n",
    "\n",
    "Quel est le reste dans la division euclidienne de $451 × 6^{43} − 9^{12}$ par 7 ?\n"
   ]
  },
  {
   "cell_type": "markdown",
   "metadata": {},
   "source": [
    "#### Exercice 14 (**2 points**)\n",
    "\n",
    "Quel est le dernier chiffre dans l'écriture décimale de $3^{2017}$ ?\n"
   ]
  },
  {
   "cell_type": "markdown",
   "metadata": {},
   "source": [
    "#### Exercice 15 (**3 points**)\n",
    "\n",
    "Démontrer que $2^{4n+1} + 3^{4n+1}$ est divisible par 5 quel que soit l’entier naturel $n$.\n"
   ]
  },
  {
   "cell_type": "markdown",
   "metadata": {},
   "source": [
    "#### Exercice 16 (**5 points**)\n",
    "\n",
    "1. Écrire un tableau de congruence permettant de résoudre l'équation $4x \\equiv 5[7]$ dans $\\mathbb{Z}$.\n",
    "\n",
    "2. En déduire les solutions de cette équation comprises strictement entre -10 et 10.\n",
    "\n",
    "3. En remarquant que $4 \\times 7 =28$, résoudre sans utiliser de table des restes l’équation : $$7x \\equiv 8 [9]$$\n"
   ]
  },
  {
   "cell_type": "markdown",
   "metadata": {},
   "source": [
    "#### Exercice 17 (**2 points**)\n",
    "\n",
    "   En utilisant l'algorithme d'Euclide, déterminer le PGCD de 187 et 32.\n"
   ]
  },
  {
   "cell_type": "code",
   "execution_count": null,
   "metadata": {},
   "outputs": [],
   "source": []
  }
 ],
 "metadata": {
  "kernelspec": {
   "display_name": "Python 3",
   "language": "python",
   "name": "python3"
  },
  "language_info": {
   "codemirror_mode": {
    "name": "ipython",
    "version": 3
   },
   "file_extension": ".py",
   "mimetype": "text/x-python",
   "name": "python",
   "nbconvert_exporter": "python",
   "pygments_lexer": "ipython3",
   "version": "3.8.5"
  },
  "vscode": {
   "interpreter": {
    "hash": "aee8b7b246df8f9039afb4144a1f6fd8d2ca17a180786b69acc140d282b71a49"
   }
  }
 },
 "nbformat": 4,
 "nbformat_minor": 2
}
