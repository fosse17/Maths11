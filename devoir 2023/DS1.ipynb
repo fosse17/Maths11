{
 "cells": [
  {
   "cell_type": "markdown",
   "metadata": {},
   "source": [
    "## Logique (15 points)\n",
    "\n",
    "1. Table de vérité et simplification.  (**3 points**)\n",
    "\n",
    "On considère la proposition composée :\n",
    "\n",
    "$$(\\overline p \\vee q ) \\wedge (\\overline q \\vee r ) \\wedge \\overline{(p \\implies r )}$$\n",
    "\n",
    "* Donner la table de vérité de cette proposition. Que remarque-t-on ?\n",
    "  \n",
    "* Simplifier $P$."
   ]
  },
  {
   "cell_type": "markdown",
   "metadata": {},
   "source": [
    "2. Expression Booléenne. (**3 points**)\n",
    "\n",
    "$$\\begin{array}{|c|c|c|c|}\n",
    "\\hline\n",
    "a &  b  & c  & f(a,b,c) \\\\\n",
    "\\hline\n",
    "0 &\t0 & 0 &  0 \\\\\n",
    "0\t& 0 &\t1 &\t1 \\\\\n",
    "0 &\t1 &\t0 &\t1 \\\\\n",
    "0 &\t1 &\t1 &\t0 \\\\\n",
    "1 &\t0 &\t0 &\t0 \\\\\n",
    "1 &\t0 &\t1 &\t1 \\\\\n",
    "1 & 1 &\t0 &\t1 \\\\\n",
    "1 &\t1 &\t1 &\t0 \\\\\n",
    "\\hline\n",
    "\\end{array}\n",
    "$$\n",
    "\n",
    "Donner puis simplifier l'expression logique de $f(a,b,c)$."
   ]
  },
  {
   "cell_type": "markdown",
   "metadata": {},
   "source": [
    "3. Le $\\oplus$ (**3 points**)\n",
    "\n",
    "* Ecrire les formules de l'associativité et la commutativité de la disjonction exclusive $\\oplus$.\n",
    "* Simplifier $A \\oplus A$, $A\\oplus 0$.\n",
    "* En citant précisément  la propriété utilisée à chaque étape, démontrer que :\n",
    "$$ (A \\oplus B)\\oplus A =B.$$"
   ]
  },
  {
   "cell_type": "markdown",
   "metadata": {},
   "source": [
    "4. (**3 points**)\n",
    "\n",
    "Écrire la négation, la contraposée et la réciproque de l'implication suivante : \n",
    "\n",
    "> « Si j'ai plus de 10 de moyenne et pas de note en dessous de 8, alors je réussis mon année. »"
   ]
  },
  {
   "cell_type": "markdown",
   "metadata": {},
   "source": [
    "5. Fonction inhibition. (** points**)\n",
    "\n",
    "Soit la fonction inhibition de a par b,notée * et définie par:\n",
    "\n",
    "$$a*b=a\\wedge \\overline{b}$$\n",
    "\n",
    "où $a$ et $b$ sont des propositions et $1$ est la tautologie, $0$ l’antilogie.\n",
    "\n",
    "* Exprimer $\\overline a$ uniquement à l’aide de $1$ et de l’opérateur $*$.\n",
    "\n",
    "* Exprimer $a \\wedge b$ uniquement à l’aide de $1$ et de l’opérateur $*$.\n",
    "  \n",
    "* Soient $a,b,c$ trois propositions:\n",
    "  \n",
    "  * Développer $(a*b)*c$\n",
    "  \n",
    "  * Développer $a*(b*c)$\n",
    "\n",
    "L’opérateur $*$ est-il associatif ? \n",
    "\n",
    "Éventuellement, donner des valeurs de a,b,c pour justifier votre réponse.\n",
    "\n",
    "* Exprimer $a \\vee b$ uniquement à l’aide de $1$ et de l’opérateur $*$. \n"
   ]
  },
  {
   "cell_type": "markdown",
   "metadata": {},
   "source": [
    "\n",
    "\n",
    "Dans ce texte `ou bien` signifie ou exclusif. \n",
    "\n",
    "Soit le raisonnement :\n",
    "\n",
    ">  \n",
    "> S’il y a de l’oxygène alors il y a combustion.  \n",
    ">  \n",
    "> Il y a de l’oxygène ou bien il y a de l’azote.  \n",
    "> \n",
    "> Il n’y a pas d’azote.  \n",
    "> \n",
    "> Donc il y a combustion.  \n",
    ">  \n",
    "\n",
    "1. Écrire ce raisonnement à l’aide des propositions élémentaires o,c,a et des connecteurs logiques.\n",
    "\n",
    "2. Simplifier ce raisonnement. Est-il valide ?\n",
    "\n",
    "On prendra comme proposition élémentaires : \n",
    "\n",
    "o : il y a de l’oxygène  \n",
    "c : il y a combustion   \n",
    "a : il y a de l’azote "
   ]
  },
  {
   "cell_type": "markdown",
   "metadata": {},
   "source": []
  }
 ],
 "metadata": {
  "language_info": {
   "name": "python"
  },
  "orig_nbformat": 4
 },
 "nbformat": 4,
 "nbformat_minor": 2
}
