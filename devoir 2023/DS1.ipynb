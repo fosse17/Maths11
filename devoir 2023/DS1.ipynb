{
 "cells": [
  {
   "cell_type": "markdown",
   "metadata": {},
   "source": [
    " <table style=\"width:100%;\">\n",
    "    <tr style=\"display:none\">\n",
    "        <td></td>\n",
    "        <td></td>\n",
    "    </tr>\n",
    "    <tr style=\"height:3em\">\n",
    "        <td style=\"width:20%;align:left\"><img src=\"iut_bordeaux.jpg\"></td>\n",
    "        <td style=\"width:60%;font: bold 2em 'Fira Sans', serif;text-align:center\"> DS 1<br>Arithmétique et logique</td>\n",
    "        <td style=\"width:20%;font: bold 1.3em 'Fira Sans', serif;vertical-align:top;\">R1.06<br>18 octobre 2023<br>1h30 heures <i></i></td>\n",
    "    </tr>\n",
    "</table>"
   ]
  },
  {
   "cell_type": "markdown",
   "metadata": {},
   "source": [
    "## Logique (15 points)\n",
    "\n",
    "### Table de vérité et simplification.  (**3 points**)\n",
    "\n",
    "On considère la proposition composée :\n",
    "\n",
    "$$(\\overline p \\vee q ) \\wedge (\\overline q \\vee r ) \\wedge \\overline{(p \\implies r )}$$\n",
    "\n",
    "* Donner la table de vérité de cette proposition. Que remarque-t-on ?\n",
    "  \n",
    "* Simplifier $P$."
   ]
  },
  {
   "cell_type": "markdown",
   "metadata": {},
   "source": [
    "### Expression Booléenne. (**3 points**)\n",
    "\n",
    "$$\\begin{array}{|c|c|c|c|}\n",
    "\\hline\n",
    "a &  b  & c  & f(a,b,c) \\\\\n",
    "\\hline\n",
    "0 &\t0 & 0 &  0 \\\\\n",
    "0\t& 0 &\t1 &\t1 \\\\\n",
    "0 &\t1 &\t0 &\t1 \\\\\n",
    "0 &\t1 &\t1 &\t0 \\\\\n",
    "1 &\t0 &\t0 &\t0 \\\\\n",
    "1 &\t0 &\t1 &\t1 \\\\\n",
    "1 & 1 &\t0 &\t1 \\\\\n",
    "1 &\t1 &\t1 &\t0 \\\\\n",
    "\\hline\n",
    "\\end{array}\n",
    "$$\n",
    "\n",
    "Donner puis simplifier l'expression logique de $f(a,b,c)$."
   ]
  },
  {
   "cell_type": "markdown",
   "metadata": {},
   "source": [
    "### Le $\\oplus$ (**3 points**)\n",
    "\n",
    "* Ecrire les formules de l'associativité et la commutativité de la disjonction exclusive $\\oplus$.\n",
    "* Simplifier $A \\oplus A$, $A\\oplus 0$.\n",
    "* En citant précisément  la propriété utilisée à chaque étape, démontrer que :\n",
    "$$ (A \\oplus B)\\oplus A =B.$$"
   ]
  },
  {
   "cell_type": "markdown",
   "metadata": {},
   "source": [
    "### Logique (**3 points**)\n",
    "\n",
    "Écrire la négation, la contraposée et la réciproque de l'implication suivante : \n",
    "\n",
    "> « Si j'ai plus de 10 de moyenne et pas de note en dessous de 8, alors je réussis mon année. »"
   ]
  },
  {
   "cell_type": "markdown",
   "metadata": {},
   "source": [
    "### Fonction inhibition. (**X points**)\n",
    "\n",
    "Soit la fonction inhibition de a par b,notée * et définie par:\n",
    "\n",
    "$$a*b=a\\wedge \\overline{b}$$\n",
    "\n",
    "où $a$ et $b$ sont des propositions et $1$ est la tautologie, $0$ l’antilogie.\n",
    "\n",
    "* Exprimer $\\overline a$ uniquement à l’aide de $1$ et de l’opérateur $*$.\n",
    "\n",
    "* Exprimer $a \\wedge b$ uniquement à l’aide de $1$ et de l’opérateur $*$.\n",
    "  \n",
    "* Soient $a,b,c$ trois propositions:\n",
    "  \n",
    "  * Développer $(a*b)*c$\n",
    "  \n",
    "  * Développer $a*(b*c)$\n",
    "\n",
    "L’opérateur $*$ est-il associatif ? \n",
    "\n",
    "Éventuellement, donner des valeurs de a,b,c pour justifier votre réponse.\n",
    "\n",
    "* Exprimer $a \\vee b$ uniquement à l’aide de $1$ et de l’opérateur $*$. \n"
   ]
  },
  {
   "cell_type": "markdown",
   "metadata": {},
   "source": [
    "### Raisonnement (**3 points**)\n",
    "\n",
    "Dans ce texte `ou bien` signifie ou exclusif. \n",
    "\n",
    "Soit le raisonnement :\n",
    "\n",
    ">  \n",
    "> S’il y a de l’oxygène alors il y a combustion.  \n",
    ">  \n",
    "> Il y a de l’oxygène ou bien il y a de l’azote.  \n",
    "> \n",
    "> Il n’y a pas d’azote.  \n",
    "> \n",
    "> Donc il y a combustion.  \n",
    ">  \n",
    "\n",
    "1. Écrire ce raisonnement à l’aide des propositions élémentaires o,c,a et des connecteurs logiques.\n",
    "\n",
    "2. Simplifier ce raisonnement. Est-il valide ?\n",
    "\n",
    "On prendra comme proposition élémentaires : \n",
    "\n",
    "o : il y a de l’oxygène  \n",
    "c : il y a combustion   \n",
    "a : il y a de l’azote "
   ]
  },
  {
   "cell_type": "markdown",
   "metadata": {},
   "source": [
    "### Division euclidienne (**3 points**)\n",
    "\n",
    "On considère l’égalité suivante :\n",
    "\n",
    "$$ 23 \\times 51 + 35 = 1208$$\n",
    "\n",
    "Sans effectuer de division, répondre aux questions suivantes :\n",
    "\n",
    "* Quels sont le quotient et le reste de la division de $-1208$ par $51$ ?\n",
    "  \n",
    "* Quels sont le quotient et le reste de la division de $1208$ par $23$ ?"
   ]
  },
  {
   "cell_type": "markdown",
   "metadata": {},
   "source": [
    "### Tableau de congruence (**3 points**)\n",
    "\n",
    "* Recopier et compléter le tableau de congruence suivant :\n",
    "\n",
    "\n",
    "$$\\begin{array}{|c|c|c|c|c|c|c|}\n",
    "\\hline\n",
    "x \\equiv [6] & 0 & 1 & 2 & 3 & 4 & 5 \\\\\n",
    "\\hline\n",
    "x^2 \\equiv [6] &  &  &  &  &  &  \\\\\n",
    "\\hline\n",
    "x^2+ x + 1  \\equiv [6] &  &  &  &  &  &  \\\\\n",
    "\\hline\n",
    "\\end{array}\n",
    "$$\n",
    "\n",
    "* Quel est l’ensemble des solutions pour que $x^2+ x + 1$ soit divisible par $6$ ?\n"
   ]
  },
  {
   "cell_type": "markdown",
   "metadata": {},
   "source": [
    "### Divisibilité (**3 points**)\n",
    "\n",
    "$d$ et $n$ sont des entiers naturels.\n",
    "\n",
    "* Démontrer que si $d$ divise $9n + 2$ et $7n − 3$, alors $d$ divise $41$. On citera le théorème utilisé.\n",
    "  \n",
    "* Quelles sont les valeurs possibles pour $d$.\n"
   ]
  },
  {
   "cell_type": "markdown",
   "metadata": {},
   "source": [
    "3) Déterminer les entiers naturels $n$ tel que $n + 4$ divise $3n + 22$\n",
    "\n"
   ]
  },
  {
   "cell_type": "markdown",
   "metadata": {},
   "source": [
    "### Division euclidienne (**3 points**)\n",
    "\n",
    "On divise un entier naturel $n$ par $152$, puis par $147$. Les quotients sont égaux et les restes respectifs sont 13 et 98.\n",
    "\n",
    "Quel est cet entier naturel $n$ ?"
   ]
  },
  {
   "cell_type": "markdown",
   "metadata": {},
   "source": [
    "### Congruence et reste (**2 points**)\n",
    "\n",
    "* Donner suivant les valeurs de l’entier naturel $n$, les restes de la division euclidienne de\n",
    "$2^n$ par $5$. (On pourra éventuellement donner le résultat par un tableau).\n",
    "\n",
    "* En déduire alors le reste de la division euclidienne par 5 de $2012^{2015}$\n"
   ]
  },
  {
   "cell_type": "markdown",
   "metadata": {},
   "source": [
    "### Congruence et divisibilité (**3 points**)\n",
    "\n",
    "Montrer que $$4^4 \\equiv 3 [11]$$ puis en déduire que :\n",
    "\n",
    "pour tout entier naturel $n$, $$4^{4n+2} − 3^{n+3}$$ est divisible par 11.\n"
   ]
  },
  {
   "cell_type": "markdown",
   "metadata": {},
   "source": [
    "### QCM (**3 points**)\n",
    "\n",
    "Indiquez sur votre copie le numéro de la question et la réponse choisie.\n",
    "\n",
    "Q1 : Le reste dans la division euclidienne  de $2^{2023}$ par $2$ est :\n",
    "\n",
    "> a. 0  \n",
    "> b. 1  \n",
    "> c. 2  \n",
    "> d. sans calculatrice, je ne peux pas savoir.\n",
    "\n",
    "\n",
    "Q2 : Pour tout  $k$  entier relatif, le nombre 2k+5 est :\n",
    "\n",
    "> a. un multiple de 5  \n",
    "> b. impair  \n",
    "> c. divisible par 2  \n",
    "> d. divisible par 5  \n",
    "\n",
    "Q3 :  La phrase $x \\in \\mathsbb{R}, x^2 -2x-3=0$ est :\n",
    "\n",
    "> a. vraie\n",
    "> b. fausse\n",
    "> c. un prédicat\n",
    "> d. une proposition\n",
    "\n",
    "Q4 : 2/3 appartient à l'ensemble :\n",
    "\n",
    "> a. $\\mathsbb{Q}$\n",
    "> b. $\\mathsbb{Z}$\n",
    "> c. $\\mathsbb{N}$\n",
    "> d. $\\mathsbb{D}$\n",
    "\n",
    "\n",
    "Q5 :  Lequel de ces nombres est un multiple de 11 :\n",
    "\n",
    "> a. 524 368\n",
    "> b. 524 369\n",
    "> c. 524 370\n",
    "> d. 524 371\n",
    "\n",
    "\n",
    "Q6 :  soit un un nombre réel, et $P(x) : x^2=4,  Q(x): x=2$. \n",
    "\n",
    "> P(x) est suffisant pour Q(x)\n",
    "> P(x) est nécessaire pour Q(x)\n",
    "> P(x) est nécessaire et suffisant pour Q(x)\n",
    "> "
   ]
  },
  {
   "cell_type": "markdown",
   "metadata": {},
   "source": []
  }
 ],
 "metadata": {
  "language_info": {
   "name": "python"
  },
  "orig_nbformat": 4
 },
 "nbformat": 4,
 "nbformat_minor": 2
}
