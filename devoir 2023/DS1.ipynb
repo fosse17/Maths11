{
 "cells": [
  {
   "cell_type": "markdown",
   "metadata": {},
   "source": [
    "## Logique (15 points)\n",
    "\n",
    "1 . Table de vérité et simplification.  (**3 points**)\n",
    "\n",
    "* Etablir la table de vérité de : $$P: (\\overline q\\wedge (p\\vee r))\\implies p$$\n",
    "* Simplifier $P$."
   ]
  },
  {
   "cell_type": "markdown",
   "metadata": {},
   "source": [
    "2 . Expression Booléenne. (**3 points**)\n",
    "\n",
    "$$\\begin{array}{|c|c|c|c|}\n",
    "\\hline\n",
    "a &  b  & c  & f(a,b,c) \\\\\n",
    "\\hline\n",
    "0 &\t0 & 0 &  0 \\\\\n",
    "0\t& 0 &\t1 &\t1 \\\\\n",
    "0 &\t1 &\t0 &\t1 \\\\\n",
    "0 &\t1 &\t1 &\t0 \\\\\n",
    "1 &\t0 &\t0 &\t0 \\\\\n",
    "1 &\t0 &\t1 &\t1 \\\\\n",
    "1 & 1 &\t0 &\t1 \\\\\n",
    "1 &\t1 &\t1 &\t0 \\\\\n",
    "\\hline\n",
    "\\end{array}\n",
    "$$\n",
    "\n",
    "Donner puis simplifier l'expression logique de $f(a,b,c)$."
   ]
  },
  {
   "cell_type": "markdown",
   "metadata": {},
   "source": [
    "3 . Le $\\oplus$ (**3 points**)\n",
    "\n",
    "* Ecrire les formules de l'associativité et la commutativité de la disjonction exclusive $\\oplus$.\n",
    "* Simplifier $A \\oplus A$, $A\\oplus 0$.\n",
    "* En citant précisément  la propriété utilisée à chaque étape, démontrer que :\n",
    "$$ (A \\oplus B)\\oplus A =B.$$"
   ]
  },
  {
   "cell_type": "markdown",
   "metadata": {},
   "source": [
    "4. (**3 points**)\n",
    "\n",
    "Écrire la négation, la contraposée et la réciproque de l'implication suivante : \n",
    "\n",
    "> « Si j'ai plus de 10 de moyenne et pas de note en dessous de 8, alors je réussis mon année. »"
   ]
  },
  {
   "cell_type": "markdown",
   "metadata": {},
   "source": [
    "5. Etant donnée deux propositions $P$ et $Q$, on définit la proposition \n",
    "$$(P\\Delta Q) \\iff (\\overline{P} ∧ \\overline{Q}).$$\n",
    "Exprimer, à l’aide du seul symbole $\\Delta$ les propositions $$P, \\overline{P}, P \\vee Q, P \\wedge Q, P \\implies Q.$$"
   ]
  },
  {
   "cell_type": "markdown",
   "metadata": {},
   "source": []
  }
 ],
 "metadata": {
  "language_info": {
   "name": "python"
  },
  "orig_nbformat": 4
 },
 "nbformat": 4,
 "nbformat_minor": 2
}
