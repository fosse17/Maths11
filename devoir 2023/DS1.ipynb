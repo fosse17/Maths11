{
 "cells": [
  {
   "cell_type": "markdown",
   "metadata": {},
   "source": [
    " <table style=\"width:100%;\">\n",
    "    <tr style=\"display:none\">\n",
    "        <td></td>\n",
    "        <td></td>\n",
    "    </tr>\n",
    "    <tr style=\"height:3em\">\n",
    "        <td style=\"width:20%;align:left\"><img src=\"iut_bordeaux.jpg\"></td>\n",
    "        <td style=\"width:60%;font: bold 2em 'Fira Sans', serif;text-align:center\"> DS 1<br>Arithmétique et logique<br>Sans calculatrice</td>\n",
    "        <td style=\"width:20%;font: bold 1.3em 'Fira Sans', serif;vertical-align:top;\">R1.06<br>18 octobre 2023<br>1h30 <i></i></td>\n",
    "    </tr>\n",
    "</table>"
   ]
  },
  {
   "cell_type": "markdown",
   "metadata": {},
   "source": [
    "### QCM (3 points)\n",
    "\n",
    "Indiquez sur votre copie le numéro de la question et la réponse choisie.\n",
    "\n",
    "Q1 : Le reste dans la division euclidienne  de $2^{2023}$ par $2$ est :\n",
    "\n",
    "> a. 0  \n",
    "> b. 1  \n",
    "> c. 2  \n",
    "> d. sans calculatrice, je ne peux pas savoir.  \n",
    " \n",
    "\n",
    "Q2 : Pour tout  $k$  entier relatif, le nombre 2k+5 est :\n",
    "\n",
    "> a. un multiple de 5.   \n",
    "> b. impair.  \n",
    "> c. divisible par 2.    \n",
    "> d. divisible par 5.    \n",
    "\n",
    "Q3 :  La phrase  \"$x \\in \\mathbb{R}, x^2 -2x-3=0$\"  est :\n",
    "\n",
    "> a. vraie.  \n",
    "> b. fausse.  \n",
    "> c. un prédicat.  \n",
    "> d. une proposition.  \n",
    "\n",
    "Q4 : $\\frac23$ appartient à l'ensemble :\n",
    "\n",
    "> a. $\\mathbb{Q}$.  \n",
    "> b. $\\mathbb{Z}$.  \n",
    "> c. $\\mathbb{N}$.  \n",
    "> d. $\\mathbb{D}$.  \n",
    "\n",
    "\n",
    "Q5 :  Lequel de ces nombres est un multiple de 11 :\n",
    "\n",
    "> a. 524 368  \n",
    "> b. 524 369  \n",
    "> c. 524 370  \n",
    "> d. 524 371  \n",
    "\n",
    "\n",
    "Q6 :  Soit $x$ un nombre réel, et $P(x) : x^2=4,  Q(x): x=2$. \n",
    "\n",
    "> a. P(x) est suffisant pour Q(x).  \n",
    "> b. P(x) est nécessaire pour Q(x).  \n",
    "> c. P(x) est nécessaire et suffisant pour Q(x).  \n",
    "> d. P(x) n'est ni nécessaire ni suffisant pour Q(x)."
   ]
  },
  {
   "cell_type": "markdown",
   "metadata": {},
   "source": [
    "\n",
    "## Logique (14 points)\n"
   ]
  },
  {
   "cell_type": "markdown",
   "metadata": {},
   "source": [
    "### EXERCICE 1 : Raisonnement (5 points)\n",
    "\n",
    "Dans le texte suivant `ou bien` signifie ou exclusif. \n",
    "\n",
    "Le but de cet exercice est de valider (ou non) le raisonnement suivant :\n",
    "\n",
    ">  \n",
    "> S’il y a de l’oxygène alors il y a combustion.  \n",
    ">  \n",
    "> Il y a de l’oxygène ou bien il y a de l’azote.  \n",
    "> \n",
    "> Il n’y a pas d’azote.  \n",
    "> \n",
    "> Donc il y a combustion.  \n",
    ">  \n",
    "\n",
    "On prendra comme proposition élémentaires :  \n",
    "\n",
    "> $o$ : il y a de l’oxygène  \n",
    "> $c$ : il y a combustion   \n",
    "> $a$ : il y a de l’azote \n",
    "\n",
    "1. Écrire ce raisonnement à l’aide des propositions élémentaires $o,c,a$ et des connecteurs logiques. On ne cherchera pas à le simplifier pour le moment.\n",
    "   \n",
    "2. Vérifier en utilisant une table de vérité que : \n",
    "   \n",
    "   $$(o \\oplus a) \\wedge \\overline a \\iff ( o \\wedge \\overline a)$$\n",
    "\n",
    "3. Simplifier maintenant ce raisonnement. Est-il valide ?"
   ]
  },
  {
   "cell_type": "markdown",
   "metadata": {},
   "source": [
    "### EXERCICE 2 : Expression Booléenne (3 points)\n",
    "\n",
    "$$\\begin{array}{|c|c|c|c|}\n",
    "\\hline\n",
    "a &  b  & c  & f(a,b,c) \\\\\n",
    "\\hline\n",
    "0 &\t0 & 0 &  0 \\\\\n",
    "0\t& 0 &\t1 &\t1 \\\\\n",
    "0 &\t1 &\t0 &\t1 \\\\\n",
    "0 &\t1 &\t1 &\t0 \\\\\n",
    "1 &\t0 &\t0 &\t0 \\\\\n",
    "1 &\t0 &\t1 &\t1 \\\\\n",
    "1 & 1 &\t0 &\t1 \\\\\n",
    "1 &\t1 &\t1 &\t0 \\\\\n",
    "\\hline\n",
    "\\end{array}\n",
    "$$\n",
    "\n",
    "Donner puis simplifier l'expression logique de $f(a,b,c)$."
   ]
  },
  {
   "cell_type": "markdown",
   "metadata": {},
   "source": [
    "### EXERCICE 3 : Logique (3 points)\n",
    "\n",
    "Écrire la négation, la contraposée et la réciproque de l'implication suivante : \n",
    "\n",
    "> Si j'ai plus de 10 de moyenne et pas de note en dessous de 8, alors je réussis mon année."
   ]
  },
  {
   "cell_type": "markdown",
   "metadata": {},
   "source": [
    "### EXERCICE 4 : Fonction inhibition. (3 points)\n",
    "\n",
    "Soit la fonction inhibition de a par b,notée * et définie par:\n",
    "\n",
    "$$a*b=a\\wedge \\overline{b}$$\n",
    "\n",
    "où $a$ et $b$ sont des propositions et $1$ est la tautologie, $0$ l’antilogie.\n",
    "\n",
    "* Exprimer $\\overline a$ uniquement à l’aide de $1$ et de l’opérateur $*$.\n",
    "* Exprimer $a \\wedge b$ uniquement à l’aide de $1$ et de l’opérateur $*$.\n",
    "* Soient $a,b,c$ trois propositions:\n",
    "  * Développer $(a*b)*c$\n",
    "  * Développer $a*(b*c)$\n",
    "L’opérateur $*$ est-il associatif ? \n",
    "Éventuellement, donner des valeurs de $a,b,c$ pour justifier votre réponse.\n",
    "\n"
   ]
  },
  {
   "cell_type": "markdown",
   "metadata": {},
   "source": [
    "## Arithmétique (14 points)\n",
    "\n",
    "### EXERCICE 5 : Division euclidienne (2 points)\n",
    "\n",
    "On considère l’égalité suivante :\n",
    "\n",
    "$$ 23 \\times 51 + 35 = 1208$$\n",
    "\n",
    "Sans effectuer de division, répondre aux questions suivantes :\n",
    "\n",
    "* Quels sont le quotient et le reste de la division de $-1208$ par $51$ ?\n",
    "  \n",
    "* Quels sont le quotient et le reste de la division de $1208$ par $23$ ?"
   ]
  },
  {
   "cell_type": "markdown",
   "metadata": {},
   "source": [
    "### EXERCICE 6 : Tableau de congruences (2 points)\n",
    "\n",
    "* Recopier et compléter le tableau de congruence suivant :\n",
    "\n",
    "\n",
    "$$\\begin{array}{|c|c|c|c|c|c|c|}\n",
    "\\hline\n",
    "x \\equiv \\dots [6] &  &  &  &  &  &  \\\\\n",
    "\\hline\n",
    "x^2 \\equiv \\dots [6] &  &  &  &  &  &  \\\\\n",
    "\\hline\n",
    "x^2+ x + 1  \\equiv \\dots [6] &  &  &  &  &  &  \\\\\n",
    "\\hline\n",
    "\\end{array}\n",
    "$$\n",
    "\n",
    "* Quel est l’ensemble des solutions pour que $x^2+ x + 1$ soit divisible par $6$ ?\n"
   ]
  },
  {
   "cell_type": "markdown",
   "metadata": {},
   "source": [
    "### EXERCICE 7 : Divisibilité (2 points)\n",
    "\n",
    "$d$ et $n$ sont des entiers naturels.\n",
    "\n",
    "* Démontrer que si $d$ divise $4n + 5$ et $6n + 3$, alors $d$ divise $9$. On citera la propriété utilisée.\n",
    "  \n",
    "* Quelles sont les valeurs possibles pour $d$ ?\n"
   ]
  },
  {
   "cell_type": "markdown",
   "metadata": {},
   "source": [
    "### EXERCICE 8 : Divisibilité (2 points)\n",
    "\n",
    "Déterminer les couples d'entiers relatifs $(x;y)$ tels que $x^2 -16 y^2=-7$.\n"
   ]
  },
  {
   "cell_type": "markdown",
   "metadata": {},
   "source": [
    "### EXERCICE 9 : Division euclidienne (2 points)\n",
    "\n",
    "On divise un entier naturel $n$ par $152$, puis par $147$. Les quotients sont égaux et les restes respectifs sont 13 et 98.\n",
    "\n",
    "Quel est cet entier naturel $n$ ?"
   ]
  },
  {
   "cell_type": "markdown",
   "metadata": {},
   "source": [
    "### EXERCICE 10 : Congruence et divisibilité (2 points)\n",
    "\n",
    "Montrer que pour tout entier naturel $n$, $-2\\times 3^{2n + 2} + 2^{4n + 2}$ est divisible par 7.\n"
   ]
  },
  {
   "cell_type": "markdown",
   "metadata": {},
   "source": [
    "### EXERCICE 11 : Congruence et divisibilité (2 points)\n",
    "\n",
    "Calculer $79^{2023} [7]$"
   ]
  }
 ],
 "metadata": {
  "language_info": {
   "name": "python"
  },
  "orig_nbformat": 4
 },
 "nbformat": 4,
 "nbformat_minor": 2
}
