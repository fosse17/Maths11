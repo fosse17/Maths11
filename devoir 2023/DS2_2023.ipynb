{
 "cells": [
  {
   "cell_type": "markdown",
   "metadata": {},
   "source": [
    " <table style=\"width:100%;\">\n",
    "    <tr style=\"display:none\">\n",
    "        <td></td>\n",
    "        <td></td>\n",
    "    </tr>\n",
    "    <tr style=\"height:3em\">\n",
    "        <td style=\"width:20%;align:left\"><img src=\"iut_bordeaux.jpg\"></td>\n",
    "        <td style=\"width:50%;font: bold 2em 'Fira Sans', serif;text-align:center\"> DS 2<br>Sans calculatrice</td>\n",
    "        <td style=\"width:30%;font: bold 1.3em 'Fira Sans', serif;vertical-align:top;\">R1.06<br>21 novembre 2023<br>1h30 <i></i></td>\n",
    "    </tr>\n",
    "</table>"
   ]
  },
  {
   "cell_type": "markdown",
   "metadata": {},
   "source": [
    "## QCM (3 points)\n",
    "\n",
    "Une seule bonne réponse par question. Vous marquerez sur la copie le numéro de la question et la réponse choisie.  \n",
    "\n",
    "1. L'équation diophantienne $12x+15y=4$ admet :\n",
    "\n",
    "   1. une infinité de solutions.\n",
    "   2. une solution unique.\n",
    "   3. aucune solution.\n",
    "   4. une infinité de solutions mais pas une en particulier.\n"
   ]
  },
  {
   "cell_type": "markdown",
   "metadata": {},
   "source": [
    "\n",
    "\n",
    "2. La décomposition en facteurs premiers de 12 est :\n",
    "\n",
    "   1. $1\\times 2^2\\times 3$\n",
    "   2. $3\\times 2^2$\n",
    "   3. $1+2+3^2$\n",
    "   4. $2^3+2^2$\n"
   ]
  },
  {
   "cell_type": "markdown",
   "metadata": {},
   "source": [
    "\n",
    "\n",
    "3. $a\\equiv b [n]$ signifie :\n",
    "\n",
    "   1. $a$ est divisible par $b$.\n",
    "   2. $a$ est divisible par $n$.\n",
    "   3. $a-b$ est divisible par $n$.\n",
    "   4. $a+b$ est divisible par $n$.  \n",
    "\n"
   ]
  },
  {
   "cell_type": "markdown",
   "metadata": {},
   "source": [
    "\n",
    "\n",
    "4. L'implication logique $P \\wedge \\bar{Q} \\implies Q$ est le principe de :\n",
    "\n",
    "   1. la démonstration par récurrence.\n",
    "   2. la démonstration par contraposée.\n",
    "   3. la démonstration par l'absurde.\n",
    "   4. la démonstration par équivalence.\n",
    "\n"
   ]
  },
  {
   "cell_type": "markdown",
   "metadata": {},
   "source": [
    "\n",
    "\n",
    "5. Le nombre $2^{26}$ peut s'écrire :\n",
    "\n",
    "   1. $2^{13}+2^{13}$\n",
    "   2. $2^{2^4+2^3+2^1}$\n",
    "   3. $2^{2^4\\times 2^3\\times 2^1}$\n",
    "   4. ${2^3}^8 \\times 2^{15}$\n"
   ]
  },
  {
   "cell_type": "markdown",
   "metadata": {},
   "source": [
    "\n",
    "\n",
    "\n",
    "6. Le PPCM des deux nombres $2^3\\times 3^2\\times 5^3$ et $2^2\\times 3^3\\times 5^2\\times 7$ est :\n",
    "   1. $2^3\\times 3^3\\times 5^2\\times 7$\n",
    "   2. $2^3\\times 3^2\\times 5^2$\n",
    "   3. $2^3\\times 3^3\\times 5^2\\times 7^2$\n",
    "   4. un autre nombre.  \n"
   ]
  },
  {
   "cell_type": "markdown",
   "metadata": {},
   "source": [
    "## Exercice 1: Codage affine (14 points)\n",
    "\n",
    "Afin de crypter un message, on utilise un chiffrement affine.  \n",
    "\n",
    "Chaque lettre de l'alphabet est associée à un nombre entier comme indiqué dans le tableau ci-dessous :\n",
    "\n",
    "| A | B | C | D | E | F | G | H | I | J | K | L | M |\n",
    "|---|---|---|---|---|---|---|---|---|---|---|---|---|\n",
    "| 0 | 1 | 2 | 3 | 4 | 5 | 6 | 7 | 8 | 9 |10 |11 |12 |\n",
    "\n",
    "| N | O | P | Q | R | S | T | U | V | W | X | Y | Z |\n",
    "|---|---|---|---|---|---|---|---|---|---|---|---|---|\n",
    "|13 |14 |15 |16 |17 |18 |19 |20 |21 |22 |23 |24 |25 |\n",
    "\n",
    "A chaque lettre de numéro $x$, on associe la lettre correspondant au nombre :  \n",
    "$$y \\equiv 7x+5[26]$$\n",
    "\n",
    "\n",
    "1. Coder la lettre L.\n",
    "2. Résolution de l'équation diophantienne $(E):\\quad 7x-26k=1$.   \n",
    "   1. Justifier que $E$ admet des solutions en énonçant précisément le théorème utilisé. \n",
    "   2. En utilisant l'algorithme d'Euclide, déterminer une solution particulière de $(E)$.  \n",
    "      On admettra pour la suite que $(-11,-3)$ est une solution particulière de $E$.\n",
    "   3. Montrer que $7(x+11)=26(k+3)$.  \n",
    "   4. En utilisant le théorème de Gauss et en justifiant ses hypothèses, résoudre $E$.  \n",
    "      On ne fera pas la vérification des solutions.  \n",
    "3. Résolution de $(E'):\\quad 7x\\equiv 1(26)$\n",
    "   1. Vérifier que $15$ est une solution de $(E')$.\n",
    "   2. Déduire de la question 2. toutes les solutions de $(E')$.\n",
    "4. En déduire que $y≡7x+5 (26)$ équivaut à $x≡15y+3 (26)$.\n",
    "5. A l'aide de la question précédente, décoder la lettre E.\n"
   ]
  },
  {
   "cell_type": "markdown",
   "metadata": {},
   "source": [
    "\n",
    "## Exercice 2 (4 points)\n",
    "\n",
    "On note $\\mathcal{P}$ l’ensemble des nombres premiers.  \n",
    "Exprime les propositions suivantes à l’aide de quantificateurs.\n",
    "\n",
    "\n",
    "1. Le carré de tout entier relatif est positif.  \n",
    "2. Pour tout entier naturel supérieur ou égal à 2 , il existe un nombre premier qui le divise.\n",
    "\n"
   ]
  },
  {
   "cell_type": "markdown",
   "metadata": {},
   "source": [
    "## Exercice 3 (6 points)\n",
    "\n",
    "1. Démontrer par récurrence que : $$\\forall n \\in \\mathbb{N^*}, \\quad 4^n-1  \\quad \\text{est divisible par 3}$$\n",
    "2. Reprendre cette démonstration avec les congruences.\n"
   ]
  },
  {
   "cell_type": "markdown",
   "metadata": {},
   "source": [
    "\n",
    "## Exercice 4 (3 points)\n",
    "\n",
    "Résoudre dans $\\mathbb{R}$ l'équation : $$x^2+|x-1|+x+1=0$$\n",
    "\n"
   ]
  },
  {
   "cell_type": "markdown",
   "metadata": {},
   "source": [
    "## Exercice 5 (3 points)\n",
    "\n",
    "Soit $m$ et $n$ des entiers relatifs.\n",
    "\n",
    "Montrer par contraposée que :\n",
    "\n",
    "Montrer que si $m\\times n$ est impair, alors $m$ et $n$ sont impairs."
   ]
  },
  {
   "cell_type": "markdown",
   "metadata": {},
   "source": [
    "## Exercice 6 (5 points)\n",
    "\n",
    "1. Vérifier que : $$\\forall n \\in \\mathbb{N},\\quad n(2n+1)+6(n+1)=(n+2)(2n+3)$$\n",
    "2. Démontrer par récurrence que : $$\\sum_{k=1}^n k^2=\\frac{n(n+1)(2n+1)}{6}$$ pour tout entier $n$ supérieur ou égal à 1.\n"
   ]
  },
  {
   "cell_type": "markdown",
   "metadata": {},
   "source": [
    "## Exercice 7 (6 points)\n",
    "\n",
    "Soit $𝑓:\\mathbb{R} \\to \\mathbb{R}$ une fonction. \n",
    "\n",
    "Écrire les négations des phrases quantifiées suivantes :\n",
    "\n",
    "1. $\\forall 𝑥 \\in 𝐼,𝑓(𝑥) \\neq 0$  \n",
    "2. $\\exists M \\in \\mathbb{R} \\quad | \\quad (\\forall 𝑥 \\in \\mathbb{R},𝑓(𝑥) \\leq M) \\text{ ou } (\\forall 𝑥 \\in \\mathbb{R},𝑓(𝑥) \\geq M)$\n",
    "3. $\\forall 𝑥 \\in \\mathbb{R} ,𝑓(𝑥)\\leq 0 \\implies 𝑥 \\leq 0$"
   ]
  },
  {
   "cell_type": "markdown",
   "metadata": {},
   "source": [
    "## Exercice 8 (2 points)\n",
    "\n",
    "Les propositions suivantes sont-elles vraies ou fausses ? \n",
    "\n",
    "Si oui, justifier,si non, donner un contre-exemple. \n",
    "   \n",
    "1. $\\forall x ∈ \\mathbb{R}, \\exists y ∈ \\mathbb{R} \\quad | \\quad x + y^2=1$\n",
    "\n",
    "2. $\\forall y ∈ \\mathbb{R}, \\exists x ∈ \\mathbb{R} \\quad | \\quad x + y^2=1$"
   ]
  },
  {
   "cell_type": "markdown",
   "metadata": {},
   "source": [
    "## Exercice 9 (3 points)\n",
    "\n",
    "1. Décomposer en produit de facteurs premiers les nombres $504$ et $540$.\n",
    "2. En déduire le PGCD de ces deux nombres.\n",
    "3. En déduire le nombre de diviseurs de 504."
   ]
  }
 ],
 "metadata": {
  "language_info": {
   "name": "python"
  }
 },
 "nbformat": 4,
 "nbformat_minor": 2
}
